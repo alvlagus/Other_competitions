{
 "cells": [
  {
   "cell_type": "markdown",
   "id": "33f728c9-830b-401e-a42e-4c560c798bb9",
   "metadata": {
    "tags": []
   },
   "source": [
    "# Тестовое задание Контур"
   ]
  },
  {
   "cell_type": "markdown",
   "id": "22a0adc7-2aef-483c-95a9-6724e42b9314",
   "metadata": {},
   "source": [
    "## Оглавление:"
   ]
  },
  {
   "cell_type": "markdown",
   "id": "79803f04-ce23-4ba1-866f-3eca427dbed7",
   "metadata": {},
   "source": [
    "* [Постановка задачи](#target_setting)\n",
    "* [Подключение библиотек](#load_libs)\n",
    "* [Используемые константы](#used_constants)\n",
    "* [Используемые функции](#used_functions)\n",
    "* [Загрузка исходных данных](#load_data)\n",
    "    * [Пути к директориям и файлам](#path_data)\n",
    "    * [Загрузка данных](#load_dataset)    \n",
    "* [Анализ данных (Exploratory Data Analysis (EDA))](#eda)\n",
    "    * [Обзор данных](#data_overview)\n",
    "    * [Обзор целевой переменной](#target_feature_overview)\n",
    "    * [Определение длины текстового сообщения и % знаков препинания в тексте](#len_punct)\n",
    "    * [Построение \"облака слов\"](#word_cloud)    \n",
    "* [Предварительная обработка данных](#data_preprocessing)\n",
    "    * [Проверка орфографии в датасете](#spelling_check)\n",
    "    * [Очиcтка текста приведение слов к стандартному виду](#text_clearing) \n",
    "* [Векторное представление текста](#vector_representation)\n",
    "    * [Разделение df_train на train и test](#train/test_split)\n",
    "    * [Bag of words (BOW)](#bow)\n",
    "    * [TF-IDF](#tfidf)\n",
    "    * [Bag of words (BOW) с биграммами](#bow_bi) \n",
    "* [Построение моделей](#modeling)\n",
    "    * [На данных BOW](#modeling_bow)\n",
    "    * [На данных TF-IDF](#modeling_tfidf)\n",
    "    * [На данных BOW с биграммами](#modeling_bow_bi)\n",
    "    * [Объединение результатов, выбор лучшей модели](#stata_combined)\n",
    "* [Подбор гиперпараметров и отбор фичей](#selection_hyperparameters_and_features)\n",
    "    * [Отбор фичей](#selection_features)\n",
    "    * [Подбор оптимального размера выборки, кривая обучения](#learning_curve)\n",
    "    * [Подбор гиперпараметров](#selection_hyperparameters)\n",
    "    * [Построение финальной модели](#final_model)\n",
    "    * [Сохранение финальной модели](#final_model_saving)\n",
    "* [Прогнозирование на тестовом датасете](#forecasting_test_dataset)\n",
    "    * [Подготовка тестовых данных](#test_dataset_processing)\n",
    "    * [Прогноз](#forecast)\n",
    "    * [Сохранение результатов](#saving_results) \n",
    "* [Итоги работы](#results)"
   ]
  },
  {
   "cell_type": "markdown",
   "id": "04167b5a-8470-4988-9248-08cec9d18fff",
   "metadata": {
    "tags": []
   },
   "source": [
    "## Постановка задачи<a class=\"anchor\" id=\"target_setting\"></a>"
   ]
  },
  {
   "cell_type": "markdown",
   "id": "86d72fe5-8950-4f57-ae05-7cbcdda42ec2",
   "metadata": {
    "tags": []
   },
   "source": [
    "**Задание**\n",
    "\n",
    "Для выполнения тестового задания требуется разработать модель, которая будет способна различать заголовки реальных и выдуманных новостей. Для обучения модели используйте данные из файла train.tsv. В файле находится таблица, состоящая из двух колонок. В колонке title записан заголовок новости. В колонке is_fake содержатся метки: 0 – новость реальная; 1 – новость выдуманная. Для демонстрации работы модели используйте данные тестового набора из файла test.tsv. В нем также есть колонка title, данные которой являются входными для вашей модели. Вам нужно скопировать файл test.tsv, переименовать его в predictions.tsv и заполнить колонку is_fake значениями предсказаний вашей модели, аналогично train.tsv. Изначально колонка заполнена значением 0.\n",
    "\n",
    "**Критерии оценки**\n",
    "\n",
    "Для оценки финального решения будет использоваться метрика F1 score.\n",
    "Чистота кода, оформление и понятность исследования.\n",
    "\n",
    "**Требования к решению**\n",
    "\n",
    "В качестве решения мы ожидаем zip-архив со всеми .py и .ipynb файлами в папке solution и файлом predictions.tsv в корне. Формат имени zip-архива: LastName_FirstName.zip (пример Ivanov_Ivan.zip). Файл predictions.tsv должен включать в себя колонку title, содержащую те же данные, что и исходный файл test.tsv, а также колонку is_fake, содержащую значения 0 или 1. Разметка тестового набора данных и включение его в обучение/валидацию запрещены.\n",
    "\n",
    "В папке solution должно быть отражено исследование и весь код, необходимый для воспроизведения исследования."
   ]
  },
  {
   "cell_type": "markdown",
   "id": "626f3b08-01a6-4461-a70a-ef2976239835",
   "metadata": {
    "tags": []
   },
   "source": [
    "## Подключение библиотек<a class=\"anchor\" id=\"load_libs\"></a>"
   ]
  },
  {
   "cell_type": "markdown",
   "id": "56c9e3a3-b267-4189-9652-ae24cbf9d20c",
   "metadata": {},
   "source": [
    "**Используемые библиотеки**"
   ]
  },
  {
   "cell_type": "code",
   "execution_count": 1,
   "id": "cbc44a7f-90b9-474e-8830-c40b144a84d3",
   "metadata": {},
   "outputs": [],
   "source": [
    "# !pip install xgboost\n",
    "# !pip install lightgbm\n",
    "# !pip install catboost\n",
    "# !pip install imbalanced-learn\n",
    "# !pip install wordcloud\n",
    "# !pip install pymorphy2\n",
    "# !pip install pyaspeller"
   ]
  },
  {
   "cell_type": "code",
   "execution_count": 2,
   "id": "824ea1e8-b556-4fe9-82da-e150c7458ba3",
   "metadata": {},
   "outputs": [],
   "source": [
    "# Libraries for working with paths and saving\n",
    "from pathlib import Path\n",
    "# import os\n",
    "import pickle\n",
    "\n",
    "# Scientific libraries\n",
    "import numpy as np\n",
    "import pandas as pd\n",
    "import re\n",
    "\n",
    "# Visual libraries\n",
    "import matplotlib\n",
    "import matplotlib.pyplot as plt\n",
    "import seaborn as sns\n",
    "\n",
    "%matplotlib inline\n",
    "matplotlib.rcParams.update({'font.size': 14})\n",
    "plt.style.use('seaborn')\n",
    "\n",
    "# Scikit-learn libraries\n",
    "from sklearn.model_selection import train_test_split\n",
    "from sklearn.pipeline import Pipeline\n",
    "from sklearn.feature_extraction.text import CountVectorizer\n",
    "from sklearn.feature_extraction.text import TfidfVectorizer\n",
    "from sklearn.neighbors import KNeighborsClassifier\n",
    "from sklearn.linear_model import SGDClassifier\n",
    "from sklearn.linear_model import LogisticRegression\n",
    "from sklearn.ensemble import RandomForestClassifier\n",
    "from sklearn import metrics\n",
    "from sklearn.metrics import classification_report\n",
    "from sklearn.model_selection import cross_val_score, GridSearchCV, learning_curve\n",
    "from sklearn.svm import LinearSVC\n",
    "from sklearn.feature_selection import SelectFromModel\n",
    "\n",
    "\n",
    "\n",
    "# Language libraries\n",
    "from wordcloud import WordCloud, STOPWORDS\n",
    "import pymorphy2\n",
    "import nltk\n",
    "from nltk.stem import WordNetLemmatizer\n",
    "from nltk.stem.snowball import SnowballStemmer\n",
    "# nltk.download('stopwords')\n",
    "from nltk.corpus import stopwords\n",
    "import string\n",
    "from pyaspeller import YandexSpeller\n",
    "\n",
    "import xgboost as xgb\n",
    "import catboost as catb\n",
    "import inspect"
   ]
  },
  {
   "cell_type": "code",
   "execution_count": 3,
   "id": "cd894117-a2ba-4bf2-9efc-1bb956a66b96",
   "metadata": {},
   "outputs": [],
   "source": [
    "# print(f'Версия xgboost: {xgb.__version__}')\n",
    "# !python --version"
   ]
  },
  {
   "cell_type": "code",
   "execution_count": 4,
   "id": "7f830e3c-5c70-4adc-ba04-7f90a4df7501",
   "metadata": {},
   "outputs": [],
   "source": [
    "import warnings\n",
    "warnings.filterwarnings('ignore')"
   ]
  },
  {
   "cell_type": "markdown",
   "id": "aec7d42c-1ffd-455e-89ca-3bf9d6118a42",
   "metadata": {
    "tags": []
   },
   "source": [
    "## Используемые константы<a class=\"anchor\" id=\"used_constants\"></a>"
   ]
  },
  {
   "cell_type": "code",
   "execution_count": 5,
   "id": "fe4ed3f9-39b2-47ff-a5c1-419c256b110d",
   "metadata": {},
   "outputs": [],
   "source": [
    "# Список используемых переменных констант\n",
    "\n",
    "RANDOM_STATE = 42"
   ]
  },
  {
   "cell_type": "markdown",
   "id": "4689cd3e-b98c-43bd-9812-d20fa85ebac2",
   "metadata": {},
   "source": [
    "## Используемые функции<a class=\"anchor\" id=\"used_functions\"></a>"
   ]
  },
  {
   "cell_type": "code",
   "execution_count": 6,
   "id": "75dfe589-adaa-467d-a084-11198d63b8c6",
   "metadata": {},
   "outputs": [],
   "source": [
    "# получение списка всех слов в корпусе\n",
    "\n",
    "def get_news(data):\n",
    "    news = []\n",
    "    for phrase in data:\n",
    "        for word in phrase.split():\n",
    "            news.append(word)\n",
    "    return news"
   ]
  },
  {
   "cell_type": "code",
   "execution_count": 7,
   "id": "79432aa6-012b-43a7-8229-0593e5a9c20f",
   "metadata": {},
   "outputs": [],
   "source": [
    "# получение текстовой строки из списка слов\n",
    "\n",
    "def str_news(news):\n",
    "    str_news = ''\n",
    "    for i in news:\n",
    "        str_news += ' ' + i\n",
    "    str_news = str_news.strip()\n",
    "    return str_news"
   ]
  },
  {
   "cell_type": "code",
   "execution_count": 8,
   "id": "d22c62c1-0bd7-499e-9d07-781c69a5119f",
   "metadata": {},
   "outputs": [],
   "source": [
    "# получение облака слов\n",
    "\n",
    "def get_word_cloud(news):\n",
    "    word_cloud = WordCloud(background_color='white',\n",
    "                              stopwords=STOPWORDS,\n",
    "                              width=3000,\n",
    "                              height=2500,\n",
    "                              max_words=200,\n",
    "                              random_state=RANDOM_STATE\n",
    "                         ).generate(str_news(news))\n",
    "    return word_cloud"
   ]
  },
  {
   "cell_type": "code",
   "execution_count": 9,
   "id": "c9c3804b-7e7a-4f6c-93fa-0de19516f4d6",
   "metadata": {},
   "outputs": [],
   "source": [
    "# функция проверки орфографии\n",
    "\n",
    "speller = YandexSpeller()\n",
    "\n",
    "def get_spelling_check_text(text):\n",
    "    changes = {change['word']: change['s'][0] for change in speller.spell(text)}\n",
    "    for word, suggestion in changes.items():\n",
    "        text = text.replace(word, suggestion)\n",
    "        \n",
    "    return text"
   ]
  },
  {
   "cell_type": "code",
   "execution_count": 10,
   "id": "27f80bf3-24f4-4ad0-95f5-f27278e2373e",
   "metadata": {},
   "outputs": [],
   "source": [
    "# функция предварительной очистки, включая удаление стоп-слов и лемматизацию и/или стемминг\n",
    "\n",
    "ru_stopwords = set(stopwords.words('russian'))\n",
    "\n",
    "# предварительная обработка текста\n",
    "\n",
    "def get_text_preprocessing(text):\n",
    "    reg = re.compile('[^а-яА-яa-zA-Z0-9 ]')\n",
    "    text = text.lower()\n",
    "    text = text.replace('ё', 'е')\n",
    "    text = text.replace(\"ъ\", \"ь\")\n",
    "    text = text.replace(\"й\", \"и\")\n",
    "    text = reg.sub(' ', text)\n",
    "    \n",
    "    # Лемматизация + удаление стоп слов\n",
    "    morph = pymorphy2.MorphAnalyzer()\n",
    "    # text =[morph.parse(word)[0].normal_form for word in text.split()]\n",
    "    text = ' '.join([morph.parse(word)[0].normal_form for word in text.split() if word not in ru_stopwords])\n",
    "    \n",
    "    # # Стемминг + удаление стоп слов\n",
    "    # stemmer = SnowballStemmer('russian')\n",
    "    # # text = [stemmer.stem(word) for word in text.split()]\n",
    "    # text = ' '.join([stemmer.stem(word) for word in text.split() if word not in ru_stopwords])              \n",
    "     \n",
    "    return text"
   ]
  },
  {
   "cell_type": "code",
   "execution_count": 11,
   "id": "350f9a9f-ab54-4cbf-8c58-93241e0e1e8b",
   "metadata": {},
   "outputs": [],
   "source": [
    "# функция, задающая список моделей\n",
    "\n",
    "def init_models():\n",
    "    model_lr = LogisticRegression(random_state=RANDOM_STATE)\n",
    "    model_sgd = SGDClassifier(random_state=RANDOM_STATE)\n",
    "    model_knb = KNeighborsClassifier()\n",
    "    model_rf = RandomForestClassifier(random_state=RANDOM_STATE)\n",
    "    model_xgb = xgb.XGBClassifier(random_state=RANDOM_STATE)   \n",
    "\n",
    "    models = {\n",
    "        'lr': model_lr,\n",
    "        'sgd': model_sgd,\n",
    "        'knb': model_knb,\n",
    "        'rf': model_rf,\n",
    "        'xgb': model_xgb,        \n",
    "    }\n",
    "    return models"
   ]
  },
  {
   "cell_type": "code",
   "execution_count": 12,
   "id": "d323d46b-5434-4046-8f5f-9e38f08b41ec",
   "metadata": {},
   "outputs": [],
   "source": [
    "# функция для расчёта метрик\n",
    "\n",
    "def get_metrics(report):\n",
    "    f1_macro = report['macro avg']['f1-score']\n",
    "    f1_0 = report['0']['f1-score']\n",
    "    f1_1 = report['1']['f1-score']\n",
    "    return f1_macro, f1_0, f1_1"
   ]
  },
  {
   "cell_type": "code",
   "execution_count": 13,
   "id": "56feb384-9936-45bf-b944-1706de52aa47",
   "metadata": {},
   "outputs": [],
   "source": [
    "# функция для вывода отчетов классификации (общий вид)\n",
    "\n",
    "def run_experiment(X_train, X_test, y_train, y_test, vector=' '):   \n",
    "    \n",
    "    models = init_models()\n",
    "    \n",
    "    stata = pd.DataFrame()    \n",
    "    for name, model in models.items():\n",
    "        model.fit(X_train, y_train)\n",
    "        pred_train = model.predict(X_train)\n",
    "        pred_test = model.predict(X_test)\n",
    "\n",
    "        report_train = classification_report(y_train, pred_train, output_dict=True)\n",
    "        report_test = classification_report(y_test, pred_test, output_dict=True)\n",
    "        f1_macro_train, f1_0_train, f1_1_train = get_metrics(report_train)\n",
    "        f1_macro_test, f1_0_test, f1_1_test = get_metrics(report_test)\n",
    "\n",
    "        stata = stata.append({\n",
    "            'model_name': name,\n",
    "            f'f1_macro_train_{vector}': f1_macro_train,\n",
    "            f'f1_macro_test_{vector}': f1_macro_test,\n",
    "            f'f1_0_train_{vector}': f1_0_train,\n",
    "            f'f1_0_test_{vector}': f1_0_test,\n",
    "            f'f1_1_train_{vector}': f1_1_train,\n",
    "            f'f1_1_test_{vector}': f1_1_test\n",
    "            }, ignore_index=True)\n",
    "    return stata, models"
   ]
  },
  {
   "cell_type": "code",
   "execution_count": 14,
   "id": "752b263e-fce8-4718-99f1-eca3a5e5d15b",
   "metadata": {},
   "outputs": [],
   "source": [
    "# функция для вывода отчета классификации (частный вид)\n",
    "\n",
    "def get_classification_report(y_train_true, y_train_pred, y_test_true, y_test_pred):\n",
    "    print('TRAIN\\n\\n' + classification_report(y_train_true, y_train_pred)) #подсчет классификации для train\n",
    "    print('TEST\\n\\n' + classification_report(y_test_true, y_test_pred)) #подсчет классификации для test\n",
    "    print('CONFUSION MATRIX\\n') #матрица ошибок\n",
    "    print(pd.crosstab(y_test_true, y_test_pred))"
   ]
  },
  {
   "cell_type": "code",
   "execution_count": 15,
   "id": "388cbb03-563e-4a5b-b08b-2813f5f62915",
   "metadata": {},
   "outputs": [],
   "source": [
    "# функция подсчета предсказаний и вывода отчетов классификации на обучении и тесте (частный вид)\n",
    " \n",
    "def evaluate_preds(model, X_train, X_test, y_train, y_test):\n",
    "    y_train_pred = model.predict(X_train) # подсчет предсказаний  на train\n",
    "    y_test_pred = model.predict(X_test) # подсчет предсказаний  на test\n",
    "    \n",
    "    get_classification_report(y_train, y_train_pred, y_test, y_test_pred) # вывод отчета классификации"
   ]
  },
  {
   "cell_type": "code",
   "execution_count": 16,
   "id": "338cab44-c37a-4708-9671-3de1b291d4dc",
   "metadata": {
    "tags": []
   },
   "outputs": [],
   "source": [
    "# функция показывает зависимости метрики от разного количества объектов\n",
    "\n",
    "def show_learning_curve_plot(estimator, X, y, cv=3, n_jobs=-1, train_sizes=np.linspace(0.1, 1.0, 5)): \n",
    "\n",
    "    train_sizes, train_scores, test_scores = learning_curve(estimator, X, y, \n",
    "                                                            cv=cv, \n",
    "                                                            scoring='f1',\n",
    "                                                            train_sizes=train_sizes, \n",
    "                                                            n_jobs=n_jobs)\n",
    "    train_scores_mean = np.mean(train_scores, axis=1)\n",
    "    train_scores_std = np.std(train_scores, axis=1)\n",
    "    test_scores_mean = np.mean(test_scores, axis=1)\n",
    "    test_scores_std = np.std(test_scores, axis=1)\n",
    "\n",
    "    plt.figure(figsize=(15,8))\n",
    "    plt.fill_between(train_sizes, train_scores_mean - train_scores_std,\n",
    "                     train_scores_mean + train_scores_std, alpha=0.1, color=\"r\")\n",
    "    plt.fill_between(train_sizes, test_scores_mean - test_scores_std,\n",
    "                     test_scores_mean + test_scores_std, alpha=0.1, color=\"g\")\n",
    "    plt.plot(train_sizes, train_scores_mean, 'o-', color=\"r\",\n",
    "             label=\"Training score\")\n",
    "    plt.plot(train_sizes, test_scores_mean, 'o-', color=\"g\",\n",
    "             label=\"Cross-validation score\")\n",
    "\n",
    "    plt.title(f\"Learning curves ({type(estimator).__name__})\")\n",
    "    plt.xlabel(\"Training examples\")\n",
    "    plt.ylabel(\"Score\")     \n",
    "    plt.legend(loc=\"best\")\n",
    "    plt.grid()\n",
    "    plt.show()"
   ]
  },
  {
   "cell_type": "markdown",
   "id": "b1e79a82-9e20-4724-94b9-5e03ad12ff9e",
   "metadata": {
    "tags": []
   },
   "source": [
    "## Загрузка исходных данных<a class=\"anchor\" id=\"load_data\"></a>"
   ]
  },
  {
   "cell_type": "markdown",
   "id": "04eb34c3-693a-4408-8ebb-82f2736bce1e",
   "metadata": {},
   "source": [
    "### Пути к директориям и файлам<a class=\"anchor\" id=\"path_data\"></a>"
   ]
  },
  {
   "cell_type": "code",
   "execution_count": 17,
   "id": "1757067d-c54d-4f51-8b5a-6ee4971b3bca",
   "metadata": {
    "tags": []
   },
   "outputs": [],
   "source": [
    "DATA_ROOT = Path('../')\n",
    "MODELS_PATH = Path('../2_models/')\n",
    "\n",
    "# input\n",
    "TRAIN_DATASET_PATH = DATA_ROOT / '1_input_data/train.tsv'\n",
    "TEST_DATASET_PATH = DATA_ROOT / '1_input_data/test.tsv'\n",
    "\n",
    "# output\n",
    "PREP_DATASET_PATH = DATA_ROOT / '3_work/df_train_prepared.csv'\n",
    "PRED_PREP_DATASET_PATH = DATA_ROOT / '3_work/df_test_prepared.csv'\n",
    "ORTHO_DATASET_PATH = DATA_ROOT / '3_work/df_train_orthographic.csv'\n",
    "PRED_ORTHO_DATASET_PATH = DATA_ROOT / '3_work/df_test_orthographic.csv'\n",
    "SUBMISSION_PATH = DATA_ROOT / '../predictions.tsv'\n",
    "\n",
    "MODEL_FILE_PATH = MODELS_PATH / 'model.pkl'"
   ]
  },
  {
   "cell_type": "markdown",
   "id": "015e8a73-40d6-46d1-ba4a-bb16b31f59db",
   "metadata": {},
   "source": [
    "### Загрузка данных<a class=\"anchor\" id=\"load_dataset\"></a>"
   ]
  },
  {
   "cell_type": "markdown",
   "id": "85b8dbe9-8149-492f-83af-ac99bd67b13e",
   "metadata": {},
   "source": [
    "**Описание базового датасета**\n",
    "\n",
    "* **title** - заголовок новости\n",
    "* **is_fake** - метка: 0 – новость реальная; 1 – новость выдуманная"
   ]
  },
  {
   "cell_type": "code",
   "execution_count": 18,
   "id": "560b32fc-f56c-4c28-b0b2-f098b1392408",
   "metadata": {},
   "outputs": [
    {
     "data": {
      "text/html": [
       "<div>\n",
       "<style scoped>\n",
       "    .dataframe tbody tr th:only-of-type {\n",
       "        vertical-align: middle;\n",
       "    }\n",
       "\n",
       "    .dataframe tbody tr th {\n",
       "        vertical-align: top;\n",
       "    }\n",
       "\n",
       "    .dataframe thead th {\n",
       "        text-align: right;\n",
       "    }\n",
       "</style>\n",
       "<table border=\"1\" class=\"dataframe\">\n",
       "  <thead>\n",
       "    <tr style=\"text-align: right;\">\n",
       "      <th></th>\n",
       "      <th>title</th>\n",
       "      <th>is_fake</th>\n",
       "    </tr>\n",
       "  </thead>\n",
       "  <tbody>\n",
       "    <tr>\n",
       "      <th>0</th>\n",
       "      <td>Москвичу Владимиру Клутину пришёл счёт за вмеш...</td>\n",
       "      <td>1</td>\n",
       "    </tr>\n",
       "    <tr>\n",
       "      <th>1</th>\n",
       "      <td>Агент Кокорина назвал езду по встречке житейск...</td>\n",
       "      <td>0</td>\n",
       "    </tr>\n",
       "    <tr>\n",
       "      <th>2</th>\n",
       "      <td>Госдума рассмотрит возможность введения секрет...</td>\n",
       "      <td>1</td>\n",
       "    </tr>\n",
       "    <tr>\n",
       "      <th>3</th>\n",
       "      <td>ФАС заблокировала поставку скоростных трамваев...</td>\n",
       "      <td>0</td>\n",
       "    </tr>\n",
       "    <tr>\n",
       "      <th>4</th>\n",
       "      <td>Против Навального завели дело о недоносительст...</td>\n",
       "      <td>1</td>\n",
       "    </tr>\n",
       "  </tbody>\n",
       "</table>\n",
       "</div>"
      ],
      "text/plain": [
       "                                               title  is_fake\n",
       "0  Москвичу Владимиру Клутину пришёл счёт за вмеш...        1\n",
       "1  Агент Кокорина назвал езду по встречке житейск...        0\n",
       "2  Госдума рассмотрит возможность введения секрет...        1\n",
       "3  ФАС заблокировала поставку скоростных трамваев...        0\n",
       "4  Против Навального завели дело о недоносительст...        1"
      ]
     },
     "execution_count": 18,
     "metadata": {},
     "output_type": "execute_result"
    }
   ],
   "source": [
    "df_train = pd.read_csv(TRAIN_DATASET_PATH, sep='\\t')\n",
    "df_train.head()"
   ]
  },
  {
   "cell_type": "code",
   "execution_count": 19,
   "id": "d6983a4c-de7e-4e7f-a253-0642380d17da",
   "metadata": {
    "tags": []
   },
   "outputs": [
    {
     "data": {
      "text/html": [
       "<div>\n",
       "<style scoped>\n",
       "    .dataframe tbody tr th:only-of-type {\n",
       "        vertical-align: middle;\n",
       "    }\n",
       "\n",
       "    .dataframe tbody tr th {\n",
       "        vertical-align: top;\n",
       "    }\n",
       "\n",
       "    .dataframe thead th {\n",
       "        text-align: right;\n",
       "    }\n",
       "</style>\n",
       "<table border=\"1\" class=\"dataframe\">\n",
       "  <thead>\n",
       "    <tr style=\"text-align: right;\">\n",
       "      <th></th>\n",
       "      <th>title</th>\n",
       "      <th>is_fake</th>\n",
       "    </tr>\n",
       "  </thead>\n",
       "  <tbody>\n",
       "    <tr>\n",
       "      <th>0</th>\n",
       "      <td>Роскомнадзор представил реестр сочетаний цвето...</td>\n",
       "      <td>0</td>\n",
       "    </tr>\n",
       "    <tr>\n",
       "      <th>1</th>\n",
       "      <td>Ночью под Минском на президентской горе Белара...</td>\n",
       "      <td>0</td>\n",
       "    </tr>\n",
       "    <tr>\n",
       "      <th>2</th>\n",
       "      <td>Бывший спичрайтер Юрия Лозы рассказал о трудно...</td>\n",
       "      <td>0</td>\n",
       "    </tr>\n",
       "    <tr>\n",
       "      <th>3</th>\n",
       "      <td>Сельская церковь, собравшая рекордно низкое ко...</td>\n",
       "      <td>0</td>\n",
       "    </tr>\n",
       "    <tr>\n",
       "      <th>4</th>\n",
       "      <td>Акции Google рухнули после объявления о переза...</td>\n",
       "      <td>0</td>\n",
       "    </tr>\n",
       "  </tbody>\n",
       "</table>\n",
       "</div>"
      ],
      "text/plain": [
       "                                               title  is_fake\n",
       "0  Роскомнадзор представил реестр сочетаний цвето...        0\n",
       "1  Ночью под Минском на президентской горе Белара...        0\n",
       "2  Бывший спичрайтер Юрия Лозы рассказал о трудно...        0\n",
       "3  Сельская церковь, собравшая рекордно низкое ко...        0\n",
       "4  Акции Google рухнули после объявления о переза...        0"
      ]
     },
     "execution_count": 19,
     "metadata": {},
     "output_type": "execute_result"
    }
   ],
   "source": [
    "df_test = pd.read_csv(TEST_DATASET_PATH, sep='\\t')\n",
    "df_test.head()"
   ]
  },
  {
   "cell_type": "code",
   "execution_count": 20,
   "id": "efb5cd0d-d1aa-467d-8817-e1bac3a36aac",
   "metadata": {},
   "outputs": [
    {
     "name": "stdout",
     "output_type": "stream",
     "text": [
      "Тренировочный датасет df_train: (5758, 2)\n",
      "Тестовый датасет df_test: (1000, 2)\n"
     ]
    }
   ],
   "source": [
    "print('Тренировочный датасет df_train:', df_train.shape)\n",
    "print('Тестовый датасет df_test:', df_test.shape)"
   ]
  },
  {
   "cell_type": "markdown",
   "id": "58eb2aef-f999-4f65-a2ab-ddc6a3639868",
   "metadata": {},
   "source": [
    "## Анализ данных (Exploratory Data Analysis (EDA))<a class=\"anchor\" id=\"eda\"></a>"
   ]
  },
  {
   "cell_type": "markdown",
   "id": "f9bbab4c-6e48-4eda-9d63-51df2d4e72ee",
   "metadata": {},
   "source": [
    "### Обзор данных<a class=\"anchor\" id=\"data_overview\"></a>"
   ]
  },
  {
   "cell_type": "code",
   "execution_count": 21,
   "id": "e65a176c-814a-4bb8-98d6-cba400061ad8",
   "metadata": {
    "tags": []
   },
   "outputs": [
    {
     "name": "stdout",
     "output_type": "stream",
     "text": [
      "<class 'pandas.core.frame.DataFrame'>\n",
      "RangeIndex: 5758 entries, 0 to 5757\n",
      "Data columns (total 2 columns):\n",
      " #   Column   Non-Null Count  Dtype \n",
      "---  ------   --------------  ----- \n",
      " 0   title    5758 non-null   object\n",
      " 1   is_fake  5758 non-null   int64 \n",
      "dtypes: int64(1), object(1)\n",
      "memory usage: 90.1+ KB\n"
     ]
    }
   ],
   "source": [
    "df_train.info()"
   ]
  },
  {
   "cell_type": "code",
   "execution_count": 22,
   "id": "dda5007c-4b5a-49d9-a05d-080857037e3b",
   "metadata": {
    "tags": []
   },
   "outputs": [
    {
     "data": {
      "text/html": [
       "<div>\n",
       "<style scoped>\n",
       "    .dataframe tbody tr th:only-of-type {\n",
       "        vertical-align: middle;\n",
       "    }\n",
       "\n",
       "    .dataframe tbody tr th {\n",
       "        vertical-align: top;\n",
       "    }\n",
       "\n",
       "    .dataframe thead th {\n",
       "        text-align: right;\n",
       "    }\n",
       "</style>\n",
       "<table border=\"1\" class=\"dataframe\">\n",
       "  <thead>\n",
       "    <tr style=\"text-align: right;\">\n",
       "      <th></th>\n",
       "      <th>title</th>\n",
       "    </tr>\n",
       "  </thead>\n",
       "  <tbody>\n",
       "    <tr>\n",
       "      <th>В США зафиксировано рекордное количество банкротств</th>\n",
       "      <td>2</td>\n",
       "    </tr>\n",
       "    <tr>\n",
       "      <th>Москвичу Владимиру Клутину пришёл счёт за вмешательство в американские выборы</th>\n",
       "      <td>1</td>\n",
       "    </tr>\n",
       "    <tr>\n",
       "      <th>Немцы очистят российский воздух</th>\n",
       "      <td>1</td>\n",
       "    </tr>\n",
       "    <tr>\n",
       "      <th>Началась приватизация Объединенной зерновой компании</th>\n",
       "      <td>1</td>\n",
       "    </tr>\n",
       "    <tr>\n",
       "      <th>Командующий РВСН планирует заняться разработкой Булавы</th>\n",
       "      <td>1</td>\n",
       "    </tr>\n",
       "    <tr>\n",
       "      <th>...</th>\n",
       "      <td>...</td>\n",
       "    </tr>\n",
       "    <tr>\n",
       "      <th>В честь Дня города в Москве откроют новый миграционный центр</th>\n",
       "      <td>1</td>\n",
       "    </tr>\n",
       "    <tr>\n",
       "      <th>Россияне, ушедшие в отпуск в конце декабря, лишатся новогодних каникул</th>\n",
       "      <td>1</td>\n",
       "    </tr>\n",
       "    <tr>\n",
       "      <th>Кредиторы Сибири остановили ее слияние с Внуковскими авиалиниями</th>\n",
       "      <td>1</td>\n",
       "    </tr>\n",
       "    <tr>\n",
       "      <th>«Рутениевое кольцо»: в России появится сеть туристических маршрутов по самым экологически загрязнённым местам</th>\n",
       "      <td>1</td>\n",
       "    </tr>\n",
       "    <tr>\n",
       "      <th>Бывший тренер Локомотива возглавил нальчикский Спартак</th>\n",
       "      <td>1</td>\n",
       "    </tr>\n",
       "  </tbody>\n",
       "</table>\n",
       "<p>5757 rows × 1 columns</p>\n",
       "</div>"
      ],
      "text/plain": [
       "                                                    title\n",
       "В США зафиксировано рекордное количество банкро...      2\n",
       "Москвичу Владимиру Клутину пришёл счёт за вмеша...      1\n",
       "Немцы очистят российский воздух                         1\n",
       "Началась приватизация Объединенной зерновой ком...      1\n",
       "Командующий РВСН планирует заняться разработкой...      1\n",
       "...                                                   ...\n",
       "В честь Дня города в Москве откроют новый мигра...      1\n",
       "Россияне, ушедшие в отпуск в конце декабря, лиш...      1\n",
       "Кредиторы Сибири остановили ее слияние с Внуков...      1\n",
       "«Рутениевое кольцо»: в России появится сеть тур...      1\n",
       "Бывший тренер Локомотива возглавил нальчикский ...      1\n",
       "\n",
       "[5757 rows x 1 columns]"
      ]
     },
     "execution_count": 22,
     "metadata": {},
     "output_type": "execute_result"
    }
   ],
   "source": [
    "pd.DataFrame(df_train['title'].value_counts())"
   ]
  },
  {
   "cell_type": "code",
   "execution_count": 23,
   "id": "6700a749-4920-4efa-91a2-93e0356fedb6",
   "metadata": {},
   "outputs": [
    {
     "data": {
      "text/html": [
       "<div>\n",
       "<style scoped>\n",
       "    .dataframe tbody tr th:only-of-type {\n",
       "        vertical-align: middle;\n",
       "    }\n",
       "\n",
       "    .dataframe tbody tr th {\n",
       "        vertical-align: top;\n",
       "    }\n",
       "\n",
       "    .dataframe thead th {\n",
       "        text-align: right;\n",
       "    }\n",
       "</style>\n",
       "<table border=\"1\" class=\"dataframe\">\n",
       "  <thead>\n",
       "    <tr style=\"text-align: right;\">\n",
       "      <th></th>\n",
       "      <th>title</th>\n",
       "      <th>is_fake</th>\n",
       "    </tr>\n",
       "  </thead>\n",
       "  <tbody>\n",
       "    <tr>\n",
       "      <th>402</th>\n",
       "      <td>В США зафиксировано рекордное количество банкр...</td>\n",
       "      <td>0</td>\n",
       "    </tr>\n",
       "    <tr>\n",
       "      <th>624</th>\n",
       "      <td>В США зафиксировано рекордное количество банкр...</td>\n",
       "      <td>0</td>\n",
       "    </tr>\n",
       "  </tbody>\n",
       "</table>\n",
       "</div>"
      ],
      "text/plain": [
       "                                                 title  is_fake\n",
       "402  В США зафиксировано рекордное количество банкр...        0\n",
       "624  В США зафиксировано рекордное количество банкр...        0"
      ]
     },
     "execution_count": 23,
     "metadata": {},
     "output_type": "execute_result"
    }
   ],
   "source": [
    "df_train.loc[df_train['title'] == 'В США зафиксировано рекордное количество банкротств']"
   ]
  },
  {
   "cell_type": "markdown",
   "id": "fb24fca0-92f8-430d-a237-e18d9c761f51",
   "metadata": {},
   "source": [
    "**Вывод:** Пропуски в df_train отсутствуют. Есть повторяющиеся новости под номером 402 и 624"
   ]
  },
  {
   "cell_type": "code",
   "execution_count": 24,
   "id": "ab742879-3064-4aa4-bf30-175aae7bc85b",
   "metadata": {
    "tags": []
   },
   "outputs": [
    {
     "name": "stdout",
     "output_type": "stream",
     "text": [
      "<class 'pandas.core.frame.DataFrame'>\n",
      "RangeIndex: 1000 entries, 0 to 999\n",
      "Data columns (total 2 columns):\n",
      " #   Column   Non-Null Count  Dtype \n",
      "---  ------   --------------  ----- \n",
      " 0   title    1000 non-null   object\n",
      " 1   is_fake  1000 non-null   int64 \n",
      "dtypes: int64(1), object(1)\n",
      "memory usage: 15.8+ KB\n"
     ]
    }
   ],
   "source": [
    "df_test.info()"
   ]
  },
  {
   "cell_type": "code",
   "execution_count": 25,
   "id": "c9d5b030-e820-4fbc-a505-3cf2afcd5fdc",
   "metadata": {},
   "outputs": [
    {
     "data": {
      "text/html": [
       "<div>\n",
       "<style scoped>\n",
       "    .dataframe tbody tr th:only-of-type {\n",
       "        vertical-align: middle;\n",
       "    }\n",
       "\n",
       "    .dataframe tbody tr th {\n",
       "        vertical-align: top;\n",
       "    }\n",
       "\n",
       "    .dataframe thead th {\n",
       "        text-align: right;\n",
       "    }\n",
       "</style>\n",
       "<table border=\"1\" class=\"dataframe\">\n",
       "  <thead>\n",
       "    <tr style=\"text-align: right;\">\n",
       "      <th></th>\n",
       "      <th>title</th>\n",
       "    </tr>\n",
       "  </thead>\n",
       "  <tbody>\n",
       "    <tr>\n",
       "      <th>Роскомнадзор представил реестр сочетаний цветов, нежелательных в России</th>\n",
       "      <td>1</td>\n",
       "    </tr>\n",
       "    <tr>\n",
       "      <th>Тренер Челси нашел причину неудач Фернандо Торреса</th>\n",
       "      <td>1</td>\n",
       "    </tr>\n",
       "    <tr>\n",
       "      <th>Совершена попытка захвата Братского лесокомбината</th>\n",
       "      <td>1</td>\n",
       "    </tr>\n",
       "    <tr>\n",
       "      <th>Россиян, не желающих вакцинироваться от коронавируса, будут депортировать в страны Евросоюза</th>\n",
       "      <td>1</td>\n",
       "    </tr>\n",
       "    <tr>\n",
       "      <th>Верховный суд подтвердил право граждан СССР на получение бесплатных квартир</th>\n",
       "      <td>1</td>\n",
       "    </tr>\n",
       "    <tr>\n",
       "      <th>...</th>\n",
       "      <td>...</td>\n",
       "    </tr>\n",
       "    <tr>\n",
       "      <th>Еврокомиссар назвал российский газовый сектор неподходящим для санкций</th>\n",
       "      <td>1</td>\n",
       "    </tr>\n",
       "    <tr>\n",
       "      <th>Киев обратился к ЮНЕСКО с просьбой получить право называть борщ украинским</th>\n",
       "      <td>1</td>\n",
       "    </tr>\n",
       "    <tr>\n",
       "      <th>МВД пообещало 8 марта не реагировать на все сообщения о домашнем насилии женщин в отношении мужчин</th>\n",
       "      <td>1</td>\n",
       "    </tr>\n",
       "    <tr>\n",
       "      <th>Иллюстрации к книгам про Винни Пуха выставят на аукцион</th>\n",
       "      <td>1</td>\n",
       "    </tr>\n",
       "    <tr>\n",
       "      <th>Deutsche Bahn заплатит рекордный штраф за чтение писем сотрудников</th>\n",
       "      <td>1</td>\n",
       "    </tr>\n",
       "  </tbody>\n",
       "</table>\n",
       "<p>1000 rows × 1 columns</p>\n",
       "</div>"
      ],
      "text/plain": [
       "                                                    title\n",
       "Роскомнадзор представил реестр сочетаний цветов...      1\n",
       "Тренер Челси нашел причину неудач Фернандо Торреса      1\n",
       "Совершена попытка захвата Братского лесокомбината       1\n",
       "Россиян, не желающих вакцинироваться от коронав...      1\n",
       "Верховный суд подтвердил право граждан СССР на ...      1\n",
       "...                                                   ...\n",
       "Еврокомиссар назвал российский газовый сектор н...      1\n",
       "Киев обратился к ЮНЕСКО с просьбой получить пра...      1\n",
       "МВД пообещало 8 марта не реагировать на все соо...      1\n",
       "Иллюстрации к книгам про Винни Пуха выставят на...      1\n",
       "Deutsche Bahn заплатит рекордный штраф за чтени...      1\n",
       "\n",
       "[1000 rows x 1 columns]"
      ]
     },
     "execution_count": 25,
     "metadata": {},
     "output_type": "execute_result"
    }
   ],
   "source": [
    "pd.DataFrame(df_test['title'].value_counts())"
   ]
  },
  {
   "cell_type": "markdown",
   "id": "1de13708-bfaa-4dad-8b23-91183c8a2ea5",
   "metadata": {},
   "source": [
    "**Вывод:** Пропуски в df_test отсутствуют"
   ]
  },
  {
   "cell_type": "markdown",
   "id": "b2bf717a-4512-417e-8dff-f648e6dad79e",
   "metadata": {},
   "source": [
    "### Обзор целевой переменной<a class=\"anchor\" id=\"target_feature_overview\"></a>"
   ]
  },
  {
   "cell_type": "markdown",
   "id": "b333c3ff-44a4-4073-8af0-8a2b66953a11",
   "metadata": {},
   "source": [
    "**is_fake** - метка, характеризующая реальность новости.  \n",
    "Имеет значения:  \n",
    "0 – новость реальная;  \n",
    "1 – новость выдуманная"
   ]
  },
  {
   "cell_type": "code",
   "execution_count": 26,
   "id": "fb419f97-1e38-450e-acb5-2edf5fdefbc6",
   "metadata": {},
   "outputs": [
    {
     "data": {
      "text/plain": [
       "1    2879\n",
       "0    2879\n",
       "Name: is_fake, dtype: int64"
      ]
     },
     "execution_count": 26,
     "metadata": {},
     "output_type": "execute_result"
    }
   ],
   "source": [
    "df_train['is_fake'].value_counts()"
   ]
  },
  {
   "cell_type": "code",
   "execution_count": 27,
   "id": "4478777a-cb05-4b89-8605-7b7cdd0e4c9e",
   "metadata": {},
   "outputs": [
    {
     "data": {
      "image/png": "[encoded data removed]",
      "text/plain": [
       "<Figure size 576x288 with 1 Axes>"
      ]
     },
     "metadata": {},
     "output_type": "display_data"
    }
   ],
   "source": [
    "counts = df_train['is_fake']. value_counts()\n",
    "\n",
    "plt.figure(figsize=(8,4))\n",
    "plt.title('Распределение переменной \"is_fake\"')\n",
    "sns.barplot(counts.index, counts.values)\n",
    "plt.xlabel('Тип метки: 0-новость реальна, 1 - новость выдуманная')\n",
    "plt.ylabel('Значение')\n",
    "plt.show()"
   ]
  },
  {
   "cell_type": "markdown",
   "id": "81251122-dfdb-4eae-8e86-daf580a9a87d",
   "metadata": {},
   "source": [
    "**Вывод:** Целевая переменная is_fake сбалансирована по классам. Пропуски и выбросы отсутствуют."
   ]
  },
  {
   "cell_type": "markdown",
   "id": "31bcc098-07f3-4551-a899-c9cf19e30e62",
   "metadata": {},
   "source": [
    "### Определение длины текстового сообщения и % знаков препинания в тексте<a class=\"anchor\" id=\"len_punct\"></a>"
   ]
  },
  {
   "cell_type": "code",
   "execution_count": 28,
   "id": "639dd09c-ac9c-4928-a9d9-36bef92feac8",
   "metadata": {},
   "outputs": [
    {
     "data": {
      "text/html": [
       "<div>\n",
       "<style scoped>\n",
       "    .dataframe tbody tr th:only-of-type {\n",
       "        vertical-align: middle;\n",
       "    }\n",
       "\n",
       "    .dataframe tbody tr th {\n",
       "        vertical-align: top;\n",
       "    }\n",
       "\n",
       "    .dataframe thead th {\n",
       "        text-align: right;\n",
       "    }\n",
       "</style>\n",
       "<table border=\"1\" class=\"dataframe\">\n",
       "  <thead>\n",
       "    <tr style=\"text-align: right;\">\n",
       "      <th></th>\n",
       "      <th>title</th>\n",
       "      <th>is_fake</th>\n",
       "      <th>title_len</th>\n",
       "      <th>punct%</th>\n",
       "    </tr>\n",
       "  </thead>\n",
       "  <tbody>\n",
       "    <tr>\n",
       "      <th>0</th>\n",
       "      <td>Москвичу Владимиру Клутину пришёл счёт за вмеш...</td>\n",
       "      <td>1</td>\n",
       "      <td>68</td>\n",
       "      <td>0.0</td>\n",
       "    </tr>\n",
       "    <tr>\n",
       "      <th>1</th>\n",
       "      <td>Агент Кокорина назвал езду по встречке житейск...</td>\n",
       "      <td>0</td>\n",
       "      <td>50</td>\n",
       "      <td>0.0</td>\n",
       "    </tr>\n",
       "    <tr>\n",
       "      <th>2</th>\n",
       "      <td>Госдума рассмотрит возможность введения секрет...</td>\n",
       "      <td>1</td>\n",
       "      <td>68</td>\n",
       "      <td>0.0</td>\n",
       "    </tr>\n",
       "    <tr>\n",
       "      <th>3</th>\n",
       "      <td>ФАС заблокировала поставку скоростных трамваев...</td>\n",
       "      <td>0</td>\n",
       "      <td>51</td>\n",
       "      <td>0.0</td>\n",
       "    </tr>\n",
       "    <tr>\n",
       "      <th>4</th>\n",
       "      <td>Против Навального завели дело о недоносительст...</td>\n",
       "      <td>1</td>\n",
       "      <td>52</td>\n",
       "      <td>0.0</td>\n",
       "    </tr>\n",
       "  </tbody>\n",
       "</table>\n",
       "</div>"
      ],
      "text/plain": [
       "                                               title  is_fake  title_len  \\\n",
       "0  Москвичу Владимиру Клутину пришёл счёт за вмеш...        1         68   \n",
       "1  Агент Кокорина назвал езду по встречке житейск...        0         50   \n",
       "2  Госдума рассмотрит возможность введения секрет...        1         68   \n",
       "3  ФАС заблокировала поставку скоростных трамваев...        0         51   \n",
       "4  Против Навального завели дело о недоносительст...        1         52   \n",
       "\n",
       "   punct%  \n",
       "0     0.0  \n",
       "1     0.0  \n",
       "2     0.0  \n",
       "3     0.0  \n",
       "4     0.0  "
      ]
     },
     "execution_count": 28,
     "metadata": {},
     "output_type": "execute_result"
    }
   ],
   "source": [
    "# функция для вычисления длины заголовка новости без учета пробелов\n",
    "df_train['title_len'] = df_train['title'].apply(lambda x: len(x) - x.count(\" \"))\n",
    "\n",
    "# функция показывает процент знаков препинания в теле заголовка новости\n",
    "def count_punct(text):\n",
    "    count = sum([1 for char in text if char in string.punctuation])\n",
    "    return round(count/(len(text) - text.count(\" \")), 3)*100\n",
    "\n",
    "df_train['punct%'] = df_train['title'].apply(lambda x: count_punct(x))\n",
    "\n",
    "df_train.head()"
   ]
  },
  {
   "cell_type": "code",
   "execution_count": 29,
   "id": "cce118e5-605e-487a-a074-222e6cc2a45b",
   "metadata": {},
   "outputs": [
    {
     "data": {
      "image/png": "[encoded data removed]",
      "text/plain": [
       "<Figure size 576x396 with 1 Axes>"
      ]
     },
     "metadata": {},
     "output_type": "display_data"
    }
   ],
   "source": [
    "bins = np.linspace(0, 100, 50)\n",
    "\n",
    "plt.hist(df_train[df_train['is_fake'] == 1]['title_len'], bins, alpha=0.5, label='fake')\n",
    "plt.hist(df_train[df_train['is_fake'] == 0]['title_len'], bins, alpha=0.5, label='not_fake')\n",
    "plt.legend(loc='upper right')\n",
    "plt.show()"
   ]
  },
  {
   "cell_type": "code",
   "execution_count": 30,
   "id": "03001fa2-6057-4bb0-a631-fadd3d1e3bd7",
   "metadata": {},
   "outputs": [
    {
     "data": {
      "image/png": "[encoded data removed]",
      "text/plain": [
       "<Figure size 576x396 with 1 Axes>"
      ]
     },
     "metadata": {},
     "output_type": "display_data"
    }
   ],
   "source": [
    "bins = np.linspace(0, 50, 40)\n",
    "\n",
    "plt.hist(df_train[df_train['is_fake'] == 1]['punct%'], bins, alpha=0.5, label='fake')\n",
    "plt.hist(df_train[df_train['is_fake'] == 0]['punct%'], bins, alpha=0.5, label='not_fake')\n",
    "plt.legend(loc='upper right')\n",
    "plt.show()"
   ]
  },
  {
   "cell_type": "markdown",
   "id": "fd46bec8-31d3-4415-9381-6ebe29ee002b",
   "metadata": {
    "tags": []
   },
   "source": [
    "### Построение \"облака слов\"<a class=\"anchor\" id=\"word_cloud\"></a>"
   ]
  },
  {
   "cell_type": "code",
   "execution_count": 31,
   "id": "75b5c31e-34ab-4131-b06e-3fa45cf7948f",
   "metadata": {},
   "outputs": [],
   "source": [
    "news = get_news(df_train['title'].values)\n",
    "cloud = get_word_cloud(news)"
   ]
  },
  {
   "cell_type": "code",
   "execution_count": 32,
   "id": "16f1c5ae-a101-417d-a1cf-097e8ada7e49",
   "metadata": {},
   "outputs": [
    {
     "data": {
      "text/plain": [
       "<AxesSubplot:>"
      ]
     },
     "execution_count": 32,
     "metadata": {},
     "output_type": "execute_result"
    },
    {
     "data": {
      "image/png": "[encoded data removed]",
      "text/plain": [
       "<Figure size 1440x576 with 1 Axes>"
      ]
     },
     "metadata": {},
     "output_type": "display_data"
    }
   ],
   "source": [
    "fig = plt.figure(figsize=(20, 8))\n",
    "plt.subplot(1, 2, 1)\n",
    "plt.imshow(cloud)\n",
    "plt.axis('off')\n",
    "plt.subplot(1, 2, 1)"
   ]
  },
  {
   "cell_type": "code",
   "execution_count": 33,
   "id": "bd2b2572-34b1-4ba5-a882-f2f881c0c5bb",
   "metadata": {
    "tags": []
   },
   "outputs": [
    {
     "name": "stdout",
     "output_type": "stream",
     "text": [
      "Количество уникальных слов в исходном тексте: 20701\n"
     ]
    }
   ],
   "source": [
    "# Количество уникальных слов в тексте\n",
    "num_words = len(set(news))\n",
    "print(f'Количество уникальных слов в исходном тексте: {num_words}')"
   ]
  },
  {
   "cell_type": "markdown",
   "id": "c61c72fb-e0a8-40e2-abdd-86947355cc6b",
   "metadata": {},
   "source": [
    "**Общий вывод:**   \n",
    "Исходный датасет имеет 5758 строк, не содержит пропусков. Количество уникальных слов в исходном тексте 20701. Есть один повтор в строках 402 и 624, что маловероятно может сказаться на конечном результате, т.к. соответствующее данным строкам значение 'is_fake' одинаковое.  \n",
    "Анализ длины заголовков новостей показал, что выдуманные новости имеют большую длины, чем реальные.  \n",
    "Анализ процента знаков препинания значимых результатов не дал.   \n",
    "Построение «облака слов» позволило визуально определить наиболее часто встречающиеся слова. Есть необходимость дополнительной очистки текстов от «мусора», не несущего смысловой нагрузки, а также, знаков препинания"
   ]
  },
  {
   "cell_type": "markdown",
   "id": "25d6060c-2dc5-478d-a14d-ac69b250db67",
   "metadata": {},
   "source": [
    "## Предварительная обработка данных<a class=\"anchor\" id=\"data_preprocessing\"></a> "
   ]
  },
  {
   "cell_type": "markdown",
   "id": "16ff8530-ed7a-41b6-bf5d-9e8c969be34c",
   "metadata": {
    "tags": []
   },
   "source": [
    "### Проверка орфографии в датасете<a class=\"anchor\" id=\"spelling_check\"></a> "
   ]
  },
  {
   "cell_type": "code",
   "execution_count": 34,
   "id": "5b2fb81b-caca-47d6-b1be-ea8b1b383616",
   "metadata": {},
   "outputs": [],
   "source": [
    "# print(inspect.getsource(get_spelling_check_text))"
   ]
  },
  {
   "cell_type": "code",
   "execution_count": 35,
   "id": "33ba9012-8fa5-412b-b316-dd04552a3b9a",
   "metadata": {
    "tags": []
   },
   "outputs": [
    {
     "name": "stdout",
     "output_type": "stream",
     "text": [
      "CPU times: user 2min 39s, sys: 7.08 s, total: 2min 46s\n",
      "Wall time: 11min 44s\n"
     ]
    }
   ],
   "source": [
    "%%time \n",
    "\n",
    "df_train['title_clean'] = df_train['title'].apply(get_spelling_check_text)"
   ]
  },
  {
   "cell_type": "code",
   "execution_count": 36,
   "id": "1876fa81-e0bd-4a9d-b7a5-5ce1c9634a38",
   "metadata": {
    "tags": []
   },
   "outputs": [],
   "source": [
    "# Сохраним вариант датасета df_train с проверенной орфографией (процедура очень долгая)\n",
    "df_train.to_csv(ORTHO_DATASET_PATH, index=False, encoding='utf-8')"
   ]
  },
  {
   "cell_type": "markdown",
   "id": "7861e1ed-f533-4804-8c2d-d79c6d46c892",
   "metadata": {
    "tags": []
   },
   "source": [
    "### Очиcтка текста приведение слов к стандартному виду<a class=\"anchor\" id=\"text_clearing\"></a> "
   ]
  },
  {
   "cell_type": "code",
   "execution_count": 37,
   "id": "9aa89c50-d179-46eb-ab18-68d08aa9e77a",
   "metadata": {},
   "outputs": [
    {
     "data": {
      "text/html": [
       "<div>\n",
       "<style scoped>\n",
       "    .dataframe tbody tr th:only-of-type {\n",
       "        vertical-align: middle;\n",
       "    }\n",
       "\n",
       "    .dataframe tbody tr th {\n",
       "        vertical-align: top;\n",
       "    }\n",
       "\n",
       "    .dataframe thead th {\n",
       "        text-align: right;\n",
       "    }\n",
       "</style>\n",
       "<table border=\"1\" class=\"dataframe\">\n",
       "  <thead>\n",
       "    <tr style=\"text-align: right;\">\n",
       "      <th></th>\n",
       "      <th>title</th>\n",
       "      <th>is_fake</th>\n",
       "      <th>title_len</th>\n",
       "      <th>punct%</th>\n",
       "      <th>title_clean</th>\n",
       "    </tr>\n",
       "  </thead>\n",
       "  <tbody>\n",
       "    <tr>\n",
       "      <th>0</th>\n",
       "      <td>Москвичу Владимиру Клутину пришёл счёт за вмеш...</td>\n",
       "      <td>1</td>\n",
       "      <td>68</td>\n",
       "      <td>0.0</td>\n",
       "      <td>Москвичу Владимиру Кузину пришёл счёт за вмеша...</td>\n",
       "    </tr>\n",
       "    <tr>\n",
       "      <th>1</th>\n",
       "      <td>Агент Кокорина назвал езду по встречке житейск...</td>\n",
       "      <td>0</td>\n",
       "      <td>50</td>\n",
       "      <td>0.0</td>\n",
       "      <td>Агент Кокорина назвал езду по встречке житейск...</td>\n",
       "    </tr>\n",
       "    <tr>\n",
       "      <th>2</th>\n",
       "      <td>Госдума рассмотрит возможность введения секрет...</td>\n",
       "      <td>1</td>\n",
       "      <td>68</td>\n",
       "      <td>0.0</td>\n",
       "      <td>Госдума рассмотрит возможность введения секрет...</td>\n",
       "    </tr>\n",
       "    <tr>\n",
       "      <th>3</th>\n",
       "      <td>ФАС заблокировала поставку скоростных трамваев...</td>\n",
       "      <td>0</td>\n",
       "      <td>51</td>\n",
       "      <td>0.0</td>\n",
       "      <td>ФАС заблокировала поставку скоростных трамваев...</td>\n",
       "    </tr>\n",
       "    <tr>\n",
       "      <th>4</th>\n",
       "      <td>Против Навального завели дело о недоносительст...</td>\n",
       "      <td>1</td>\n",
       "      <td>52</td>\n",
       "      <td>0.0</td>\n",
       "      <td>Против Навального завели дело о недоносительст...</td>\n",
       "    </tr>\n",
       "  </tbody>\n",
       "</table>\n",
       "</div>"
      ],
      "text/plain": [
       "                                               title  is_fake  title_len  \\\n",
       "0  Москвичу Владимиру Клутину пришёл счёт за вмеш...        1         68   \n",
       "1  Агент Кокорина назвал езду по встречке житейск...        0         50   \n",
       "2  Госдума рассмотрит возможность введения секрет...        1         68   \n",
       "3  ФАС заблокировала поставку скоростных трамваев...        0         51   \n",
       "4  Против Навального завели дело о недоносительст...        1         52   \n",
       "\n",
       "   punct%                                        title_clean  \n",
       "0     0.0  Москвичу Владимиру Кузину пришёл счёт за вмеша...  \n",
       "1     0.0  Агент Кокорина назвал езду по встречке житейск...  \n",
       "2     0.0  Госдума рассмотрит возможность введения секрет...  \n",
       "3     0.0  ФАС заблокировала поставку скоростных трамваев...  \n",
       "4     0.0  Против Навального завели дело о недоносительст...  "
      ]
     },
     "execution_count": 37,
     "metadata": {},
     "output_type": "execute_result"
    }
   ],
   "source": [
    "df_train_ortho = pd.read_csv(ORTHO_DATASET_PATH)\n",
    "df_train_ortho.head()"
   ]
  },
  {
   "cell_type": "code",
   "execution_count": 38,
   "id": "65edfc23-1b20-48f6-a74d-4ede55dfbf20",
   "metadata": {
    "tags": []
   },
   "outputs": [],
   "source": [
    "# print(inspect.getsource(get_text_preprocessing))"
   ]
  },
  {
   "cell_type": "code",
   "execution_count": 39,
   "id": "7702ba12-633a-4dfc-8e7f-1d6007abcdcf",
   "metadata": {
    "tags": []
   },
   "outputs": [
    {
     "name": "stdout",
     "output_type": "stream",
     "text": [
      "CPU times: user 6min 36s, sys: 37.1 s, total: 7min 13s\n",
      "Wall time: 7min 13s\n"
     ]
    }
   ],
   "source": [
    "%%time \n",
    "\n",
    "df_train_ortho['title_clean'] = df_train_ortho['title'].apply(get_text_preprocessing)"
   ]
  },
  {
   "cell_type": "code",
   "execution_count": 40,
   "id": "5597e5aa-315e-4245-bc83-e312b8f2dedf",
   "metadata": {},
   "outputs": [],
   "source": [
    "news_clean = get_news(df_train_ortho['title_clean'].values)\n",
    "cloud_clean = get_word_cloud(news_clean)"
   ]
  },
  {
   "cell_type": "code",
   "execution_count": 41,
   "id": "aec6b39e-e763-4052-b4d6-26483e220db3",
   "metadata": {},
   "outputs": [
    {
     "data": {
      "text/plain": [
       "<AxesSubplot:>"
      ]
     },
     "execution_count": 41,
     "metadata": {},
     "output_type": "execute_result"
    },
    {
     "data": {
      "image/png": "[encoded data removed]",
      "text/plain": [
       "<Figure size 1440x576 with 1 Axes>"
      ]
     },
     "metadata": {},
     "output_type": "display_data"
    }
   ],
   "source": [
    "fig = plt.figure(figsize=(20, 8))\n",
    "plt.subplot(1, 2, 1)\n",
    "plt.imshow(cloud_clean)\n",
    "plt.axis('off')\n",
    "plt.subplot(1, 2, 1)"
   ]
  },
  {
   "cell_type": "code",
   "execution_count": 42,
   "id": "b43a80af-1602-4fce-b4e5-98600ed40cb8",
   "metadata": {
    "tags": []
   },
   "outputs": [
    {
     "name": "stdout",
     "output_type": "stream",
     "text": [
      "Количество уникальных слов в исходном тексте: 11778\n"
     ]
    }
   ],
   "source": [
    "# Количество уникальных слов в очищенном тексте\n",
    "num_words_clean = len(set(news_clean))\n",
    "print(f'Количество уникальных слов в исходном тексте: {num_words_clean}')"
   ]
  },
  {
   "cell_type": "code",
   "execution_count": 43,
   "id": "07cd3edf-4240-45cb-9eb6-32085677ba5f",
   "metadata": {},
   "outputs": [],
   "source": [
    "# df_train_ortho.head()"
   ]
  },
  {
   "cell_type": "code",
   "execution_count": 44,
   "id": "42bd67ac-e212-435f-8a98-991e39e4bf30",
   "metadata": {},
   "outputs": [],
   "source": [
    "# Сохраним обработанный вариант датасета df_train\n",
    "df_train_ortho.to_csv(PREP_DATASET_PATH, index=False, encoding='utf-8')"
   ]
  },
  {
   "cell_type": "markdown",
   "id": "018ce3fc-7d15-4499-ac67-0234a85df251",
   "metadata": {},
   "source": [
    "**Общий вывод:**   \n",
    "После очистки текста от стоп-слов, количество уникальных слов уменьшилось с 20701 до 11778, т.е. почти на 43%. Также была выполнено приведение текста к стандартному виду и подчищена пунктуация, исправление орфографии."
   ]
  },
  {
   "cell_type": "markdown",
   "id": "7f4e7362-229b-4381-885a-1ad99748af23",
   "metadata": {},
   "source": [
    "## Векторное представление текста<a class=\"anchor\" id=\"vector_representation\"></a> "
   ]
  },
  {
   "cell_type": "markdown",
   "id": "696ce878-212c-4674-ad64-0bbf50d8f925",
   "metadata": {
    "tags": []
   },
   "source": [
    "### Разделение df_train на train и test<a class=\"anchor\" id=\"train/test_split\"></a> "
   ]
  },
  {
   "cell_type": "code",
   "execution_count": 45,
   "id": "25128162-fa6a-4844-823a-fd423d3acc95",
   "metadata": {
    "tags": []
   },
   "outputs": [
    {
     "data": {
      "text/html": [
       "<div>\n",
       "<style scoped>\n",
       "    .dataframe tbody tr th:only-of-type {\n",
       "        vertical-align: middle;\n",
       "    }\n",
       "\n",
       "    .dataframe tbody tr th {\n",
       "        vertical-align: top;\n",
       "    }\n",
       "\n",
       "    .dataframe thead th {\n",
       "        text-align: right;\n",
       "    }\n",
       "</style>\n",
       "<table border=\"1\" class=\"dataframe\">\n",
       "  <thead>\n",
       "    <tr style=\"text-align: right;\">\n",
       "      <th></th>\n",
       "      <th>title</th>\n",
       "      <th>is_fake</th>\n",
       "      <th>title_len</th>\n",
       "      <th>punct%</th>\n",
       "      <th>title_clean</th>\n",
       "    </tr>\n",
       "  </thead>\n",
       "  <tbody>\n",
       "    <tr>\n",
       "      <th>0</th>\n",
       "      <td>Москвичу Владимиру Клутину пришёл счёт за вмеш...</td>\n",
       "      <td>1</td>\n",
       "      <td>68</td>\n",
       "      <td>0.0</td>\n",
       "      <td>москвич владимир клутина прийти счёт вмешатель...</td>\n",
       "    </tr>\n",
       "    <tr>\n",
       "      <th>1</th>\n",
       "      <td>Агент Кокорина назвал езду по встречке житейск...</td>\n",
       "      <td>0</td>\n",
       "      <td>50</td>\n",
       "      <td>0.0</td>\n",
       "      <td>агент кокорин назвать езда встречка житеиской ...</td>\n",
       "    </tr>\n",
       "    <tr>\n",
       "      <th>2</th>\n",
       "      <td>Госдума рассмотрит возможность введения секрет...</td>\n",
       "      <td>1</td>\n",
       "      <td>68</td>\n",
       "      <td>0.0</td>\n",
       "      <td>госдума рассмотреть возможность введение секре...</td>\n",
       "    </tr>\n",
       "    <tr>\n",
       "      <th>3</th>\n",
       "      <td>ФАС заблокировала поставку скоростных трамваев...</td>\n",
       "      <td>0</td>\n",
       "      <td>51</td>\n",
       "      <td>0.0</td>\n",
       "      <td>фас заблокировать поставка скоростной трамвай ...</td>\n",
       "    </tr>\n",
       "    <tr>\n",
       "      <th>4</th>\n",
       "      <td>Против Навального завели дело о недоносительст...</td>\n",
       "      <td>1</td>\n",
       "      <td>52</td>\n",
       "      <td>0.0</td>\n",
       "      <td>против навальный завести дело недоносительство...</td>\n",
       "    </tr>\n",
       "  </tbody>\n",
       "</table>\n",
       "</div>"
      ],
      "text/plain": [
       "                                               title  is_fake  title_len  \\\n",
       "0  Москвичу Владимиру Клутину пришёл счёт за вмеш...        1         68   \n",
       "1  Агент Кокорина назвал езду по встречке житейск...        0         50   \n",
       "2  Госдума рассмотрит возможность введения секрет...        1         68   \n",
       "3  ФАС заблокировала поставку скоростных трамваев...        0         51   \n",
       "4  Против Навального завели дело о недоносительст...        1         52   \n",
       "\n",
       "   punct%                                        title_clean  \n",
       "0     0.0  москвич владимир клутина прийти счёт вмешатель...  \n",
       "1     0.0  агент кокорин назвать езда встречка житеиской ...  \n",
       "2     0.0  госдума рассмотреть возможность введение секре...  \n",
       "3     0.0  фас заблокировать поставка скоростной трамвай ...  \n",
       "4     0.0  против навальный завести дело недоносительство...  "
      ]
     },
     "execution_count": 45,
     "metadata": {},
     "output_type": "execute_result"
    }
   ],
   "source": [
    "df_train_prep = pd.read_csv(PREP_DATASET_PATH)\n",
    "df_train_prep.head()"
   ]
  },
  {
   "cell_type": "code",
   "execution_count": 46,
   "id": "6deea265-51bf-4f80-a025-a643dff891dd",
   "metadata": {},
   "outputs": [],
   "source": [
    "columns = ['title', 'title_clean', 'title_len', 'punct%', 'is_fake']\n",
    "df_train_prep = df_train_prep.reindex(columns=columns)"
   ]
  },
  {
   "cell_type": "code",
   "execution_count": 47,
   "id": "1d9cc2d1-9b0f-4956-8cbc-a0dfc128ab92",
   "metadata": {},
   "outputs": [],
   "source": [
    "X=df_train_prep[['title_clean', 'title_len', 'punct%']]\n",
    "y=df_train_prep['is_fake']\n",
    "\n",
    "X_train, X_test, y_train, y_test = train_test_split(X, y, test_size=0.2, random_state=RANDOM_STATE)"
   ]
  },
  {
   "cell_type": "code",
   "execution_count": 48,
   "id": "e1ad7695-9340-4b16-bafd-8b336984975b",
   "metadata": {
    "tags": []
   },
   "outputs": [
    {
     "name": "stdout",
     "output_type": "stream",
     "text": [
      "4606 1152\n"
     ]
    }
   ],
   "source": [
    "print(len(X_train), len(X_test))"
   ]
  },
  {
   "cell_type": "markdown",
   "id": "e7566bb1-2145-4050-8c67-ef0a79709dd4",
   "metadata": {},
   "source": [
    "### Bag of words (BOW)<a class=\"anchor\" id=\"bow\"></a> "
   ]
  },
  {
   "cell_type": "code",
   "execution_count": 49,
   "id": "0be1ed00-a8da-4c9b-907d-3b05496744ff",
   "metadata": {},
   "outputs": [
    {
     "name": "stdout",
     "output_type": "stream",
     "text": [
      "(4606, 10400) (1152, 10400)\n"
     ]
    }
   ],
   "source": [
    "bow_vect = CountVectorizer()\n",
    "\n",
    "bow_train = bow_vect.fit_transform(X_train['title_clean'])\n",
    "bow_test = bow_vect.transform(X_test['title_clean'])\n",
    "\n",
    "X_train_BOW = pd.concat([X_train[['title_len', 'punct%']].reset_index(drop=True),\n",
    "                        pd.DataFrame(bow_train.toarray())], axis=1)\n",
    "X_test_BOW = pd.concat([X_test[['title_len', 'punct%']].reset_index(drop=True),\n",
    "                        pd.DataFrame(bow_test.toarray())], axis=1)\n",
    "print(X_train_BOW.shape, X_test_BOW.shape)"
   ]
  },
  {
   "cell_type": "markdown",
   "id": "84086f75-cc56-462d-8ce7-2a358dce4792",
   "metadata": {},
   "source": [
    "### TF-IDF<a class=\"anchor\" id=\"tfidf\"></a> "
   ]
  },
  {
   "cell_type": "code",
   "execution_count": 50,
   "id": "d8d68cb9-2da8-4d38-85d7-94a1b88e4c50",
   "metadata": {},
   "outputs": [
    {
     "name": "stdout",
     "output_type": "stream",
     "text": [
      "(4606, 10400) (1152, 10400)\n"
     ]
    }
   ],
   "source": [
    "tfidf_vect = TfidfVectorizer()\n",
    "\n",
    "tfidf_train = tfidf_vect.fit_transform(X_train['title_clean'])\n",
    "tfidf_test = tfidf_vect.transform(X_test['title_clean'])\n",
    "\n",
    "X_train_TFIDF = pd.concat([X_train[['title_len', 'punct%']].reset_index(drop=True),\n",
    "                        pd.DataFrame(tfidf_train.toarray())], axis=1)\n",
    "X_test_TFIDF = pd.concat([X_test[['title_len', 'punct%']].reset_index(drop=True),\n",
    "                        pd.DataFrame(tfidf_test.toarray())], axis=1)\n",
    "\n",
    "print(X_train_TFIDF.shape, X_test_TFIDF.shape)"
   ]
  },
  {
   "cell_type": "markdown",
   "id": "a9ea026b-714c-4074-90ea-94de872c2216",
   "metadata": {},
   "source": [
    "### Bag of words (BOW) с биграммами<a class=\"anchor\" id=\"bow_bi\"></a> "
   ]
  },
  {
   "cell_type": "code",
   "execution_count": 51,
   "id": "6de79b1b-1382-4132-b0ae-be04e117f4bb",
   "metadata": {},
   "outputs": [
    {
     "name": "stdout",
     "output_type": "stream",
     "text": [
      "(4606, 36074) (1152, 36074)\n"
     ]
    }
   ],
   "source": [
    "bow_bi_vect = CountVectorizer(ngram_range=(1, 2))\n",
    "\n",
    "bow_bi_train = bow_bi_vect.fit_transform(X_train['title_clean'])\n",
    "bow_bi_test = bow_bi_vect.transform(X_test['title_clean'])\n",
    "\n",
    "X_train_BOW_bi = pd.concat([X_train[['title_len', 'punct%']].reset_index(drop=True),\n",
    "                        pd.DataFrame(bow_bi_train.toarray())], axis=1)\n",
    "X_test_BOW_bi = pd.concat([X_test[['title_len', 'punct%']].reset_index(drop=True),\n",
    "                        pd.DataFrame(bow_bi_test.toarray())], axis=1)\n",
    "\n",
    "print(X_train_BOW_bi.shape, X_test_BOW_bi.shape)"
   ]
  },
  {
   "cell_type": "code",
   "execution_count": 52,
   "id": "d20a79e0-e81e-4d1f-815c-9305d777d039",
   "metadata": {},
   "outputs": [
    {
     "data": {
      "text/html": [
       "<div>\n",
       "<style scoped>\n",
       "    .dataframe tbody tr th:only-of-type {\n",
       "        vertical-align: middle;\n",
       "    }\n",
       "\n",
       "    .dataframe tbody tr th {\n",
       "        vertical-align: top;\n",
       "    }\n",
       "\n",
       "    .dataframe thead th {\n",
       "        text-align: right;\n",
       "    }\n",
       "</style>\n",
       "<table border=\"1\" class=\"dataframe\">\n",
       "  <thead>\n",
       "    <tr style=\"text-align: right;\">\n",
       "      <th></th>\n",
       "      <th>title_len</th>\n",
       "      <th>punct%</th>\n",
       "      <th>0</th>\n",
       "      <th>1</th>\n",
       "      <th>2</th>\n",
       "      <th>3</th>\n",
       "      <th>4</th>\n",
       "      <th>5</th>\n",
       "      <th>6</th>\n",
       "      <th>7</th>\n",
       "      <th>...</th>\n",
       "      <th>36062</th>\n",
       "      <th>36063</th>\n",
       "      <th>36064</th>\n",
       "      <th>36065</th>\n",
       "      <th>36066</th>\n",
       "      <th>36067</th>\n",
       "      <th>36068</th>\n",
       "      <th>36069</th>\n",
       "      <th>36070</th>\n",
       "      <th>36071</th>\n",
       "    </tr>\n",
       "  </thead>\n",
       "  <tbody>\n",
       "    <tr>\n",
       "      <th>0</th>\n",
       "      <td>77</td>\n",
       "      <td>2.6</td>\n",
       "      <td>0</td>\n",
       "      <td>0</td>\n",
       "      <td>0</td>\n",
       "      <td>0</td>\n",
       "      <td>0</td>\n",
       "      <td>0</td>\n",
       "      <td>0</td>\n",
       "      <td>0</td>\n",
       "      <td>...</td>\n",
       "      <td>0</td>\n",
       "      <td>0</td>\n",
       "      <td>0</td>\n",
       "      <td>0</td>\n",
       "      <td>0</td>\n",
       "      <td>0</td>\n",
       "      <td>0</td>\n",
       "      <td>0</td>\n",
       "      <td>0</td>\n",
       "      <td>0</td>\n",
       "    </tr>\n",
       "    <tr>\n",
       "      <th>1</th>\n",
       "      <td>52</td>\n",
       "      <td>1.9</td>\n",
       "      <td>0</td>\n",
       "      <td>0</td>\n",
       "      <td>0</td>\n",
       "      <td>0</td>\n",
       "      <td>0</td>\n",
       "      <td>0</td>\n",
       "      <td>0</td>\n",
       "      <td>0</td>\n",
       "      <td>...</td>\n",
       "      <td>0</td>\n",
       "      <td>0</td>\n",
       "      <td>0</td>\n",
       "      <td>0</td>\n",
       "      <td>0</td>\n",
       "      <td>0</td>\n",
       "      <td>0</td>\n",
       "      <td>0</td>\n",
       "      <td>0</td>\n",
       "      <td>0</td>\n",
       "    </tr>\n",
       "    <tr>\n",
       "      <th>2</th>\n",
       "      <td>39</td>\n",
       "      <td>0.0</td>\n",
       "      <td>0</td>\n",
       "      <td>0</td>\n",
       "      <td>0</td>\n",
       "      <td>0</td>\n",
       "      <td>0</td>\n",
       "      <td>0</td>\n",
       "      <td>0</td>\n",
       "      <td>0</td>\n",
       "      <td>...</td>\n",
       "      <td>0</td>\n",
       "      <td>0</td>\n",
       "      <td>0</td>\n",
       "      <td>0</td>\n",
       "      <td>0</td>\n",
       "      <td>0</td>\n",
       "      <td>0</td>\n",
       "      <td>0</td>\n",
       "      <td>0</td>\n",
       "      <td>0</td>\n",
       "    </tr>\n",
       "    <tr>\n",
       "      <th>3</th>\n",
       "      <td>39</td>\n",
       "      <td>0.0</td>\n",
       "      <td>0</td>\n",
       "      <td>0</td>\n",
       "      <td>0</td>\n",
       "      <td>0</td>\n",
       "      <td>0</td>\n",
       "      <td>0</td>\n",
       "      <td>0</td>\n",
       "      <td>0</td>\n",
       "      <td>...</td>\n",
       "      <td>0</td>\n",
       "      <td>0</td>\n",
       "      <td>0</td>\n",
       "      <td>0</td>\n",
       "      <td>0</td>\n",
       "      <td>0</td>\n",
       "      <td>0</td>\n",
       "      <td>0</td>\n",
       "      <td>0</td>\n",
       "      <td>0</td>\n",
       "    </tr>\n",
       "    <tr>\n",
       "      <th>4</th>\n",
       "      <td>70</td>\n",
       "      <td>2.9</td>\n",
       "      <td>0</td>\n",
       "      <td>0</td>\n",
       "      <td>0</td>\n",
       "      <td>0</td>\n",
       "      <td>0</td>\n",
       "      <td>0</td>\n",
       "      <td>0</td>\n",
       "      <td>0</td>\n",
       "      <td>...</td>\n",
       "      <td>0</td>\n",
       "      <td>0</td>\n",
       "      <td>0</td>\n",
       "      <td>0</td>\n",
       "      <td>0</td>\n",
       "      <td>0</td>\n",
       "      <td>0</td>\n",
       "      <td>0</td>\n",
       "      <td>0</td>\n",
       "      <td>0</td>\n",
       "    </tr>\n",
       "  </tbody>\n",
       "</table>\n",
       "<p>5 rows × 36074 columns</p>\n",
       "</div>"
      ],
      "text/plain": [
       "   title_len  punct%  0  1  2  3  4  5  6  7  ...  36062  36063  36064  36065  \\\n",
       "0         77     2.6  0  0  0  0  0  0  0  0  ...      0      0      0      0   \n",
       "1         52     1.9  0  0  0  0  0  0  0  0  ...      0      0      0      0   \n",
       "2         39     0.0  0  0  0  0  0  0  0  0  ...      0      0      0      0   \n",
       "3         39     0.0  0  0  0  0  0  0  0  0  ...      0      0      0      0   \n",
       "4         70     2.9  0  0  0  0  0  0  0  0  ...      0      0      0      0   \n",
       "\n",
       "   36066  36067  36068  36069  36070  36071  \n",
       "0      0      0      0      0      0      0  \n",
       "1      0      0      0      0      0      0  \n",
       "2      0      0      0      0      0      0  \n",
       "3      0      0      0      0      0      0  \n",
       "4      0      0      0      0      0      0  \n",
       "\n",
       "[5 rows x 36074 columns]"
      ]
     },
     "execution_count": 52,
     "metadata": {},
     "output_type": "execute_result"
    }
   ],
   "source": [
    "X_train_BOW_bi.head()"
   ]
  },
  {
   "cell_type": "code",
   "execution_count": 53,
   "id": "a57a417b-8c37-42c3-99c4-5db4073c737a",
   "metadata": {},
   "outputs": [
    {
     "data": {
      "text/html": [
       "<div>\n",
       "<style scoped>\n",
       "    .dataframe tbody tr th:only-of-type {\n",
       "        vertical-align: middle;\n",
       "    }\n",
       "\n",
       "    .dataframe tbody tr th {\n",
       "        vertical-align: top;\n",
       "    }\n",
       "\n",
       "    .dataframe thead th {\n",
       "        text-align: right;\n",
       "    }\n",
       "</style>\n",
       "<table border=\"1\" class=\"dataframe\">\n",
       "  <thead>\n",
       "    <tr style=\"text-align: right;\">\n",
       "      <th></th>\n",
       "      <th>title_len</th>\n",
       "      <th>punct%</th>\n",
       "      <th>0</th>\n",
       "      <th>1</th>\n",
       "      <th>2</th>\n",
       "      <th>3</th>\n",
       "      <th>4</th>\n",
       "      <th>5</th>\n",
       "      <th>6</th>\n",
       "      <th>7</th>\n",
       "      <th>...</th>\n",
       "      <th>36062</th>\n",
       "      <th>36063</th>\n",
       "      <th>36064</th>\n",
       "      <th>36065</th>\n",
       "      <th>36066</th>\n",
       "      <th>36067</th>\n",
       "      <th>36068</th>\n",
       "      <th>36069</th>\n",
       "      <th>36070</th>\n",
       "      <th>36071</th>\n",
       "    </tr>\n",
       "  </thead>\n",
       "  <tbody>\n",
       "    <tr>\n",
       "      <th>0</th>\n",
       "      <td>53</td>\n",
       "      <td>0.0</td>\n",
       "      <td>0</td>\n",
       "      <td>0</td>\n",
       "      <td>0</td>\n",
       "      <td>0</td>\n",
       "      <td>0</td>\n",
       "      <td>0</td>\n",
       "      <td>0</td>\n",
       "      <td>0</td>\n",
       "      <td>...</td>\n",
       "      <td>0</td>\n",
       "      <td>0</td>\n",
       "      <td>0</td>\n",
       "      <td>0</td>\n",
       "      <td>0</td>\n",
       "      <td>0</td>\n",
       "      <td>0</td>\n",
       "      <td>0</td>\n",
       "      <td>0</td>\n",
       "      <td>0</td>\n",
       "    </tr>\n",
       "    <tr>\n",
       "      <th>1</th>\n",
       "      <td>46</td>\n",
       "      <td>2.2</td>\n",
       "      <td>0</td>\n",
       "      <td>0</td>\n",
       "      <td>0</td>\n",
       "      <td>0</td>\n",
       "      <td>0</td>\n",
       "      <td>0</td>\n",
       "      <td>0</td>\n",
       "      <td>0</td>\n",
       "      <td>...</td>\n",
       "      <td>0</td>\n",
       "      <td>0</td>\n",
       "      <td>0</td>\n",
       "      <td>0</td>\n",
       "      <td>0</td>\n",
       "      <td>0</td>\n",
       "      <td>0</td>\n",
       "      <td>0</td>\n",
       "      <td>0</td>\n",
       "      <td>0</td>\n",
       "    </tr>\n",
       "    <tr>\n",
       "      <th>2</th>\n",
       "      <td>51</td>\n",
       "      <td>2.0</td>\n",
       "      <td>0</td>\n",
       "      <td>0</td>\n",
       "      <td>0</td>\n",
       "      <td>0</td>\n",
       "      <td>0</td>\n",
       "      <td>0</td>\n",
       "      <td>0</td>\n",
       "      <td>0</td>\n",
       "      <td>...</td>\n",
       "      <td>0</td>\n",
       "      <td>0</td>\n",
       "      <td>0</td>\n",
       "      <td>0</td>\n",
       "      <td>0</td>\n",
       "      <td>0</td>\n",
       "      <td>0</td>\n",
       "      <td>0</td>\n",
       "      <td>0</td>\n",
       "      <td>0</td>\n",
       "    </tr>\n",
       "    <tr>\n",
       "      <th>3</th>\n",
       "      <td>61</td>\n",
       "      <td>3.3</td>\n",
       "      <td>0</td>\n",
       "      <td>0</td>\n",
       "      <td>0</td>\n",
       "      <td>0</td>\n",
       "      <td>0</td>\n",
       "      <td>0</td>\n",
       "      <td>0</td>\n",
       "      <td>0</td>\n",
       "      <td>...</td>\n",
       "      <td>0</td>\n",
       "      <td>0</td>\n",
       "      <td>0</td>\n",
       "      <td>0</td>\n",
       "      <td>0</td>\n",
       "      <td>0</td>\n",
       "      <td>0</td>\n",
       "      <td>0</td>\n",
       "      <td>0</td>\n",
       "      <td>0</td>\n",
       "    </tr>\n",
       "    <tr>\n",
       "      <th>4</th>\n",
       "      <td>42</td>\n",
       "      <td>2.4</td>\n",
       "      <td>0</td>\n",
       "      <td>0</td>\n",
       "      <td>0</td>\n",
       "      <td>0</td>\n",
       "      <td>0</td>\n",
       "      <td>0</td>\n",
       "      <td>0</td>\n",
       "      <td>0</td>\n",
       "      <td>...</td>\n",
       "      <td>0</td>\n",
       "      <td>0</td>\n",
       "      <td>0</td>\n",
       "      <td>0</td>\n",
       "      <td>0</td>\n",
       "      <td>0</td>\n",
       "      <td>0</td>\n",
       "      <td>0</td>\n",
       "      <td>0</td>\n",
       "      <td>0</td>\n",
       "    </tr>\n",
       "  </tbody>\n",
       "</table>\n",
       "<p>5 rows × 36074 columns</p>\n",
       "</div>"
      ],
      "text/plain": [
       "   title_len  punct%  0  1  2  3  4  5  6  7  ...  36062  36063  36064  36065  \\\n",
       "0         53     0.0  0  0  0  0  0  0  0  0  ...      0      0      0      0   \n",
       "1         46     2.2  0  0  0  0  0  0  0  0  ...      0      0      0      0   \n",
       "2         51     2.0  0  0  0  0  0  0  0  0  ...      0      0      0      0   \n",
       "3         61     3.3  0  0  0  0  0  0  0  0  ...      0      0      0      0   \n",
       "4         42     2.4  0  0  0  0  0  0  0  0  ...      0      0      0      0   \n",
       "\n",
       "   36066  36067  36068  36069  36070  36071  \n",
       "0      0      0      0      0      0      0  \n",
       "1      0      0      0      0      0      0  \n",
       "2      0      0      0      0      0      0  \n",
       "3      0      0      0      0      0      0  \n",
       "4      0      0      0      0      0      0  \n",
       "\n",
       "[5 rows x 36074 columns]"
      ]
     },
     "execution_count": 53,
     "metadata": {},
     "output_type": "execute_result"
    }
   ],
   "source": [
    "X_test_BOW_bi.head()"
   ]
  },
  {
   "cell_type": "markdown",
   "id": "4455ed9b-7963-425a-a863-5c94a3b98619",
   "metadata": {},
   "source": [
    "## Построение моделей<a class=\"anchor\" id=\"modeling\"></a> "
   ]
  },
  {
   "cell_type": "markdown",
   "id": "32a4051e-4cc9-4bda-84e4-2863b9c2a00f",
   "metadata": {},
   "source": [
    "### На данных BOW<a class=\"anchor\" id=\"modeling_bow\"></a> "
   ]
  },
  {
   "cell_type": "code",
   "execution_count": 54,
   "id": "59f67dfe-52ea-4cf2-99f1-8be751ce53f0",
   "metadata": {},
   "outputs": [
    {
     "name": "stdout",
     "output_type": "stream",
     "text": [
      "[08:33:03] WARNING: ../src/learner.cc:1115: Starting in XGBoost 1.3.0, the default evaluation metric used with the objective 'binary:logistic' was changed from 'error' to 'logloss'. Explicitly set eval_metric if you'd like to restore the old behavior.\n",
      "CPU times: user 5min 3s, sys: 1.98 s, total: 5min 5s\n",
      "Wall time: 1min 5s\n"
     ]
    },
    {
     "data": {
      "text/html": [
       "<div>\n",
       "<style scoped>\n",
       "    .dataframe tbody tr th:only-of-type {\n",
       "        vertical-align: middle;\n",
       "    }\n",
       "\n",
       "    .dataframe tbody tr th {\n",
       "        vertical-align: top;\n",
       "    }\n",
       "\n",
       "    .dataframe thead th {\n",
       "        text-align: right;\n",
       "    }\n",
       "</style>\n",
       "<table border=\"1\" class=\"dataframe\">\n",
       "  <thead>\n",
       "    <tr style=\"text-align: right;\">\n",
       "      <th></th>\n",
       "      <th>model_name</th>\n",
       "      <th>f1_macro_train_bow</th>\n",
       "      <th>f1_macro_test_bow</th>\n",
       "      <th>f1_0_train_bow</th>\n",
       "      <th>f1_0_test_bow</th>\n",
       "      <th>f1_1_train_bow</th>\n",
       "      <th>f1_1_test_bow</th>\n",
       "    </tr>\n",
       "  </thead>\n",
       "  <tbody>\n",
       "    <tr>\n",
       "      <th>0</th>\n",
       "      <td>lr</td>\n",
       "      <td>0.977631</td>\n",
       "      <td>0.873254</td>\n",
       "      <td>0.978015</td>\n",
       "      <td>0.874355</td>\n",
       "      <td>0.977248</td>\n",
       "      <td>0.872154</td>\n",
       "    </tr>\n",
       "    <tr>\n",
       "      <th>1</th>\n",
       "      <td>sgd</td>\n",
       "      <td>0.781697</td>\n",
       "      <td>0.777536</td>\n",
       "      <td>0.790134</td>\n",
       "      <td>0.784874</td>\n",
       "      <td>0.773261</td>\n",
       "      <td>0.770197</td>\n",
       "    </tr>\n",
       "    <tr>\n",
       "      <th>2</th>\n",
       "      <td>knb</td>\n",
       "      <td>0.841484</td>\n",
       "      <td>0.766484</td>\n",
       "      <td>0.843549</td>\n",
       "      <td>0.765066</td>\n",
       "      <td>0.839419</td>\n",
       "      <td>0.767903</td>\n",
       "    </tr>\n",
       "    <tr>\n",
       "      <th>3</th>\n",
       "      <td>rf</td>\n",
       "      <td>1.000000</td>\n",
       "      <td>0.853821</td>\n",
       "      <td>1.000000</td>\n",
       "      <td>0.860927</td>\n",
       "      <td>1.000000</td>\n",
       "      <td>0.846715</td>\n",
       "    </tr>\n",
       "    <tr>\n",
       "      <th>4</th>\n",
       "      <td>xgb</td>\n",
       "      <td>0.882106</td>\n",
       "      <td>0.836419</td>\n",
       "      <td>0.889298</td>\n",
       "      <td>0.844371</td>\n",
       "      <td>0.874913</td>\n",
       "      <td>0.828467</td>\n",
       "    </tr>\n",
       "  </tbody>\n",
       "</table>\n",
       "</div>"
      ],
      "text/plain": [
       "  model_name  f1_macro_train_bow  f1_macro_test_bow  f1_0_train_bow  \\\n",
       "0         lr            0.977631           0.873254        0.978015   \n",
       "1        sgd            0.781697           0.777536        0.790134   \n",
       "2        knb            0.841484           0.766484        0.843549   \n",
       "3         rf            1.000000           0.853821        1.000000   \n",
       "4        xgb            0.882106           0.836419        0.889298   \n",
       "\n",
       "   f1_0_test_bow  f1_1_train_bow  f1_1_test_bow  \n",
       "0       0.874355        0.977248       0.872154  \n",
       "1       0.784874        0.773261       0.770197  \n",
       "2       0.765066        0.839419       0.767903  \n",
       "3       0.860927        1.000000       0.846715  \n",
       "4       0.844371        0.874913       0.828467  "
      ]
     },
     "execution_count": 54,
     "metadata": {},
     "output_type": "execute_result"
    }
   ],
   "source": [
    "%%time\n",
    "stata_BOW, models_BOW = run_experiment(X_train_BOW, X_test_BOW, y_train, y_test, vector='bow')\n",
    "stata_BOW"
   ]
  },
  {
   "cell_type": "markdown",
   "id": "f7699ea8-c4a9-4e34-8363-5d45e19be689",
   "metadata": {},
   "source": [
    "### На данных TF-IDF<a class=\"anchor\" id=\"modeling_tfidf\"></a> "
   ]
  },
  {
   "cell_type": "code",
   "execution_count": 55,
   "id": "b199c05b-34f6-474c-a0be-a9169c044c48",
   "metadata": {},
   "outputs": [
    {
     "name": "stdout",
     "output_type": "stream",
     "text": [
      "[08:34:11] WARNING: ../src/learner.cc:1115: Starting in XGBoost 1.3.0, the default evaluation metric used with the objective 'binary:logistic' was changed from 'error' to 'logloss'. Explicitly set eval_metric if you'd like to restore the old behavior.\n",
      "CPU times: user 5min 4s, sys: 2.34 s, total: 5min 6s\n",
      "Wall time: 1min 7s\n"
     ]
    },
    {
     "data": {
      "text/html": [
       "<div>\n",
       "<style scoped>\n",
       "    .dataframe tbody tr th:only-of-type {\n",
       "        vertical-align: middle;\n",
       "    }\n",
       "\n",
       "    .dataframe tbody tr th {\n",
       "        vertical-align: top;\n",
       "    }\n",
       "\n",
       "    .dataframe thead th {\n",
       "        text-align: right;\n",
       "    }\n",
       "</style>\n",
       "<table border=\"1\" class=\"dataframe\">\n",
       "  <thead>\n",
       "    <tr style=\"text-align: right;\">\n",
       "      <th></th>\n",
       "      <th>model_name</th>\n",
       "      <th>f1_macro_train_tfidf</th>\n",
       "      <th>f1_macro_test_tfidf</th>\n",
       "      <th>f1_0_train_tfidf</th>\n",
       "      <th>f1_0_test_tfidf</th>\n",
       "      <th>f1_1_train_tfidf</th>\n",
       "      <th>f1_1_test_tfidf</th>\n",
       "    </tr>\n",
       "  </thead>\n",
       "  <tbody>\n",
       "    <tr>\n",
       "      <th>0</th>\n",
       "      <td>lr</td>\n",
       "      <td>0.905011</td>\n",
       "      <td>0.851409</td>\n",
       "      <td>0.908290</td>\n",
       "      <td>0.856182</td>\n",
       "      <td>0.901732</td>\n",
       "      <td>0.846637</td>\n",
       "    </tr>\n",
       "    <tr>\n",
       "      <th>1</th>\n",
       "      <td>sgd</td>\n",
       "      <td>0.752214</td>\n",
       "      <td>0.760313</td>\n",
       "      <td>0.748179</td>\n",
       "      <td>0.755319</td>\n",
       "      <td>0.756249</td>\n",
       "      <td>0.765306</td>\n",
       "    </tr>\n",
       "    <tr>\n",
       "      <th>2</th>\n",
       "      <td>knb</td>\n",
       "      <td>0.832173</td>\n",
       "      <td>0.772322</td>\n",
       "      <td>0.840735</td>\n",
       "      <td>0.779832</td>\n",
       "      <td>0.823610</td>\n",
       "      <td>0.764811</td>\n",
       "    </tr>\n",
       "    <tr>\n",
       "      <th>3</th>\n",
       "      <td>rf</td>\n",
       "      <td>1.000000</td>\n",
       "      <td>0.841428</td>\n",
       "      <td>1.000000</td>\n",
       "      <td>0.851064</td>\n",
       "      <td>1.000000</td>\n",
       "      <td>0.831793</td>\n",
       "    </tr>\n",
       "    <tr>\n",
       "      <th>4</th>\n",
       "      <td>xgb</td>\n",
       "      <td>0.891954</td>\n",
       "      <td>0.832110</td>\n",
       "      <td>0.898194</td>\n",
       "      <td>0.839834</td>\n",
       "      <td>0.885714</td>\n",
       "      <td>0.824386</td>\n",
       "    </tr>\n",
       "  </tbody>\n",
       "</table>\n",
       "</div>"
      ],
      "text/plain": [
       "  model_name  f1_macro_train_tfidf  f1_macro_test_tfidf  f1_0_train_tfidf  \\\n",
       "0         lr              0.905011             0.851409          0.908290   \n",
       "1        sgd              0.752214             0.760313          0.748179   \n",
       "2        knb              0.832173             0.772322          0.840735   \n",
       "3         rf              1.000000             0.841428          1.000000   \n",
       "4        xgb              0.891954             0.832110          0.898194   \n",
       "\n",
       "   f1_0_test_tfidf  f1_1_train_tfidf  f1_1_test_tfidf  \n",
       "0         0.856182          0.901732         0.846637  \n",
       "1         0.755319          0.756249         0.765306  \n",
       "2         0.779832          0.823610         0.764811  \n",
       "3         0.851064          1.000000         0.831793  \n",
       "4         0.839834          0.885714         0.824386  "
      ]
     },
     "execution_count": 55,
     "metadata": {},
     "output_type": "execute_result"
    }
   ],
   "source": [
    "%%time\n",
    "stata_TFIDF, models_TFIDF = run_experiment(X_train_TFIDF, X_test_TFIDF, y_train, y_test, vector='tfidf')\n",
    "stata_TFIDF"
   ]
  },
  {
   "cell_type": "markdown",
   "id": "98477c16-cef3-458c-b541-610fbb58375b",
   "metadata": {},
   "source": [
    "### На данных BOW с биграммами<a class=\"anchor\" id=\"modeling_bow_bi\"></a> "
   ]
  },
  {
   "cell_type": "code",
   "execution_count": 56,
   "id": "4a7c5df6-22c6-4150-8f91-20dd736682ab",
   "metadata": {},
   "outputs": [
    {
     "name": "stdout",
     "output_type": "stream",
     "text": [
      "[08:36:31] WARNING: ../src/learner.cc:1115: Starting in XGBoost 1.3.0, the default evaluation metric used with the objective 'binary:logistic' was changed from 'error' to 'logloss'. Explicitly set eval_metric if you'd like to restore the old behavior.\n",
      "CPU times: user 16min 52s, sys: 4.26 s, total: 16min 56s\n",
      "Wall time: 3min 31s\n"
     ]
    },
    {
     "data": {
      "text/html": [
       "<div>\n",
       "<style scoped>\n",
       "    .dataframe tbody tr th:only-of-type {\n",
       "        vertical-align: middle;\n",
       "    }\n",
       "\n",
       "    .dataframe tbody tr th {\n",
       "        vertical-align: top;\n",
       "    }\n",
       "\n",
       "    .dataframe thead th {\n",
       "        text-align: right;\n",
       "    }\n",
       "</style>\n",
       "<table border=\"1\" class=\"dataframe\">\n",
       "  <thead>\n",
       "    <tr style=\"text-align: right;\">\n",
       "      <th></th>\n",
       "      <th>model_name</th>\n",
       "      <th>f1_macro_train_bow_bi</th>\n",
       "      <th>f1_macro_test_bow_bi</th>\n",
       "      <th>f1_0_train_bow_bi</th>\n",
       "      <th>f1_0_test_bow_bi</th>\n",
       "      <th>f1_1_train_bow_bi</th>\n",
       "      <th>f1_1_test_bow_bi</th>\n",
       "    </tr>\n",
       "  </thead>\n",
       "  <tbody>\n",
       "    <tr>\n",
       "      <th>0</th>\n",
       "      <td>lr</td>\n",
       "      <td>0.994137</td>\n",
       "      <td>0.875852</td>\n",
       "      <td>0.994200</td>\n",
       "      <td>0.877253</td>\n",
       "      <td>0.994075</td>\n",
       "      <td>0.874451</td>\n",
       "    </tr>\n",
       "    <tr>\n",
       "      <th>1</th>\n",
       "      <td>sgd</td>\n",
       "      <td>0.746056</td>\n",
       "      <td>0.766505</td>\n",
       "      <td>0.720695</td>\n",
       "      <td>0.746439</td>\n",
       "      <td>0.771417</td>\n",
       "      <td>0.786571</td>\n",
       "    </tr>\n",
       "    <tr>\n",
       "      <th>2</th>\n",
       "      <td>knb</td>\n",
       "      <td>0.828438</td>\n",
       "      <td>0.738671</td>\n",
       "      <td>0.831269</td>\n",
       "      <td>0.742074</td>\n",
       "      <td>0.825607</td>\n",
       "      <td>0.735268</td>\n",
       "    </tr>\n",
       "    <tr>\n",
       "      <th>3</th>\n",
       "      <td>rf</td>\n",
       "      <td>0.999783</td>\n",
       "      <td>0.845768</td>\n",
       "      <td>0.999784</td>\n",
       "      <td>0.855274</td>\n",
       "      <td>0.999782</td>\n",
       "      <td>0.836263</td>\n",
       "    </tr>\n",
       "    <tr>\n",
       "      <th>4</th>\n",
       "      <td>xgb</td>\n",
       "      <td>0.884506</td>\n",
       "      <td>0.837187</td>\n",
       "      <td>0.891527</td>\n",
       "      <td>0.846091</td>\n",
       "      <td>0.877485</td>\n",
       "      <td>0.828283</td>\n",
       "    </tr>\n",
       "  </tbody>\n",
       "</table>\n",
       "</div>"
      ],
      "text/plain": [
       "  model_name  f1_macro_train_bow_bi  f1_macro_test_bow_bi  f1_0_train_bow_bi  \\\n",
       "0         lr               0.994137              0.875852           0.994200   \n",
       "1        sgd               0.746056              0.766505           0.720695   \n",
       "2        knb               0.828438              0.738671           0.831269   \n",
       "3         rf               0.999783              0.845768           0.999784   \n",
       "4        xgb               0.884506              0.837187           0.891527   \n",
       "\n",
       "   f1_0_test_bow_bi  f1_1_train_bow_bi  f1_1_test_bow_bi  \n",
       "0          0.877253           0.994075          0.874451  \n",
       "1          0.746439           0.771417          0.786571  \n",
       "2          0.742074           0.825607          0.735268  \n",
       "3          0.855274           0.999782          0.836263  \n",
       "4          0.846091           0.877485          0.828283  "
      ]
     },
     "execution_count": 56,
     "metadata": {},
     "output_type": "execute_result"
    }
   ],
   "source": [
    "%%time\n",
    "stata_BOW_bi, models_BOW_bi = run_experiment(X_train_BOW_bi, X_test_BOW_bi, y_train, y_test, vector='bow_bi')\n",
    "stata_BOW_bi"
   ]
  },
  {
   "cell_type": "markdown",
   "id": "ddf73399-bb97-4fbb-9690-ee8db3192c42",
   "metadata": {},
   "source": [
    "### Объединение результатов, выбор лучшей модели<a class=\"anchor\" id=\"stata_combined\"></a> "
   ]
  },
  {
   "cell_type": "code",
   "execution_count": 57,
   "id": "a05ae5d6-5f3a-40a8-9623-2b3979487f75",
   "metadata": {},
   "outputs": [
    {
     "data": {
      "text/html": [
       "<div>\n",
       "<style scoped>\n",
       "    .dataframe tbody tr th:only-of-type {\n",
       "        vertical-align: middle;\n",
       "    }\n",
       "\n",
       "    .dataframe tbody tr th {\n",
       "        vertical-align: top;\n",
       "    }\n",
       "\n",
       "    .dataframe thead th {\n",
       "        text-align: right;\n",
       "    }\n",
       "</style>\n",
       "<table border=\"1\" class=\"dataframe\">\n",
       "  <thead>\n",
       "    <tr style=\"text-align: right;\">\n",
       "      <th></th>\n",
       "      <th>model_name</th>\n",
       "      <th>f1_macro_train_bow</th>\n",
       "      <th>f1_macro_test_bow</th>\n",
       "      <th>f1_0_train_bow</th>\n",
       "      <th>f1_0_test_bow</th>\n",
       "      <th>f1_1_train_bow</th>\n",
       "      <th>f1_1_test_bow</th>\n",
       "      <th>f1_macro_train_tfidf</th>\n",
       "      <th>f1_macro_test_tfidf</th>\n",
       "      <th>f1_0_train_tfidf</th>\n",
       "      <th>f1_0_test_tfidf</th>\n",
       "      <th>f1_1_train_tfidf</th>\n",
       "      <th>f1_1_test_tfidf</th>\n",
       "      <th>f1_macro_train_bow_bi</th>\n",
       "      <th>f1_macro_test_bow_bi</th>\n",
       "      <th>f1_0_train_bow_bi</th>\n",
       "      <th>f1_0_test_bow_bi</th>\n",
       "      <th>f1_1_train_bow_bi</th>\n",
       "      <th>f1_1_test_bow_bi</th>\n",
       "    </tr>\n",
       "  </thead>\n",
       "  <tbody>\n",
       "    <tr>\n",
       "      <th>0</th>\n",
       "      <td>lr</td>\n",
       "      <td>0.977631</td>\n",
       "      <td>0.873254</td>\n",
       "      <td>0.978015</td>\n",
       "      <td>0.874355</td>\n",
       "      <td>0.977248</td>\n",
       "      <td>0.872154</td>\n",
       "      <td>0.905011</td>\n",
       "      <td>0.851409</td>\n",
       "      <td>0.908290</td>\n",
       "      <td>0.856182</td>\n",
       "      <td>0.901732</td>\n",
       "      <td>0.846637</td>\n",
       "      <td>0.994137</td>\n",
       "      <td>0.875852</td>\n",
       "      <td>0.994200</td>\n",
       "      <td>0.877253</td>\n",
       "      <td>0.994075</td>\n",
       "      <td>0.874451</td>\n",
       "    </tr>\n",
       "    <tr>\n",
       "      <th>1</th>\n",
       "      <td>sgd</td>\n",
       "      <td>0.781697</td>\n",
       "      <td>0.777536</td>\n",
       "      <td>0.790134</td>\n",
       "      <td>0.784874</td>\n",
       "      <td>0.773261</td>\n",
       "      <td>0.770197</td>\n",
       "      <td>0.752214</td>\n",
       "      <td>0.760313</td>\n",
       "      <td>0.748179</td>\n",
       "      <td>0.755319</td>\n",
       "      <td>0.756249</td>\n",
       "      <td>0.765306</td>\n",
       "      <td>0.746056</td>\n",
       "      <td>0.766505</td>\n",
       "      <td>0.720695</td>\n",
       "      <td>0.746439</td>\n",
       "      <td>0.771417</td>\n",
       "      <td>0.786571</td>\n",
       "    </tr>\n",
       "    <tr>\n",
       "      <th>2</th>\n",
       "      <td>knb</td>\n",
       "      <td>0.841484</td>\n",
       "      <td>0.766484</td>\n",
       "      <td>0.843549</td>\n",
       "      <td>0.765066</td>\n",
       "      <td>0.839419</td>\n",
       "      <td>0.767903</td>\n",
       "      <td>0.832173</td>\n",
       "      <td>0.772322</td>\n",
       "      <td>0.840735</td>\n",
       "      <td>0.779832</td>\n",
       "      <td>0.823610</td>\n",
       "      <td>0.764811</td>\n",
       "      <td>0.828438</td>\n",
       "      <td>0.738671</td>\n",
       "      <td>0.831269</td>\n",
       "      <td>0.742074</td>\n",
       "      <td>0.825607</td>\n",
       "      <td>0.735268</td>\n",
       "    </tr>\n",
       "    <tr>\n",
       "      <th>3</th>\n",
       "      <td>rf</td>\n",
       "      <td>1.000000</td>\n",
       "      <td>0.853821</td>\n",
       "      <td>1.000000</td>\n",
       "      <td>0.860927</td>\n",
       "      <td>1.000000</td>\n",
       "      <td>0.846715</td>\n",
       "      <td>1.000000</td>\n",
       "      <td>0.841428</td>\n",
       "      <td>1.000000</td>\n",
       "      <td>0.851064</td>\n",
       "      <td>1.000000</td>\n",
       "      <td>0.831793</td>\n",
       "      <td>0.999783</td>\n",
       "      <td>0.845768</td>\n",
       "      <td>0.999784</td>\n",
       "      <td>0.855274</td>\n",
       "      <td>0.999782</td>\n",
       "      <td>0.836263</td>\n",
       "    </tr>\n",
       "    <tr>\n",
       "      <th>4</th>\n",
       "      <td>xgb</td>\n",
       "      <td>0.882106</td>\n",
       "      <td>0.836419</td>\n",
       "      <td>0.889298</td>\n",
       "      <td>0.844371</td>\n",
       "      <td>0.874913</td>\n",
       "      <td>0.828467</td>\n",
       "      <td>0.891954</td>\n",
       "      <td>0.832110</td>\n",
       "      <td>0.898194</td>\n",
       "      <td>0.839834</td>\n",
       "      <td>0.885714</td>\n",
       "      <td>0.824386</td>\n",
       "      <td>0.884506</td>\n",
       "      <td>0.837187</td>\n",
       "      <td>0.891527</td>\n",
       "      <td>0.846091</td>\n",
       "      <td>0.877485</td>\n",
       "      <td>0.828283</td>\n",
       "    </tr>\n",
       "  </tbody>\n",
       "</table>\n",
       "</div>"
      ],
      "text/plain": [
       "  model_name  f1_macro_train_bow  f1_macro_test_bow  f1_0_train_bow  \\\n",
       "0         lr            0.977631           0.873254        0.978015   \n",
       "1        sgd            0.781697           0.777536        0.790134   \n",
       "2        knb            0.841484           0.766484        0.843549   \n",
       "3         rf            1.000000           0.853821        1.000000   \n",
       "4        xgb            0.882106           0.836419        0.889298   \n",
       "\n",
       "   f1_0_test_bow  f1_1_train_bow  f1_1_test_bow  f1_macro_train_tfidf  \\\n",
       "0       0.874355        0.977248       0.872154              0.905011   \n",
       "1       0.784874        0.773261       0.770197              0.752214   \n",
       "2       0.765066        0.839419       0.767903              0.832173   \n",
       "3       0.860927        1.000000       0.846715              1.000000   \n",
       "4       0.844371        0.874913       0.828467              0.891954   \n",
       "\n",
       "   f1_macro_test_tfidf  f1_0_train_tfidf  f1_0_test_tfidf  f1_1_train_tfidf  \\\n",
       "0             0.851409          0.908290         0.856182          0.901732   \n",
       "1             0.760313          0.748179         0.755319          0.756249   \n",
       "2             0.772322          0.840735         0.779832          0.823610   \n",
       "3             0.841428          1.000000         0.851064          1.000000   \n",
       "4             0.832110          0.898194         0.839834          0.885714   \n",
       "\n",
       "   f1_1_test_tfidf  f1_macro_train_bow_bi  f1_macro_test_bow_bi  \\\n",
       "0         0.846637               0.994137              0.875852   \n",
       "1         0.765306               0.746056              0.766505   \n",
       "2         0.764811               0.828438              0.738671   \n",
       "3         0.831793               0.999783              0.845768   \n",
       "4         0.824386               0.884506              0.837187   \n",
       "\n",
       "   f1_0_train_bow_bi  f1_0_test_bow_bi  f1_1_train_bow_bi  f1_1_test_bow_bi  \n",
       "0           0.994200          0.877253           0.994075          0.874451  \n",
       "1           0.720695          0.746439           0.771417          0.786571  \n",
       "2           0.831269          0.742074           0.825607          0.735268  \n",
       "3           0.999784          0.855274           0.999782          0.836263  \n",
       "4           0.891527          0.846091           0.877485          0.828283  "
      ]
     },
     "execution_count": 57,
     "metadata": {},
     "output_type": "execute_result"
    }
   ],
   "source": [
    "stata_combined = stata_BOW.merge(stata_TFIDF, on='model_name').merge(stata_BOW_bi, on='model_name')\n",
    "\n",
    "stata_combined.head()"
   ]
  },
  {
   "cell_type": "code",
   "execution_count": 58,
   "id": "3abdbe8d-dc0e-492a-83e9-2e99a21ac333",
   "metadata": {},
   "outputs": [
    {
     "data": {
      "text/html": [
       "<div>\n",
       "<style scoped>\n",
       "    .dataframe tbody tr th:only-of-type {\n",
       "        vertical-align: middle;\n",
       "    }\n",
       "\n",
       "    .dataframe tbody tr th {\n",
       "        vertical-align: top;\n",
       "    }\n",
       "\n",
       "    .dataframe thead th {\n",
       "        text-align: right;\n",
       "    }\n",
       "</style>\n",
       "<table border=\"1\" class=\"dataframe\">\n",
       "  <thead>\n",
       "    <tr style=\"text-align: right;\">\n",
       "      <th></th>\n",
       "      <th>f1_macro_test_bow</th>\n",
       "      <th>f1_macro_test_tfidf</th>\n",
       "      <th>f1_macro_test_bow_bi</th>\n",
       "      <th>f1_0_test_bow</th>\n",
       "      <th>f1_0_test_tfidf</th>\n",
       "      <th>f1_0_test_bow_bi</th>\n",
       "      <th>f1_1_test_bow</th>\n",
       "      <th>f1_1_test_tfidf</th>\n",
       "      <th>f1_1_test_bow_bi</th>\n",
       "    </tr>\n",
       "  </thead>\n",
       "  <tbody>\n",
       "    <tr>\n",
       "      <th>count</th>\n",
       "      <td>5.000000</td>\n",
       "      <td>5.000000</td>\n",
       "      <td>5.000000</td>\n",
       "      <td>5.000000</td>\n",
       "      <td>5.000000</td>\n",
       "      <td>5.000000</td>\n",
       "      <td>5.000000</td>\n",
       "      <td>5.000000</td>\n",
       "      <td>5.000000</td>\n",
       "    </tr>\n",
       "    <tr>\n",
       "      <th>mean</th>\n",
       "      <td>0.821503</td>\n",
       "      <td>0.811516</td>\n",
       "      <td>0.812797</td>\n",
       "      <td>0.825918</td>\n",
       "      <td>0.816446</td>\n",
       "      <td>0.813426</td>\n",
       "      <td>0.817087</td>\n",
       "      <td>0.806587</td>\n",
       "      <td>0.812167</td>\n",
       "    </tr>\n",
       "    <tr>\n",
       "      <th>std</th>\n",
       "      <td>0.047184</td>\n",
       "      <td>0.042037</td>\n",
       "      <td>0.057653</td>\n",
       "      <td>0.048218</td>\n",
       "      <td>0.045830</td>\n",
       "      <td>0.064169</td>\n",
       "      <td>0.046523</td>\n",
       "      <td>0.038747</td>\n",
       "      <td>0.053123</td>\n",
       "    </tr>\n",
       "    <tr>\n",
       "      <th>min</th>\n",
       "      <td>0.766484</td>\n",
       "      <td>0.760313</td>\n",
       "      <td>0.738671</td>\n",
       "      <td>0.765066</td>\n",
       "      <td>0.755319</td>\n",
       "      <td>0.742074</td>\n",
       "      <td>0.767903</td>\n",
       "      <td>0.764811</td>\n",
       "      <td>0.735268</td>\n",
       "    </tr>\n",
       "    <tr>\n",
       "      <th>25%</th>\n",
       "      <td>0.777536</td>\n",
       "      <td>0.772322</td>\n",
       "      <td>0.766505</td>\n",
       "      <td>0.784874</td>\n",
       "      <td>0.779832</td>\n",
       "      <td>0.746439</td>\n",
       "      <td>0.770197</td>\n",
       "      <td>0.765306</td>\n",
       "      <td>0.786571</td>\n",
       "    </tr>\n",
       "    <tr>\n",
       "      <th>50%</th>\n",
       "      <td>0.836419</td>\n",
       "      <td>0.832110</td>\n",
       "      <td>0.837187</td>\n",
       "      <td>0.844371</td>\n",
       "      <td>0.839834</td>\n",
       "      <td>0.846091</td>\n",
       "      <td>0.828467</td>\n",
       "      <td>0.824386</td>\n",
       "      <td>0.828283</td>\n",
       "    </tr>\n",
       "    <tr>\n",
       "      <th>75%</th>\n",
       "      <td>0.853821</td>\n",
       "      <td>0.841428</td>\n",
       "      <td>0.845768</td>\n",
       "      <td>0.860927</td>\n",
       "      <td>0.851064</td>\n",
       "      <td>0.855274</td>\n",
       "      <td>0.846715</td>\n",
       "      <td>0.831793</td>\n",
       "      <td>0.836263</td>\n",
       "    </tr>\n",
       "    <tr>\n",
       "      <th>max</th>\n",
       "      <td>0.873254</td>\n",
       "      <td>0.851409</td>\n",
       "      <td>0.875852</td>\n",
       "      <td>0.874355</td>\n",
       "      <td>0.856182</td>\n",
       "      <td>0.877253</td>\n",
       "      <td>0.872154</td>\n",
       "      <td>0.846637</td>\n",
       "      <td>0.874451</td>\n",
       "    </tr>\n",
       "  </tbody>\n",
       "</table>\n",
       "</div>"
      ],
      "text/plain": [
       "       f1_macro_test_bow  f1_macro_test_tfidf  f1_macro_test_bow_bi  \\\n",
       "count           5.000000             5.000000              5.000000   \n",
       "mean            0.821503             0.811516              0.812797   \n",
       "std             0.047184             0.042037              0.057653   \n",
       "min             0.766484             0.760313              0.738671   \n",
       "25%             0.777536             0.772322              0.766505   \n",
       "50%             0.836419             0.832110              0.837187   \n",
       "75%             0.853821             0.841428              0.845768   \n",
       "max             0.873254             0.851409              0.875852   \n",
       "\n",
       "       f1_0_test_bow  f1_0_test_tfidf  f1_0_test_bow_bi  f1_1_test_bow  \\\n",
       "count       5.000000         5.000000          5.000000       5.000000   \n",
       "mean        0.825918         0.816446          0.813426       0.817087   \n",
       "std         0.048218         0.045830          0.064169       0.046523   \n",
       "min         0.765066         0.755319          0.742074       0.767903   \n",
       "25%         0.784874         0.779832          0.746439       0.770197   \n",
       "50%         0.844371         0.839834          0.846091       0.828467   \n",
       "75%         0.860927         0.851064          0.855274       0.846715   \n",
       "max         0.874355         0.856182          0.877253       0.872154   \n",
       "\n",
       "       f1_1_test_tfidf  f1_1_test_bow_bi  \n",
       "count         5.000000          5.000000  \n",
       "mean          0.806587          0.812167  \n",
       "std           0.038747          0.053123  \n",
       "min           0.764811          0.735268  \n",
       "25%           0.765306          0.786571  \n",
       "50%           0.824386          0.828283  \n",
       "75%           0.831793          0.836263  \n",
       "max           0.846637          0.874451  "
      ]
     },
     "execution_count": 58,
     "metadata": {},
     "output_type": "execute_result"
    }
   ],
   "source": [
    "stata_combined.describe()[\n",
    "    ['f1_macro_test_bow', 'f1_macro_test_tfidf', 'f1_macro_test_bow_bi',     \n",
    "     'f1_0_test_bow', 'f1_0_test_tfidf', 'f1_0_test_bow_bi',\n",
    "     'f1_1_test_bow', 'f1_1_test_tfidf', 'f1_1_test_bow_bi'\n",
    "     ]\n",
    "]"
   ]
  },
  {
   "cell_type": "code",
   "execution_count": 59,
   "id": "0255d884-fa1a-4b4d-8c4d-85210fba5218",
   "metadata": {},
   "outputs": [
    {
     "data": {
      "text/plain": [
       "model_name                     lr\n",
       "f1_macro_train_bow       0.977631\n",
       "f1_macro_test_bow        0.873254\n",
       "f1_0_train_bow           0.978015\n",
       "f1_0_test_bow            0.874355\n",
       "f1_1_train_bow           0.977248\n",
       "f1_1_test_bow            0.872154\n",
       "f1_macro_train_tfidf     0.905011\n",
       "f1_macro_test_tfidf      0.851409\n",
       "f1_0_train_tfidf          0.90829\n",
       "f1_0_test_tfidf          0.856182\n",
       "f1_1_train_tfidf         0.901732\n",
       "f1_1_test_tfidf          0.846637\n",
       "f1_macro_train_bow_bi    0.994137\n",
       "f1_macro_test_bow_bi     0.875852\n",
       "f1_0_train_bow_bi          0.9942\n",
       "f1_0_test_bow_bi         0.877253\n",
       "f1_1_train_bow_bi        0.994075\n",
       "f1_1_test_bow_bi         0.874451\n",
       "Name: 0, dtype: object"
      ]
     },
     "execution_count": 59,
     "metadata": {},
     "output_type": "execute_result"
    }
   ],
   "source": [
    "stata_combined.sort_values('f1_0_test_bow_bi', ascending=False).iloc[0]"
   ]
  },
  {
   "cell_type": "markdown",
   "id": "19446de0-e74c-4e6a-87ae-6b9c9b2043ec",
   "metadata": {},
   "source": [
    "**Вывод**:  \n",
    "По итогам сравнения, лучший результат показала модель LogisticRegression на данных BOW c биграммами. В дальнейшем проведем для нее отбор фичей и подбор гиперпараметров."
   ]
  },
  {
   "cell_type": "code",
   "execution_count": 60,
   "id": "685d22fa-30b7-4a22-aef5-b74db344f0f5",
   "metadata": {},
   "outputs": [
    {
     "name": "stdout",
     "output_type": "stream",
     "text": [
      "TRAIN\n",
      "\n",
      "              precision    recall  f1-score   support\n",
      "\n",
      "           0       0.99      1.00      0.99      2317\n",
      "           1       1.00      0.99      0.99      2289\n",
      "\n",
      "    accuracy                           0.99      4606\n",
      "   macro avg       0.99      0.99      0.99      4606\n",
      "weighted avg       0.99      0.99      0.99      4606\n",
      "\n",
      "TEST\n",
      "\n",
      "              precision    recall  f1-score   support\n",
      "\n",
      "           0       0.85      0.91      0.88       562\n",
      "           1       0.91      0.84      0.87       590\n",
      "\n",
      "    accuracy                           0.88      1152\n",
      "   macro avg       0.88      0.88      0.88      1152\n",
      "weighted avg       0.88      0.88      0.88      1152\n",
      "\n",
      "CONFUSION MATRIX\n",
      "\n",
      "col_0      0    1\n",
      "is_fake          \n",
      "0        511   51\n",
      "1         92  498\n",
      "CPU times: user 1.6 s, sys: 116 ms, total: 1.72 s\n",
      "Wall time: 699 ms\n"
     ]
    }
   ],
   "source": [
    "%%time\n",
    "\n",
    "model = models_BOW_bi['lr']\n",
    "\n",
    "evaluate_preds(model, X_train_BOW_bi, X_test_BOW_bi, y_train, y_test)"
   ]
  },
  {
   "cell_type": "markdown",
   "id": "f59214f9-346e-4fb1-9569-a67cfe55d8a1",
   "metadata": {},
   "source": [
    "## Подбор гиперпараметров и отбор фичей<a class=\"anchor\" id=\"selection_hyperparameters_and_features\"></a>"
   ]
  },
  {
   "cell_type": "markdown",
   "id": "969364d3-a254-42a4-8eb8-098c6a6c86f9",
   "metadata": {},
   "source": [
    "### Отбор фичей<a class=\"anchor\" id=\"selection_features\"></a>"
   ]
  },
  {
   "cell_type": "code",
   "execution_count": 61,
   "id": "4a8ad22c-8021-47e4-b35a-3612cc53fb2c",
   "metadata": {},
   "outputs": [
    {
     "name": "stdout",
     "output_type": "stream",
     "text": [
      "\n",
      "New shapes:  (4606, 36074) (1152, 36074)\n",
      "\n",
      "New shapes:  (4606, 14742) (1152, 14742)\n"
     ]
    }
   ],
   "source": [
    "lsvc = LinearSVC(C=0.5) # C=0.5\n",
    "selective_model = SelectFromModel(lsvc, max_features = None)\n",
    "\n",
    "X_train_BOW_bi_select_features = selective_model.fit_transform(X_train_BOW_bi, y_train)\n",
    "X_test_BOW_bi_select_features = selective_model.transform(X_test_BOW_bi)\n",
    "\n",
    "print('\\nNew shapes: ', X_train_BOW_bi.shape, X_test_BOW_bi.shape)\n",
    "print('\\nNew shapes: ', X_train_BOW_bi_select_features.shape, X_test_BOW_bi_select_features.shape)"
   ]
  },
  {
   "cell_type": "code",
   "execution_count": 62,
   "id": "ec8c1a17-395c-4f78-87b3-2ea490fe538e",
   "metadata": {},
   "outputs": [
    {
     "name": "stdout",
     "output_type": "stream",
     "text": [
      "LogisticRegression(random_state=42) \n",
      " Cross-validate: [0.85574837 0.86427796 0.84473398 0.87839305 0.84581976]\n"
     ]
    }
   ],
   "source": [
    "clf = models_BOW_bi['lr']\n",
    "scores = cross_val_score(clf, X_train_BOW_bi_select_features, y_train, cv=5, scoring='accuracy')\n",
    "print(clf, '\\n Cross-validate:', scores)"
   ]
  },
  {
   "cell_type": "code",
   "execution_count": 63,
   "id": "1d259d2d-58c2-4498-99ee-9d3d53f2030f",
   "metadata": {},
   "outputs": [
    {
     "name": "stdout",
     "output_type": "stream",
     "text": [
      "TRAIN\n",
      "\n",
      "              precision    recall  f1-score   support\n",
      "\n",
      "           0       1.00      1.00      1.00      2317\n",
      "           1       1.00      1.00      1.00      2289\n",
      "\n",
      "    accuracy                           1.00      4606\n",
      "   macro avg       1.00      1.00      1.00      4606\n",
      "weighted avg       1.00      1.00      1.00      4606\n",
      "\n",
      "TEST\n",
      "\n",
      "              precision    recall  f1-score   support\n",
      "\n",
      "           0       0.82      0.88      0.85       562\n",
      "           1       0.88      0.82      0.85       590\n",
      "\n",
      "    accuracy                           0.85      1152\n",
      "   macro avg       0.85      0.85      0.85      1152\n",
      "weighted avg       0.85      0.85      0.85      1152\n",
      "\n",
      "CONFUSION MATRIX\n",
      "\n",
      "col_0      0    1\n",
      "is_fake          \n",
      "0        494   68\n",
      "1        108  482\n",
      "CPU times: user 12.9 s, sys: 20.7 ms, total: 13 s\n",
      "Wall time: 3.28 s\n"
     ]
    }
   ],
   "source": [
    "%%time\n",
    "\n",
    "# обучаем классификатор LogisticRegression\n",
    "clf = clf.fit(X_train_BOW_bi_select_features, y_train)\n",
    "\n",
    "# вычисляем предсказания\n",
    "evaluate_preds(clf, X_train_BOW_bi_select_features, X_test_BOW_bi_select_features, y_train, y_test)"
   ]
  },
  {
   "cell_type": "markdown",
   "id": "a77e9c5a-d25f-4686-b4e9-3cbb03e778bf",
   "metadata": {},
   "source": [
    "**Вывод:** Точность модели уменьшилась."
   ]
  },
  {
   "cell_type": "markdown",
   "id": "e87cc433-0148-4512-8609-ba03cc7ef3dc",
   "metadata": {},
   "source": [
    "### Подбор оптимального размера выборки, кривая обучения<a class=\"anchor\" id=\"learning_curve\"></a>"
   ]
  },
  {
   "cell_type": "code",
   "execution_count": 64,
   "id": "d1bcb65d-f51b-4fc4-bfcb-7150663c56d2",
   "metadata": {},
   "outputs": [
    {
     "data": {
      "image/png": "[encoded data removed]",
      "text/plain": [
       "<Figure size 1080x576 with 1 Axes>"
      ]
     },
     "metadata": {},
     "output_type": "display_data"
    },
    {
     "name": "stdout",
     "output_type": "stream",
     "text": [
      "CPU times: user 599 ms, sys: 295 ms, total: 895 ms\n",
      "Wall time: 18.2 s\n"
     ]
    }
   ],
   "source": [
    "%%time\n",
    "show_learning_curve_plot(clf, X_train_BOW_bi_select_features, y_train)"
   ]
  },
  {
   "cell_type": "markdown",
   "id": "33824f55-b6ee-4b3a-80ab-a70cbf9bccf8",
   "metadata": {},
   "source": [
    "**Вывод:**  \n",
    "На всём протяжении кривые сближаются, поэтому обрезать выборку нет необходимости."
   ]
  },
  {
   "cell_type": "markdown",
   "id": "933e2e7a-fbb6-4f1b-8ef6-be9451fa0d64",
   "metadata": {
    "tags": []
   },
   "source": [
    "### Подбор гиперпараметров<a class=\"anchor\" id=\"selection_hyperparameters\"></a>"
   ]
  },
  {
   "cell_type": "code",
   "execution_count": 65,
   "id": "94322d33-6eec-4a1e-bc95-4756b0818876",
   "metadata": {
    "tags": []
   },
   "outputs": [
    {
     "name": "stdout",
     "output_type": "stream",
     "text": [
      "tuner hyperparameters: (best parameters)  {'C': 1000.0, 'max_iter': 150, 'penalty': 'l2', 'solver': 'sag'}\n",
      "accuracy:  0.8666958719302089\n",
      "CPU times: user 3h 17min 53s, sys: 1min 7s, total: 3h 19min 1s\n",
      "Wall time: 2h 55min 44s\n"
     ]
    }
   ],
   "source": [
    "# %%time \n",
    "\n",
    "# grid = {\n",
    "#     'max_iter':[100, 150, 200],                                       \n",
    "#     'C':np.logspace(-3, 3, 4),\n",
    "#     'penalty':['l1', 'l2'],\n",
    "#     'solver':['newton-cg', 'lbfgs', 'liblinear', 'sag', 'saga']\n",
    "#     }\n",
    "\n",
    "# clf=LogisticRegression()\n",
    "# logreg_cv=GridSearchCV(clf, grid, cv=5)\n",
    "# logreg_cv.fit(X_train_BOW_bi_select_features, y_train)\n",
    "\n",
    "# print('tuner hyperparameters: (best parameters) ', logreg_cv.best_params_)\n",
    "# print('accuracy: ', logreg_cv.best_score_)\n",
    "# # Ответ:\n",
    "# # tuner hyperparameters: (best parameters)  {'C': 1000.0, 'max_iter': 150, 'penalty': 'l2', 'solver': 'sag'}\n",
    "# # accuracy:  0.8666958719302089\n",
    "# # CPU times: user 3h 17min 53s, sys: 1min 7s, total: 3h 19min 1s\n",
    "# # Wall time: 2h 55min 44s"
   ]
  },
  {
   "cell_type": "code",
   "execution_count": 66,
   "id": "bb17aee2-9c9c-4d2e-92f9-c78edb015abb",
   "metadata": {
    "tags": []
   },
   "outputs": [
    {
     "data": {
      "text/plain": [
       "{'C': 1000.0, 'max_iter': 150, 'penalty': 'l2', 'solver': 'sag'}"
      ]
     },
     "execution_count": 66,
     "metadata": {},
     "output_type": "execute_result"
    }
   ],
   "source": [
    "# logreg_cv.best_params_\n",
    "# # {'C': 1000.0, 'max_iter': 150, 'penalty': 'l2', 'solver': 'sag'}"
   ]
  },
  {
   "cell_type": "code",
   "execution_count": 67,
   "id": "c52ab123-3d30-41e9-ae6b-2fc6ecc0af68",
   "metadata": {},
   "outputs": [],
   "source": [
    "BEST_PARAMS={\n",
    "    'C': 1000.0,\n",
    "    'max_iter': 10000,\n",
    "    'penalty': 'l2',\n",
    "    'solver': 'liblinear',\n",
    "    'n_jobs': -1,\n",
    "    'random_state': RANDOM_STATE\n",
    "    }"
   ]
  },
  {
   "cell_type": "code",
   "execution_count": 68,
   "id": "ff66ef45-851f-436d-bd65-e854c9afb3d5",
   "metadata": {},
   "outputs": [
    {
     "name": "stdout",
     "output_type": "stream",
     "text": [
      "TRAIN\n",
      "\n",
      "              precision    recall  f1-score   support\n",
      "\n",
      "           0       1.00      1.00      1.00      2317\n",
      "           1       1.00      1.00      1.00      2289\n",
      "\n",
      "    accuracy                           1.00      4606\n",
      "   macro avg       1.00      1.00      1.00      4606\n",
      "weighted avg       1.00      1.00      1.00      4606\n",
      "\n",
      "TEST\n",
      "\n",
      "              precision    recall  f1-score   support\n",
      "\n",
      "           0       0.85      0.92      0.88       562\n",
      "           1       0.91      0.85      0.88       590\n",
      "\n",
      "    accuracy                           0.88      1152\n",
      "   macro avg       0.88      0.88      0.88      1152\n",
      "weighted avg       0.88      0.88      0.88      1152\n",
      "\n",
      "CONFUSION MATRIX\n",
      "\n",
      "col_0      0    1\n",
      "is_fake          \n",
      "0        515   47\n",
      "1         90  500\n",
      "CPU times: user 3.24 s, sys: 348 ms, total: 3.58 s\n",
      "Wall time: 2.16 s\n"
     ]
    }
   ],
   "source": [
    "%%time\n",
    "\n",
    "# обучаем классификатор LogisticRegression\n",
    "model_bp = LogisticRegression(**BEST_PARAMS).fit(X_train_BOW_bi, y_train)\n",
    "\n",
    "# вычисляем предсказания\n",
    "evaluate_preds(model_bp, X_train_BOW_bi, X_test_BOW_bi, y_train, y_test)"
   ]
  },
  {
   "cell_type": "markdown",
   "id": "42c7c2f6-ee15-4aa3-ac7e-c69ed855dbf1",
   "metadata": {},
   "source": [
    "**Вывод:**\n",
    "Уменьшение числа фичей принесло отрицательный результат. Точность упала на 0,03. Если бы, это повлекло за собой прирост в скорости, то, наверное, на это можно было бы пойти.  \n",
    "Однако, за счёт подбора лучших параметров, получилось добиться уменьшения скорости работы модели с 12,5с до 2,2с. При этом количество фичей сохранено."
   ]
  },
  {
   "cell_type": "markdown",
   "id": "dc82a028-97e9-4862-ab28-fe7b87b81998",
   "metadata": {
    "tags": []
   },
   "source": [
    "###  Построение финальной модели <a class=\"anchor\" id=\"final_model\"></a>"
   ]
  },
  {
   "cell_type": "code",
   "execution_count": 69,
   "id": "65859674-5074-45a1-9287-8d90b8d8c367",
   "metadata": {},
   "outputs": [
    {
     "name": "stdout",
     "output_type": "stream",
     "text": [
      "TRAIN\n",
      "\n",
      "              precision    recall  f1-score   support\n",
      "\n",
      "           0       1.00      1.00      1.00      2317\n",
      "           1       1.00      1.00      1.00      2289\n",
      "\n",
      "    accuracy                           1.00      4606\n",
      "   macro avg       1.00      1.00      1.00      4606\n",
      "weighted avg       1.00      1.00      1.00      4606\n",
      "\n",
      "TEST\n",
      "\n",
      "              precision    recall  f1-score   support\n",
      "\n",
      "           0       0.85      0.92      0.88       562\n",
      "           1       0.91      0.85      0.88       590\n",
      "\n",
      "    accuracy                           0.88      1152\n",
      "   macro avg       0.88      0.88      0.88      1152\n",
      "weighted avg       0.88      0.88      0.88      1152\n",
      "\n",
      "CONFUSION MATRIX\n",
      "\n",
      "col_0      0    1\n",
      "is_fake          \n",
      "0        515   47\n",
      "1         90  500\n",
      "CPU times: user 1.78 s, sys: 128 ms, total: 1.91 s\n",
      "Wall time: 644 ms\n"
     ]
    }
   ],
   "source": [
    "%%time\n",
    "\n",
    "# обучаем классификатор LogisticRegression\n",
    "final_model = model_bp\n",
    "\n",
    "# вычисляем предсказания\n",
    "evaluate_preds(model_bp, X_train_BOW_bi, X_test_BOW_bi, y_train, y_test)"
   ]
  },
  {
   "cell_type": "markdown",
   "id": "8e12321d-d760-4d9d-9d15-d0404549e81b",
   "metadata": {},
   "source": [
    "### Сохранение финальной модели<a class=\"anchor\" id=\"final_model_saving\"></a>"
   ]
  },
  {
   "cell_type": "code",
   "execution_count": 70,
   "id": "2755b98e-df79-4d96-973a-24b575edd615",
   "metadata": {},
   "outputs": [],
   "source": [
    "with open(MODEL_FILE_PATH, 'wb') as file:\n",
    "    pickle.dump(final_model, file)"
   ]
  },
  {
   "cell_type": "markdown",
   "id": "39e16186-3746-4174-aba5-e5022d4a5e81",
   "metadata": {},
   "source": [
    "## Прогнозирование на тестовом датасете<a class=\"anchor\" id=\"forecasting_test_dataset\"></a>"
   ]
  },
  {
   "cell_type": "markdown",
   "id": "6d2a9c92-a7a8-4170-9fc3-e122229cbd42",
   "metadata": {},
   "source": [
    "### Подготовка тестовых данных<a class=\"anchor\" id=\"test_dataset_processing\"></a>"
   ]
  },
  {
   "cell_type": "code",
   "execution_count": 87,
   "id": "0472a3b8-443f-4b83-9b3c-127af77a76d5",
   "metadata": {},
   "outputs": [
    {
     "name": "stdout",
     "output_type": "stream",
     "text": [
      "CPU times: user 28 s, sys: 1.24 s, total: 29.2 s\n",
      "Wall time: 4min 17s\n"
     ]
    }
   ],
   "source": [
    "%%time\n",
    "\n",
    "# Проверка орфографии\n",
    "df_test['title'] = df_test['title'].apply(get_spelling_check_text)"
   ]
  },
  {
   "cell_type": "code",
   "execution_count": 88,
   "id": "0a2aed2a-eddb-49ca-b293-fad5156f7299",
   "metadata": {},
   "outputs": [],
   "source": [
    "df_test.to_csv(PRED_ORTHO_DATASET_PATH, index=False, encoding='utf-8')"
   ]
  },
  {
   "cell_type": "code",
   "execution_count": 89,
   "id": "b78c4b75-0501-4fd0-b7c6-f17c10c66514",
   "metadata": {},
   "outputs": [],
   "source": [
    "df_test = pd.read_csv(PRED_ORTHO_DATASET_PATH)"
   ]
  },
  {
   "cell_type": "code",
   "execution_count": 90,
   "id": "0c3574ab-dbe2-42e6-9d1a-c618dea97187",
   "metadata": {},
   "outputs": [],
   "source": [
    "# df_test.head()"
   ]
  },
  {
   "cell_type": "code",
   "execution_count": 91,
   "id": "bb21fd3f-7f50-4cec-a35c-e1fd3604ea93",
   "metadata": {
    "tags": []
   },
   "outputs": [
    {
     "name": "stdout",
     "output_type": "stream",
     "text": [
      "CPU times: user 1min 6s, sys: 6.37 s, total: 1min 12s\n",
      "Wall time: 1min 12s\n"
     ]
    }
   ],
   "source": [
    "%%time\n",
    "\n",
    "# Предварительная обработка текста\n",
    "df_test['title'] = df_test['title'].apply(get_text_preprocessing)"
   ]
  },
  {
   "cell_type": "code",
   "execution_count": 92,
   "id": "382d4fc8-f677-4dd8-ba13-53b7790f605b",
   "metadata": {},
   "outputs": [],
   "source": [
    "df_test.to_csv(PRED_PREP_DATASET_PATH, index=False, encoding='utf-8')"
   ]
  },
  {
   "cell_type": "code",
   "execution_count": 93,
   "id": "6f72eeff-0691-4816-a157-b7fdda64dd68",
   "metadata": {},
   "outputs": [],
   "source": [
    "df_test = pd.read_csv(PRED_PREP_DATASET_PATH)"
   ]
  },
  {
   "cell_type": "code",
   "execution_count": 94,
   "id": "e71e6a3c-233e-4142-bb03-c62a88d4b4cc",
   "metadata": {},
   "outputs": [
    {
     "data": {
      "text/html": [
       "<div>\n",
       "<style scoped>\n",
       "    .dataframe tbody tr th:only-of-type {\n",
       "        vertical-align: middle;\n",
       "    }\n",
       "\n",
       "    .dataframe tbody tr th {\n",
       "        vertical-align: top;\n",
       "    }\n",
       "\n",
       "    .dataframe thead th {\n",
       "        text-align: right;\n",
       "    }\n",
       "</style>\n",
       "<table border=\"1\" class=\"dataframe\">\n",
       "  <thead>\n",
       "    <tr style=\"text-align: right;\">\n",
       "      <th></th>\n",
       "      <th>title</th>\n",
       "      <th>is_fake</th>\n",
       "      <th>title_len</th>\n",
       "      <th>punct%</th>\n",
       "    </tr>\n",
       "  </thead>\n",
       "  <tbody>\n",
       "    <tr>\n",
       "      <th>0</th>\n",
       "      <td>роскомнадзор представить реестр сочетание цвет...</td>\n",
       "      <td>0</td>\n",
       "      <td>61</td>\n",
       "      <td>0.0</td>\n",
       "    </tr>\n",
       "    <tr>\n",
       "      <th>1</th>\n",
       "      <td>ночью минския президентской гора беларашмор пи...</td>\n",
       "      <td>0</td>\n",
       "      <td>89</td>\n",
       "      <td>0.0</td>\n",
       "    </tr>\n",
       "    <tr>\n",
       "      <th>2</th>\n",
       "      <td>бывший спичраитер юрий лоза рассказать труднос...</td>\n",
       "      <td>0</td>\n",
       "      <td>60</td>\n",
       "      <td>0.0</td>\n",
       "    </tr>\n",
       "    <tr>\n",
       "      <th>3</th>\n",
       "      <td>сельския церковь собрать рекордно низкия колич...</td>\n",
       "      <td>0</td>\n",
       "      <td>86</td>\n",
       "      <td>0.0</td>\n",
       "    </tr>\n",
       "    <tr>\n",
       "      <th>4</th>\n",
       "      <td>акция google рухнуть обьявление перезапуск rutube</td>\n",
       "      <td>0</td>\n",
       "      <td>44</td>\n",
       "      <td>0.0</td>\n",
       "    </tr>\n",
       "  </tbody>\n",
       "</table>\n",
       "</div>"
      ],
      "text/plain": [
       "                                               title  is_fake  title_len  \\\n",
       "0  роскомнадзор представить реестр сочетание цвет...        0         61   \n",
       "1  ночью минския президентской гора беларашмор пи...        0         89   \n",
       "2  бывший спичраитер юрий лоза рассказать труднос...        0         60   \n",
       "3  сельския церковь собрать рекордно низкия колич...        0         86   \n",
       "4  акция google рухнуть обьявление перезапуск rutube        0         44   \n",
       "\n",
       "   punct%  \n",
       "0     0.0  \n",
       "1     0.0  \n",
       "2     0.0  \n",
       "3     0.0  \n",
       "4     0.0  "
      ]
     },
     "execution_count": 94,
     "metadata": {},
     "output_type": "execute_result"
    }
   ],
   "source": [
    "df_test.head()"
   ]
  },
  {
   "cell_type": "code",
   "execution_count": 95,
   "id": "65435b28-8a07-451a-ae0f-395b88dfce4f",
   "metadata": {},
   "outputs": [
    {
     "data": {
      "text/html": [
       "<div>\n",
       "<style scoped>\n",
       "    .dataframe tbody tr th:only-of-type {\n",
       "        vertical-align: middle;\n",
       "    }\n",
       "\n",
       "    .dataframe tbody tr th {\n",
       "        vertical-align: top;\n",
       "    }\n",
       "\n",
       "    .dataframe thead th {\n",
       "        text-align: right;\n",
       "    }\n",
       "</style>\n",
       "<table border=\"1\" class=\"dataframe\">\n",
       "  <thead>\n",
       "    <tr style=\"text-align: right;\">\n",
       "      <th></th>\n",
       "      <th>title</th>\n",
       "      <th>is_fake</th>\n",
       "      <th>title_len</th>\n",
       "      <th>punct%</th>\n",
       "    </tr>\n",
       "  </thead>\n",
       "  <tbody>\n",
       "    <tr>\n",
       "      <th>0</th>\n",
       "      <td>роскомнадзор представить реестр сочетание цвет...</td>\n",
       "      <td>0</td>\n",
       "      <td>61</td>\n",
       "      <td>0.0</td>\n",
       "    </tr>\n",
       "    <tr>\n",
       "      <th>1</th>\n",
       "      <td>ночью минския президентской гора беларашмор пи...</td>\n",
       "      <td>0</td>\n",
       "      <td>89</td>\n",
       "      <td>0.0</td>\n",
       "    </tr>\n",
       "    <tr>\n",
       "      <th>2</th>\n",
       "      <td>бывший спичраитер юрий лоза рассказать труднос...</td>\n",
       "      <td>0</td>\n",
       "      <td>60</td>\n",
       "      <td>0.0</td>\n",
       "    </tr>\n",
       "    <tr>\n",
       "      <th>3</th>\n",
       "      <td>сельския церковь собрать рекордно низкия колич...</td>\n",
       "      <td>0</td>\n",
       "      <td>86</td>\n",
       "      <td>0.0</td>\n",
       "    </tr>\n",
       "    <tr>\n",
       "      <th>4</th>\n",
       "      <td>акция google рухнуть обьявление перезапуск rutube</td>\n",
       "      <td>0</td>\n",
       "      <td>44</td>\n",
       "      <td>0.0</td>\n",
       "    </tr>\n",
       "  </tbody>\n",
       "</table>\n",
       "</div>"
      ],
      "text/plain": [
       "                                               title  is_fake  title_len  \\\n",
       "0  роскомнадзор представить реестр сочетание цвет...        0         61   \n",
       "1  ночью минския президентской гора беларашмор пи...        0         89   \n",
       "2  бывший спичраитер юрий лоза рассказать труднос...        0         60   \n",
       "3  сельския церковь собрать рекордно низкия колич...        0         86   \n",
       "4  акция google рухнуть обьявление перезапуск rutube        0         44   \n",
       "\n",
       "   punct%  \n",
       "0     0.0  \n",
       "1     0.0  \n",
       "2     0.0  \n",
       "3     0.0  \n",
       "4     0.0  "
      ]
     },
     "execution_count": 95,
     "metadata": {},
     "output_type": "execute_result"
    }
   ],
   "source": [
    "# функция для вычисления длины заголовка новости без учета пробелов\n",
    "df_test['title_len'] = df_test['title'].apply(lambda x: len(x) - x.count(\" \"))\n",
    "\n",
    "# функция показывает процент знаков препинания в теле заголовка новости\n",
    "df_test['punct%'] = df_test['title'].apply(lambda x: count_punct(x))\n",
    "\n",
    "df_test.head()"
   ]
  },
  {
   "cell_type": "code",
   "execution_count": 96,
   "id": "74815220-3df5-47f9-aa71-9551c1b2556c",
   "metadata": {},
   "outputs": [
    {
     "name": "stdout",
     "output_type": "stream",
     "text": [
      "(1000, 36072)\n"
     ]
    }
   ],
   "source": [
    "# Векторное представление текста (Bag of words (BOW) с биграммами)\n",
    "\n",
    "X_pred_BOW_bi = bow_bi_vect.transform(df_test['title'])\n",
    "\n",
    "df_test_vect = pd.concat([df_test[['title_len', 'punct%']].reset_index(drop=True),\n",
    "                        pd.DataFrame(X_pred_BOW_bi.toarray())], axis=1)\n",
    "\n",
    "print(X_pred_BOW_bi.shape)"
   ]
  },
  {
   "cell_type": "code",
   "execution_count": 97,
   "id": "622efb57-b885-4308-9fa0-1f19a72ba050",
   "metadata": {},
   "outputs": [
    {
     "data": {
      "text/html": [
       "<div>\n",
       "<style scoped>\n",
       "    .dataframe tbody tr th:only-of-type {\n",
       "        vertical-align: middle;\n",
       "    }\n",
       "\n",
       "    .dataframe tbody tr th {\n",
       "        vertical-align: top;\n",
       "    }\n",
       "\n",
       "    .dataframe thead th {\n",
       "        text-align: right;\n",
       "    }\n",
       "</style>\n",
       "<table border=\"1\" class=\"dataframe\">\n",
       "  <thead>\n",
       "    <tr style=\"text-align: right;\">\n",
       "      <th></th>\n",
       "      <th>title_len</th>\n",
       "      <th>punct%</th>\n",
       "      <th>0</th>\n",
       "      <th>1</th>\n",
       "      <th>2</th>\n",
       "      <th>3</th>\n",
       "      <th>4</th>\n",
       "      <th>5</th>\n",
       "      <th>6</th>\n",
       "      <th>7</th>\n",
       "      <th>...</th>\n",
       "      <th>36062</th>\n",
       "      <th>36063</th>\n",
       "      <th>36064</th>\n",
       "      <th>36065</th>\n",
       "      <th>36066</th>\n",
       "      <th>36067</th>\n",
       "      <th>36068</th>\n",
       "      <th>36069</th>\n",
       "      <th>36070</th>\n",
       "      <th>36071</th>\n",
       "    </tr>\n",
       "  </thead>\n",
       "  <tbody>\n",
       "    <tr>\n",
       "      <th>0</th>\n",
       "      <td>61</td>\n",
       "      <td>0.0</td>\n",
       "      <td>0</td>\n",
       "      <td>0</td>\n",
       "      <td>0</td>\n",
       "      <td>0</td>\n",
       "      <td>0</td>\n",
       "      <td>0</td>\n",
       "      <td>0</td>\n",
       "      <td>0</td>\n",
       "      <td>...</td>\n",
       "      <td>0</td>\n",
       "      <td>0</td>\n",
       "      <td>0</td>\n",
       "      <td>0</td>\n",
       "      <td>0</td>\n",
       "      <td>0</td>\n",
       "      <td>0</td>\n",
       "      <td>0</td>\n",
       "      <td>0</td>\n",
       "      <td>0</td>\n",
       "    </tr>\n",
       "    <tr>\n",
       "      <th>1</th>\n",
       "      <td>89</td>\n",
       "      <td>0.0</td>\n",
       "      <td>0</td>\n",
       "      <td>0</td>\n",
       "      <td>0</td>\n",
       "      <td>0</td>\n",
       "      <td>0</td>\n",
       "      <td>0</td>\n",
       "      <td>0</td>\n",
       "      <td>0</td>\n",
       "      <td>...</td>\n",
       "      <td>0</td>\n",
       "      <td>0</td>\n",
       "      <td>0</td>\n",
       "      <td>0</td>\n",
       "      <td>0</td>\n",
       "      <td>0</td>\n",
       "      <td>0</td>\n",
       "      <td>0</td>\n",
       "      <td>0</td>\n",
       "      <td>0</td>\n",
       "    </tr>\n",
       "    <tr>\n",
       "      <th>2</th>\n",
       "      <td>60</td>\n",
       "      <td>0.0</td>\n",
       "      <td>0</td>\n",
       "      <td>0</td>\n",
       "      <td>0</td>\n",
       "      <td>0</td>\n",
       "      <td>0</td>\n",
       "      <td>0</td>\n",
       "      <td>0</td>\n",
       "      <td>0</td>\n",
       "      <td>...</td>\n",
       "      <td>0</td>\n",
       "      <td>0</td>\n",
       "      <td>0</td>\n",
       "      <td>0</td>\n",
       "      <td>0</td>\n",
       "      <td>0</td>\n",
       "      <td>0</td>\n",
       "      <td>0</td>\n",
       "      <td>0</td>\n",
       "      <td>0</td>\n",
       "    </tr>\n",
       "    <tr>\n",
       "      <th>3</th>\n",
       "      <td>86</td>\n",
       "      <td>0.0</td>\n",
       "      <td>0</td>\n",
       "      <td>0</td>\n",
       "      <td>0</td>\n",
       "      <td>0</td>\n",
       "      <td>0</td>\n",
       "      <td>0</td>\n",
       "      <td>0</td>\n",
       "      <td>0</td>\n",
       "      <td>...</td>\n",
       "      <td>0</td>\n",
       "      <td>0</td>\n",
       "      <td>0</td>\n",
       "      <td>0</td>\n",
       "      <td>0</td>\n",
       "      <td>0</td>\n",
       "      <td>0</td>\n",
       "      <td>0</td>\n",
       "      <td>0</td>\n",
       "      <td>0</td>\n",
       "    </tr>\n",
       "    <tr>\n",
       "      <th>4</th>\n",
       "      <td>44</td>\n",
       "      <td>0.0</td>\n",
       "      <td>0</td>\n",
       "      <td>0</td>\n",
       "      <td>0</td>\n",
       "      <td>0</td>\n",
       "      <td>0</td>\n",
       "      <td>0</td>\n",
       "      <td>0</td>\n",
       "      <td>0</td>\n",
       "      <td>...</td>\n",
       "      <td>0</td>\n",
       "      <td>0</td>\n",
       "      <td>0</td>\n",
       "      <td>0</td>\n",
       "      <td>0</td>\n",
       "      <td>0</td>\n",
       "      <td>0</td>\n",
       "      <td>0</td>\n",
       "      <td>0</td>\n",
       "      <td>0</td>\n",
       "    </tr>\n",
       "    <tr>\n",
       "      <th>5</th>\n",
       "      <td>37</td>\n",
       "      <td>0.0</td>\n",
       "      <td>0</td>\n",
       "      <td>0</td>\n",
       "      <td>0</td>\n",
       "      <td>0</td>\n",
       "      <td>0</td>\n",
       "      <td>0</td>\n",
       "      <td>0</td>\n",
       "      <td>0</td>\n",
       "      <td>...</td>\n",
       "      <td>0</td>\n",
       "      <td>0</td>\n",
       "      <td>0</td>\n",
       "      <td>0</td>\n",
       "      <td>0</td>\n",
       "      <td>0</td>\n",
       "      <td>0</td>\n",
       "      <td>0</td>\n",
       "      <td>0</td>\n",
       "      <td>0</td>\n",
       "    </tr>\n",
       "    <tr>\n",
       "      <th>6</th>\n",
       "      <td>38</td>\n",
       "      <td>0.0</td>\n",
       "      <td>0</td>\n",
       "      <td>0</td>\n",
       "      <td>0</td>\n",
       "      <td>0</td>\n",
       "      <td>0</td>\n",
       "      <td>0</td>\n",
       "      <td>0</td>\n",
       "      <td>0</td>\n",
       "      <td>...</td>\n",
       "      <td>0</td>\n",
       "      <td>0</td>\n",
       "      <td>0</td>\n",
       "      <td>0</td>\n",
       "      <td>0</td>\n",
       "      <td>0</td>\n",
       "      <td>0</td>\n",
       "      <td>0</td>\n",
       "      <td>0</td>\n",
       "      <td>0</td>\n",
       "    </tr>\n",
       "    <tr>\n",
       "      <th>7</th>\n",
       "      <td>45</td>\n",
       "      <td>0.0</td>\n",
       "      <td>0</td>\n",
       "      <td>0</td>\n",
       "      <td>0</td>\n",
       "      <td>0</td>\n",
       "      <td>0</td>\n",
       "      <td>0</td>\n",
       "      <td>0</td>\n",
       "      <td>0</td>\n",
       "      <td>...</td>\n",
       "      <td>0</td>\n",
       "      <td>0</td>\n",
       "      <td>0</td>\n",
       "      <td>0</td>\n",
       "      <td>0</td>\n",
       "      <td>0</td>\n",
       "      <td>0</td>\n",
       "      <td>0</td>\n",
       "      <td>0</td>\n",
       "      <td>0</td>\n",
       "    </tr>\n",
       "    <tr>\n",
       "      <th>8</th>\n",
       "      <td>46</td>\n",
       "      <td>0.0</td>\n",
       "      <td>0</td>\n",
       "      <td>0</td>\n",
       "      <td>0</td>\n",
       "      <td>0</td>\n",
       "      <td>0</td>\n",
       "      <td>0</td>\n",
       "      <td>0</td>\n",
       "      <td>0</td>\n",
       "      <td>...</td>\n",
       "      <td>0</td>\n",
       "      <td>0</td>\n",
       "      <td>0</td>\n",
       "      <td>0</td>\n",
       "      <td>0</td>\n",
       "      <td>0</td>\n",
       "      <td>0</td>\n",
       "      <td>0</td>\n",
       "      <td>0</td>\n",
       "      <td>0</td>\n",
       "    </tr>\n",
       "    <tr>\n",
       "      <th>9</th>\n",
       "      <td>41</td>\n",
       "      <td>0.0</td>\n",
       "      <td>0</td>\n",
       "      <td>0</td>\n",
       "      <td>0</td>\n",
       "      <td>0</td>\n",
       "      <td>0</td>\n",
       "      <td>0</td>\n",
       "      <td>0</td>\n",
       "      <td>0</td>\n",
       "      <td>...</td>\n",
       "      <td>0</td>\n",
       "      <td>0</td>\n",
       "      <td>0</td>\n",
       "      <td>0</td>\n",
       "      <td>0</td>\n",
       "      <td>0</td>\n",
       "      <td>0</td>\n",
       "      <td>0</td>\n",
       "      <td>0</td>\n",
       "      <td>0</td>\n",
       "    </tr>\n",
       "  </tbody>\n",
       "</table>\n",
       "<p>10 rows × 36074 columns</p>\n",
       "</div>"
      ],
      "text/plain": [
       "   title_len  punct%  0  1  2  3  4  5  6  7  ...  36062  36063  36064  36065  \\\n",
       "0         61     0.0  0  0  0  0  0  0  0  0  ...      0      0      0      0   \n",
       "1         89     0.0  0  0  0  0  0  0  0  0  ...      0      0      0      0   \n",
       "2         60     0.0  0  0  0  0  0  0  0  0  ...      0      0      0      0   \n",
       "3         86     0.0  0  0  0  0  0  0  0  0  ...      0      0      0      0   \n",
       "4         44     0.0  0  0  0  0  0  0  0  0  ...      0      0      0      0   \n",
       "5         37     0.0  0  0  0  0  0  0  0  0  ...      0      0      0      0   \n",
       "6         38     0.0  0  0  0  0  0  0  0  0  ...      0      0      0      0   \n",
       "7         45     0.0  0  0  0  0  0  0  0  0  ...      0      0      0      0   \n",
       "8         46     0.0  0  0  0  0  0  0  0  0  ...      0      0      0      0   \n",
       "9         41     0.0  0  0  0  0  0  0  0  0  ...      0      0      0      0   \n",
       "\n",
       "   36066  36067  36068  36069  36070  36071  \n",
       "0      0      0      0      0      0      0  \n",
       "1      0      0      0      0      0      0  \n",
       "2      0      0      0      0      0      0  \n",
       "3      0      0      0      0      0      0  \n",
       "4      0      0      0      0      0      0  \n",
       "5      0      0      0      0      0      0  \n",
       "6      0      0      0      0      0      0  \n",
       "7      0      0      0      0      0      0  \n",
       "8      0      0      0      0      0      0  \n",
       "9      0      0      0      0      0      0  \n",
       "\n",
       "[10 rows x 36074 columns]"
      ]
     },
     "execution_count": 97,
     "metadata": {},
     "output_type": "execute_result"
    }
   ],
   "source": [
    "df_test_vect.head(10)"
   ]
  },
  {
   "cell_type": "markdown",
   "id": "4522195f-7db4-4e57-aeba-118282c810d2",
   "metadata": {},
   "source": [
    "### Прогноз<a class=\"anchor\" id=\"forecast\"></a>"
   ]
  },
  {
   "cell_type": "code",
   "execution_count": 98,
   "id": "d57f6915-15ae-4481-ab99-afd866affb07",
   "metadata": {},
   "outputs": [
    {
     "name": "stdout",
     "output_type": "stream",
     "text": [
      "CPU times: user 261 ms, sys: 48 ms, total: 309 ms\n",
      "Wall time: 277 ms\n"
     ]
    }
   ],
   "source": [
    "%%time\n",
    "\n",
    "# Обучение финальной модели\n",
    "# final_model.fit(X_train_BOW_bi, y_train)\n",
    "\n",
    "# Прогнозирование на тестовом датасете\n",
    "y_predict = final_model.predict(df_test_vect)"
   ]
  },
  {
   "cell_type": "code",
   "execution_count": 99,
   "id": "4b6a3948-ba0f-4d9c-abbd-97e3bfe38025",
   "metadata": {},
   "outputs": [
    {
     "data": {
      "text/plain": [
       "(1000,)"
      ]
     },
     "execution_count": 99,
     "metadata": {},
     "output_type": "execute_result"
    }
   ],
   "source": [
    "y_predict.shape"
   ]
  },
  {
   "cell_type": "markdown",
   "id": "c5268e0e-d5e9-47fc-9dce-8babe13ad1d9",
   "metadata": {},
   "source": [
    "### Сохранение результатов<a class=\"anchor\" id=\"saving_results\"></a>"
   ]
  },
  {
   "cell_type": "code",
   "execution_count": 100,
   "id": "5bb00548-365c-42af-af90-56a45eb2406d",
   "metadata": {},
   "outputs": [],
   "source": [
    "predictions = pd.read_csv(TEST_DATASET_PATH, sep='\\t')\n",
    "predictions['is_fake'] = y_predict\n",
    "predictions.to_csv(SUBMISSION_PATH, sep='\\t', index=False)"
   ]
  },
  {
   "cell_type": "code",
   "execution_count": 101,
   "id": "77de0fef-f704-4490-8eac-7dace59e1f5d",
   "metadata": {},
   "outputs": [
    {
     "data": {
      "text/html": [
       "<div>\n",
       "<style scoped>\n",
       "    .dataframe tbody tr th:only-of-type {\n",
       "        vertical-align: middle;\n",
       "    }\n",
       "\n",
       "    .dataframe tbody tr th {\n",
       "        vertical-align: top;\n",
       "    }\n",
       "\n",
       "    .dataframe thead th {\n",
       "        text-align: right;\n",
       "    }\n",
       "</style>\n",
       "<table border=\"1\" class=\"dataframe\">\n",
       "  <thead>\n",
       "    <tr style=\"text-align: right;\">\n",
       "      <th></th>\n",
       "      <th>title</th>\n",
       "      <th>is_fake</th>\n",
       "    </tr>\n",
       "  </thead>\n",
       "  <tbody>\n",
       "    <tr>\n",
       "      <th>0</th>\n",
       "      <td>Роскомнадзор представил реестр сочетаний цвето...</td>\n",
       "      <td>1</td>\n",
       "    </tr>\n",
       "    <tr>\n",
       "      <th>1</th>\n",
       "      <td>Ночью под Минском на президентской горе Белара...</td>\n",
       "      <td>1</td>\n",
       "    </tr>\n",
       "    <tr>\n",
       "      <th>2</th>\n",
       "      <td>Бывший спичрайтер Юрия Лозы рассказал о трудно...</td>\n",
       "      <td>1</td>\n",
       "    </tr>\n",
       "    <tr>\n",
       "      <th>3</th>\n",
       "      <td>Сельская церковь, собравшая рекордно низкое ко...</td>\n",
       "      <td>1</td>\n",
       "    </tr>\n",
       "    <tr>\n",
       "      <th>4</th>\n",
       "      <td>Акции Google рухнули после объявления о переза...</td>\n",
       "      <td>0</td>\n",
       "    </tr>\n",
       "    <tr>\n",
       "      <th>...</th>\n",
       "      <td>...</td>\n",
       "      <td>...</td>\n",
       "    </tr>\n",
       "    <tr>\n",
       "      <th>995</th>\n",
       "      <td>Прокуратура заподозрила Явлинского в авторитар...</td>\n",
       "      <td>0</td>\n",
       "    </tr>\n",
       "    <tr>\n",
       "      <th>996</th>\n",
       "      <td>В День Победы стратегические ракетоносцы Ту-16...</td>\n",
       "      <td>1</td>\n",
       "    </tr>\n",
       "    <tr>\n",
       "      <th>997</th>\n",
       "      <td>СК возбудил дело против авиакомпании «Победа» ...</td>\n",
       "      <td>1</td>\n",
       "    </tr>\n",
       "    <tr>\n",
       "      <th>998</th>\n",
       "      <td>Криптомонетный двор Туркменистана выпустил юби...</td>\n",
       "      <td>1</td>\n",
       "    </tr>\n",
       "    <tr>\n",
       "      <th>999</th>\n",
       "      <td>Deutsche Bahn заплатит рекордный штраф за чтен...</td>\n",
       "      <td>0</td>\n",
       "    </tr>\n",
       "  </tbody>\n",
       "</table>\n",
       "<p>1000 rows × 2 columns</p>\n",
       "</div>"
      ],
      "text/plain": [
       "                                                 title  is_fake\n",
       "0    Роскомнадзор представил реестр сочетаний цвето...        1\n",
       "1    Ночью под Минском на президентской горе Белара...        1\n",
       "2    Бывший спичрайтер Юрия Лозы рассказал о трудно...        1\n",
       "3    Сельская церковь, собравшая рекордно низкое ко...        1\n",
       "4    Акции Google рухнули после объявления о переза...        0\n",
       "..                                                 ...      ...\n",
       "995  Прокуратура заподозрила Явлинского в авторитар...        0\n",
       "996  В День Победы стратегические ракетоносцы Ту-16...        1\n",
       "997  СК возбудил дело против авиакомпании «Победа» ...        1\n",
       "998  Криптомонетный двор Туркменистана выпустил юби...        1\n",
       "999  Deutsche Bahn заплатит рекордный штраф за чтен...        0\n",
       "\n",
       "[1000 rows x 2 columns]"
      ]
     },
     "execution_count": 101,
     "metadata": {},
     "output_type": "execute_result"
    }
   ],
   "source": [
    "# Посмотрим, что получилось\n",
    "predictions"
   ]
  },
  {
   "cell_type": "code",
   "execution_count": 102,
   "id": "f3e9ce1c-47c6-44c7-a615-68e0eb3f3916",
   "metadata": {},
   "outputs": [
    {
     "data": {
      "text/plain": [
       "0    597\n",
       "1    403\n",
       "Name: is_fake, dtype: int64"
      ]
     },
     "execution_count": 102,
     "metadata": {},
     "output_type": "execute_result"
    }
   ],
   "source": [
    "predictions['is_fake'].value_counts()"
   ]
  },
  {
   "cell_type": "markdown",
   "id": "f3358315-9123-4f9e-bc50-7615ac3c3702",
   "metadata": {},
   "source": [
    "## Итоги работы<a class=\"anchor\" id=\"results\"></a>"
   ]
  },
  {
   "cell_type": "markdown",
   "id": "8e887a79-7110-4c82-b256-53376d884c85",
   "metadata": {},
   "source": [
    "Целью задания была разработка модели, которая будет способна различать заголовки реальных и выдуманных новостей.  \n",
    "Для оценки финального решения используется метрика F1 score. Также оценивается чистота кода, оформление и понятность исследования.  \n",
    "Для обучения модели были использованы данные из файла *train.tsv*. В файле находится таблица, состоящая из двух колонок и 5758 строк. Количество уникальных слов — 20701. В колонке **«title»** записан заголовок новости. В колонке **«is_fake»** содержатся метки: 0 – новость реальная; 1 – новость выдуманная. Файл *test.tsv*, на котором предстоит осуществлять предсказание, аналогичен по количеству колонок и имеет 1000 строк.  \n",
    "В ходе анализа данных было установлено, что в датасетах отсутствуют пропуски. Целевая переменная **«is_fake»** в датасете  *train.tsv* сбалансирована по классам: \"1\"  встречается 2879 и \"0\" встречается также 2879. Была определена длина текстовых сообщений и процент знаков препинания в них. Вымышленные новости имеют большую длину, чем реальные, но это различие не явно выраженное. Анализ процента знаков препинания нзначимых результатов не дал. Есть один повтор в строках 402 и 624, что маловероятно может сказаться на конечном результате, т.к. соответствующее данным строкам значение «is_fake» одинаковое. Скорее всего, это просто опечатка. Было построено облако слов, из которого сразу стало видно большое количетво «мусорных» слов.  \n",
    "Была выполнена предварительная обработка данных, в ходе которой была проведена проверка орфографии, очистка текста от «мусора» и приведение слов к стандартному виду, удаление пунктуации. Здесь применялось два подхода: лемматизация и стемминг. Леммитация, хоть и дольше по времени, но показала себя лучше. После обработки количество уникальных слов снизилось до 11778, что на 43% меньше.  \n",
    "Для векторного представления текста использовались три подхода: Bag of words (BOW), TF-IDF,  и Bag of words (BOW) с биграммами (ngram_range=(1, 2)). На их основе строились 5 моделей: LogisticRegression, SGDClassifier, KNeighborsClassifier, RandomForestClassifier и XGBClassifier. По итогам сравнения, была выбрана модель  LogisticRegression, обученная на данных  Bag of words (BOW) с биграммами. Она показала точность 0 — 88% и 1 — 87%.  \n",
    "Отбор фич с помощью LinearSVC положительных результатов не дал: точность упала на 3%. Поэтому от него отказался. Подбор гиперпараметров по сетке GridSearchCV также не добавил существенного прироста. Только уменьшение времени работы модели с с 12,5с до 2,2с. Однако, при увеличении 'max_iter' до 10000, удалось немного улучшить результат, если судить по матрице ошибок.  \n",
    "В ходе прогнозирования на тестовом датасете  test.tsv, были проведены те же процедуры по очистке, что и на тренировочном и использовалась лучшая модель с лучшими параметрами. Результатом предсказания стало отнесения 597 новостей к реальным (класс 0) и 403 к выдуманным (класс 1)."
   ]
  },
  {
   "cell_type": "code",
   "execution_count": null,
   "id": "479b317a-8da9-4da6-aaa0-93cc0673861b",
   "metadata": {},
   "outputs": [],
   "source": []
  }
 ],
 "metadata": {
  "kernelspec": {
   "display_name": "Python 3 (ipykernel)",
   "language": "python",
   "name": "python3"
  },
  "language_info": {
   "codemirror_mode": {
    "name": "ipython",
    "version": 3
   },
   "file_extension": ".py",
   "mimetype": "text/x-python",
   "name": "python",
   "nbconvert_exporter": "python",
   "pygments_lexer": "ipython3",
   "version": "3.9.12"
  }
 },
 "nbformat": 4,
 "nbformat_minor": 5
}
