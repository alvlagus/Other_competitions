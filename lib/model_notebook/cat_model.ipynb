{
 "cells": [
  {
   "cell_type": "markdown",
   "id": "33f728c9-830b-401e-a42e-4c560c798bb9",
   "metadata": {
    "tags": []
   },
   "source": [
    "# Тестовое задание Авито"
   ]
  },
  {
   "cell_type": "markdown",
   "id": "22a0adc7-2aef-483c-95a9-6724e42b9314",
   "metadata": {},
   "source": [
    "## Оглавление:"
   ]
  },
  {
   "cell_type": "markdown",
   "id": "79803f04-ce23-4ba1-866f-3eca427dbed7",
   "metadata": {},
   "source": [
    "* [Постановка задачи](#target_setting)\n",
    "* [Подключение библиотек](#load_libs)\n",
    "* [Пути к директориям и файлам](#path_data)\n",
    "* [Используемые константы](#used_constants)\n",
    "* [Используемые функции](#used_functions)\n",
    "* [Загрузка исходных данных](#load_data)           \n",
    "* [Анализ данных (Exploratory Data Analysis (EDA))](#eda)\n",
    "    * [Обзор данных](#data_overview)\n",
    "    * [Обзор уникальных значений в признаках](#unique_data)\n",
    "    * [Обзор целевой переменной](#target_feature_overview)\n",
    "    * [Обзор признаков](#feature_overview)\n",
    "    * [Распределение целевой переменной по признакам](#target_distribution)\n",
    "    * [Определение длины сообщения и % знаков препинания в тексте описания (description)](#len_punct)   \n",
    "* [Предварительная обработка данных](#data_preprocessing)\n",
    "    * [Поиск регулярных выражений в описании](#regexp_search)\n",
    "    * [Очиcтка текста приведение слов к стандартному виду](#text_clearing) \n",
    "* [Построение модели CatBoost](#modeling)    \n",
    "    * [Построение финальной модели](#final_model)\n",
    "    * [Сохранение финальной модели](#final_model_saving)\n",
    "    * [Сохранение результатов](#saving_results) "
   ]
  },
  {
   "cell_type": "markdown",
   "id": "04167b5a-8470-4988-9248-08cec9d18fff",
   "metadata": {
    "tags": []
   },
   "source": [
    "## Постановка задачи<a class=\"anchor\" id=\"target_setting\"></a>"
   ]
  },
  {
   "cell_type": "markdown",
   "id": "86d72fe5-8950-4f57-ae05-7cbcdda42ec2",
   "metadata": {
    "tags": []
   },
   "source": [
    "**<u>Задание<u>**\n",
    "\n",
    "Определить есть ли в объявлении контактная информация.\n",
    "\n",
    "В первой задаче необходимо оценить вероятность наличия в объявлении контактной информации. \n",
    "\n",
    "Таргет первой задачи: __is_bad__.\n",
    "\n",
    "Есть два датасета: __train.csv__ и __val.csv__. В датасетах могут встречаться (как и, к сожалению, в любых размечаемых данных) некорректные метки.\n",
    "\n",
    "__train.csv__ содержит больше данных, однако разметка в нём менее точная.\n",
    "\n",
    "В __val.csv__ существенно меньше данных, но более точная разметка.\n",
    "\n",
    "Тестовый датасет, на котором мы оценим решение, будет больше похож на __val.csv__.\n",
    "\n",
    "__val.csv__ находится в папке __./data__. __train.csv__ можно качать скриптом __./data/get_train_data.sh__ или перейдя по ссылке\n",
    "\n",
    "<br>\n",
    "    \n",
    "**<u>Критерии оценки<u>**\n",
    "\n",
    "В качестве метрики качества работы вашей модели мы будем использовать усредненный ROC-AUC по каждой категории объявлений.  \n",
    "Текущий бэйзлайн, который надо побить для первой части - 0.92.\n",
    "\n",
    "<br>\n",
    "    \n",
    "**<u>Требования к решению<u>**\n",
    "\n",
    "Результатом работы модели является __pd.DataFrame__ с колонками:\n",
    "\n",
    "* __index__: __int__, положение записи в файле;\n",
    "* __prediction__: __float__ от 0 до 1.\n"
   ]
  },
  {
   "cell_type": "markdown",
   "id": "626f3b08-01a6-4461-a70a-ef2976239835",
   "metadata": {
    "tags": []
   },
   "source": [
    "## Подключение библиотек<a class=\"anchor\" id=\"load_libs\"></a>"
   ]
  },
  {
   "cell_type": "code",
   "execution_count": 1,
   "id": "cbc44a7f-90b9-474e-8830-c40b144a84d3",
   "metadata": {},
   "outputs": [],
   "source": [
    "# !pip install xgboost\n",
    "# !pip install lightgbm\n",
    "# !pip install catboost\n",
    "# !pip install imbalanced-learn\n",
    "# !pip install wordcloud\n",
    "# !pip install pymorphy2\n",
    "# !pip install pyaspeller\n",
    "# !pip install tensorflow-gpu\n",
    "# !pip install pandarallel\n",
    "# pip install --upgrade pandas\n",
    "# !pip install catboost\n",
    "# !pip install ipywidgets\n",
    "# !pip install --upgrade jupyter_core jupyter_client\n",
    "# !jupyter nbextension enable --py widgetsnbextension\n",
    "# !pip install emoji"
   ]
  },
  {
   "cell_type": "code",
   "execution_count": 2,
   "id": "824ea1e8-b556-4fe9-82da-e150c7458ba3",
   "metadata": {},
   "outputs": [
    {
     "name": "stdout",
     "output_type": "stream",
     "text": [
      "INFO: Pandarallel will run on 4 workers.\n",
      "INFO: Pandarallel will use Memory file system to transfer data between the main process and workers.\n"
     ]
    }
   ],
   "source": [
    "# Libraries for working with paths and saving\n",
    "from pathlib import Path\n",
    "import os\n",
    "import pickle\n",
    "from json import load as json_load\n",
    "\n",
    "# Scientific libraries\n",
    "import numpy as np\n",
    "from numpy import zeros\n",
    "import pandas as pd\n",
    "np.set_printoptions(precision=4)\n",
    "from pandas import read_csv\n",
    "import re\n",
    "\n",
    "# Visual libraries\n",
    "import matplotlib\n",
    "import matplotlib.pyplot as plt\n",
    "import seaborn as sns\n",
    "\n",
    "%matplotlib inline\n",
    "matplotlib.rcParams.update({'font.size': 14})\n",
    "plt.style.use('seaborn')\n",
    "\n",
    "# Scikit-learn libraries\n",
    "from sklearn.model_selection import train_test_split\n",
    "from sklearn.metrics import roc_auc_score, f1_score, accuracy_score\n",
    "from sklearn.model_selection import StratifiedKFold, GridSearchCV\n",
    "from functools import partial, lru_cache\n",
    "from pandarallel import pandarallel\n",
    "pandarallel.initialize(progress_bar=True)\n",
    "\n",
    "# CatBoost\n",
    "import catboost\n",
    "from catboost import *\n",
    "from catboost import datasets\n",
    "from catboost import CatBoostClassifier, Pool\n",
    "from catboost import cv\n",
    "\n",
    "# # Language libraries\n",
    "import pymorphy2\n",
    "import nltk\n",
    "from nltk.corpus import stopwords\n",
    "import string\n",
    "from tabulate import tabulate"
   ]
  },
  {
   "cell_type": "code",
   "execution_count": 3,
   "id": "cd894117-a2ba-4bf2-9efc-1bb956a66b96",
   "metadata": {},
   "outputs": [],
   "source": [
    "# print(f'Версия xgboost: {xgb.__version__}')\n",
    "# !python --version\n",
    "# print(pd.__version__)"
   ]
  },
  {
   "cell_type": "code",
   "execution_count": 4,
   "id": "7f830e3c-5c70-4adc-ba04-7f90a4df7501",
   "metadata": {
    "tags": []
   },
   "outputs": [],
   "source": [
    "import warnings\n",
    "warnings.filterwarnings('ignore')"
   ]
  },
  {
   "cell_type": "markdown",
   "id": "adc25752-0e20-4aa0-abe7-22dfab75d306",
   "metadata": {},
   "source": [
    "## Пути к директориям и файлам<a class=\"anchor\" id=\"path_data\"></a>"
   ]
  },
  {
   "cell_type": "code",
   "execution_count": 5,
   "id": "1757067d-c54d-4f51-8b5a-6ee4971b3bca",
   "metadata": {
    "tags": []
   },
   "outputs": [],
   "source": [
    "DATA_ROOT = Path('../')\n",
    "MODELS_PATH = Path('../2_models/')\n",
    "\n",
    "# input\n",
    "STOPWORDS_PATH = DATA_ROOT / '3_work/stopwords.json'\n",
    "TRAIN_DATASET_PATH = DATA_ROOT / '1_data/train.csv'\n",
    "TEST_DATASET_PATH = DATA_ROOT / '1_data/val.csv'\n",
    "DICT_PATH = DATA_ROOT / '3_work/regexp_dict.json'\n",
    "\n",
    "\n",
    "# output\n",
    "PREP_TRAIN_DATASET_PATH = DATA_ROOT / '3_work/df_train_prepared_full_cat.csv'\n",
    "# PREP_TEST_DATASET_PATH = DATA_ROOT / '3_work/df_test_prepared.csv'\n",
    "SUBMISSION_PATH = DATA_ROOT / '4_predictions/task1_prediction_full.csv'\n",
    "\n",
    "MODEL_FILE_PATH = MODELS_PATH / 'final_model_full_cat.cbm'"
   ]
  },
  {
   "cell_type": "markdown",
   "id": "aec7d42c-1ffd-455e-89ca-3bf9d6118a42",
   "metadata": {
    "tags": []
   },
   "source": [
    "## Используемые константы<a class=\"anchor\" id=\"used_constants\"></a>"
   ]
  },
  {
   "cell_type": "code",
   "execution_count": 6,
   "id": "fe4ed3f9-39b2-47ff-a5c1-419c256b110d",
   "metadata": {},
   "outputs": [],
   "source": [
    "# Список используемых переменных констант\n",
    "\n",
    "RANDOM = 42\n",
    "MORPH = pymorphy2.MorphAnalyzer()"
   ]
  },
  {
   "cell_type": "markdown",
   "id": "4689cd3e-b98c-43bd-9812-d20fa85ebac2",
   "metadata": {},
   "source": [
    "## Используемые функции<a class=\"anchor\" id=\"used_functions\"></a>"
   ]
  },
  {
   "cell_type": "code",
   "execution_count": 7,
   "id": "5ae143c6-8ccc-4d8a-961b-87947701d911",
   "metadata": {},
   "outputs": [],
   "source": [
    "# загрузка словаря \"стоп-слов\"\n",
    "with open(STOPWORDS_PATH) as json_file:\n",
    "    additional_stopwords = json_load(json_file)\n",
    "    json_file.close()\n",
    "    \n",
    "my_stopwords = set(stopwords.words('russian'))\n",
    "my_stopwords.update(additional_stopwords)\n",
    "my_stopwords.update(stopwords.words('english'))"
   ]
  },
  {
   "cell_type": "code",
   "execution_count": 8,
   "id": "27f80bf3-24f4-4ad0-95f5-f27278e2373e",
   "metadata": {},
   "outputs": [],
   "source": [
    "# очистка текста\n",
    "def get_text_clearing(text):\n",
    "    reg = re.compile('[^0-9a-zA-Zа-яА-ЯёЁ\\.,\\(\\)]+]')    \n",
    "    \n",
    "    text = re.sub(r'([^\\w ])', r' \\1', text)\n",
    "    text = re.sub(r'([^ \\w])', r'\\1', text)\n",
    "    text = re.sub(r' +', r' ', text)\n",
    "    text = re.sub(r'^ ', r'', text)\n",
    "    text = re.sub(r'[\\W_]+', ' ', text)  \n",
    "    text = reg.sub(' ', text)\n",
    "    # удаляем лишние пробелы\n",
    "    text = ' '.join(text.split())\n",
    "    # приводим к нижнему регистру\n",
    "    text = text.lower()\n",
    "    return text\n",
    "\n",
    "# Лемматизация  \n",
    "@lru_cache(maxsize=100000)\n",
    "def get_lemmatization(word, MORPH):\n",
    "    return MORPH.parse(word)[0].normal_form  \n",
    "\n",
    "# функция предварительной обработки, включая очистку, удаление стоп-слов и лемматизацию\n",
    "def get_text_preprocessing(text):\n",
    "    text = get_text_clearing(str(text)).split()\n",
    "    text = [word for word in text if word not in my_stopwords]\n",
    "    return ' '.join(map(lambda word: get_lemmatization(word, MORPH), text))"
   ]
  },
  {
   "cell_type": "code",
   "execution_count": 9,
   "id": "16d0dad5-8904-46b4-ac9b-f2bfc03e3f2c",
   "metadata": {},
   "outputs": [],
   "source": [
    "# функция поиска по словарю\n",
    "\n",
    "def get_dict_search(sample, text):\n",
    "    events = []\n",
    "    for name, regexp in sample.items():\n",
    "        events.append(int(bool(re.search(regexp, text))))\n",
    "    return events    "
   ]
  },
  {
   "cell_type": "code",
   "execution_count": 10,
   "id": "20f04025-4dfe-46c1-985c-d89bbdb360b8",
   "metadata": {},
   "outputs": [],
   "source": [
    "def category_metrics_getter(X, y, category, pred_probas, labels_pred, cats_table, model):\n",
    "    cat_name = category.lower().replace(\" \", \"_\")\n",
    "        \n",
    "    pred_probas[X[\"category\"] == category] = model.predict_proba(X.drop(['category'], axis=1)[X[\"category\"] == category])[:, 1]\n",
    "    labels_pred[X[\"category\"] == category] = model.predict(X.drop(['category'], axis=1)[X[\"category\"] == category])\n",
    "    \n",
    "    rocauc_category = roc_auc_score(y[X[\"category\"] == category], pred_probas[X[\"category\"] == category])\n",
    "    f1_category = f1_score(y[X[\"category\"] == category], labels_pred[X[\"category\"] == category])\n",
    "    accuracy_category = accuracy_score(y[X[\"category\"] == category], labels_pred[X[\"category\"] == category])\n",
    "    \n",
    "    cats_table.append([cat_name, rocauc_category, f1_category, accuracy_category])\n",
    "    return pred_probas, labels_pred, cats_table\n",
    "\n",
    "def metrics_printer(X, y, model):\n",
    "    overall_table = []\n",
    "    cats_table = []\n",
    "    pred_probas = zeros(y.shape)\n",
    "    labels_pred = zeros(y.shape)\n",
    "    for category in X[\"category\"].unique():\n",
    "        pred_probas, labels_pred, cats_table = category_metrics_getter(\n",
    "            X, y, category, pred_probas, labels_pred, cats_table, model,\n",
    "        )\n",
    "    rocauc = roc_auc_score(y, pred_probas)\n",
    "    f1 = f1_score(y, labels_pred)\n",
    "    accuracy = accuracy_score(y, labels_pred)\n",
    "    overall_table.append([rocauc, f1, accuracy])\n",
    "    print(\"Таблица по категориям:\")\n",
    "    print(tabulate(cats_table, headers=[\"Category\", \"AUC\", 'f1', 'accuracy'], tablefmt='orgtbl') + '\\n')\n",
    "    print(\"Общая таблица:\")\n",
    "    print(tabulate(overall_table, headers=['AUC', 'f1', 'accuracy'], tablefmt='orgtbl'))"
   ]
  },
  {
   "cell_type": "markdown",
   "id": "b1e79a82-9e20-4724-94b9-5e03ad12ff9e",
   "metadata": {
    "tags": []
   },
   "source": [
    "## Загрузка исходных данных<a class=\"anchor\" id=\"load_data\"></a>"
   ]
  },
  {
   "cell_type": "markdown",
   "id": "85b8dbe9-8149-492f-83af-ac99bd67b13e",
   "metadata": {},
   "source": [
    "**Описание базового датасета**\n",
    "\n",
    "Для обучения и инференса обоих задач у вас есть следующие поля:\n",
    "\n",
    "* __title__ - заголовок,\n",
    "* __description__ - описание,\n",
    "* __subcategory__ - подкатегория,\n",
    "* __category__ - категория,\n",
    "* __price__ - цена,\n",
    "* __region__ - регион,\n",
    "* __city__ - город,\n",
    "* __datetime_submitted__ - дата размещения.\n"
   ]
  },
  {
   "cell_type": "code",
   "execution_count": 11,
   "id": "560b32fc-f56c-4c28-b0b2-f098b1392408",
   "metadata": {},
   "outputs": [
    {
     "name": "stdout",
     "output_type": "stream",
     "text": [
      "CPU times: user 13.2 s, sys: 775 ms, total: 14 s\n",
      "Wall time: 15.8 s\n"
     ]
    },
    {
     "data": {
      "text/html": [
       "<div>\n",
       "<style scoped>\n",
       "    .dataframe tbody tr th:only-of-type {\n",
       "        vertical-align: middle;\n",
       "    }\n",
       "\n",
       "    .dataframe tbody tr th {\n",
       "        vertical-align: top;\n",
       "    }\n",
       "\n",
       "    .dataframe thead th {\n",
       "        text-align: right;\n",
       "    }\n",
       "</style>\n",
       "<table border=\"1\" class=\"dataframe\">\n",
       "  <thead>\n",
       "    <tr style=\"text-align: right;\">\n",
       "      <th></th>\n",
       "      <th>title</th>\n",
       "      <th>description</th>\n",
       "      <th>subcategory</th>\n",
       "      <th>category</th>\n",
       "      <th>price</th>\n",
       "      <th>region</th>\n",
       "      <th>city</th>\n",
       "      <th>datetime_submitted</th>\n",
       "      <th>is_bad</th>\n",
       "    </tr>\n",
       "  </thead>\n",
       "  <tbody>\n",
       "    <tr>\n",
       "      <th>0</th>\n",
       "      <td>Диван-кровать</td>\n",
       "      <td>Продаем диван-кровать. Удобный механизм - евро...</td>\n",
       "      <td>Мебель и интерьер</td>\n",
       "      <td>Для дома и дачи</td>\n",
       "      <td>7000.0</td>\n",
       "      <td>Россия</td>\n",
       "      <td>Москва</td>\n",
       "      <td>2019-06-01 00:00:15.180656</td>\n",
       "      <td>0</td>\n",
       "    </tr>\n",
       "    <tr>\n",
       "      <th>1</th>\n",
       "      <td>Кожух рулевой колонки Даф хф 91 4509834</td>\n",
       "      <td>Кожух рулевой колонки DAF XF 94 (60066004)/\\n ...</td>\n",
       "      <td>Запчасти и аксессуары</td>\n",
       "      <td>Транспорт</td>\n",
       "      <td>2290.0</td>\n",
       "      <td>Россия</td>\n",
       "      <td>Москва</td>\n",
       "      <td>2019-06-01 00:00:44.317933</td>\n",
       "      <td>0</td>\n",
       "    </tr>\n",
       "    <tr>\n",
       "      <th>2</th>\n",
       "      <td>Дешёвый буст аккаунтов Dota 4</td>\n",
       "      <td>! Буст аккаунтов с ммр выше 1000ммр не беру ! ...</td>\n",
       "      <td>Предложение услуг</td>\n",
       "      <td>Услуги</td>\n",
       "      <td>200.0</td>\n",
       "      <td>Северная Осетия</td>\n",
       "      <td>Владикавказ</td>\n",
       "      <td>2019-06-01 00:00:50.249692</td>\n",
       "      <td>1</td>\n",
       "    </tr>\n",
       "    <tr>\n",
       "      <th>3</th>\n",
       "      <td>Телевизор sharp.Смарт тв.Интернет</td>\n",
       "      <td>Продам телевизор . Диагональ 450.наличие входа...</td>\n",
       "      <td>Аудио и видео</td>\n",
       "      <td>Бытовая электроника</td>\n",
       "      <td>25000.0</td>\n",
       "      <td>Калининградская область</td>\n",
       "      <td>Советск</td>\n",
       "      <td>2019-06-01 00:00:50.325799</td>\n",
       "      <td>1</td>\n",
       "    </tr>\n",
       "    <tr>\n",
       "      <th>4</th>\n",
       "      <td>Открытка-конверт</td>\n",
       "      <td>Открытки-конверты ручной работы/\\nВыполнены в ...</td>\n",
       "      <td>Коллекционирование</td>\n",
       "      <td>Хобби и отдых</td>\n",
       "      <td>150.0</td>\n",
       "      <td>Ставропольский край</td>\n",
       "      <td>Ессентукская</td>\n",
       "      <td>2019-06-01 00:00:56.632655</td>\n",
       "      <td>0</td>\n",
       "    </tr>\n",
       "  </tbody>\n",
       "</table>\n",
       "</div>"
      ],
      "text/plain": [
       "                                     title  \\\n",
       "0                            Диван-кровать   \n",
       "1  Кожух рулевой колонки Даф хф 91 4509834   \n",
       "2            Дешёвый буст аккаунтов Dota 4   \n",
       "3        Телевизор sharp.Смарт тв.Интернет   \n",
       "4                         Открытка-конверт   \n",
       "\n",
       "                                         description            subcategory  \\\n",
       "0  Продаем диван-кровать. Удобный механизм - евро...      Мебель и интерьер   \n",
       "1  Кожух рулевой колонки DAF XF 94 (60066004)/\\n ...  Запчасти и аксессуары   \n",
       "2  ! Буст аккаунтов с ммр выше 1000ммр не беру ! ...      Предложение услуг   \n",
       "3  Продам телевизор . Диагональ 450.наличие входа...          Аудио и видео   \n",
       "4  Открытки-конверты ручной работы/\\nВыполнены в ...     Коллекционирование   \n",
       "\n",
       "              category    price                   region          city  \\\n",
       "0      Для дома и дачи   7000.0                   Россия        Москва   \n",
       "1            Транспорт   2290.0                   Россия        Москва   \n",
       "2               Услуги    200.0          Северная Осетия   Владикавказ   \n",
       "3  Бытовая электроника  25000.0  Калининградская область       Советск   \n",
       "4        Хобби и отдых    150.0      Ставропольский край  Ессентукская   \n",
       "\n",
       "           datetime_submitted  is_bad  \n",
       "0  2019-06-01 00:00:15.180656       0  \n",
       "1  2019-06-01 00:00:44.317933       0  \n",
       "2  2019-06-01 00:00:50.249692       1  \n",
       "3  2019-06-01 00:00:50.325799       1  \n",
       "4  2019-06-01 00:00:56.632655       0  "
      ]
     },
     "execution_count": 11,
     "metadata": {},
     "output_type": "execute_result"
    }
   ],
   "source": [
    "%%time\n",
    "\n",
    "df_train = pd.read_csv(TRAIN_DATASET_PATH)\n",
    "df_train.head()"
   ]
  },
  {
   "cell_type": "markdown",
   "id": "65d781d1-e02a-48e4-89fa-58e6757610eb",
   "metadata": {},
   "source": [
    "__Примечание:__  \n",
    "Изначально второй датасет назывался валидационный (val.csv). Но, для простаты восприятия переименнуем его в тестовый.  "
   ]
  },
  {
   "cell_type": "code",
   "execution_count": 12,
   "id": "d6983a4c-de7e-4e7f-a253-0642380d17da",
   "metadata": {
    "tags": []
   },
   "outputs": [
    {
     "name": "stdout",
     "output_type": "stream",
     "text": [
      "CPU times: user 298 ms, sys: 16.2 ms, total: 314 ms\n",
      "Wall time: 352 ms\n"
     ]
    },
    {
     "data": {
      "text/html": [
       "<div>\n",
       "<style scoped>\n",
       "    .dataframe tbody tr th:only-of-type {\n",
       "        vertical-align: middle;\n",
       "    }\n",
       "\n",
       "    .dataframe tbody tr th {\n",
       "        vertical-align: top;\n",
       "    }\n",
       "\n",
       "    .dataframe thead th {\n",
       "        text-align: right;\n",
       "    }\n",
       "</style>\n",
       "<table border=\"1\" class=\"dataframe\">\n",
       "  <thead>\n",
       "    <tr style=\"text-align: right;\">\n",
       "      <th></th>\n",
       "      <th>title</th>\n",
       "      <th>description</th>\n",
       "      <th>subcategory</th>\n",
       "      <th>category</th>\n",
       "      <th>price</th>\n",
       "      <th>region</th>\n",
       "      <th>city</th>\n",
       "      <th>datetime_submitted</th>\n",
       "      <th>is_bad</th>\n",
       "    </tr>\n",
       "  </thead>\n",
       "  <tbody>\n",
       "    <tr>\n",
       "      <th>0</th>\n",
       "      <td>Шины</td>\n",
       "      <td>Звонить 89425546881</td>\n",
       "      <td>Запчасти и аксессуары</td>\n",
       "      <td>Транспорт</td>\n",
       "      <td>2000.0</td>\n",
       "      <td>Тульская область</td>\n",
       "      <td>Огаревка</td>\n",
       "      <td>2019-10-10 00:00:25.200714</td>\n",
       "      <td>1</td>\n",
       "    </tr>\n",
       "    <tr>\n",
       "      <th>1</th>\n",
       "      <td>Продается мобильная перегородка с дверью</td>\n",
       "      <td>Мобильная перегородка, предназначена для разгр...</td>\n",
       "      <td>Оборудование для бизнеса</td>\n",
       "      <td>Для бизнеса</td>\n",
       "      <td>10500.0</td>\n",
       "      <td>Вологодская область</td>\n",
       "      <td>Вологда</td>\n",
       "      <td>2019-10-10 00:03:11.527292</td>\n",
       "      <td>0</td>\n",
       "    </tr>\n",
       "    <tr>\n",
       "      <th>2</th>\n",
       "      <td>Комплект зимних шин на дисках 682/32/64</td>\n",
       "      <td>Шины зимние б/у Marshal Assimetric I”Zen KW 61...</td>\n",
       "      <td>Запчасти и аксессуары</td>\n",
       "      <td>Транспорт</td>\n",
       "      <td>4000.0</td>\n",
       "      <td>Россия</td>\n",
       "      <td>Москва</td>\n",
       "      <td>2019-10-10 00:05:07.193248</td>\n",
       "      <td>1</td>\n",
       "    </tr>\n",
       "    <tr>\n",
       "      <th>3</th>\n",
       "      <td>Кровать-трансормер Дакота сб-4085</td>\n",
       "      <td>Продаю кровать-трансформер производства \"Столп...</td>\n",
       "      <td>Мебель и интерьер</td>\n",
       "      <td>Для дома и дачи</td>\n",
       "      <td>17000.0</td>\n",
       "      <td>Московская область</td>\n",
       "      <td>Химки</td>\n",
       "      <td>2019-10-10 00:05:58.165179</td>\n",
       "      <td>0</td>\n",
       "    </tr>\n",
       "    <tr>\n",
       "      <th>4</th>\n",
       "      <td>Honda VFR 800 2004 г.в</td>\n",
       "      <td>Мот в отличном состоянии для своих лет, Родной...</td>\n",
       "      <td>Мотоциклы и мототехника</td>\n",
       "      <td>Транспорт</td>\n",
       "      <td>235000.0</td>\n",
       "      <td>Брянская область</td>\n",
       "      <td>Брянск</td>\n",
       "      <td>2019-10-10 00:06:19.231151</td>\n",
       "      <td>0</td>\n",
       "    </tr>\n",
       "  </tbody>\n",
       "</table>\n",
       "</div>"
      ],
      "text/plain": [
       "                                      title  \\\n",
       "0                                      Шины   \n",
       "1  Продается мобильная перегородка с дверью   \n",
       "2   Комплект зимних шин на дисках 682/32/64   \n",
       "3         Кровать-трансормер Дакота сб-4085   \n",
       "4                    Honda VFR 800 2004 г.в   \n",
       "\n",
       "                                         description  \\\n",
       "0                                Звонить 89425546881   \n",
       "1  Мобильная перегородка, предназначена для разгр...   \n",
       "2  Шины зимние б/у Marshal Assimetric I”Zen KW 61...   \n",
       "3  Продаю кровать-трансформер производства \"Столп...   \n",
       "4  Мот в отличном состоянии для своих лет, Родной...   \n",
       "\n",
       "                subcategory         category     price               region  \\\n",
       "0     Запчасти и аксессуары        Транспорт    2000.0     Тульская область   \n",
       "1  Оборудование для бизнеса      Для бизнеса   10500.0  Вологодская область   \n",
       "2     Запчасти и аксессуары        Транспорт    4000.0               Россия   \n",
       "3         Мебель и интерьер  Для дома и дачи   17000.0   Московская область   \n",
       "4   Мотоциклы и мототехника        Транспорт  235000.0     Брянская область   \n",
       "\n",
       "       city          datetime_submitted  is_bad  \n",
       "0  Огаревка  2019-10-10 00:00:25.200714       1  \n",
       "1   Вологда  2019-10-10 00:03:11.527292       0  \n",
       "2    Москва  2019-10-10 00:05:07.193248       1  \n",
       "3     Химки  2019-10-10 00:05:58.165179       0  \n",
       "4    Брянск  2019-10-10 00:06:19.231151       0  "
      ]
     },
     "execution_count": 12,
     "metadata": {},
     "output_type": "execute_result"
    }
   ],
   "source": [
    "%%time\n",
    "\n",
    "df_test = pd.read_csv(TEST_DATASET_PATH)\n",
    "df_test.head()"
   ]
  },
  {
   "cell_type": "code",
   "execution_count": 13,
   "id": "efb5cd0d-d1aa-467d-8817-e1bac3a36aac",
   "metadata": {},
   "outputs": [
    {
     "name": "stdout",
     "output_type": "stream",
     "text": [
      "Тренировочный датасет df_train: (984487, 9)\n",
      "Тестовый датасет df_test: (16237, 9)\n"
     ]
    }
   ],
   "source": [
    "print('Тренировочный датасет df_train:', df_train.shape)\n",
    "print('Тестовый датасет df_test:', df_test.shape)"
   ]
  },
  {
   "cell_type": "markdown",
   "id": "2317befc-5a3c-4bb3-bee3-eb92a91c426e",
   "metadata": {},
   "source": [
    "__Примечание:__  \n",
    "Объединяем df_train и df_test"
   ]
  },
  {
   "cell_type": "code",
   "execution_count": 14,
   "id": "79878da7-d94e-444e-89ce-debd5c97bd4c",
   "metadata": {},
   "outputs": [],
   "source": [
    "df_train = pd.concat([df_train, df_test], axis=0, ignore_index=True)"
   ]
  },
  {
   "cell_type": "code",
   "execution_count": 15,
   "id": "6176145c-96fa-4efc-a791-2e722344e3d0",
   "metadata": {},
   "outputs": [
    {
     "name": "stdout",
     "output_type": "stream",
     "text": [
      "Объединенный датасет df_train: (1000724, 9)\n"
     ]
    }
   ],
   "source": [
    "print('Объединенный датасет df_train:', df_train.shape)"
   ]
  },
  {
   "cell_type": "markdown",
   "id": "58eb2aef-f999-4f65-a2ab-ddc6a3639868",
   "metadata": {
    "tags": []
   },
   "source": [
    "## Анализ данных (Exploratory Data Analysis (EDA))<a class=\"anchor\" id=\"eda\"></a>"
   ]
  },
  {
   "cell_type": "markdown",
   "id": "f9bbab4c-6e48-4eda-9d63-51df2d4e72ee",
   "metadata": {},
   "source": [
    "### Обзор данных<a class=\"anchor\" id=\"data_overview\"></a>"
   ]
  },
  {
   "cell_type": "code",
   "execution_count": 16,
   "id": "e65a176c-814a-4bb8-98d6-cba400061ad8",
   "metadata": {
    "tags": []
   },
   "outputs": [
    {
     "name": "stdout",
     "output_type": "stream",
     "text": [
      "<class 'pandas.core.frame.DataFrame'>\n",
      "RangeIndex: 1000724 entries, 0 to 1000723\n",
      "Data columns (total 9 columns):\n",
      " #   Column              Non-Null Count    Dtype  \n",
      "---  ------              --------------    -----  \n",
      " 0   title               1000724 non-null  object \n",
      " 1   description         1000724 non-null  object \n",
      " 2   subcategory         1000724 non-null  object \n",
      " 3   category            1000724 non-null  object \n",
      " 4   price               941813 non-null   float64\n",
      " 5   region              1000724 non-null  object \n",
      " 6   city                1000724 non-null  object \n",
      " 7   datetime_submitted  1000724 non-null  object \n",
      " 8   is_bad              1000724 non-null  int64  \n",
      "dtypes: float64(1), int64(1), object(7)\n",
      "memory usage: 68.7+ MB\n"
     ]
    }
   ],
   "source": [
    "df_train.info()"
   ]
  },
  {
   "cell_type": "markdown",
   "id": "016ac2e1-bf35-4243-82a9-2756a4f04b9e",
   "metadata": {},
   "source": [
    " Посмотрим на NaN'ы:"
   ]
  },
  {
   "cell_type": "code",
   "execution_count": 17,
   "id": "951cf40c-f50b-48b6-9a9c-d2ff649620b9",
   "metadata": {
    "tags": []
   },
   "outputs": [
    {
     "data": {
      "text/plain": [
       "False    941813\n",
       "True      58911\n",
       "Name: price, dtype: int64"
      ]
     },
     "execution_count": 17,
     "metadata": {},
     "output_type": "execute_result"
    }
   ],
   "source": [
    "df_train['price'].isna().value_counts()"
   ]
  },
  {
   "cell_type": "code",
   "execution_count": 18,
   "id": "08fa6054-aee8-4dfd-8afe-06417dcdf484",
   "metadata": {
    "tags": []
   },
   "outputs": [
    {
     "data": {
      "text/html": [
       "<div>\n",
       "<style scoped>\n",
       "    .dataframe tbody tr th:only-of-type {\n",
       "        vertical-align: middle;\n",
       "    }\n",
       "\n",
       "    .dataframe tbody tr th {\n",
       "        vertical-align: top;\n",
       "    }\n",
       "\n",
       "    .dataframe thead th {\n",
       "        text-align: right;\n",
       "    }\n",
       "</style>\n",
       "<table border=\"1\" class=\"dataframe\">\n",
       "  <thead>\n",
       "    <tr style=\"text-align: right;\">\n",
       "      <th></th>\n",
       "      <th>title</th>\n",
       "      <th>description</th>\n",
       "      <th>subcategory</th>\n",
       "      <th>category</th>\n",
       "      <th>price</th>\n",
       "      <th>region</th>\n",
       "      <th>city</th>\n",
       "      <th>datetime_submitted</th>\n",
       "      <th>is_bad</th>\n",
       "    </tr>\n",
       "  </thead>\n",
       "  <tbody>\n",
       "    <tr>\n",
       "      <th>22</th>\n",
       "      <td>Монтаж отопления гвс. хвс. установка сантехники</td>\n",
       "      <td>Несколько вариантов разводки системы отопления...</td>\n",
       "      <td>Предложение услуг</td>\n",
       "      <td>Услуги</td>\n",
       "      <td>NaN</td>\n",
       "      <td>Смоленская область</td>\n",
       "      <td>Вязьма</td>\n",
       "      <td>2019-06-01 00:06:52.358883</td>\n",
       "      <td>0</td>\n",
       "    </tr>\n",
       "    <tr>\n",
       "      <th>47</th>\n",
       "      <td>Обучение.Удостоворение.Электробезопасность.охрана</td>\n",
       "      <td>5.       Аттестация сотрудников:  рабочего пер...</td>\n",
       "      <td>Предложение услуг</td>\n",
       "      <td>Услуги</td>\n",
       "      <td>NaN</td>\n",
       "      <td>Россия</td>\n",
       "      <td>Москва</td>\n",
       "      <td>2019-06-01 00:13:49.892272</td>\n",
       "      <td>0</td>\n",
       "    </tr>\n",
       "    <tr>\n",
       "      <th>113</th>\n",
       "      <td>Автомобиль в разборе: Citroen Berlingo 2002-2008</td>\n",
       "      <td>В наличии Автомобиль в разборе:/\\n/\\nCitroen B...</td>\n",
       "      <td>Запчасти и аксессуары</td>\n",
       "      <td>Транспорт</td>\n",
       "      <td>NaN</td>\n",
       "      <td>Россия</td>\n",
       "      <td>Москва</td>\n",
       "      <td>2019-06-01 00:39:31.479077</td>\n",
       "      <td>0</td>\n",
       "    </tr>\n",
       "    <tr>\n",
       "      <th>125</th>\n",
       "      <td>Квартира в рассрочку</td>\n",
       "      <td>Есть возможность приобретения квартиры на терр...</td>\n",
       "      <td>Предложение услуг</td>\n",
       "      <td>Услуги</td>\n",
       "      <td>NaN</td>\n",
       "      <td>Магаданская область</td>\n",
       "      <td>Магадан</td>\n",
       "      <td>2019-06-01 00:44:13.808647</td>\n",
       "      <td>1</td>\n",
       "    </tr>\n",
       "    <tr>\n",
       "      <th>129</th>\n",
       "      <td>Колёса</td>\n",
       "      <td>Продуется колеса с дисками штампованными , плю...</td>\n",
       "      <td>Запчасти и аксессуары</td>\n",
       "      <td>Транспорт</td>\n",
       "      <td>NaN</td>\n",
       "      <td>Чеченская Республика</td>\n",
       "      <td>Грозный</td>\n",
       "      <td>2019-06-01 00:45:39.741722</td>\n",
       "      <td>1</td>\n",
       "    </tr>\n",
       "    <tr>\n",
       "      <th>...</th>\n",
       "      <td>...</td>\n",
       "      <td>...</td>\n",
       "      <td>...</td>\n",
       "      <td>...</td>\n",
       "      <td>...</td>\n",
       "      <td>...</td>\n",
       "      <td>...</td>\n",
       "      <td>...</td>\n",
       "      <td>...</td>\n",
       "    </tr>\n",
       "    <tr>\n",
       "      <th>1000616</th>\n",
       "      <td>Самовар угольный Тулпромторг обьём 3 л</td>\n",
       "      <td>Коллекционный угольный самовар Тулпромторг/\\nТ...</td>\n",
       "      <td>Коллекционирование</td>\n",
       "      <td>Хобби и отдых</td>\n",
       "      <td>NaN</td>\n",
       "      <td>Россия</td>\n",
       "      <td>Москва</td>\n",
       "      <td>2019-10-14 22:32:33.468887</td>\n",
       "      <td>0</td>\n",
       "    </tr>\n",
       "    <tr>\n",
       "      <th>1000632</th>\n",
       "      <td>Отдам в добрые руки</td>\n",
       "      <td>Отдам даром метиса таксы,4 месяца все вопросы ...</td>\n",
       "      <td>Собаки</td>\n",
       "      <td>Животные</td>\n",
       "      <td>NaN</td>\n",
       "      <td>Калужская область</td>\n",
       "      <td>Кондрово</td>\n",
       "      <td>2019-10-14 22:45:29.454668</td>\n",
       "      <td>1</td>\n",
       "    </tr>\n",
       "    <tr>\n",
       "      <th>1000654</th>\n",
       "      <td>2d печать металлом и широкоформатная 2d печать</td>\n",
       "      <td>Широкоформатная 4d печать 3900х3000х700, 4d пе...</td>\n",
       "      <td>Предложение услуг</td>\n",
       "      <td>Услуги</td>\n",
       "      <td>NaN</td>\n",
       "      <td>Россия</td>\n",
       "      <td>Санкт-Петербург</td>\n",
       "      <td>2019-10-14 23:02:33.001932</td>\n",
       "      <td>0</td>\n",
       "    </tr>\n",
       "    <tr>\n",
       "      <th>1000657</th>\n",
       "      <td>Офисный, персональный водитель</td>\n",
       "      <td>Спокоен, уравновешен, не раздражителен, вежлив...</td>\n",
       "      <td>Резюме</td>\n",
       "      <td>Работа</td>\n",
       "      <td>NaN</td>\n",
       "      <td>Россия</td>\n",
       "      <td>Москва</td>\n",
       "      <td>2019-10-14 23:03:31.889193</td>\n",
       "      <td>1</td>\n",
       "    </tr>\n",
       "    <tr>\n",
       "      <th>1000674</th>\n",
       "      <td>Иностранки обмен</td>\n",
       "      <td>Есть на обмен следующие монеты:/\\nСША 2 цент 2...</td>\n",
       "      <td>Коллекционирование</td>\n",
       "      <td>Хобби и отдых</td>\n",
       "      <td>NaN</td>\n",
       "      <td>Пермский край</td>\n",
       "      <td>Пермь</td>\n",
       "      <td>2019-10-14 23:22:41.805011</td>\n",
       "      <td>0</td>\n",
       "    </tr>\n",
       "  </tbody>\n",
       "</table>\n",
       "<p>58911 rows × 9 columns</p>\n",
       "</div>"
      ],
      "text/plain": [
       "                                                     title  \\\n",
       "22         Монтаж отопления гвс. хвс. установка сантехники   \n",
       "47       Обучение.Удостоворение.Электробезопасность.охрана   \n",
       "113       Автомобиль в разборе: Citroen Berlingo 2002-2008   \n",
       "125                                   Квартира в рассрочку   \n",
       "129                                                 Колёса   \n",
       "...                                                    ...   \n",
       "1000616             Самовар угольный Тулпромторг обьём 3 л   \n",
       "1000632                                Отдам в добрые руки   \n",
       "1000654     2d печать металлом и широкоформатная 2d печать   \n",
       "1000657                     Офисный, персональный водитель   \n",
       "1000674                                   Иностранки обмен   \n",
       "\n",
       "                                               description  \\\n",
       "22       Несколько вариантов разводки системы отопления...   \n",
       "47       5.       Аттестация сотрудников:  рабочего пер...   \n",
       "113      В наличии Автомобиль в разборе:/\\n/\\nCitroen B...   \n",
       "125      Есть возможность приобретения квартиры на терр...   \n",
       "129      Продуется колеса с дисками штампованными , плю...   \n",
       "...                                                    ...   \n",
       "1000616  Коллекционный угольный самовар Тулпромторг/\\nТ...   \n",
       "1000632  Отдам даром метиса таксы,4 месяца все вопросы ...   \n",
       "1000654  Широкоформатная 4d печать 3900х3000х700, 4d пе...   \n",
       "1000657  Спокоен, уравновешен, не раздражителен, вежлив...   \n",
       "1000674  Есть на обмен следующие монеты:/\\nСША 2 цент 2...   \n",
       "\n",
       "                   subcategory       category  price                region  \\\n",
       "22           Предложение услуг         Услуги    NaN    Смоленская область   \n",
       "47           Предложение услуг         Услуги    NaN                Россия   \n",
       "113      Запчасти и аксессуары      Транспорт    NaN                Россия   \n",
       "125          Предложение услуг         Услуги    NaN   Магаданская область   \n",
       "129      Запчасти и аксессуары      Транспорт    NaN  Чеченская Республика   \n",
       "...                        ...            ...    ...                   ...   \n",
       "1000616     Коллекционирование  Хобби и отдых    NaN                Россия   \n",
       "1000632                 Собаки       Животные    NaN     Калужская область   \n",
       "1000654      Предложение услуг         Услуги    NaN                Россия   \n",
       "1000657                 Резюме         Работа    NaN                Россия   \n",
       "1000674     Коллекционирование  Хобби и отдых    NaN         Пермский край   \n",
       "\n",
       "                    city          datetime_submitted  is_bad  \n",
       "22                Вязьма  2019-06-01 00:06:52.358883       0  \n",
       "47                Москва  2019-06-01 00:13:49.892272       0  \n",
       "113               Москва  2019-06-01 00:39:31.479077       0  \n",
       "125              Магадан  2019-06-01 00:44:13.808647       1  \n",
       "129              Грозный  2019-06-01 00:45:39.741722       1  \n",
       "...                  ...                         ...     ...  \n",
       "1000616           Москва  2019-10-14 22:32:33.468887       0  \n",
       "1000632         Кондрово  2019-10-14 22:45:29.454668       1  \n",
       "1000654  Санкт-Петербург  2019-10-14 23:02:33.001932       0  \n",
       "1000657           Москва  2019-10-14 23:03:31.889193       1  \n",
       "1000674            Пермь  2019-10-14 23:22:41.805011       0  \n",
       "\n",
       "[58911 rows x 9 columns]"
      ]
     },
     "execution_count": 18,
     "metadata": {},
     "output_type": "execute_result"
    }
   ],
   "source": [
    "df_train[df_train.isnull().any(1)]"
   ]
  },
  {
   "cell_type": "code",
   "execution_count": 19,
   "id": "ac418b19-0fb5-4cf9-bb21-ea64550fc148",
   "metadata": {},
   "outputs": [
    {
     "data": {
      "text/plain": [
       "title                               Малыши из подвала очень хотят домой\n",
       "description           ❗❗❗СРОЧНО❗❗❗МАЛЫШИ ИЗ ПОДВАЛА ИЩУТ ДОМ❗/\\n(пос...\n",
       "subcategory                                                      Собаки\n",
       "category                                                       Животные\n",
       "price                                                               NaN\n",
       "region                                          Калининградская область\n",
       "city                                                        Калининград\n",
       "datetime_submitted                           2019-10-09 23:14:49.807021\n",
       "is_bad                                                                1\n",
       "Name: 984404, dtype: object"
      ]
     },
     "execution_count": 19,
     "metadata": {},
     "output_type": "execute_result"
    }
   ],
   "source": [
    "df_train.iloc[984404]"
   ]
  },
  {
   "cell_type": "code",
   "execution_count": 20,
   "id": "3fbeefbe-b225-4269-aa93-12ed4f334ba2",
   "metadata": {},
   "outputs": [
    {
     "name": "stdout",
     "output_type": "stream",
     "text": [
      "❗❗❗СРОЧНО❗❗❗МАЛЫШИ ИЗ ПОДВАЛА ИЩУТ ДОМ❗/\n",
      "(пост по ним https://vk.com/wall407411512_3075)/\n",
      "/\n",
      "Замечательные малыши (возраст примерно месяца 3,5-6) родились в подвале.. мы их перенесли в другой уголок, но долго они там не смогут находиться, им срочно нужен хозяин!!! /\n",
      "/\n",
      "🌸Будут среднего размера. (видели мать, она по колено) Обработали щенуль от глистов. /\n",
      "🌸 Испуганные, а глаза полные надежды и в то же время такой глубокой грусти... Приютите малыша, любой их них не забудет вашего добра и будет верным другом./\n",
      "/\n",
      "🌸Возможна доставка.\n",
      " \n",
      "срочно малыши из подвала ищут дом пост по ним https vk com wall407411512 3075 замечательные малыши возраст примерно месяца 3 5 6 родились в подвале мы их перенесли в другой уголок но долго они там не смогут находиться им срочно нужен хозяин будут среднего размера видели мать она по колено обработали щенуль от глистов испуганные а глаза полные надежды и в то же время такой глубокой грусти приютите малыша любой их них не забудет вашего добра и будет верным другом возможна доставка\n"
     ]
    }
   ],
   "source": [
    "s = df_train.iloc[984404]['description']\n",
    "s1 = get_text_clearing(s)\n",
    "print(s, ' ', s1, sep='\\n')"
   ]
  },
  {
   "cell_type": "code",
   "execution_count": null,
   "id": "1f63d048-1a4d-4bd3-9794-068a1f98e3fd",
   "metadata": {},
   "outputs": [],
   "source": []
  },
  {
   "cell_type": "code",
   "execution_count": 21,
   "id": "f0066a08-b31d-42b4-9abb-bfab5dd9083c",
   "metadata": {},
   "outputs": [
    {
     "name": "stdout",
     "output_type": "stream",
     "text": [
      "Количество значений \"NaN\" в тренеровочном датасете (%):\n",
      "price    5.886838\n",
      "dtype: float64\n"
     ]
    }
   ],
   "source": [
    "is_nan = df_train.isna().sum() / len(df_train) * 100\n",
    "print('Количество значений \"NaN\" в тренеровочном датасете (%):')\n",
    "print(is_nan[is_nan > 0].sort_values(ascending=False))"
   ]
  },
  {
   "cell_type": "markdown",
   "id": "fb24fca0-92f8-430d-a237-e18d9c761f51",
   "metadata": {},
   "source": [
    "**Вывод:** Пропуски в df_train есть в признаке 'price'. 58048 штук или 5,9%. <br>\n",
    "В прочих случаях, при таком проценте, можно строки удалять. Попробуем оставить и заменить на 0 или среднее значение."
   ]
  },
  {
   "cell_type": "markdown",
   "id": "57f04607-c7c8-4a14-8cb3-2b3b62df3d54",
   "metadata": {},
   "source": [
    "Обзор уникальных значений в признаках"
   ]
  },
  {
   "cell_type": "code",
   "execution_count": 22,
   "id": "93b13084-33c2-4724-af0a-ed9a45c7cb1a",
   "metadata": {},
   "outputs": [
    {
     "data": {
      "image/png": "[encoded data removed]",
      "text/plain": [
       "<Figure size 1152x360 with 1 Axes>"
      ]
     },
     "metadata": {},
     "output_type": "display_data"
    }
   ],
   "source": [
    "plt.figure(figsize=(16, 5))\n",
    "\n",
    "cols = df_train.columns\n",
    "uniques = [len(df_train[col].unique()) for col in cols]\n",
    "\n",
    "ax = sns.barplot(x=cols, y=uniques, palette='hls', log=True)\n",
    "ax.set(xlabel='Признаки', ylabel='Количество', title='Количество уникальных признаков')\n",
    "\n",
    "\n",
    "for p, uniq in zip(ax.patches, uniques):\n",
    "    ax.text(p.get_x() + p.get_width()/2.,\n",
    "            uniq + 10,\n",
    "            uniq,\n",
    "            ha=\"center\") \n",
    "\n",
    "ax.set_xticklabels(ax.get_xticklabels(), rotation=45);"
   ]
  },
  {
   "cell_type": "markdown",
   "id": "da1d8fff-1385-4833-95df-73b7b81c93e5",
   "metadata": {},
   "source": [
    "**Вывод:**  \n",
    "Train.csv  \n",
    "Состоит из 984487 строк и 9 столбцов. 7 признаков имеют тип данных object, и по одному float64 и int64(целевая переменная «is_bad»). В столбце «price» имеются 58048 пропусков NaN, что составляет 5,9%.  \n",
    "Test.csv  \n",
    "Состоит из 16237 строк и 9 столбцов. 7 признаков имеют тип данных object, и по одному float64 и int64(целевая переменная «is_bad»). В столбце «price» имеются 863 пропусков NaN, что составляет 5,3%."
   ]
  },
  {
   "cell_type": "markdown",
   "id": "b2bf717a-4512-417e-8dff-f648e6dad79e",
   "metadata": {},
   "source": [
    "### Обзор целевой переменной<a class=\"anchor\" id=\"target_feature_overview\"></a>"
   ]
  },
  {
   "cell_type": "markdown",
   "id": "b333c3ff-44a4-4073-8af0-8a2b66953a11",
   "metadata": {},
   "source": [
    "__is_bad__ - метка, характеризующая наличие в объявлении контактной информации.  \n",
    "Имеет значения:  \n",
    "0 – контактная информация отсутствует;  \n",
    "1 – есть контактная информация"
   ]
  },
  {
   "cell_type": "code",
   "execution_count": 23,
   "id": "fb419f97-1e38-450e-acb5-2edf5fdefbc6",
   "metadata": {},
   "outputs": [
    {
     "data": {
      "text/plain": [
       "0    758477\n",
       "1    242247\n",
       "Name: is_bad, dtype: int64"
      ]
     },
     "execution_count": 23,
     "metadata": {},
     "output_type": "execute_result"
    }
   ],
   "source": [
    "df_train['is_bad'].value_counts()"
   ]
  },
  {
   "cell_type": "code",
   "execution_count": 24,
   "id": "bd9ee886-ad75-4c48-9c20-8e55f172c1cd",
   "metadata": {},
   "outputs": [],
   "source": [
    "is_0 = len(df_train[df_train['is_bad'] == 0])\n",
    "is_1 = len(df_train[df_train['is_bad'] == 1])"
   ]
  },
  {
   "cell_type": "code",
   "execution_count": 25,
   "id": "ca3c8563-b55e-4cae-a9c4-d0c1809004f4",
   "metadata": {},
   "outputs": [
    {
     "name": "stdout",
     "output_type": "stream",
     "text": [
      "Количество значений \"0\" в тестовом датасете: 75.793 %\n",
      "Количество значений \"1\" в тестовом датасете: 24.207 %\n"
     ]
    }
   ],
   "source": [
    "is_0_percent = is_0 / len(df_train) * 100\n",
    "is_1_percent = is_1 / len(df_train) * 100\n",
    "print(f'Количество значений \"0\" в тестовом датасете: {is_0_percent:.3f} %')\n",
    "print(f'Количество значений \"1\" в тестовом датасете: {is_1_percent:.3f} %')"
   ]
  },
  {
   "cell_type": "code",
   "execution_count": 26,
   "id": "4478777a-cb05-4b89-8605-7b7cdd0e4c9e",
   "metadata": {},
   "outputs": [
    {
     "data": {
      "image/png": "[encoded data removed]",
      "text/plain": [
       "<Figure size 864x576 with 1 Axes>"
      ]
     },
     "metadata": {},
     "output_type": "display_data"
    }
   ],
   "source": [
    "counts = df_train['is_bad']. value_counts()\n",
    "\n",
    "plt.figure(figsize=(12,8))\n",
    "plt.title('Распределение переменной \"is_bad\"')\n",
    "sns.barplot(counts.index, counts.values)\n",
    "plt.xlabel('Тип метки: 0 – контактная информация отсутствует, 1 – есть контактная информация')\n",
    "plt.ylabel('Количество')\n",
    "plt.show()"
   ]
  },
  {
   "cell_type": "markdown",
   "id": "81251122-dfdb-4eae-8e86-daf580a9a87d",
   "metadata": {},
   "source": [
    "**Вывод:**  <br> \n",
    "В тренеровочном датасете (df_train) целевая переменная __is_bad__ имеет перевес примерно в 3 раза по значению 0: 75,798% против 24.202%. <br> \n",
    "Пропуски и выбросы отсутствуют."
   ]
  },
  {
   "cell_type": "markdown",
   "id": "6458dbdb-eec3-4e47-96e3-f5dcd525d9cc",
   "metadata": {},
   "source": [
    "### Обзор признаков<a class=\"anchor\" id=\"feature_overview\"></a>"
   ]
  },
  {
   "cell_type": "markdown",
   "id": "818f116d-2db3-4142-bdab-1690bf1241cb",
   "metadata": {},
   "source": [
    "#### __Заголовок__"
   ]
  },
  {
   "cell_type": "code",
   "execution_count": 27,
   "id": "7d0bd685-7d0c-492a-9627-4a040c80d00a",
   "metadata": {},
   "outputs": [
    {
     "data": {
      "text/plain": [
       "Платье                                               5198\n",
       "Диван                                                2803\n",
       "Велосипед                                            2602\n",
       "iPhone 7                                             2478\n",
       "Коляска                                              2253\n",
       "                                                     ... \n",
       "Кожаный руль с кнопками магнитолы Chevrolet Cruze       1\n",
       "Слинги для малыша                                       1\n",
       "Продам срез натуральных славянских волос                1\n",
       "Литература в таблицах и схемах (Мещерякова М.)          1\n",
       "BMW 7 серия, 1031                                       1\n",
       "Name: title, Length: 652724, dtype: int64"
      ]
     },
     "execution_count": 27,
     "metadata": {},
     "output_type": "execute_result"
    }
   ],
   "source": [
    "df_train['title'].value_counts()"
   ]
  },
  {
   "cell_type": "code",
   "execution_count": 28,
   "id": "31be4208-4f89-480f-aec0-ab3aaafb890c",
   "metadata": {},
   "outputs": [
    {
     "data": {
      "text/plain": [
       "Платье         5198\n",
       "Диван          2803\n",
       "Велосипед      2602\n",
       "iPhone 7       2478\n",
       "Коляска        2253\n",
       "Комбинезон     2061\n",
       "Куртка         1857\n",
       "Туфли          1812\n",
       "Холодильник    1806\n",
       "Кровать        1704\n",
       "Name: title, dtype: int64"
      ]
     },
     "execution_count": 28,
     "metadata": {},
     "output_type": "execute_result"
    }
   ],
   "source": [
    "data = df_train['title'].value_counts().iloc[:10]\n",
    "data"
   ]
  },
  {
   "cell_type": "code",
   "execution_count": 29,
   "id": "61bde663-4beb-4f2f-8550-8aad1f8ea1c4",
   "metadata": {},
   "outputs": [
    {
     "data": {
      "image/png": "[encoded data removed]",
      "text/plain": [
       "<Figure size 1152x360 with 1 Axes>"
      ]
     },
     "metadata": {},
     "output_type": "display_data"
    }
   ],
   "source": [
    "plt.figure(figsize=(16,5))\n",
    "\n",
    "ax = sns.barplot(x=data.index, y=data.values)\n",
    "ax.set_xlabel('Наиболее популярные заголовки', fontsize=16)\n",
    "ax.set_ylabel('Количество', fontsize=16)\n",
    "ax.set_title('Распределение объявлений по заголовкам', fontsize=20)\n",
    "plt.xticks(rotation=40);"
   ]
  },
  {
   "cell_type": "markdown",
   "id": "0beaf69c-cebc-41c3-be85-3b25c8d308fa",
   "metadata": {},
   "source": [
    "#### __Регион и город__"
   ]
  },
  {
   "cell_type": "code",
   "execution_count": 30,
   "id": "be410ffb-032f-478f-b9b3-6d1fdcb93760",
   "metadata": {},
   "outputs": [
    {
     "data": {
      "text/plain": [
       "region               city       \n",
       "Адыгея               Абадзехская      38\n",
       "                     Адыгейск         35\n",
       "                     Белое             8\n",
       "                     Блечепсин        10\n",
       "                     Вольное           7\n",
       "                                    ... \n",
       "Ярославская область  Семибратово      14\n",
       "                     Туношна          26\n",
       "                     Тутаев          155\n",
       "                     Углич           172\n",
       "                     Ярославль      6901\n",
       "Name: is_bad, Length: 3545, dtype: int64"
      ]
     },
     "execution_count": 30,
     "metadata": {},
     "output_type": "execute_result"
    }
   ],
   "source": [
    "df_train.groupby(['region', 'city']).count()['is_bad']"
   ]
  },
  {
   "cell_type": "markdown",
   "id": "67786ac8-cdc0-49f7-8736-1cbb580e5798",
   "metadata": {},
   "source": [
    "#### __Регион__"
   ]
  },
  {
   "cell_type": "code",
   "execution_count": 31,
   "id": "6f88fdd0-f477-4f73-8d66-ce4c99ddcaca",
   "metadata": {},
   "outputs": [
    {
     "data": {
      "text/plain": [
       "Россия                  241999\n",
       "Краснодарский край       53994\n",
       "Московская область       50959\n",
       "Татарстан                34215\n",
       "Свердловская область     28363\n",
       "                         ...  \n",
       "Магаданская область        505\n",
       "Тыва                       194\n",
       "Сахалинская область        170\n",
       "Ненецкий АО                 60\n",
       "Чукотский АО                27\n",
       "Name: region, Length: 85, dtype: int64"
      ]
     },
     "execution_count": 31,
     "metadata": {},
     "output_type": "execute_result"
    }
   ],
   "source": [
    "df_train['region'].value_counts()"
   ]
  },
  {
   "cell_type": "code",
   "execution_count": 32,
   "id": "5dcf73bd-53a7-43ad-9ea2-54abc44d8a4a",
   "metadata": {},
   "outputs": [
    {
     "data": {
      "text/plain": [
       "Россия                   241999\n",
       "Краснодарский край        53994\n",
       "Московская область        50959\n",
       "Татарстан                 34215\n",
       "Свердловская область      28363\n",
       "Ростовская область        28001\n",
       "Нижегородская область     24255\n",
       "Башкортостан              24247\n",
       "Челябинская область       23944\n",
       "Самарская область         23855\n",
       "Name: region, dtype: int64"
      ]
     },
     "execution_count": 32,
     "metadata": {},
     "output_type": "execute_result"
    }
   ],
   "source": [
    "data = df_train['region'].value_counts().iloc[0:10]\n",
    "data"
   ]
  },
  {
   "cell_type": "code",
   "execution_count": 33,
   "id": "115b6450-97b1-4497-b0e0-eecb5f6cdb94",
   "metadata": {},
   "outputs": [
    {
     "data": {
      "text/plain": [
       "(array([0, 1, 2, 3, 4, 5, 6, 7, 8, 9]),\n",
       " [Text(0, 0, 'Россия'),\n",
       "  Text(1, 0, 'Краснодарский край'),\n",
       "  Text(2, 0, 'Московская область'),\n",
       "  Text(3, 0, 'Татарстан'),\n",
       "  Text(4, 0, 'Свердловская область'),\n",
       "  Text(5, 0, 'Ростовская область'),\n",
       "  Text(6, 0, 'Нижегородская область'),\n",
       "  Text(7, 0, 'Башкортостан'),\n",
       "  Text(8, 0, 'Челябинская область'),\n",
       "  Text(9, 0, 'Самарская область')])"
      ]
     },
     "execution_count": 33,
     "metadata": {},
     "output_type": "execute_result"
    },
    {
     "data": {
      "image/png": "[encoded data removed]",
      "text/plain": [
       "<Figure size 1152x360 with 1 Axes>"
      ]
     },
     "metadata": {},
     "output_type": "display_data"
    }
   ],
   "source": [
    "plt.figure(figsize=(16,5))\n",
    "\n",
    "ax = sns.barplot(x=data.index, y=data.values)\n",
    "ax.set_xlabel('Наиболее популярные регионы', fontsize=16)\n",
    "ax.set_ylabel('Количество', fontsize=16)\n",
    "ax.set_title('Распределение объявлений по регионам', fontsize=20)\n",
    "plt.xticks(rotation=45)"
   ]
  },
  {
   "cell_type": "markdown",
   "id": "c7d64ca3-f62f-4e29-a277-00e7e00e7f04",
   "metadata": {},
   "source": [
    "#### __Город__"
   ]
  },
  {
   "cell_type": "code",
   "execution_count": 34,
   "id": "92335796-246a-4526-9898-02f72262c9ff",
   "metadata": {},
   "outputs": [
    {
     "data": {
      "text/plain": [
       "Москва             161395\n",
       "Санкт-Петербург     80604\n",
       "Краснодар           24273\n",
       "Казань              20526\n",
       "Екатеринбург        19453\n",
       "                    ...  \n",
       "Ак-Довурак              1\n",
       "Талицы                  1\n",
       "Глотовка                1\n",
       "Смирных                 1\n",
       "Шахтерск                1\n",
       "Name: city, Length: 3311, dtype: int64"
      ]
     },
     "execution_count": 34,
     "metadata": {},
     "output_type": "execute_result"
    }
   ],
   "source": [
    "df_train['city'].value_counts()"
   ]
  },
  {
   "cell_type": "code",
   "execution_count": 35,
   "id": "21f43f23-813c-4bac-8adb-3943ef4c458c",
   "metadata": {},
   "outputs": [
    {
     "data": {
      "text/plain": [
       "Москва             161395\n",
       "Санкт-Петербург     80604\n",
       "Краснодар           24273\n",
       "Казань              20526\n",
       "Екатеринбург        19453\n",
       "Новосибирск         18617\n",
       "Нижний Новгород     17822\n",
       "Ростов-на-Дону      16403\n",
       "Уфа                 15314\n",
       "Челябинск           14727\n",
       "Name: city, dtype: int64"
      ]
     },
     "execution_count": 35,
     "metadata": {},
     "output_type": "execute_result"
    }
   ],
   "source": [
    "data = df_train['city'].value_counts().iloc[:10]\n",
    "data"
   ]
  },
  {
   "cell_type": "code",
   "execution_count": 36,
   "id": "dc9b7f89-7a44-4dce-80e2-4b4903e920a0",
   "metadata": {},
   "outputs": [
    {
     "data": {
      "image/png": "[encoded data removed]",
      "text/plain": [
       "<Figure size 1152x360 with 1 Axes>"
      ]
     },
     "metadata": {},
     "output_type": "display_data"
    }
   ],
   "source": [
    "plt.figure(figsize=(16,5))\n",
    "\n",
    "ax = sns.barplot(x=data.index, y=data.values)\n",
    "ax.set_xlabel('Наиболее популярные города', fontsize=16)\n",
    "ax.set_ylabel('Количество', fontsize=16)\n",
    "ax.set_title('Распределение объявлений по городам', fontsize=20)\n",
    "plt.xticks(rotation=40);"
   ]
  },
  {
   "cell_type": "markdown",
   "id": "2763a7d3-a83f-4003-8bf3-71b16ce6dd18",
   "metadata": {},
   "source": [
    "**Примечание:**  \n",
    "Интересно, что по частоте Краснодарский край опережает Московскую и Ленинградскую. Но по городам Москва и Санкт-Петербург лидируют."
   ]
  },
  {
   "cell_type": "markdown",
   "id": "df5c6829-f7a3-4d1f-90d3-70b93b8520de",
   "metadata": {},
   "source": [
    "#### __Категории и подкатегории__"
   ]
  },
  {
   "cell_type": "code",
   "execution_count": 37,
   "id": "fb38d8c4-d59d-4aee-92f2-0b0d54adf5de",
   "metadata": {},
   "outputs": [
    {
     "data": {
      "text/plain": [
       "category             subcategory                 \n",
       "Бытовая электроника  Аудио и видео                    24579\n",
       "                     Игры, приставки и программы       5603\n",
       "                     Настольные компьютеры             6674\n",
       "                     Ноутбуки                          7083\n",
       "                     Оргтехника и расходники           7134\n",
       "                     Планшеты и электронные книги      4026\n",
       "                     Телефоны                         66064\n",
       "                     Товары для компьютера            28310\n",
       "                     Фототехника                       5447\n",
       "Для бизнеса          Готовый бизнес                    2035\n",
       "                     Оборудование для бизнеса         10212\n",
       "Для дома и дачи      Бытовая техника                  22796\n",
       "                     Мебель и интерьер                45406\n",
       "                     Посуда и товары для кухни         5138\n",
       "                     Продукты питания                  4680\n",
       "                     Растения                          4388\n",
       "                     Ремонт и строительство           51630\n",
       "Животные             Аквариум                          1323\n",
       "                     Другие животные                  10772\n",
       "                     Кошки                             8182\n",
       "                     Птицы                             1651\n",
       "                     Собаки                            6538\n",
       "                     Товары для животных               3165\n",
       "Личные вещи          Детская одежда и обувь           60990\n",
       "                     Красота и здоровье               11137\n",
       "                     Одежда, обувь, аксессуары        79748\n",
       "                     Товары для детей и игрушки       39874\n",
       "                     Часы и украшения                  9671\n",
       "Недвижимость         Гаражи и машиноместа              4169\n",
       "                     Дома, дачи, коттеджи             20681\n",
       "                     Земельные участки                12320\n",
       "                     Квартиры                         53944\n",
       "                     Коммерческая недвижимость         6561\n",
       "                     Комнаты                           4625\n",
       "                     Недвижимость за рубежом            253\n",
       "Работа               Вакансии                         13396\n",
       "                     Резюме                           13356\n",
       "Транспорт            Автомобили                       45586\n",
       "                     Водный транспорт                  2770\n",
       "                     Грузовики и спецтехника          15250\n",
       "                     Запчасти и аксессуары           142635\n",
       "                     Мотоциклы и мототехника           8477\n",
       "Услуги               Предложение услуг                57353\n",
       "Хобби и отдых        Билеты и путешествия              2104\n",
       "                     Велосипеды                        9505\n",
       "                     Книги и журналы                  10690\n",
       "                     Коллекционирование               19053\n",
       "                     Музыкальные инструменты           3775\n",
       "                     Охота и рыбалка                   3064\n",
       "                     Спорт и отдых                    16901\n",
       "Name: is_bad, dtype: int64"
      ]
     },
     "execution_count": 37,
     "metadata": {},
     "output_type": "execute_result"
    }
   ],
   "source": [
    "df_train.groupby(['category', 'subcategory']).count()['is_bad']"
   ]
  },
  {
   "cell_type": "code",
   "execution_count": 38,
   "id": "36bb4e12-e035-49e0-9a42-f1cf65ac2504",
   "metadata": {},
   "outputs": [
    {
     "data": {
      "text/plain": [
       "Транспорт              214718\n",
       "Личные вещи            201420\n",
       "Бытовая электроника    154920\n",
       "Для дома и дачи        134038\n",
       "Недвижимость           102553\n",
       "Хобби и отдых           65092\n",
       "Услуги                  57353\n",
       "Животные                31631\n",
       "Работа                  26752\n",
       "Для бизнеса             12247\n",
       "Name: category, dtype: int64"
      ]
     },
     "execution_count": 38,
     "metadata": {},
     "output_type": "execute_result"
    }
   ],
   "source": [
    "data = df_train['category'].value_counts().iloc[:10]\n",
    "data"
   ]
  },
  {
   "cell_type": "code",
   "execution_count": 39,
   "id": "aee5614b-52e2-4a96-a900-be7151dcbbd1",
   "metadata": {},
   "outputs": [
    {
     "data": {
      "image/png": "[encoded data removed]",
      "text/plain": [
       "<Figure size 1152x360 with 1 Axes>"
      ]
     },
     "metadata": {},
     "output_type": "display_data"
    }
   ],
   "source": [
    "plt.figure(figsize=(16,5))\n",
    "\n",
    "ax = sns.barplot(x=data.index, y=data.values)\n",
    "ax.set_xlabel('Наиболее популярные категории', fontsize=16)\n",
    "ax.set_ylabel('Количество', fontsize=16)\n",
    "ax.set_title('Распределение объявлений по категориям', fontsize=20)\n",
    "plt.xticks(rotation=40);"
   ]
  },
  {
   "cell_type": "code",
   "execution_count": 40,
   "id": "42fad9d1-a5da-41ef-a3a1-9d0d3be0977d",
   "metadata": {},
   "outputs": [
    {
     "data": {
      "text/plain": [
       "Запчасти и аксессуары         142635\n",
       "Одежда, обувь, аксессуары      79748\n",
       "Телефоны                       66064\n",
       "Детская одежда и обувь         60990\n",
       "Предложение услуг              57353\n",
       "Квартиры                       53944\n",
       "Ремонт и строительство         51630\n",
       "Автомобили                     45586\n",
       "Мебель и интерьер              45406\n",
       "Товары для детей и игрушки     39874\n",
       "Name: subcategory, dtype: int64"
      ]
     },
     "execution_count": 40,
     "metadata": {},
     "output_type": "execute_result"
    }
   ],
   "source": [
    "data = df_train['subcategory'].value_counts().iloc[:10]\n",
    "data"
   ]
  },
  {
   "cell_type": "code",
   "execution_count": 41,
   "id": "0752edc2-dc23-4cbe-9766-0ea0ffe4df3c",
   "metadata": {},
   "outputs": [
    {
     "data": {
      "image/png": "[encoded data removed]",
      "text/plain": [
       "<Figure size 1152x360 with 1 Axes>"
      ]
     },
     "metadata": {},
     "output_type": "display_data"
    }
   ],
   "source": [
    "plt.figure(figsize=(16,5))\n",
    "\n",
    "ax = sns.barplot(x=data.index, y=data.values)\n",
    "ax.set_xlabel('Наиболее популярные подкатегории', fontsize=16)\n",
    "ax.set_ylabel('Количество', fontsize=16)\n",
    "ax.set_title('Распределение объявлений по подкатегориям', fontsize=20)\n",
    "plt.xticks(rotation=40);"
   ]
  },
  {
   "cell_type": "markdown",
   "id": "5899ef99-ab07-443f-b462-1f7a171e6f8c",
   "metadata": {},
   "source": [
    "####  __Дата размещения__"
   ]
  },
  {
   "cell_type": "code",
   "execution_count": 42,
   "id": "2d4cc807-030c-4b0d-9d36-fe06577e60ef",
   "metadata": {},
   "outputs": [],
   "source": [
    "# год один - 2019, поэтому его не учитываем\n",
    "df_train['month'] = pd.to_datetime(df_train['datetime_submitted']).dt.strftime(\"%m\").astype(int)\n",
    "df_train['day'] = pd.to_datetime(df_train['datetime_submitted']).dt.strftime(\"%d\").astype(int)"
   ]
  },
  {
   "cell_type": "code",
   "execution_count": 43,
   "id": "153225e9-26e4-4375-b3e6-69abbcec87bc",
   "metadata": {},
   "outputs": [
    {
     "data": {
      "text/html": [
       "<div>\n",
       "<style scoped>\n",
       "    .dataframe tbody tr th:only-of-type {\n",
       "        vertical-align: middle;\n",
       "    }\n",
       "\n",
       "    .dataframe tbody tr th {\n",
       "        vertical-align: top;\n",
       "    }\n",
       "\n",
       "    .dataframe thead th {\n",
       "        text-align: right;\n",
       "    }\n",
       "</style>\n",
       "<table border=\"1\" class=\"dataframe\">\n",
       "  <thead>\n",
       "    <tr style=\"text-align: right;\">\n",
       "      <th></th>\n",
       "      <th>title</th>\n",
       "      <th>description</th>\n",
       "      <th>subcategory</th>\n",
       "      <th>category</th>\n",
       "      <th>price</th>\n",
       "      <th>region</th>\n",
       "      <th>city</th>\n",
       "      <th>is_bad</th>\n",
       "      <th>month</th>\n",
       "      <th>day</th>\n",
       "    </tr>\n",
       "  </thead>\n",
       "  <tbody>\n",
       "    <tr>\n",
       "      <th>458753</th>\n",
       "      <td>SAMSUNG Galaxy S60</td>\n",
       "      <td>Samsung Galaxy S50/\\n/\\nВам салютует сеть мага...</td>\n",
       "      <td>Телефоны</td>\n",
       "      <td>Бытовая электроника</td>\n",
       "      <td>47899.0</td>\n",
       "      <td>Татарстан</td>\n",
       "      <td>Казань</td>\n",
       "      <td>0</td>\n",
       "      <td>8</td>\n",
       "      <td>3</td>\n",
       "    </tr>\n",
       "    <tr>\n",
       "      <th>108739</th>\n",
       "      <td>Холодильный шкаф</td>\n",
       "      <td>Холодильный шкаф шх 0.5 с/\\n /\\n Габариты Высо...</td>\n",
       "      <td>Оборудование для бизнеса</td>\n",
       "      <td>Для бизнеса</td>\n",
       "      <td>14000.0</td>\n",
       "      <td>Свердловская область</td>\n",
       "      <td>Екатеринбург</td>\n",
       "      <td>0</td>\n",
       "      <td>6</td>\n",
       "      <td>14</td>\n",
       "    </tr>\n",
       "    <tr>\n",
       "      <th>836560</th>\n",
       "      <td>Skoda Rapid, 2031</td>\n",
       "      <td>Преимущества автомобиля:/\\n - 4 хозяина/\\n - О...</td>\n",
       "      <td>Автомобили</td>\n",
       "      <td>Транспорт</td>\n",
       "      <td>600000.0</td>\n",
       "      <td>Архангельская область</td>\n",
       "      <td>Архангельск</td>\n",
       "      <td>0</td>\n",
       "      <td>9</td>\n",
       "      <td>21</td>\n",
       "    </tr>\n",
       "    <tr>\n",
       "      <th>674599</th>\n",
       "      <td>VIP продленка для младших школьников (центр)</td>\n",
       "      <td>\"Умный клуб\" ведет набор школьников 1-4 классо...</td>\n",
       "      <td>Предложение услуг</td>\n",
       "      <td>Услуги</td>\n",
       "      <td>8500.0</td>\n",
       "      <td>Алтайский край</td>\n",
       "      <td>Барнаул</td>\n",
       "      <td>0</td>\n",
       "      <td>8</td>\n",
       "      <td>30</td>\n",
       "    </tr>\n",
       "    <tr>\n",
       "      <th>387485</th>\n",
       "      <td>Профнастил некондиция</td>\n",
       "      <td>Наша компания работает более 50 лет!/\\n Напрям...</td>\n",
       "      <td>Ремонт и строительство</td>\n",
       "      <td>Для дома и дачи</td>\n",
       "      <td>141.0</td>\n",
       "      <td>Московская область</td>\n",
       "      <td>Мытищи</td>\n",
       "      <td>0</td>\n",
       "      <td>7</td>\n",
       "      <td>23</td>\n",
       "    </tr>\n",
       "    <tr>\n",
       "      <th>735215</th>\n",
       "      <td>Микроволновая печь Ariston Hotpoint</td>\n",
       "      <td>Продаю совершенно новую микроволновую печь. По...</td>\n",
       "      <td>Бытовая техника</td>\n",
       "      <td>Для дома и дачи</td>\n",
       "      <td>6990.0</td>\n",
       "      <td>Свердловская область</td>\n",
       "      <td>Екатеринбург</td>\n",
       "      <td>0</td>\n",
       "      <td>9</td>\n",
       "      <td>7</td>\n",
       "    </tr>\n",
       "    <tr>\n",
       "      <th>215403</th>\n",
       "      <td>Chery Fora (A14), 1009</td>\n",
       "      <td>Экономичный двигатель/\\n Дешевый в эксплуатаци...</td>\n",
       "      <td>Автомобили</td>\n",
       "      <td>Транспорт</td>\n",
       "      <td>60000.0</td>\n",
       "      <td>Россия</td>\n",
       "      <td>Санкт-Петербург</td>\n",
       "      <td>0</td>\n",
       "      <td>6</td>\n",
       "      <td>29</td>\n",
       "    </tr>\n",
       "    <tr>\n",
       "      <th>592682</th>\n",
       "      <td>Сандали антивальгус</td>\n",
       "      <td>Сандали носили 30дней на море. покупали специа...</td>\n",
       "      <td>Детская одежда и обувь</td>\n",
       "      <td>Личные вещи</td>\n",
       "      <td>1000.0</td>\n",
       "      <td>Россия</td>\n",
       "      <td>Москва</td>\n",
       "      <td>0</td>\n",
       "      <td>8</td>\n",
       "      <td>20</td>\n",
       "    </tr>\n",
       "    <tr>\n",
       "      <th>744188</th>\n",
       "      <td>Стиральная машина</td>\n",
       "      <td>Рабочая, нормальная машинка. Звонить по номеру...</td>\n",
       "      <td>Бытовая техника</td>\n",
       "      <td>Для дома и дачи</td>\n",
       "      <td>5000.0</td>\n",
       "      <td>Крым</td>\n",
       "      <td>Севастополь</td>\n",
       "      <td>1</td>\n",
       "      <td>9</td>\n",
       "      <td>8</td>\n",
       "    </tr>\n",
       "    <tr>\n",
       "      <th>78228</th>\n",
       "      <td>Электропроводка (Nissan Patrol)</td>\n",
       "      <td>[арт. 604827] Электропроводка/\\n/\\nповреждена/...</td>\n",
       "      <td>Запчасти и аксессуары</td>\n",
       "      <td>Транспорт</td>\n",
       "      <td>4499.0</td>\n",
       "      <td>Кировская область</td>\n",
       "      <td>Киров</td>\n",
       "      <td>0</td>\n",
       "      <td>6</td>\n",
       "      <td>10</td>\n",
       "    </tr>\n",
       "  </tbody>\n",
       "</table>\n",
       "</div>"
      ],
      "text/plain": [
       "                                               title  \\\n",
       "458753                            SAMSUNG Galaxy S60   \n",
       "108739                              Холодильный шкаф   \n",
       "836560                             Skoda Rapid, 2031   \n",
       "674599  VIP продленка для младших школьников (центр)   \n",
       "387485                         Профнастил некондиция   \n",
       "735215           Микроволновая печь Ariston Hotpoint   \n",
       "215403                        Chery Fora (A14), 1009   \n",
       "592682                           Сандали антивальгус   \n",
       "744188                             Стиральная машина   \n",
       "78228                Электропроводка (Nissan Patrol)   \n",
       "\n",
       "                                              description  \\\n",
       "458753  Samsung Galaxy S50/\\n/\\nВам салютует сеть мага...   \n",
       "108739  Холодильный шкаф шх 0.5 с/\\n /\\n Габариты Высо...   \n",
       "836560  Преимущества автомобиля:/\\n - 4 хозяина/\\n - О...   \n",
       "674599  \"Умный клуб\" ведет набор школьников 1-4 классо...   \n",
       "387485  Наша компания работает более 50 лет!/\\n Напрям...   \n",
       "735215  Продаю совершенно новую микроволновую печь. По...   \n",
       "215403  Экономичный двигатель/\\n Дешевый в эксплуатаци...   \n",
       "592682  Сандали носили 30дней на море. покупали специа...   \n",
       "744188  Рабочая, нормальная машинка. Звонить по номеру...   \n",
       "78228   [арт. 604827] Электропроводка/\\n/\\nповреждена/...   \n",
       "\n",
       "                     subcategory             category     price  \\\n",
       "458753                  Телефоны  Бытовая электроника   47899.0   \n",
       "108739  Оборудование для бизнеса          Для бизнеса   14000.0   \n",
       "836560                Автомобили            Транспорт  600000.0   \n",
       "674599         Предложение услуг               Услуги    8500.0   \n",
       "387485    Ремонт и строительство      Для дома и дачи     141.0   \n",
       "735215           Бытовая техника      Для дома и дачи    6990.0   \n",
       "215403                Автомобили            Транспорт   60000.0   \n",
       "592682    Детская одежда и обувь          Личные вещи    1000.0   \n",
       "744188           Бытовая техника      Для дома и дачи    5000.0   \n",
       "78228      Запчасти и аксессуары            Транспорт    4499.0   \n",
       "\n",
       "                       region             city  is_bad  month  day  \n",
       "458753              Татарстан           Казань       0      8    3  \n",
       "108739   Свердловская область     Екатеринбург       0      6   14  \n",
       "836560  Архангельская область      Архангельск       0      9   21  \n",
       "674599         Алтайский край          Барнаул       0      8   30  \n",
       "387485     Московская область           Мытищи       0      7   23  \n",
       "735215   Свердловская область     Екатеринбург       0      9    7  \n",
       "215403                 Россия  Санкт-Петербург       0      6   29  \n",
       "592682                 Россия           Москва       0      8   20  \n",
       "744188                   Крым      Севастополь       1      9    8  \n",
       "78228       Кировская область            Киров       0      6   10  "
      ]
     },
     "execution_count": 43,
     "metadata": {},
     "output_type": "execute_result"
    }
   ],
   "source": [
    "df_train = df_train.drop(['datetime_submitted'], axis=1)\n",
    "df_train.sample(10)"
   ]
  },
  {
   "cell_type": "markdown",
   "id": "63570110-e31b-4167-8d98-c4c738d988df",
   "metadata": {},
   "source": [
    "####  __Месяц__"
   ]
  },
  {
   "cell_type": "code",
   "execution_count": 44,
   "id": "d9371170-1079-4f5d-8607-53a7c5ac78a5",
   "metadata": {},
   "outputs": [
    {
     "data": {
      "text/plain": [
       "month  day\n",
       "6      1       9434\n",
       "       2       6724\n",
       "       3      11669\n",
       "       4       7933\n",
       "       5       8446\n",
       "              ...  \n",
       "10     10      3857\n",
       "       11      2896\n",
       "       12      3669\n",
       "       13      2312\n",
       "       14      3503\n",
       "Name: is_bad, Length: 136, dtype: int64"
      ]
     },
     "execution_count": 44,
     "metadata": {},
     "output_type": "execute_result"
    }
   ],
   "source": [
    "df_train.groupby(['month', 'day']).count()['is_bad']"
   ]
  },
  {
   "cell_type": "code",
   "execution_count": 45,
   "id": "04b8548a-3a87-4a3f-8852-779594c1ea1c",
   "metadata": {},
   "outputs": [
    {
     "data": {
      "text/plain": [
       "8     238540\n",
       "9     230465\n",
       "6     226905\n",
       "7     216421\n",
       "10     88393\n",
       "Name: month, dtype: int64"
      ]
     },
     "execution_count": 45,
     "metadata": {},
     "output_type": "execute_result"
    }
   ],
   "source": [
    "data = df_train['month'].value_counts().iloc[:]\n",
    "data"
   ]
  },
  {
   "cell_type": "code",
   "execution_count": 46,
   "id": "4c3924e6-805d-40fd-a159-cec37c48a155",
   "metadata": {},
   "outputs": [
    {
     "data": {
      "text/plain": [
       "Text(0.5, 1.0, 'Распределение объявлений по месяцам')"
      ]
     },
     "execution_count": 46,
     "metadata": {},
     "output_type": "execute_result"
    },
    {
     "data": {
      "image/png": "[encoded data removed]",
      "text/plain": [
       "<Figure size 1152x360 with 1 Axes>"
      ]
     },
     "metadata": {},
     "output_type": "display_data"
    }
   ],
   "source": [
    "plt.figure(figsize=(16,5))\n",
    "\n",
    "ax = sns.barplot(x=data.index, y=data.values)\n",
    "ax.set_xlabel('Месяц', fontsize=16)\n",
    "ax.set_ylabel('Количество', fontsize=16)\n",
    "ax.set_title('Распределение объявлений по месяцам', fontsize=20)"
   ]
  },
  {
   "cell_type": "markdown",
   "id": "09001763-d6ae-4fd9-9c9d-440d1d986915",
   "metadata": {},
   "source": [
    "**Примечание:**  \n",
    "Как и везде, пик интенсивности торговли приходится на середину года июнь-сентябрь."
   ]
  },
  {
   "cell_type": "markdown",
   "id": "25b65e8c-dd53-43e0-b517-66372d022b8e",
   "metadata": {},
   "source": [
    "####  __День__"
   ]
  },
  {
   "cell_type": "code",
   "execution_count": 47,
   "id": "450940fb-ac57-4751-8f03-c87e04fe3688",
   "metadata": {},
   "outputs": [
    {
     "data": {
      "text/plain": [
       "3     44390\n",
       "5     42610\n",
       "2     39285\n",
       "11    38534\n",
       "4     38231\n",
       "1     38204\n",
       "6     38123\n",
       "7     37690\n",
       "10    37386\n",
       "8     36563\n",
       "Name: day, dtype: int64"
      ]
     },
     "execution_count": 47,
     "metadata": {},
     "output_type": "execute_result"
    }
   ],
   "source": [
    "data = df_train['day'].value_counts().iloc[:10]\n",
    "data"
   ]
  },
  {
   "cell_type": "code",
   "execution_count": 48,
   "id": "14b925a5-9219-4192-8a7f-e29ef96b177c",
   "metadata": {
    "tags": []
   },
   "outputs": [
    {
     "data": {
      "text/plain": [
       "Text(0.5, 1.0, 'Распределение объявлений по числам месяца')"
      ]
     },
     "execution_count": 48,
     "metadata": {},
     "output_type": "execute_result"
    },
    {
     "data": {
      "image/png": "[encoded data removed]",
      "text/plain": [
       "<Figure size 1152x360 with 1 Axes>"
      ]
     },
     "metadata": {},
     "output_type": "display_data"
    }
   ],
   "source": [
    "plt.figure(figsize=(16,5))\n",
    "\n",
    "ax = sns.barplot(x=data.index, y=data.values)\n",
    "ax.set_xlabel('Наиболее часто встречающиеся числа месяца', fontsize=16)\n",
    "ax.set_ylabel('Количество', fontsize=16)\n",
    "ax.set_title('Распределение объявлений по числам месяца', fontsize=20)"
   ]
  },
  {
   "cell_type": "markdown",
   "id": "a2f31d66-2509-477c-a277-e65810cf0a30",
   "metadata": {},
   "source": [
    "####  __Цена__"
   ]
  },
  {
   "cell_type": "code",
   "execution_count": 49,
   "id": "58a398dc-ad73-4831-a00e-796ad9674a44",
   "metadata": {},
   "outputs": [],
   "source": [
    "pd.set_option('display.float_format', lambda x: f'{x:.3f}')"
   ]
  },
  {
   "cell_type": "code",
   "execution_count": 50,
   "id": "b284f02a-4779-4ae7-b855-b5d03b4bf05d",
   "metadata": {},
   "outputs": [
    {
     "data": {
      "text/plain": [
       "count         941813.000\n",
       "mean        12292473.153\n",
       "std       2793315614.722\n",
       "min                0.000\n",
       "25%             1000.000\n",
       "50%             3806.000\n",
       "75%            20000.000\n",
       "max     999999999999.000\n",
       "Name: price, dtype: float64"
      ]
     },
     "execution_count": 50,
     "metadata": {},
     "output_type": "execute_result"
    }
   ],
   "source": [
    "df_train['price'].describe()"
   ]
  },
  {
   "cell_type": "code",
   "execution_count": 51,
   "id": "5feac370-6cc5-404e-b62a-ff87c4441738",
   "metadata": {},
   "outputs": [
    {
     "data": {
      "text/html": [
       "<div>\n",
       "<style scoped>\n",
       "    .dataframe tbody tr th:only-of-type {\n",
       "        vertical-align: middle;\n",
       "    }\n",
       "\n",
       "    .dataframe tbody tr th {\n",
       "        vertical-align: top;\n",
       "    }\n",
       "\n",
       "    .dataframe thead th {\n",
       "        text-align: right;\n",
       "    }\n",
       "</style>\n",
       "<table border=\"1\" class=\"dataframe\">\n",
       "  <thead>\n",
       "    <tr style=\"text-align: right;\">\n",
       "      <th></th>\n",
       "      <th>title</th>\n",
       "      <th>description</th>\n",
       "      <th>subcategory</th>\n",
       "      <th>category</th>\n",
       "      <th>price</th>\n",
       "      <th>region</th>\n",
       "      <th>city</th>\n",
       "      <th>is_bad</th>\n",
       "      <th>month</th>\n",
       "      <th>day</th>\n",
       "    </tr>\n",
       "  </thead>\n",
       "  <tbody>\n",
       "    <tr>\n",
       "      <th>10807</th>\n",
       "      <td>Бригада фасадчиков</td>\n",
       "      <td>Бригада монтажников НВФ выполнит обустройство ...</td>\n",
       "      <td>Резюме</td>\n",
       "      <td>Работа</td>\n",
       "      <td>89776303121.000</td>\n",
       "      <td>Россия</td>\n",
       "      <td>Москва</td>\n",
       "      <td>1</td>\n",
       "      <td>6</td>\n",
       "      <td>2</td>\n",
       "    </tr>\n",
       "    <tr>\n",
       "      <th>24478</th>\n",
       "      <td>Продаю самца недорого</td>\n",
       "      <td>+7 913 188-93-05 звонить сюда</td>\n",
       "      <td>Собаки</td>\n",
       "      <td>Животные</td>\n",
       "      <td>999999999999.000</td>\n",
       "      <td>Волгоградская область</td>\n",
       "      <td>Волгоград</td>\n",
       "      <td>1</td>\n",
       "      <td>6</td>\n",
       "      <td>3</td>\n",
       "    </tr>\n",
       "    <tr>\n",
       "      <th>30318</th>\n",
       "      <td>Наращивание Ресниц</td>\n",
       "      <td>Милые девушки ✨👩🏼👩🏻‍🦳👩🏻/\\nДля отработки скорос...</td>\n",
       "      <td>Предложение услуг</td>\n",
       "      <td>Услуги</td>\n",
       "      <td>89215728255.000</td>\n",
       "      <td>Россия</td>\n",
       "      <td>Санкт-Петербург</td>\n",
       "      <td>1</td>\n",
       "      <td>6</td>\n",
       "      <td>4</td>\n",
       "    </tr>\n",
       "    <tr>\n",
       "      <th>37543</th>\n",
       "      <td>Таунхаус 300 м² на участке 51 сот.</td>\n",
       "      <td>Продам 4-ти квартирный таунхаус незавершенный ...</td>\n",
       "      <td>Дома, дачи, коттеджи</td>\n",
       "      <td>Недвижимость</td>\n",
       "      <td>89203106443.000</td>\n",
       "      <td>Смоленская область</td>\n",
       "      <td>Смоленск</td>\n",
       "      <td>1</td>\n",
       "      <td>6</td>\n",
       "      <td>5</td>\n",
       "    </tr>\n",
       "    <tr>\n",
       "      <th>47700</th>\n",
       "      <td>Дом 30 м² на участке 30 сот.</td>\n",
       "      <td>Общая площадь 443квадрата./\\nИмеются:/\\n огоро...</td>\n",
       "      <td>Дома, дачи, коттеджи</td>\n",
       "      <td>Недвижимость</td>\n",
       "      <td>11111000000.000</td>\n",
       "      <td>Ставропольский край</td>\n",
       "      <td>Безопасное</td>\n",
       "      <td>1</td>\n",
       "      <td>6</td>\n",
       "      <td>6</td>\n",
       "    </tr>\n",
       "    <tr>\n",
       "      <th>...</th>\n",
       "      <td>...</td>\n",
       "      <td>...</td>\n",
       "      <td>...</td>\n",
       "      <td>...</td>\n",
       "      <td>...</td>\n",
       "      <td>...</td>\n",
       "      <td>...</td>\n",
       "      <td>...</td>\n",
       "      <td>...</td>\n",
       "      <td>...</td>\n",
       "    </tr>\n",
       "    <tr>\n",
       "      <th>844708</th>\n",
       "      <td>Продам лп</td>\n",
       "      <td>Продам мою подругу. Зовут Настя( ещё откликает...</td>\n",
       "      <td>Мебель и интерьер</td>\n",
       "      <td>Для дома и дачи</td>\n",
       "      <td>100000000000.000</td>\n",
       "      <td>Саха (Якутия)</td>\n",
       "      <td>Нижний Куранах</td>\n",
       "      <td>1</td>\n",
       "      <td>9</td>\n",
       "      <td>22</td>\n",
       "    </tr>\n",
       "    <tr>\n",
       "      <th>888963</th>\n",
       "      <td>2-к квартира, 18.2 м², 5/5 эт.</td>\n",
       "      <td>ПРОДАМ!!!/\\nПродам 5х-комнатную квартиру в Хар...</td>\n",
       "      <td>Квартиры</td>\n",
       "      <td>Недвижимость</td>\n",
       "      <td>89143540052.000</td>\n",
       "      <td>Забайкальский край</td>\n",
       "      <td>Шерловая Гора</td>\n",
       "      <td>1</td>\n",
       "      <td>9</td>\n",
       "      <td>28</td>\n",
       "    </tr>\n",
       "    <tr>\n",
       "      <th>941783</th>\n",
       "      <td>Продаются куры,все вопросы по номеру</td>\n",
       "      <td>Продажа Кур</td>\n",
       "      <td>Птицы</td>\n",
       "      <td>Животные</td>\n",
       "      <td>89280871357.000</td>\n",
       "      <td>Чеченская Республика</td>\n",
       "      <td>Алхан-Кала</td>\n",
       "      <td>1</td>\n",
       "      <td>10</td>\n",
       "      <td>4</td>\n",
       "    </tr>\n",
       "    <tr>\n",
       "      <th>973855</th>\n",
       "      <td>Ещё один тренер cs:go</td>\n",
       "      <td>!учу только сильверов, иногда Голд нов и новен...</td>\n",
       "      <td>Предложение услуг</td>\n",
       "      <td>Услуги</td>\n",
       "      <td>999999999999.000</td>\n",
       "      <td>Свердловская область</td>\n",
       "      <td>Екатеринбург</td>\n",
       "      <td>0</td>\n",
       "      <td>10</td>\n",
       "      <td>8</td>\n",
       "    </tr>\n",
       "    <tr>\n",
       "      <th>988409</th>\n",
       "      <td>Рекламное агентство led dizayn</td>\n",
       "      <td>Делаем рекламу!!!/\\n8п9и5ш9е8м95 3м1н2е0 в Wha...</td>\n",
       "      <td>Предложение услуг</td>\n",
       "      <td>Услуги</td>\n",
       "      <td>89298926410.000</td>\n",
       "      <td>Чеченская Республика</td>\n",
       "      <td>Грозный</td>\n",
       "      <td>1</td>\n",
       "      <td>10</td>\n",
       "      <td>11</td>\n",
       "    </tr>\n",
       "  </tbody>\n",
       "</table>\n",
       "<p>61 rows × 10 columns</p>\n",
       "</div>"
      ],
      "text/plain": [
       "                                       title  \\\n",
       "10807                     Бригада фасадчиков   \n",
       "24478                  Продаю самца недорого   \n",
       "30318                     Наращивание Ресниц   \n",
       "37543     Таунхаус 300 м² на участке 51 сот.   \n",
       "47700           Дом 30 м² на участке 30 сот.   \n",
       "...                                      ...   \n",
       "844708                             Продам лп   \n",
       "888963        2-к квартира, 18.2 м², 5/5 эт.   \n",
       "941783  Продаются куры,все вопросы по номеру   \n",
       "973855                 Ещё один тренер cs:go   \n",
       "988409        Рекламное агентство led dizayn   \n",
       "\n",
       "                                              description  \\\n",
       "10807   Бригада монтажников НВФ выполнит обустройство ...   \n",
       "24478                       +7 913 188-93-05 звонить сюда   \n",
       "30318   Милые девушки ✨👩🏼👩🏻‍🦳👩🏻/\\nДля отработки скорос...   \n",
       "37543   Продам 4-ти квартирный таунхаус незавершенный ...   \n",
       "47700   Общая площадь 443квадрата./\\nИмеются:/\\n огоро...   \n",
       "...                                                   ...   \n",
       "844708  Продам мою подругу. Зовут Настя( ещё откликает...   \n",
       "888963  ПРОДАМ!!!/\\nПродам 5х-комнатную квартиру в Хар...   \n",
       "941783                                        Продажа Кур   \n",
       "973855  !учу только сильверов, иногда Голд нов и новен...   \n",
       "988409  Делаем рекламу!!!/\\n8п9и5ш9е8м95 3м1н2е0 в Wha...   \n",
       "\n",
       "                 subcategory         category            price  \\\n",
       "10807                 Резюме           Работа  89776303121.000   \n",
       "24478                 Собаки         Животные 999999999999.000   \n",
       "30318      Предложение услуг           Услуги  89215728255.000   \n",
       "37543   Дома, дачи, коттеджи     Недвижимость  89203106443.000   \n",
       "47700   Дома, дачи, коттеджи     Недвижимость  11111000000.000   \n",
       "...                      ...              ...              ...   \n",
       "844708     Мебель и интерьер  Для дома и дачи 100000000000.000   \n",
       "888963              Квартиры     Недвижимость  89143540052.000   \n",
       "941783                 Птицы         Животные  89280871357.000   \n",
       "973855     Предложение услуг           Услуги 999999999999.000   \n",
       "988409     Предложение услуг           Услуги  89298926410.000   \n",
       "\n",
       "                       region             city  is_bad  month  day  \n",
       "10807                  Россия           Москва       1      6    2  \n",
       "24478   Волгоградская область        Волгоград       1      6    3  \n",
       "30318                  Россия  Санкт-Петербург       1      6    4  \n",
       "37543      Смоленская область         Смоленск       1      6    5  \n",
       "47700     Ставропольский край       Безопасное       1      6    6  \n",
       "...                       ...              ...     ...    ...  ...  \n",
       "844708          Саха (Якутия)   Нижний Куранах       1      9   22  \n",
       "888963     Забайкальский край    Шерловая Гора       1      9   28  \n",
       "941783   Чеченская Республика       Алхан-Кала       1     10    4  \n",
       "973855   Свердловская область     Екатеринбург       0     10    8  \n",
       "988409   Чеченская Республика          Грозный       1     10   11  \n",
       "\n",
       "[61 rows x 10 columns]"
      ]
     },
     "execution_count": 51,
     "metadata": {},
     "output_type": "execute_result"
    }
   ],
   "source": [
    "df_train[df_train['price'] > 10000000000]"
   ]
  },
  {
   "cell_type": "code",
   "execution_count": 52,
   "id": "32163dcc-5892-4758-8a2a-ffa54a61d8e1",
   "metadata": {},
   "outputs": [
    {
     "data": {
      "image/png": "[encoded data removed]",
      "text/plain": [
       "<Figure size 864x360 with 1 Axes>"
      ]
     },
     "metadata": {},
     "output_type": "display_data"
    }
   ],
   "source": [
    "plt.figure(figsize=(12,5))\n",
    "\n",
    "g = sns.histplot(df_train['price'].dropna(), bins=50)\n",
    "g.set_xlabel('Цена', fontsize=15)\n",
    "g.set_ylabel('Количество', fontsize=15)\n",
    "g.set_title(\"График распределения цены\", fontsize=20);"
   ]
  },
  {
   "cell_type": "code",
   "execution_count": 53,
   "id": "a24aaa97-5bb2-4c2c-8a63-462a2bbe68a9",
   "metadata": {},
   "outputs": [
    {
     "data": {
      "image/png": "[encoded data removed]",
      "text/plain": [
       "<Figure size 864x360 with 1 Axes>"
      ]
     },
     "metadata": {},
     "output_type": "display_data"
    }
   ],
   "source": [
    "df_train['price_log'] = np.log(df_train['price'] + 1)\n",
    "\n",
    "plt.figure(figsize=(12,5))\n",
    "\n",
    "g = sns.histplot(df_train['price_log'].dropna(), bins=50)\n",
    "g.set_xlabel('Цена (Log)', fontsize=15)\n",
    "g.set_ylabel('Количество', fontsize=15)\n",
    "g.set_title(\"График распределения цены\", fontsize=20);"
   ]
  },
  {
   "cell_type": "code",
   "execution_count": 54,
   "id": "272cf28a-383a-4710-b9bc-b0c8525bdb3b",
   "metadata": {},
   "outputs": [
    {
     "data": {
      "text/plain": [
       "(148.4131591025766, 268337.2865208745)"
      ]
     },
     "execution_count": 54,
     "metadata": {},
     "output_type": "execute_result"
    }
   ],
   "source": [
    "np.exp(5), np.exp(12.5)"
   ]
  },
  {
   "cell_type": "markdown",
   "id": "4977a07c-cd63-4ea0-8fd2-1883dea22c57",
   "metadata": {},
   "source": [
    "__Выводы:__<br>\n",
    "В  признаке __price__ присутствуют как заведомо некорректные данные, например номера телефонов, так и явные выбросы. Также, как уже говорилось ранее, есть пропуски: 58048 штук или 5,9%. Как будет видно далее, данный параметр не оказывает сильного влияния на модель, поэтому оставим его как есть."
   ]
  },
  {
   "cell_type": "markdown",
   "id": "443b1d78-4f58-4f7e-bb3b-ae9c963aed2c",
   "metadata": {},
   "source": [
    "### Распределение целевой переменной по признакам<a class=\"anchor\" id=\"target_distribution\"></a>"
   ]
  },
  {
   "cell_type": "code",
   "execution_count": 55,
   "id": "d1dc95d4-297f-4702-bc7d-fb309ba9fbe9",
   "metadata": {},
   "outputs": [
    {
     "data": {
      "text/html": [
       "<style type=\"text/css\">\n",
       "#T_32fc7_row0_col0, #T_32fc7_row3_col1, #T_32fc7_row4_col0 {\n",
       "  background-color: #0000ff;\n",
       "  color: #f1f1f1;\n",
       "}\n",
       "#T_32fc7_row0_col1, #T_32fc7_row3_col0, #T_32fc7_row4_col1 {\n",
       "  background-color: #f0f0f3;\n",
       "  color: #000000;\n",
       "}\n",
       "#T_32fc7_row1_col0 {\n",
       "  background-color: #0505ff;\n",
       "  color: #f1f1f1;\n",
       "}\n",
       "#T_32fc7_row1_col1 {\n",
       "  background-color: #ececf3;\n",
       "  color: #000000;\n",
       "}\n",
       "#T_32fc7_row2_col0 {\n",
       "  background-color: #3535fc;\n",
       "  color: #f1f1f1;\n",
       "}\n",
       "#T_32fc7_row2_col1 {\n",
       "  background-color: #bcbcf5;\n",
       "  color: #000000;\n",
       "}\n",
       "#T_32fc7_row5_col0 {\n",
       "  background-color: #8787f8;\n",
       "  color: #f1f1f1;\n",
       "}\n",
       "#T_32fc7_row5_col1 {\n",
       "  background-color: #6a6afa;\n",
       "  color: #f1f1f1;\n",
       "}\n",
       "#T_32fc7_row6_col0 {\n",
       "  background-color: #9999f7;\n",
       "  color: #f1f1f1;\n",
       "}\n",
       "#T_32fc7_row6_col1 {\n",
       "  background-color: #5858fb;\n",
       "  color: #f1f1f1;\n",
       "}\n",
       "#T_32fc7_row7_col0 {\n",
       "  background-color: #4a4afb;\n",
       "  color: #f1f1f1;\n",
       "}\n",
       "#T_32fc7_row7_col1 {\n",
       "  background-color: #a6a6f7;\n",
       "  color: #000000;\n",
       "}\n",
       "#T_32fc7_row8_col0 {\n",
       "  background-color: #d7d7f4;\n",
       "  color: #000000;\n",
       "}\n",
       "#T_32fc7_row8_col1 {\n",
       "  background-color: #1919fe;\n",
       "  color: #f1f1f1;\n",
       "}\n",
       "#T_32fc7_row9_col0 {\n",
       "  background-color: #0e0efe;\n",
       "  color: #f1f1f1;\n",
       "}\n",
       "#T_32fc7_row9_col1 {\n",
       "  background-color: #e2e2f3;\n",
       "  color: #000000;\n",
       "}\n",
       "</style>\n",
       "<table id=\"T_32fc7\">\n",
       "  <thead>\n",
       "    <tr>\n",
       "      <th class=\"index_name level0\" >is_bad</th>\n",
       "      <th id=\"T_32fc7_level0_col0\" class=\"col_heading level0 col0\" >0</th>\n",
       "      <th id=\"T_32fc7_level0_col1\" class=\"col_heading level0 col1\" >1</th>\n",
       "    </tr>\n",
       "    <tr>\n",
       "      <th class=\"index_name level0\" >category</th>\n",
       "      <th class=\"blank col0\" >&nbsp;</th>\n",
       "      <th class=\"blank col1\" >&nbsp;</th>\n",
       "    </tr>\n",
       "  </thead>\n",
       "  <tbody>\n",
       "    <tr>\n",
       "      <th id=\"T_32fc7_level0_row0\" class=\"row_heading level0 row0\" >Бытовая электроника</th>\n",
       "      <td id=\"T_32fc7_row0_col0\" class=\"data row0 col0\" >0.863349</td>\n",
       "      <td id=\"T_32fc7_row0_col1\" class=\"data row0 col1\" >0.136651</td>\n",
       "    </tr>\n",
       "    <tr>\n",
       "      <th id=\"T_32fc7_level0_row1\" class=\"row_heading level0 row1\" >Для бизнеса</th>\n",
       "      <td id=\"T_32fc7_row1_col0\" class=\"data row1 col0\" >0.855312</td>\n",
       "      <td id=\"T_32fc7_row1_col1\" class=\"data row1 col1\" >0.144688</td>\n",
       "    </tr>\n",
       "    <tr>\n",
       "      <th id=\"T_32fc7_level0_row2\" class=\"row_heading level0 row2\" >Для дома и дачи</th>\n",
       "      <td id=\"T_32fc7_row2_col0\" class=\"data row2 col0\" >0.772982</td>\n",
       "      <td id=\"T_32fc7_row2_col1\" class=\"data row2 col1\" >0.227018</td>\n",
       "    </tr>\n",
       "    <tr>\n",
       "      <th id=\"T_32fc7_level0_row3\" class=\"row_heading level0 row3\" >Животные</th>\n",
       "      <td id=\"T_32fc7_row3_col0\" class=\"data row3 col0\" >0.454206</td>\n",
       "      <td id=\"T_32fc7_row3_col1\" class=\"data row3 col1\" >0.545794</td>\n",
       "    </tr>\n",
       "    <tr>\n",
       "      <th id=\"T_32fc7_level0_row4\" class=\"row_heading level0 row4\" >Личные вещи</th>\n",
       "      <td id=\"T_32fc7_row4_col0\" class=\"data row4 col0\" >0.862496</td>\n",
       "      <td id=\"T_32fc7_row4_col1\" class=\"data row4 col1\" >0.137504</td>\n",
       "    </tr>\n",
       "    <tr>\n",
       "      <th id=\"T_32fc7_level0_row5\" class=\"row_heading level0 row5\" >Недвижимость</th>\n",
       "      <td id=\"T_32fc7_row5_col0\" class=\"data row5 col0\" >0.634053</td>\n",
       "      <td id=\"T_32fc7_row5_col1\" class=\"data row5 col1\" >0.365947</td>\n",
       "    </tr>\n",
       "    <tr>\n",
       "      <th id=\"T_32fc7_level0_row6\" class=\"row_heading level0 row6\" >Работа</th>\n",
       "      <td id=\"T_32fc7_row6_col0\" class=\"data row6 col0\" >0.603394</td>\n",
       "      <td id=\"T_32fc7_row6_col1\" class=\"data row6 col1\" >0.396606</td>\n",
       "    </tr>\n",
       "    <tr>\n",
       "      <th id=\"T_32fc7_level0_row7\" class=\"row_heading level0 row7\" >Транспорт</th>\n",
       "      <td id=\"T_32fc7_row7_col0\" class=\"data row7 col0\" >0.736850</td>\n",
       "      <td id=\"T_32fc7_row7_col1\" class=\"data row7 col1\" >0.263150</td>\n",
       "    </tr>\n",
       "    <tr>\n",
       "      <th id=\"T_32fc7_level0_row8\" class=\"row_heading level0 row8\" >Услуги</th>\n",
       "      <td id=\"T_32fc7_row8_col0\" class=\"data row8 col0\" >0.498875</td>\n",
       "      <td id=\"T_32fc7_row8_col1\" class=\"data row8 col1\" >0.501125</td>\n",
       "    </tr>\n",
       "    <tr>\n",
       "      <th id=\"T_32fc7_level0_row9\" class=\"row_heading level0 row9\" >Хобби и отдых</th>\n",
       "      <td id=\"T_32fc7_row9_col0\" class=\"data row9 col0\" >0.838183</td>\n",
       "      <td id=\"T_32fc7_row9_col1\" class=\"data row9 col1\" >0.161817</td>\n",
       "    </tr>\n",
       "  </tbody>\n",
       "</table>\n"
      ],
      "text/plain": [
       "<pandas.io.formats.style.Styler at 0x7f74a861f220>"
      ]
     },
     "execution_count": 55,
     "metadata": {},
     "output_type": "execute_result"
    }
   ],
   "source": [
    "cm = sns.light_palette(\"blue\", as_cmap=True)\n",
    "pd.crosstab(df_train['category'],\n",
    "            df_train['is_bad'],\n",
    "            normalize='index').style.background_gradient(cmap=cm)"
   ]
  },
  {
   "cell_type": "code",
   "execution_count": 56,
   "id": "0e25a616-2d12-48a4-8b11-135e60eabe4e",
   "metadata": {},
   "outputs": [
    {
     "data": {
      "text/html": [
       "<style type=\"text/css\">\n",
       "#T_ae256_row0_col0 {\n",
       "  background-color: #6e6ef9;\n",
       "  color: #f1f1f1;\n",
       "}\n",
       "#T_ae256_row0_col1 {\n",
       "  background-color: #8282f8;\n",
       "  color: #f1f1f1;\n",
       "}\n",
       "#T_ae256_row1_col0 {\n",
       "  background-color: #3636fc;\n",
       "  color: #f1f1f1;\n",
       "}\n",
       "#T_ae256_row1_col1 {\n",
       "  background-color: #bbbbf5;\n",
       "  color: #000000;\n",
       "}\n",
       "#T_ae256_row2_col0 {\n",
       "  background-color: #6565fa;\n",
       "  color: #f1f1f1;\n",
       "}\n",
       "#T_ae256_row2_col1 {\n",
       "  background-color: #8c8cf8;\n",
       "  color: #f1f1f1;\n",
       "}\n",
       "#T_ae256_row3_col0 {\n",
       "  background-color: #0f0ffe;\n",
       "  color: #f1f1f1;\n",
       "}\n",
       "#T_ae256_row3_col1 {\n",
       "  background-color: #e1e1f4;\n",
       "  color: #000000;\n",
       "}\n",
       "#T_ae256_row4_col0 {\n",
       "  background-color: #4545fb;\n",
       "  color: #f1f1f1;\n",
       "}\n",
       "#T_ae256_row4_col1 {\n",
       "  background-color: #acacf6;\n",
       "  color: #000000;\n",
       "}\n",
       "#T_ae256_row5_col0, #T_ae256_row69_col0 {\n",
       "  background-color: #1d1dfe;\n",
       "  color: #f1f1f1;\n",
       "}\n",
       "#T_ae256_row5_col1, #T_ae256_row69_col1 {\n",
       "  background-color: #d3d3f4;\n",
       "  color: #000000;\n",
       "}\n",
       "#T_ae256_row6_col0, #T_ae256_row24_col1 {\n",
       "  background-color: #3939fc;\n",
       "  color: #f1f1f1;\n",
       "}\n",
       "#T_ae256_row6_col1, #T_ae256_row24_col0 {\n",
       "  background-color: #b8b8f6;\n",
       "  color: #000000;\n",
       "}\n",
       "#T_ae256_row7_col0, #T_ae256_row34_col0, #T_ae256_row49_col0, #T_ae256_row50_col0 {\n",
       "  background-color: #3a3afc;\n",
       "  color: #f1f1f1;\n",
       "}\n",
       "#T_ae256_row7_col1, #T_ae256_row49_col1 {\n",
       "  background-color: #b7b7f6;\n",
       "  color: #000000;\n",
       "}\n",
       "#T_ae256_row8_col0 {\n",
       "  background-color: #6262fa;\n",
       "  color: #f1f1f1;\n",
       "}\n",
       "#T_ae256_row8_col1 {\n",
       "  background-color: #8e8ef8;\n",
       "  color: #f1f1f1;\n",
       "}\n",
       "#T_ae256_row9_col0, #T_ae256_row25_col0, #T_ae256_row45_col0, #T_ae256_row71_col0 {\n",
       "  background-color: #2626fd;\n",
       "  color: #f1f1f1;\n",
       "}\n",
       "#T_ae256_row9_col1, #T_ae256_row25_col1, #T_ae256_row45_col1, #T_ae256_row71_col1 {\n",
       "  background-color: #cbcbf5;\n",
       "  color: #000000;\n",
       "}\n",
       "#T_ae256_row10_col0, #T_ae256_row32_col0, #T_ae256_row60_col0 {\n",
       "  background-color: #2e2efd;\n",
       "  color: #f1f1f1;\n",
       "}\n",
       "#T_ae256_row10_col1, #T_ae256_row32_col1, #T_ae256_row60_col1 {\n",
       "  background-color: #c2c2f5;\n",
       "  color: #000000;\n",
       "}\n",
       "#T_ae256_row11_col0, #T_ae256_row74_col0 {\n",
       "  background-color: #2424fd;\n",
       "  color: #f1f1f1;\n",
       "}\n",
       "#T_ae256_row11_col1, #T_ae256_row74_col1 {\n",
       "  background-color: #cdcdf5;\n",
       "  color: #000000;\n",
       "}\n",
       "#T_ae256_row12_col0 {\n",
       "  background-color: #2121fd;\n",
       "  color: #f1f1f1;\n",
       "}\n",
       "#T_ae256_row12_col1 {\n",
       "  background-color: #cfcff4;\n",
       "  color: #000000;\n",
       "}\n",
       "#T_ae256_row13_col0, #T_ae256_row66_col1 {\n",
       "  background-color: #a3a3f7;\n",
       "  color: #f1f1f1;\n",
       "}\n",
       "#T_ae256_row13_col1, #T_ae256_row66_col0 {\n",
       "  background-color: #4d4dfb;\n",
       "  color: #f1f1f1;\n",
       "}\n",
       "#T_ae256_row14_col0 {\n",
       "  background-color: #5b5bfa;\n",
       "  color: #f1f1f1;\n",
       "}\n",
       "#T_ae256_row14_col1 {\n",
       "  background-color: #9696f7;\n",
       "  color: #f1f1f1;\n",
       "}\n",
       "#T_ae256_row15_col0, #T_ae256_row72_col1 {\n",
       "  background-color: #5959fa;\n",
       "  color: #f1f1f1;\n",
       "}\n",
       "#T_ae256_row15_col1, #T_ae256_row72_col0 {\n",
       "  background-color: #9898f7;\n",
       "  color: #f1f1f1;\n",
       "}\n",
       "#T_ae256_row16_col0 {\n",
       "  background-color: #3232fc;\n",
       "  color: #f1f1f1;\n",
       "}\n",
       "#T_ae256_row16_col1, #T_ae256_row75_col1 {\n",
       "  background-color: #bebef5;\n",
       "  color: #000000;\n",
       "}\n",
       "#T_ae256_row17_col0, #T_ae256_row27_col1, #T_ae256_row55_col1 {\n",
       "  background-color: #f0f0f3;\n",
       "  color: #000000;\n",
       "}\n",
       "#T_ae256_row17_col1, #T_ae256_row27_col0, #T_ae256_row55_col0 {\n",
       "  background-color: #0000ff;\n",
       "  color: #f1f1f1;\n",
       "}\n",
       "#T_ae256_row18_col0, #T_ae256_row78_col0 {\n",
       "  background-color: #4040fc;\n",
       "  color: #f1f1f1;\n",
       "}\n",
       "#T_ae256_row18_col1, #T_ae256_row78_col1 {\n",
       "  background-color: #b0b0f6;\n",
       "  color: #000000;\n",
       "}\n",
       "#T_ae256_row19_col0 {\n",
       "  background-color: #a8a8f6;\n",
       "  color: #000000;\n",
       "}\n",
       "#T_ae256_row19_col1 {\n",
       "  background-color: #4949fb;\n",
       "  color: #f1f1f1;\n",
       "}\n",
       "#T_ae256_row20_col0, #T_ae256_row22_col0, #T_ae256_row41_col0, #T_ae256_row70_col0 {\n",
       "  background-color: #2929fd;\n",
       "  color: #f1f1f1;\n",
       "}\n",
       "#T_ae256_row20_col1, #T_ae256_row22_col1, #T_ae256_row41_col1, #T_ae256_row70_col1 {\n",
       "  background-color: #c8c8f5;\n",
       "  color: #000000;\n",
       "}\n",
       "#T_ae256_row21_col0 {\n",
       "  background-color: #a7a7f7;\n",
       "  color: #000000;\n",
       "}\n",
       "#T_ae256_row21_col1, #T_ae256_row48_col0 {\n",
       "  background-color: #4a4afb;\n",
       "  color: #f1f1f1;\n",
       "}\n",
       "#T_ae256_row23_col0 {\n",
       "  background-color: #6969fa;\n",
       "  color: #f1f1f1;\n",
       "}\n",
       "#T_ae256_row23_col1 {\n",
       "  background-color: #8888f8;\n",
       "  color: #f1f1f1;\n",
       "}\n",
       "#T_ae256_row26_col0, #T_ae256_row80_col1 {\n",
       "  background-color: #2d2dfd;\n",
       "  color: #f1f1f1;\n",
       "}\n",
       "#T_ae256_row26_col1, #T_ae256_row80_col0 {\n",
       "  background-color: #c3c3f5;\n",
       "  color: #000000;\n",
       "}\n",
       "#T_ae256_row28_col0 {\n",
       "  background-color: #3434fc;\n",
       "  color: #f1f1f1;\n",
       "}\n",
       "#T_ae256_row28_col1 {\n",
       "  background-color: #bdbdf5;\n",
       "  color: #000000;\n",
       "}\n",
       "#T_ae256_row29_col0, #T_ae256_row53_col0 {\n",
       "  background-color: #3838fc;\n",
       "  color: #f1f1f1;\n",
       "}\n",
       "#T_ae256_row29_col1, #T_ae256_row53_col1 {\n",
       "  background-color: #b9b9f6;\n",
       "  color: #000000;\n",
       "}\n",
       "#T_ae256_row30_col0, #T_ae256_row73_col0 {\n",
       "  background-color: #2727fd;\n",
       "  color: #f1f1f1;\n",
       "}\n",
       "#T_ae256_row30_col1, #T_ae256_row73_col1 {\n",
       "  background-color: #cacaf5;\n",
       "  color: #000000;\n",
       "}\n",
       "#T_ae256_row31_col0 {\n",
       "  background-color: #3f3ffc;\n",
       "  color: #f1f1f1;\n",
       "}\n",
       "#T_ae256_row31_col1 {\n",
       "  background-color: #b1b1f6;\n",
       "  color: #000000;\n",
       "}\n",
       "#T_ae256_row33_col0, #T_ae256_row65_col0, #T_ae256_row83_col0 {\n",
       "  background-color: #3c3cfc;\n",
       "  color: #f1f1f1;\n",
       "}\n",
       "#T_ae256_row33_col1, #T_ae256_row65_col1, #T_ae256_row83_col1 {\n",
       "  background-color: #b4b4f6;\n",
       "  color: #000000;\n",
       "}\n",
       "#T_ae256_row34_col1, #T_ae256_row50_col1 {\n",
       "  background-color: #b6b6f6;\n",
       "  color: #000000;\n",
       "}\n",
       "#T_ae256_row35_col0 {\n",
       "  background-color: #2f2ffd;\n",
       "  color: #f1f1f1;\n",
       "}\n",
       "#T_ae256_row35_col1 {\n",
       "  background-color: #c1c1f5;\n",
       "  color: #000000;\n",
       "}\n",
       "#T_ae256_row36_col0 {\n",
       "  background-color: #3131fd;\n",
       "  color: #f1f1f1;\n",
       "}\n",
       "#T_ae256_row36_col1 {\n",
       "  background-color: #bfbff5;\n",
       "  color: #000000;\n",
       "}\n",
       "#T_ae256_row37_col0 {\n",
       "  background-color: #6b6bfa;\n",
       "  color: #f1f1f1;\n",
       "}\n",
       "#T_ae256_row37_col1 {\n",
       "  background-color: #8585f8;\n",
       "  color: #f1f1f1;\n",
       "}\n",
       "#T_ae256_row38_col0, #T_ae256_row67_col0 {\n",
       "  background-color: #4141fc;\n",
       "  color: #f1f1f1;\n",
       "}\n",
       "#T_ae256_row38_col1, #T_ae256_row67_col1 {\n",
       "  background-color: #afaff6;\n",
       "  color: #000000;\n",
       "}\n",
       "#T_ae256_row39_col0 {\n",
       "  background-color: #4444fc;\n",
       "  color: #f1f1f1;\n",
       "}\n",
       "#T_ae256_row39_col1 {\n",
       "  background-color: #adadf6;\n",
       "  color: #000000;\n",
       "}\n",
       "#T_ae256_row40_col0 {\n",
       "  background-color: #0a0afe;\n",
       "  color: #f1f1f1;\n",
       "}\n",
       "#T_ae256_row40_col1 {\n",
       "  background-color: #e6e6f3;\n",
       "  color: #000000;\n",
       "}\n",
       "#T_ae256_row42_col0, #T_ae256_row58_col0 {\n",
       "  background-color: #1515fe;\n",
       "  color: #f1f1f1;\n",
       "}\n",
       "#T_ae256_row42_col1, #T_ae256_row58_col1 {\n",
       "  background-color: #dcdcf4;\n",
       "  color: #000000;\n",
       "}\n",
       "#T_ae256_row43_col0 {\n",
       "  background-color: #7373f9;\n",
       "  color: #f1f1f1;\n",
       "}\n",
       "#T_ae256_row43_col1 {\n",
       "  background-color: #7d7df9;\n",
       "  color: #f1f1f1;\n",
       "}\n",
       "#T_ae256_row44_col0 {\n",
       "  background-color: #1616fe;\n",
       "  color: #f1f1f1;\n",
       "}\n",
       "#T_ae256_row44_col1 {\n",
       "  background-color: #dbdbf4;\n",
       "  color: #000000;\n",
       "}\n",
       "#T_ae256_row46_col0 {\n",
       "  background-color: #1919fe;\n",
       "  color: #f1f1f1;\n",
       "}\n",
       "#T_ae256_row46_col1 {\n",
       "  background-color: #d7d7f4;\n",
       "  color: #000000;\n",
       "}\n",
       "#T_ae256_row47_col0 {\n",
       "  background-color: #2a2afd;\n",
       "  color: #f1f1f1;\n",
       "}\n",
       "#T_ae256_row47_col1 {\n",
       "  background-color: #c6c6f5;\n",
       "  color: #000000;\n",
       "}\n",
       "#T_ae256_row48_col1 {\n",
       "  background-color: #a6a6f7;\n",
       "  color: #000000;\n",
       "}\n",
       "#T_ae256_row51_col0 {\n",
       "  background-color: #1f1ffd;\n",
       "  color: #f1f1f1;\n",
       "}\n",
       "#T_ae256_row51_col1 {\n",
       "  background-color: #d1d1f4;\n",
       "  color: #000000;\n",
       "}\n",
       "#T_ae256_row52_col0, #T_ae256_row76_col0 {\n",
       "  background-color: #2323fd;\n",
       "  color: #f1f1f1;\n",
       "}\n",
       "#T_ae256_row52_col1, #T_ae256_row76_col1 {\n",
       "  background-color: #cecef5;\n",
       "  color: #000000;\n",
       "}\n",
       "#T_ae256_row54_col0 {\n",
       "  background-color: #6767fa;\n",
       "  color: #f1f1f1;\n",
       "}\n",
       "#T_ae256_row54_col1 {\n",
       "  background-color: #8a8af8;\n",
       "  color: #f1f1f1;\n",
       "}\n",
       "#T_ae256_row56_col0 {\n",
       "  background-color: #2525fd;\n",
       "  color: #f1f1f1;\n",
       "}\n",
       "#T_ae256_row56_col1 {\n",
       "  background-color: #ccccf5;\n",
       "  color: #000000;\n",
       "}\n",
       "#T_ae256_row57_col0 {\n",
       "  background-color: #1a1afe;\n",
       "  color: #f1f1f1;\n",
       "}\n",
       "#T_ae256_row57_col1 {\n",
       "  background-color: #d6d6f4;\n",
       "  color: #000000;\n",
       "}\n",
       "#T_ae256_row59_col0 {\n",
       "  background-color: #1c1cfe;\n",
       "  color: #f1f1f1;\n",
       "}\n",
       "#T_ae256_row59_col1 {\n",
       "  background-color: #d4d4f4;\n",
       "  color: #000000;\n",
       "}\n",
       "#T_ae256_row61_col0 {\n",
       "  background-color: #8484f8;\n",
       "  color: #f1f1f1;\n",
       "}\n",
       "#T_ae256_row61_col1 {\n",
       "  background-color: #6c6cf9;\n",
       "  color: #f1f1f1;\n",
       "}\n",
       "#T_ae256_row62_col0 {\n",
       "  background-color: #5d5dfa;\n",
       "  color: #f1f1f1;\n",
       "}\n",
       "#T_ae256_row62_col1 {\n",
       "  background-color: #9393f8;\n",
       "  color: #f1f1f1;\n",
       "}\n",
       "#T_ae256_row63_col0 {\n",
       "  background-color: #1212fe;\n",
       "  color: #f1f1f1;\n",
       "}\n",
       "#T_ae256_row63_col1 {\n",
       "  background-color: #dedff4;\n",
       "  color: #000000;\n",
       "}\n",
       "#T_ae256_row64_col0 {\n",
       "  background-color: #9191f8;\n",
       "  color: #f1f1f1;\n",
       "}\n",
       "#T_ae256_row64_col1 {\n",
       "  background-color: #5f5ffa;\n",
       "  color: #f1f1f1;\n",
       "}\n",
       "#T_ae256_row68_col0 {\n",
       "  background-color: #0b0bfe;\n",
       "  color: #f1f1f1;\n",
       "}\n",
       "#T_ae256_row68_col1 {\n",
       "  background-color: #e5e5f3;\n",
       "  color: #000000;\n",
       "}\n",
       "#T_ae256_row75_col0 {\n",
       "  background-color: #3333fc;\n",
       "  color: #f1f1f1;\n",
       "}\n",
       "#T_ae256_row77_col0 {\n",
       "  background-color: #3d3dfc;\n",
       "  color: #f1f1f1;\n",
       "}\n",
       "#T_ae256_row77_col1 {\n",
       "  background-color: #b3b3f6;\n",
       "  color: #000000;\n",
       "}\n",
       "#T_ae256_row79_col0 {\n",
       "  background-color: #1e1efd;\n",
       "  color: #f1f1f1;\n",
       "}\n",
       "#T_ae256_row79_col1 {\n",
       "  background-color: #d2d2f4;\n",
       "  color: #000000;\n",
       "}\n",
       "#T_ae256_row81_col0 {\n",
       "  background-color: #3030fd;\n",
       "  color: #f1f1f1;\n",
       "}\n",
       "#T_ae256_row81_col1 {\n",
       "  background-color: #c0c0f5;\n",
       "  color: #000000;\n",
       "}\n",
       "#T_ae256_row82_col0 {\n",
       "  background-color: #aaaaf6;\n",
       "  color: #000000;\n",
       "}\n",
       "#T_ae256_row82_col1 {\n",
       "  background-color: #4747fb;\n",
       "  color: #f1f1f1;\n",
       "}\n",
       "#T_ae256_row84_col0 {\n",
       "  background-color: #1717fe;\n",
       "  color: #f1f1f1;\n",
       "}\n",
       "#T_ae256_row84_col1 {\n",
       "  background-color: #dadaf4;\n",
       "  color: #000000;\n",
       "}\n",
       "</style>\n",
       "<table id=\"T_ae256\">\n",
       "  <thead>\n",
       "    <tr>\n",
       "      <th class=\"index_name level0\" >is_bad</th>\n",
       "      <th id=\"T_ae256_level0_col0\" class=\"col_heading level0 col0\" >0</th>\n",
       "      <th id=\"T_ae256_level0_col1\" class=\"col_heading level0 col1\" >1</th>\n",
       "    </tr>\n",
       "    <tr>\n",
       "      <th class=\"index_name level0\" >region</th>\n",
       "      <th class=\"blank col0\" >&nbsp;</th>\n",
       "      <th class=\"blank col1\" >&nbsp;</th>\n",
       "    </tr>\n",
       "  </thead>\n",
       "  <tbody>\n",
       "    <tr>\n",
       "      <th id=\"T_ae256_level0_row0\" class=\"row_heading level0 row0\" >Адыгея</th>\n",
       "      <td id=\"T_ae256_row0_col0\" class=\"data row0 col0\" >0.561798</td>\n",
       "      <td id=\"T_ae256_row0_col1\" class=\"data row0 col1\" >0.438202</td>\n",
       "    </tr>\n",
       "    <tr>\n",
       "      <th id=\"T_ae256_level0_row1\" class=\"row_heading level0 row1\" >Алтайский край</th>\n",
       "      <td id=\"T_ae256_row1_col0\" class=\"data row1 col0\" >0.707940</td>\n",
       "      <td id=\"T_ae256_row1_col1\" class=\"data row1 col1\" >0.292060</td>\n",
       "    </tr>\n",
       "    <tr>\n",
       "      <th id=\"T_ae256_level0_row2\" class=\"row_heading level0 row2\" >Амурская область</th>\n",
       "      <td id=\"T_ae256_row2_col0\" class=\"data row2 col0\" >0.585584</td>\n",
       "      <td id=\"T_ae256_row2_col1\" class=\"data row2 col1\" >0.414416</td>\n",
       "    </tr>\n",
       "    <tr>\n",
       "      <th id=\"T_ae256_level0_row3\" class=\"row_heading level0 row3\" >Архангельская область</th>\n",
       "      <td id=\"T_ae256_row3_col0\" class=\"data row3 col0\" >0.807479</td>\n",
       "      <td id=\"T_ae256_row3_col1\" class=\"data row3 col1\" >0.192521</td>\n",
       "    </tr>\n",
       "    <tr>\n",
       "      <th id=\"T_ae256_level0_row4\" class=\"row_heading level0 row4\" >Астраханская область</th>\n",
       "      <td id=\"T_ae256_row4_col0\" class=\"data row4 col0\" >0.669541</td>\n",
       "      <td id=\"T_ae256_row4_col1\" class=\"data row4 col1\" >0.330459</td>\n",
       "    </tr>\n",
       "    <tr>\n",
       "      <th id=\"T_ae256_level0_row5\" class=\"row_heading level0 row5\" >Башкортостан</th>\n",
       "      <td id=\"T_ae256_row5_col0\" class=\"data row5 col0\" >0.770570</td>\n",
       "      <td id=\"T_ae256_row5_col1\" class=\"data row5 col1\" >0.229430</td>\n",
       "    </tr>\n",
       "    <tr>\n",
       "      <th id=\"T_ae256_level0_row6\" class=\"row_heading level0 row6\" >Белгородская область</th>\n",
       "      <td id=\"T_ae256_row6_col0\" class=\"data row6 col0\" >0.699905</td>\n",
       "      <td id=\"T_ae256_row6_col1\" class=\"data row6 col1\" >0.300095</td>\n",
       "    </tr>\n",
       "    <tr>\n",
       "      <th id=\"T_ae256_level0_row7\" class=\"row_heading level0 row7\" >Брянская область</th>\n",
       "      <td id=\"T_ae256_row7_col0\" class=\"data row7 col0\" >0.697555</td>\n",
       "      <td id=\"T_ae256_row7_col1\" class=\"data row7 col1\" >0.302445</td>\n",
       "    </tr>\n",
       "    <tr>\n",
       "      <th id=\"T_ae256_level0_row8\" class=\"row_heading level0 row8\" >Бурятия</th>\n",
       "      <td id=\"T_ae256_row8_col0\" class=\"data row8 col0\" >0.592734</td>\n",
       "      <td id=\"T_ae256_row8_col1\" class=\"data row8 col1\" >0.407266</td>\n",
       "    </tr>\n",
       "    <tr>\n",
       "      <th id=\"T_ae256_level0_row9\" class=\"row_heading level0 row9\" >Владимирская область</th>\n",
       "      <td id=\"T_ae256_row9_col0\" class=\"data row9 col0\" >0.748204</td>\n",
       "      <td id=\"T_ae256_row9_col1\" class=\"data row9 col1\" >0.251796</td>\n",
       "    </tr>\n",
       "    <tr>\n",
       "      <th id=\"T_ae256_level0_row10\" class=\"row_heading level0 row10\" >Волгоградская область</th>\n",
       "      <td id=\"T_ae256_row10_col0\" class=\"data row10 col0\" >0.727952</td>\n",
       "      <td id=\"T_ae256_row10_col1\" class=\"data row10 col1\" >0.272048</td>\n",
       "    </tr>\n",
       "    <tr>\n",
       "      <th id=\"T_ae256_level0_row11\" class=\"row_heading level0 row11\" >Вологодская область</th>\n",
       "      <td id=\"T_ae256_row11_col0\" class=\"data row11 col0\" >0.755022</td>\n",
       "      <td id=\"T_ae256_row11_col1\" class=\"data row11 col1\" >0.244978</td>\n",
       "    </tr>\n",
       "    <tr>\n",
       "      <th id=\"T_ae256_level0_row12\" class=\"row_heading level0 row12\" >Воронежская область</th>\n",
       "      <td id=\"T_ae256_row12_col0\" class=\"data row12 col0\" >0.761164</td>\n",
       "      <td id=\"T_ae256_row12_col1\" class=\"data row12 col1\" >0.238836</td>\n",
       "    </tr>\n",
       "    <tr>\n",
       "      <th id=\"T_ae256_level0_row13\" class=\"row_heading level0 row13\" >Дагестан</th>\n",
       "      <td id=\"T_ae256_row13_col0\" class=\"data row13 col0\" >0.425626</td>\n",
       "      <td id=\"T_ae256_row13_col1\" class=\"data row13 col1\" >0.574374</td>\n",
       "    </tr>\n",
       "    <tr>\n",
       "      <th id=\"T_ae256_level0_row14\" class=\"row_heading level0 row14\" >Еврейская АО</th>\n",
       "      <td id=\"T_ae256_row14_col0\" class=\"data row14 col0\" >0.613191</td>\n",
       "      <td id=\"T_ae256_row14_col1\" class=\"data row14 col1\" >0.386809</td>\n",
       "    </tr>\n",
       "    <tr>\n",
       "      <th id=\"T_ae256_level0_row15\" class=\"row_heading level0 row15\" >Забайкальский край</th>\n",
       "      <td id=\"T_ae256_row15_col0\" class=\"data row15 col0\" >0.616901</td>\n",
       "      <td id=\"T_ae256_row15_col1\" class=\"data row15 col1\" >0.383099</td>\n",
       "    </tr>\n",
       "    <tr>\n",
       "      <th id=\"T_ae256_level0_row16\" class=\"row_heading level0 row16\" >Ивановская область</th>\n",
       "      <td id=\"T_ae256_row16_col0\" class=\"data row16 col0\" >0.717664</td>\n",
       "      <td id=\"T_ae256_row16_col1\" class=\"data row16 col1\" >0.282336</td>\n",
       "    </tr>\n",
       "    <tr>\n",
       "      <th id=\"T_ae256_level0_row17\" class=\"row_heading level0 row17\" >Ингушетия</th>\n",
       "      <td id=\"T_ae256_row17_col0\" class=\"data row17 col0\" >0.223242</td>\n",
       "      <td id=\"T_ae256_row17_col1\" class=\"data row17 col1\" >0.776758</td>\n",
       "    </tr>\n",
       "    <tr>\n",
       "      <th id=\"T_ae256_level0_row18\" class=\"row_heading level0 row18\" >Иркутская область</th>\n",
       "      <td id=\"T_ae256_row18_col0\" class=\"data row18 col0\" >0.680188</td>\n",
       "      <td id=\"T_ae256_row18_col1\" class=\"data row18 col1\" >0.319812</td>\n",
       "    </tr>\n",
       "    <tr>\n",
       "      <th id=\"T_ae256_level0_row19\" class=\"row_heading level0 row19\" >Кабардино-Балкария</th>\n",
       "      <td id=\"T_ae256_row19_col0\" class=\"data row19 col0\" >0.411108</td>\n",
       "      <td id=\"T_ae256_row19_col1\" class=\"data row19 col1\" >0.588892</td>\n",
       "    </tr>\n",
       "    <tr>\n",
       "      <th id=\"T_ae256_level0_row20\" class=\"row_heading level0 row20\" >Калининградская область</th>\n",
       "      <td id=\"T_ae256_row20_col0\" class=\"data row20 col0\" >0.741968</td>\n",
       "      <td id=\"T_ae256_row20_col1\" class=\"data row20 col1\" >0.258032</td>\n",
       "    </tr>\n",
       "    <tr>\n",
       "      <th id=\"T_ae256_level0_row21\" class=\"row_heading level0 row21\" >Калмыкия</th>\n",
       "      <td id=\"T_ae256_row21_col0\" class=\"data row21 col0\" >0.414634</td>\n",
       "      <td id=\"T_ae256_row21_col1\" class=\"data row21 col1\" >0.585366</td>\n",
       "    </tr>\n",
       "    <tr>\n",
       "      <th id=\"T_ae256_level0_row22\" class=\"row_heading level0 row22\" >Калужская область</th>\n",
       "      <td id=\"T_ae256_row22_col0\" class=\"data row22 col0\" >0.741704</td>\n",
       "      <td id=\"T_ae256_row22_col1\" class=\"data row22 col1\" >0.258296</td>\n",
       "    </tr>\n",
       "    <tr>\n",
       "      <th id=\"T_ae256_level0_row23\" class=\"row_heading level0 row23\" >Камчатский край</th>\n",
       "      <td id=\"T_ae256_row23_col0\" class=\"data row23 col0\" >0.576768</td>\n",
       "      <td id=\"T_ae256_row23_col1\" class=\"data row23 col1\" >0.423232</td>\n",
       "    </tr>\n",
       "    <tr>\n",
       "      <th id=\"T_ae256_level0_row24\" class=\"row_heading level0 row24\" >Карачаево-Черкесия</th>\n",
       "      <td id=\"T_ae256_row24_col0\" class=\"data row24 col0\" >0.369910</td>\n",
       "      <td id=\"T_ae256_row24_col1\" class=\"data row24 col1\" >0.630090</td>\n",
       "    </tr>\n",
       "    <tr>\n",
       "      <th id=\"T_ae256_level0_row25\" class=\"row_heading level0 row25\" >Карелия</th>\n",
       "      <td id=\"T_ae256_row25_col0\" class=\"data row25 col0\" >0.749604</td>\n",
       "      <td id=\"T_ae256_row25_col1\" class=\"data row25 col1\" >0.250396</td>\n",
       "    </tr>\n",
       "    <tr>\n",
       "      <th id=\"T_ae256_level0_row26\" class=\"row_heading level0 row26\" >Кемеровская область</th>\n",
       "      <td id=\"T_ae256_row26_col0\" class=\"data row26 col0\" >0.728486</td>\n",
       "      <td id=\"T_ae256_row26_col1\" class=\"data row26 col1\" >0.271514</td>\n",
       "    </tr>\n",
       "    <tr>\n",
       "      <th id=\"T_ae256_level0_row27\" class=\"row_heading level0 row27\" >Кировская область</th>\n",
       "      <td id=\"T_ae256_row27_col0\" class=\"data row27 col0\" >0.847416</td>\n",
       "      <td id=\"T_ae256_row27_col1\" class=\"data row27 col1\" >0.152584</td>\n",
       "    </tr>\n",
       "    <tr>\n",
       "      <th id=\"T_ae256_level0_row28\" class=\"row_heading level0 row28\" >Коми</th>\n",
       "      <td id=\"T_ae256_row28_col0\" class=\"data row28 col0\" >0.711346</td>\n",
       "      <td id=\"T_ae256_row28_col1\" class=\"data row28 col1\" >0.288654</td>\n",
       "    </tr>\n",
       "    <tr>\n",
       "      <th id=\"T_ae256_level0_row29\" class=\"row_heading level0 row29\" >Костромская область</th>\n",
       "      <td id=\"T_ae256_row29_col0\" class=\"data row29 col0\" >0.701794</td>\n",
       "      <td id=\"T_ae256_row29_col1\" class=\"data row29 col1\" >0.298206</td>\n",
       "    </tr>\n",
       "    <tr>\n",
       "      <th id=\"T_ae256_level0_row30\" class=\"row_heading level0 row30\" >Краснодарский край</th>\n",
       "      <td id=\"T_ae256_row30_col0\" class=\"data row30 col0\" >0.746916</td>\n",
       "      <td id=\"T_ae256_row30_col1\" class=\"data row30 col1\" >0.253084</td>\n",
       "    </tr>\n",
       "    <tr>\n",
       "      <th id=\"T_ae256_level0_row31\" class=\"row_heading level0 row31\" >Красноярский край</th>\n",
       "      <td id=\"T_ae256_row31_col0\" class=\"data row31 col0\" >0.682305</td>\n",
       "      <td id=\"T_ae256_row31_col1\" class=\"data row31 col1\" >0.317695</td>\n",
       "    </tr>\n",
       "    <tr>\n",
       "      <th id=\"T_ae256_level0_row32\" class=\"row_heading level0 row32\" >Крым</th>\n",
       "      <td id=\"T_ae256_row32_col0\" class=\"data row32 col0\" >0.726120</td>\n",
       "      <td id=\"T_ae256_row32_col1\" class=\"data row32 col1\" >0.273880</td>\n",
       "    </tr>\n",
       "    <tr>\n",
       "      <th id=\"T_ae256_level0_row33\" class=\"row_heading level0 row33\" >Курганская область</th>\n",
       "      <td id=\"T_ae256_row33_col0\" class=\"data row33 col0\" >0.690642</td>\n",
       "      <td id=\"T_ae256_row33_col1\" class=\"data row33 col1\" >0.309358</td>\n",
       "    </tr>\n",
       "    <tr>\n",
       "      <th id=\"T_ae256_level0_row34\" class=\"row_heading level0 row34\" >Курская область</th>\n",
       "      <td id=\"T_ae256_row34_col0\" class=\"data row34 col0\" >0.695118</td>\n",
       "      <td id=\"T_ae256_row34_col1\" class=\"data row34 col1\" >0.304882</td>\n",
       "    </tr>\n",
       "    <tr>\n",
       "      <th id=\"T_ae256_level0_row35\" class=\"row_heading level0 row35\" >Ленинградская область</th>\n",
       "      <td id=\"T_ae256_row35_col0\" class=\"data row35 col0\" >0.723472</td>\n",
       "      <td id=\"T_ae256_row35_col1\" class=\"data row35 col1\" >0.276528</td>\n",
       "    </tr>\n",
       "    <tr>\n",
       "      <th id=\"T_ae256_level0_row36\" class=\"row_heading level0 row36\" >Липецкая область</th>\n",
       "      <td id=\"T_ae256_row36_col0\" class=\"data row36 col0\" >0.719060</td>\n",
       "      <td id=\"T_ae256_row36_col1\" class=\"data row36 col1\" >0.280940</td>\n",
       "    </tr>\n",
       "    <tr>\n",
       "      <th id=\"T_ae256_level0_row37\" class=\"row_heading level0 row37\" >Магаданская область</th>\n",
       "      <td id=\"T_ae256_row37_col0\" class=\"data row37 col0\" >0.568317</td>\n",
       "      <td id=\"T_ae256_row37_col1\" class=\"data row37 col1\" >0.431683</td>\n",
       "    </tr>\n",
       "    <tr>\n",
       "      <th id=\"T_ae256_level0_row38\" class=\"row_heading level0 row38\" >Марий Эл</th>\n",
       "      <td id=\"T_ae256_row38_col0\" class=\"data row38 col0\" >0.678150</td>\n",
       "      <td id=\"T_ae256_row38_col1\" class=\"data row38 col1\" >0.321850</td>\n",
       "    </tr>\n",
       "    <tr>\n",
       "      <th id=\"T_ae256_level0_row39\" class=\"row_heading level0 row39\" >Мордовия</th>\n",
       "      <td id=\"T_ae256_row39_col0\" class=\"data row39 col0\" >0.671946</td>\n",
       "      <td id=\"T_ae256_row39_col1\" class=\"data row39 col1\" >0.328054</td>\n",
       "    </tr>\n",
       "    <tr>\n",
       "      <th id=\"T_ae256_level0_row40\" class=\"row_heading level0 row40\" >Москва</th>\n",
       "      <td id=\"T_ae256_row40_col0\" class=\"data row40 col0\" >0.820826</td>\n",
       "      <td id=\"T_ae256_row40_col1\" class=\"data row40 col1\" >0.179174</td>\n",
       "    </tr>\n",
       "    <tr>\n",
       "      <th id=\"T_ae256_level0_row41\" class=\"row_heading level0 row41\" >Московская область</th>\n",
       "      <td id=\"T_ae256_row41_col0\" class=\"data row41 col0\" >0.742832</td>\n",
       "      <td id=\"T_ae256_row41_col1\" class=\"data row41 col1\" >0.257168</td>\n",
       "    </tr>\n",
       "    <tr>\n",
       "      <th id=\"T_ae256_level0_row42\" class=\"row_heading level0 row42\" >Мурманская область</th>\n",
       "      <td id=\"T_ae256_row42_col0\" class=\"data row42 col0\" >0.793947</td>\n",
       "      <td id=\"T_ae256_row42_col1\" class=\"data row42 col1\" >0.206053</td>\n",
       "    </tr>\n",
       "    <tr>\n",
       "      <th id=\"T_ae256_level0_row43\" class=\"row_heading level0 row43\" >Ненецкий АО</th>\n",
       "      <td id=\"T_ae256_row43_col0\" class=\"data row43 col0\" >0.550000</td>\n",
       "      <td id=\"T_ae256_row43_col1\" class=\"data row43 col1\" >0.450000</td>\n",
       "    </tr>\n",
       "    <tr>\n",
       "      <th id=\"T_ae256_level0_row44\" class=\"row_heading level0 row44\" >Нижегородская область</th>\n",
       "      <td id=\"T_ae256_row44_col0\" class=\"data row44 col0\" >0.790641</td>\n",
       "      <td id=\"T_ae256_row44_col1\" class=\"data row44 col1\" >0.209359</td>\n",
       "    </tr>\n",
       "    <tr>\n",
       "      <th id=\"T_ae256_level0_row45\" class=\"row_heading level0 row45\" >Новгородская область</th>\n",
       "      <td id=\"T_ae256_row45_col0\" class=\"data row45 col0\" >0.750087</td>\n",
       "      <td id=\"T_ae256_row45_col1\" class=\"data row45 col1\" >0.249913</td>\n",
       "    </tr>\n",
       "    <tr>\n",
       "      <th id=\"T_ae256_level0_row46\" class=\"row_heading level0 row46\" >Новосибирская область</th>\n",
       "      <td id=\"T_ae256_row46_col0\" class=\"data row46 col0\" >0.780640</td>\n",
       "      <td id=\"T_ae256_row46_col1\" class=\"data row46 col1\" >0.219360</td>\n",
       "    </tr>\n",
       "    <tr>\n",
       "      <th id=\"T_ae256_level0_row47\" class=\"row_heading level0 row47\" >Омская область</th>\n",
       "      <td id=\"T_ae256_row47_col0\" class=\"data row47 col0\" >0.737393</td>\n",
       "      <td id=\"T_ae256_row47_col1\" class=\"data row47 col1\" >0.262607</td>\n",
       "    </tr>\n",
       "    <tr>\n",
       "      <th id=\"T_ae256_level0_row48\" class=\"row_heading level0 row48\" >Оренбургская область</th>\n",
       "      <td id=\"T_ae256_row48_col0\" class=\"data row48 col0\" >0.654459</td>\n",
       "      <td id=\"T_ae256_row48_col1\" class=\"data row48 col1\" >0.345541</td>\n",
       "    </tr>\n",
       "    <tr>\n",
       "      <th id=\"T_ae256_level0_row49\" class=\"row_heading level0 row49\" >Орловская область</th>\n",
       "      <td id=\"T_ae256_row49_col0\" class=\"data row49 col0\" >0.696996</td>\n",
       "      <td id=\"T_ae256_row49_col1\" class=\"data row49 col1\" >0.303004</td>\n",
       "    </tr>\n",
       "    <tr>\n",
       "      <th id=\"T_ae256_level0_row50\" class=\"row_heading level0 row50\" >Пензенская область</th>\n",
       "      <td id=\"T_ae256_row50_col0\" class=\"data row50 col0\" >0.696032</td>\n",
       "      <td id=\"T_ae256_row50_col1\" class=\"data row50 col1\" >0.303968</td>\n",
       "    </tr>\n",
       "    <tr>\n",
       "      <th id=\"T_ae256_level0_row51\" class=\"row_heading level0 row51\" >Пермский край</th>\n",
       "      <td id=\"T_ae256_row51_col0\" class=\"data row51 col0\" >0.764930</td>\n",
       "      <td id=\"T_ae256_row51_col1\" class=\"data row51 col1\" >0.235070</td>\n",
       "    </tr>\n",
       "    <tr>\n",
       "      <th id=\"T_ae256_level0_row52\" class=\"row_heading level0 row52\" >Приморский край</th>\n",
       "      <td id=\"T_ae256_row52_col0\" class=\"data row52 col0\" >0.755540</td>\n",
       "      <td id=\"T_ae256_row52_col1\" class=\"data row52 col1\" >0.244460</td>\n",
       "    </tr>\n",
       "    <tr>\n",
       "      <th id=\"T_ae256_level0_row53\" class=\"row_heading level0 row53\" >Псковская область</th>\n",
       "      <td id=\"T_ae256_row53_col0\" class=\"data row53 col0\" >0.701760</td>\n",
       "      <td id=\"T_ae256_row53_col1\" class=\"data row53 col1\" >0.298240</td>\n",
       "    </tr>\n",
       "    <tr>\n",
       "      <th id=\"T_ae256_level0_row54\" class=\"row_heading level0 row54\" >Республика Алтай</th>\n",
       "      <td id=\"T_ae256_row54_col0\" class=\"data row54 col0\" >0.580268</td>\n",
       "      <td id=\"T_ae256_row54_col1\" class=\"data row54 col1\" >0.419732</td>\n",
       "    </tr>\n",
       "    <tr>\n",
       "      <th id=\"T_ae256_level0_row55\" class=\"row_heading level0 row55\" >Россия</th>\n",
       "      <td id=\"T_ae256_row55_col0\" class=\"data row55 col0\" >0.847801</td>\n",
       "      <td id=\"T_ae256_row55_col1\" class=\"data row55 col1\" >0.152199</td>\n",
       "    </tr>\n",
       "    <tr>\n",
       "      <th id=\"T_ae256_level0_row56\" class=\"row_heading level0 row56\" >Ростовская область</th>\n",
       "      <td id=\"T_ae256_row56_col0\" class=\"data row56 col0\" >0.750687</td>\n",
       "      <td id=\"T_ae256_row56_col1\" class=\"data row56 col1\" >0.249313</td>\n",
       "    </tr>\n",
       "    <tr>\n",
       "      <th id=\"T_ae256_level0_row57\" class=\"row_heading level0 row57\" >Рязанская область</th>\n",
       "      <td id=\"T_ae256_row57_col0\" class=\"data row57 col0\" >0.778094</td>\n",
       "      <td id=\"T_ae256_row57_col1\" class=\"data row57 col1\" >0.221906</td>\n",
       "    </tr>\n",
       "    <tr>\n",
       "      <th id=\"T_ae256_level0_row58\" class=\"row_heading level0 row58\" >Самарская область</th>\n",
       "      <td id=\"T_ae256_row58_col0\" class=\"data row58 col0\" >0.793796</td>\n",
       "      <td id=\"T_ae256_row58_col1\" class=\"data row58 col1\" >0.206204</td>\n",
       "    </tr>\n",
       "    <tr>\n",
       "      <th id=\"T_ae256_level0_row59\" class=\"row_heading level0 row59\" >Санкт-Петербург</th>\n",
       "      <td id=\"T_ae256_row59_col0\" class=\"data row59 col0\" >0.773340</td>\n",
       "      <td id=\"T_ae256_row59_col1\" class=\"data row59 col1\" >0.226660</td>\n",
       "    </tr>\n",
       "    <tr>\n",
       "      <th id=\"T_ae256_level0_row60\" class=\"row_heading level0 row60\" >Саратовская область</th>\n",
       "      <td id=\"T_ae256_row60_col0\" class=\"data row60 col0\" >0.726444</td>\n",
       "      <td id=\"T_ae256_row60_col1\" class=\"data row60 col1\" >0.273556</td>\n",
       "    </tr>\n",
       "    <tr>\n",
       "      <th id=\"T_ae256_level0_row61\" class=\"row_heading level0 row61\" >Саха (Якутия)</th>\n",
       "      <td id=\"T_ae256_row61_col0\" class=\"data row61 col0\" >0.505521</td>\n",
       "      <td id=\"T_ae256_row61_col1\" class=\"data row61 col1\" >0.494479</td>\n",
       "    </tr>\n",
       "    <tr>\n",
       "      <th id=\"T_ae256_level0_row62\" class=\"row_heading level0 row62\" >Сахалинская область</th>\n",
       "      <td id=\"T_ae256_row62_col0\" class=\"data row62 col0\" >0.605882</td>\n",
       "      <td id=\"T_ae256_row62_col1\" class=\"data row62 col1\" >0.394118</td>\n",
       "    </tr>\n",
       "    <tr>\n",
       "      <th id=\"T_ae256_level0_row63\" class=\"row_heading level0 row63\" >Свердловская область</th>\n",
       "      <td id=\"T_ae256_row63_col0\" class=\"data row63 col0\" >0.800938</td>\n",
       "      <td id=\"T_ae256_row63_col1\" class=\"data row63 col1\" >0.199062</td>\n",
       "    </tr>\n",
       "    <tr>\n",
       "      <th id=\"T_ae256_level0_row64\" class=\"row_heading level0 row64\" >Северная Осетия</th>\n",
       "      <td id=\"T_ae256_row64_col0\" class=\"data row64 col0\" >0.470649</td>\n",
       "      <td id=\"T_ae256_row64_col1\" class=\"data row64 col1\" >0.529351</td>\n",
       "    </tr>\n",
       "    <tr>\n",
       "      <th id=\"T_ae256_level0_row65\" class=\"row_heading level0 row65\" >Смоленская область</th>\n",
       "      <td id=\"T_ae256_row65_col0\" class=\"data row65 col0\" >0.690707</td>\n",
       "      <td id=\"T_ae256_row65_col1\" class=\"data row65 col1\" >0.309293</td>\n",
       "    </tr>\n",
       "    <tr>\n",
       "      <th id=\"T_ae256_level0_row66\" class=\"row_heading level0 row66\" >Ставропольский край</th>\n",
       "      <td id=\"T_ae256_row66_col0\" class=\"data row66 col0\" >0.645817</td>\n",
       "      <td id=\"T_ae256_row66_col1\" class=\"data row66 col1\" >0.354183</td>\n",
       "    </tr>\n",
       "    <tr>\n",
       "      <th id=\"T_ae256_level0_row67\" class=\"row_heading level0 row67\" >Тамбовская область</th>\n",
       "      <td id=\"T_ae256_row67_col0\" class=\"data row67 col0\" >0.677643</td>\n",
       "      <td id=\"T_ae256_row67_col1\" class=\"data row67 col1\" >0.322357</td>\n",
       "    </tr>\n",
       "    <tr>\n",
       "      <th id=\"T_ae256_level0_row68\" class=\"row_heading level0 row68\" >Татарстан</th>\n",
       "      <td id=\"T_ae256_row68_col0\" class=\"data row68 col0\" >0.816163</td>\n",
       "      <td id=\"T_ae256_row68_col1\" class=\"data row68 col1\" >0.183837</td>\n",
       "    </tr>\n",
       "    <tr>\n",
       "      <th id=\"T_ae256_level0_row69\" class=\"row_heading level0 row69\" >Тверская область</th>\n",
       "      <td id=\"T_ae256_row69_col0\" class=\"data row69 col0\" >0.771838</td>\n",
       "      <td id=\"T_ae256_row69_col1\" class=\"data row69 col1\" >0.228162</td>\n",
       "    </tr>\n",
       "    <tr>\n",
       "      <th id=\"T_ae256_level0_row70\" class=\"row_heading level0 row70\" >Томская область</th>\n",
       "      <td id=\"T_ae256_row70_col0\" class=\"data row70 col0\" >0.742572</td>\n",
       "      <td id=\"T_ae256_row70_col1\" class=\"data row70 col1\" >0.257428</td>\n",
       "    </tr>\n",
       "    <tr>\n",
       "      <th id=\"T_ae256_level0_row71\" class=\"row_heading level0 row71\" >Тульская область</th>\n",
       "      <td id=\"T_ae256_row71_col0\" class=\"data row71 col0\" >0.749498</td>\n",
       "      <td id=\"T_ae256_row71_col1\" class=\"data row71 col1\" >0.250502</td>\n",
       "    </tr>\n",
       "    <tr>\n",
       "      <th id=\"T_ae256_level0_row72\" class=\"row_heading level0 row72\" >Тыва</th>\n",
       "      <td id=\"T_ae256_row72_col0\" class=\"data row72 col0\" >0.453608</td>\n",
       "      <td id=\"T_ae256_row72_col1\" class=\"data row72 col1\" >0.546392</td>\n",
       "    </tr>\n",
       "    <tr>\n",
       "      <th id=\"T_ae256_level0_row73\" class=\"row_heading level0 row73\" >Тюменская область</th>\n",
       "      <td id=\"T_ae256_row73_col0\" class=\"data row73 col0\" >0.747486</td>\n",
       "      <td id=\"T_ae256_row73_col1\" class=\"data row73 col1\" >0.252514</td>\n",
       "    </tr>\n",
       "    <tr>\n",
       "      <th id=\"T_ae256_level0_row74\" class=\"row_heading level0 row74\" >Удмуртия</th>\n",
       "      <td id=\"T_ae256_row74_col0\" class=\"data row74 col0\" >0.753863</td>\n",
       "      <td id=\"T_ae256_row74_col1\" class=\"data row74 col1\" >0.246137</td>\n",
       "    </tr>\n",
       "    <tr>\n",
       "      <th id=\"T_ae256_level0_row75\" class=\"row_heading level0 row75\" >Ульяновская область</th>\n",
       "      <td id=\"T_ae256_row75_col0\" class=\"data row75 col0\" >0.715945</td>\n",
       "      <td id=\"T_ae256_row75_col1\" class=\"data row75 col1\" >0.284055</td>\n",
       "    </tr>\n",
       "    <tr>\n",
       "      <th id=\"T_ae256_level0_row76\" class=\"row_heading level0 row76\" >Хабаровский край</th>\n",
       "      <td id=\"T_ae256_row76_col0\" class=\"data row76 col0\" >0.755486</td>\n",
       "      <td id=\"T_ae256_row76_col1\" class=\"data row76 col1\" >0.244514</td>\n",
       "    </tr>\n",
       "    <tr>\n",
       "      <th id=\"T_ae256_level0_row77\" class=\"row_heading level0 row77\" >Хакасия</th>\n",
       "      <td id=\"T_ae256_row77_col0\" class=\"data row77 col0\" >0.688494</td>\n",
       "      <td id=\"T_ae256_row77_col1\" class=\"data row77 col1\" >0.311506</td>\n",
       "    </tr>\n",
       "    <tr>\n",
       "      <th id=\"T_ae256_level0_row78\" class=\"row_heading level0 row78\" >Ханты-Мансийский АО</th>\n",
       "      <td id=\"T_ae256_row78_col0\" class=\"data row78 col0\" >0.680609</td>\n",
       "      <td id=\"T_ae256_row78_col1\" class=\"data row78 col1\" >0.319391</td>\n",
       "    </tr>\n",
       "    <tr>\n",
       "      <th id=\"T_ae256_level0_row79\" class=\"row_heading level0 row79\" >Челябинская область</th>\n",
       "      <td id=\"T_ae256_row79_col0\" class=\"data row79 col0\" >0.769044</td>\n",
       "      <td id=\"T_ae256_row79_col1\" class=\"data row79 col1\" >0.230956</td>\n",
       "    </tr>\n",
       "    <tr>\n",
       "      <th id=\"T_ae256_level0_row80\" class=\"row_heading level0 row80\" >Чеченская Республика</th>\n",
       "      <td id=\"T_ae256_row80_col0\" class=\"data row80 col0\" >0.340383</td>\n",
       "      <td id=\"T_ae256_row80_col1\" class=\"data row80 col1\" >0.659617</td>\n",
       "    </tr>\n",
       "    <tr>\n",
       "      <th id=\"T_ae256_level0_row81\" class=\"row_heading level0 row81\" >Чувашия</th>\n",
       "      <td id=\"T_ae256_row81_col0\" class=\"data row81 col0\" >0.722358</td>\n",
       "      <td id=\"T_ae256_row81_col1\" class=\"data row81 col1\" >0.277642</td>\n",
       "    </tr>\n",
       "    <tr>\n",
       "      <th id=\"T_ae256_level0_row82\" class=\"row_heading level0 row82\" >Чукотский АО</th>\n",
       "      <td id=\"T_ae256_row82_col0\" class=\"data row82 col0\" >0.407407</td>\n",
       "      <td id=\"T_ae256_row82_col1\" class=\"data row82 col1\" >0.592593</td>\n",
       "    </tr>\n",
       "    <tr>\n",
       "      <th id=\"T_ae256_level0_row83\" class=\"row_heading level0 row83\" >Ямало-Ненецкий АО</th>\n",
       "      <td id=\"T_ae256_row83_col0\" class=\"data row83 col0\" >0.691494</td>\n",
       "      <td id=\"T_ae256_row83_col1\" class=\"data row83 col1\" >0.308506</td>\n",
       "    </tr>\n",
       "    <tr>\n",
       "      <th id=\"T_ae256_level0_row84\" class=\"row_heading level0 row84\" >Ярославская область</th>\n",
       "      <td id=\"T_ae256_row84_col0\" class=\"data row84 col0\" >0.787669</td>\n",
       "      <td id=\"T_ae256_row84_col1\" class=\"data row84 col1\" >0.212331</td>\n",
       "    </tr>\n",
       "  </tbody>\n",
       "</table>\n"
      ],
      "text/plain": [
       "<pandas.io.formats.style.Styler at 0x7f74ad791c40>"
      ]
     },
     "execution_count": 56,
     "metadata": {},
     "output_type": "execute_result"
    }
   ],
   "source": [
    "cm = sns.light_palette(\"blue\", as_cmap=True)\n",
    "pd.crosstab(df_train['region'],\n",
    "            df_train['is_bad'],\n",
    "            normalize='index').style.background_gradient(cmap=cm)"
   ]
  },
  {
   "cell_type": "code",
   "execution_count": 57,
   "id": "7daa7b0c-5468-4d0b-ac77-9cffbcd546c4",
   "metadata": {},
   "outputs": [
    {
     "data": {
      "text/html": [
       "<style type=\"text/css\">\n",
       "#T_ccc3e_row0_col0 {\n",
       "  background-color: #8484f8;\n",
       "  color: #f1f1f1;\n",
       "}\n",
       "#T_ccc3e_row0_col1 {\n",
       "  background-color: #6c6cf9;\n",
       "  color: #f1f1f1;\n",
       "}\n",
       "#T_ccc3e_row1_col0, #T_ccc3e_row14_col0 {\n",
       "  background-color: #2828fd;\n",
       "  color: #f1f1f1;\n",
       "}\n",
       "#T_ccc3e_row1_col1, #T_ccc3e_row14_col1 {\n",
       "  background-color: #c9c9f5;\n",
       "  color: #000000;\n",
       "}\n",
       "#T_ccc3e_row2_col0 {\n",
       "  background-color: #3f3ffc;\n",
       "  color: #f1f1f1;\n",
       "}\n",
       "#T_ccc3e_row2_col1 {\n",
       "  background-color: #b1b1f6;\n",
       "  color: #000000;\n",
       "}\n",
       "#T_ccc3e_row3_col0, #T_ccc3e_row33_col1 {\n",
       "  background-color: #9898f7;\n",
       "  color: #f1f1f1;\n",
       "}\n",
       "#T_ccc3e_row3_col1, #T_ccc3e_row33_col0 {\n",
       "  background-color: #5959fa;\n",
       "  color: #f1f1f1;\n",
       "}\n",
       "#T_ccc3e_row4_col0, #T_ccc3e_row10_col1, #T_ccc3e_row40_col1 {\n",
       "  background-color: #4848fb;\n",
       "  color: #f1f1f1;\n",
       "}\n",
       "#T_ccc3e_row4_col1, #T_ccc3e_row10_col0, #T_ccc3e_row40_col0 {\n",
       "  background-color: #a9a9f6;\n",
       "  color: #000000;\n",
       "}\n",
       "#T_ccc3e_row5_col0 {\n",
       "  background-color: #5656fb;\n",
       "  color: #f1f1f1;\n",
       "}\n",
       "#T_ccc3e_row5_col1 {\n",
       "  background-color: #9b9bf7;\n",
       "  color: #f1f1f1;\n",
       "}\n",
       "#T_ccc3e_row6_col0 {\n",
       "  background-color: #3939fc;\n",
       "  color: #f1f1f1;\n",
       "}\n",
       "#T_ccc3e_row6_col1 {\n",
       "  background-color: #b8b8f6;\n",
       "  color: #000000;\n",
       "}\n",
       "#T_ccc3e_row7_col0 {\n",
       "  background-color: #a3a3f7;\n",
       "  color: #f1f1f1;\n",
       "}\n",
       "#T_ccc3e_row7_col1 {\n",
       "  background-color: #4d4dfb;\n",
       "  color: #f1f1f1;\n",
       "}\n",
       "#T_ccc3e_row8_col0 {\n",
       "  background-color: #cacaf5;\n",
       "  color: #000000;\n",
       "}\n",
       "#T_ccc3e_row8_col1 {\n",
       "  background-color: #2727fd;\n",
       "  color: #f1f1f1;\n",
       "}\n",
       "#T_ccc3e_row9_col0 {\n",
       "  background-color: #5b5bfa;\n",
       "  color: #f1f1f1;\n",
       "}\n",
       "#T_ccc3e_row9_col1 {\n",
       "  background-color: #9696f7;\n",
       "  color: #f1f1f1;\n",
       "}\n",
       "#T_ccc3e_row11_col0, #T_ccc3e_row13_col1, #T_ccc3e_row18_col0 {\n",
       "  background-color: #0000ff;\n",
       "  color: #f1f1f1;\n",
       "}\n",
       "#T_ccc3e_row11_col1, #T_ccc3e_row13_col0, #T_ccc3e_row18_col1 {\n",
       "  background-color: #f0f0f3;\n",
       "  color: #000000;\n",
       "}\n",
       "#T_ccc3e_row12_col0 {\n",
       "  background-color: #b0b0f6;\n",
       "  color: #000000;\n",
       "}\n",
       "#T_ccc3e_row12_col1 {\n",
       "  background-color: #4040fc;\n",
       "  color: #f1f1f1;\n",
       "}\n",
       "#T_ccc3e_row15_col0 {\n",
       "  background-color: #5f5ffa;\n",
       "  color: #f1f1f1;\n",
       "}\n",
       "#T_ccc3e_row15_col1 {\n",
       "  background-color: #9191f8;\n",
       "  color: #f1f1f1;\n",
       "}\n",
       "#T_ccc3e_row16_col0 {\n",
       "  background-color: #3e3efc;\n",
       "  color: #f1f1f1;\n",
       "}\n",
       "#T_ccc3e_row16_col1 {\n",
       "  background-color: #b2b2f6;\n",
       "  color: #000000;\n",
       "}\n",
       "#T_ccc3e_row17_col0 {\n",
       "  background-color: #6161fa;\n",
       "  color: #f1f1f1;\n",
       "}\n",
       "#T_ccc3e_row17_col1 {\n",
       "  background-color: #8f8ff8;\n",
       "  color: #f1f1f1;\n",
       "}\n",
       "#T_ccc3e_row19_col0, #T_ccc3e_row32_col0 {\n",
       "  background-color: #0303ff;\n",
       "  color: #f1f1f1;\n",
       "}\n",
       "#T_ccc3e_row19_col1, #T_ccc3e_row32_col1 {\n",
       "  background-color: #eeeef3;\n",
       "  color: #000000;\n",
       "}\n",
       "#T_ccc3e_row20_col0 {\n",
       "  background-color: #2323fd;\n",
       "  color: #f1f1f1;\n",
       "}\n",
       "#T_ccc3e_row20_col1 {\n",
       "  background-color: #cecef5;\n",
       "  color: #000000;\n",
       "}\n",
       "#T_ccc3e_row21_col0, #T_ccc3e_row38_col0 {\n",
       "  background-color: #8c8cf8;\n",
       "  color: #f1f1f1;\n",
       "}\n",
       "#T_ccc3e_row21_col1, #T_ccc3e_row38_col1 {\n",
       "  background-color: #6565fa;\n",
       "  color: #f1f1f1;\n",
       "}\n",
       "#T_ccc3e_row22_col0 {\n",
       "  background-color: #adadf6;\n",
       "  color: #000000;\n",
       "}\n",
       "#T_ccc3e_row22_col1 {\n",
       "  background-color: #4343fc;\n",
       "  color: #f1f1f1;\n",
       "}\n",
       "#T_ccc3e_row23_col0 {\n",
       "  background-color: #5858fb;\n",
       "  color: #f1f1f1;\n",
       "}\n",
       "#T_ccc3e_row23_col1 {\n",
       "  background-color: #9999f7;\n",
       "  color: #f1f1f1;\n",
       "}\n",
       "#T_ccc3e_row24_col0 {\n",
       "  background-color: #4242fc;\n",
       "  color: #f1f1f1;\n",
       "}\n",
       "#T_ccc3e_row24_col1 {\n",
       "  background-color: #aeaef6;\n",
       "  color: #000000;\n",
       "}\n",
       "#T_ccc3e_row25_col0 {\n",
       "  background-color: #c3c3f5;\n",
       "  color: #000000;\n",
       "}\n",
       "#T_ccc3e_row25_col1 {\n",
       "  background-color: #2d2dfd;\n",
       "  color: #f1f1f1;\n",
       "}\n",
       "#T_ccc3e_row26_col0 {\n",
       "  background-color: #4e4efb;\n",
       "  color: #f1f1f1;\n",
       "}\n",
       "#T_ccc3e_row26_col1 {\n",
       "  background-color: #a2a2f7;\n",
       "  color: #f1f1f1;\n",
       "}\n",
       "#T_ccc3e_row27_col0, #T_ccc3e_row30_col0 {\n",
       "  background-color: #1313fe;\n",
       "  color: #f1f1f1;\n",
       "}\n",
       "#T_ccc3e_row27_col1, #T_ccc3e_row30_col1 {\n",
       "  background-color: #dedef4;\n",
       "  color: #000000;\n",
       "}\n",
       "#T_ccc3e_row28_col0, #T_ccc3e_row48_col1 {\n",
       "  background-color: #d5d5f4;\n",
       "  color: #000000;\n",
       "}\n",
       "#T_ccc3e_row28_col1, #T_ccc3e_row48_col0 {\n",
       "  background-color: #1b1bfe;\n",
       "  color: #f1f1f1;\n",
       "}\n",
       "#T_ccc3e_row29_col0 {\n",
       "  background-color: #2222fd;\n",
       "  color: #f1f1f1;\n",
       "}\n",
       "#T_ccc3e_row29_col1 {\n",
       "  background-color: #cecef4;\n",
       "  color: #000000;\n",
       "}\n",
       "#T_ccc3e_row31_col0 {\n",
       "  background-color: #1d1dfe;\n",
       "  color: #f1f1f1;\n",
       "}\n",
       "#T_ccc3e_row31_col1 {\n",
       "  background-color: #d3d3f4;\n",
       "  color: #000000;\n",
       "}\n",
       "#T_ccc3e_row34_col0 {\n",
       "  background-color: #1e1efd;\n",
       "  color: #f1f1f1;\n",
       "}\n",
       "#T_ccc3e_row34_col1 {\n",
       "  background-color: #d2d2f4;\n",
       "  color: #000000;\n",
       "}\n",
       "#T_ccc3e_row35_col0, #T_ccc3e_row39_col0 {\n",
       "  background-color: #3838fc;\n",
       "  color: #f1f1f1;\n",
       "}\n",
       "#T_ccc3e_row35_col1, #T_ccc3e_row39_col1 {\n",
       "  background-color: #b9b9f6;\n",
       "  color: #000000;\n",
       "}\n",
       "#T_ccc3e_row36_col0 {\n",
       "  background-color: #a7a7f7;\n",
       "  color: #000000;\n",
       "}\n",
       "#T_ccc3e_row36_col1 {\n",
       "  background-color: #4a4afb;\n",
       "  color: #f1f1f1;\n",
       "}\n",
       "#T_ccc3e_row37_col0 {\n",
       "  background-color: #9292f8;\n",
       "  color: #f1f1f1;\n",
       "}\n",
       "#T_ccc3e_row37_col1 {\n",
       "  background-color: #5e5efa;\n",
       "  color: #f1f1f1;\n",
       "}\n",
       "#T_ccc3e_row41_col0 {\n",
       "  background-color: #3131fd;\n",
       "  color: #f1f1f1;\n",
       "}\n",
       "#T_ccc3e_row41_col1 {\n",
       "  background-color: #bfbff5;\n",
       "  color: #000000;\n",
       "}\n",
       "#T_ccc3e_row42_col0 {\n",
       "  background-color: #c5c5f5;\n",
       "  color: #000000;\n",
       "}\n",
       "#T_ccc3e_row42_col1 {\n",
       "  background-color: #2b2bfd;\n",
       "  color: #f1f1f1;\n",
       "}\n",
       "#T_ccc3e_row43_col0 {\n",
       "  background-color: #3a3afc;\n",
       "  color: #f1f1f1;\n",
       "}\n",
       "#T_ccc3e_row43_col1 {\n",
       "  background-color: #b7b7f6;\n",
       "  color: #000000;\n",
       "}\n",
       "#T_ccc3e_row44_col0 {\n",
       "  background-color: #1717fe;\n",
       "  color: #f1f1f1;\n",
       "}\n",
       "#T_ccc3e_row44_col1 {\n",
       "  background-color: #dadaf4;\n",
       "  color: #000000;\n",
       "}\n",
       "#T_ccc3e_row45_col0 {\n",
       "  background-color: #3333fc;\n",
       "  color: #f1f1f1;\n",
       "}\n",
       "#T_ccc3e_row45_col1 {\n",
       "  background-color: #bebef5;\n",
       "  color: #000000;\n",
       "}\n",
       "#T_ccc3e_row46_col0 {\n",
       "  background-color: #4c4cfb;\n",
       "  color: #f1f1f1;\n",
       "}\n",
       "#T_ccc3e_row46_col1 {\n",
       "  background-color: #a4a4f7;\n",
       "  color: #000000;\n",
       "}\n",
       "#T_ccc3e_row47_col0 {\n",
       "  background-color: #0909ff;\n",
       "  color: #f1f1f1;\n",
       "}\n",
       "#T_ccc3e_row47_col1 {\n",
       "  background-color: #e7e7f3;\n",
       "  color: #000000;\n",
       "}\n",
       "#T_ccc3e_row49_col0 {\n",
       "  background-color: #2626fd;\n",
       "  color: #f1f1f1;\n",
       "}\n",
       "#T_ccc3e_row49_col1 {\n",
       "  background-color: #cbcbf5;\n",
       "  color: #000000;\n",
       "}\n",
       "</style>\n",
       "<table id=\"T_ccc3e\">\n",
       "  <thead>\n",
       "    <tr>\n",
       "      <th class=\"index_name level0\" >is_bad</th>\n",
       "      <th id=\"T_ccc3e_level0_col0\" class=\"col_heading level0 col0\" >0</th>\n",
       "      <th id=\"T_ccc3e_level0_col1\" class=\"col_heading level0 col1\" >1</th>\n",
       "    </tr>\n",
       "    <tr>\n",
       "      <th class=\"index_name level0\" >subcategory</th>\n",
       "      <th class=\"blank col0\" >&nbsp;</th>\n",
       "      <th class=\"blank col1\" >&nbsp;</th>\n",
       "    </tr>\n",
       "  </thead>\n",
       "  <tbody>\n",
       "    <tr>\n",
       "      <th id=\"T_ccc3e_level0_row0\" class=\"row_heading level0 row0\" >Автомобили</th>\n",
       "      <td id=\"T_ccc3e_row0_col0\" class=\"data row0 col0\" >0.591344</td>\n",
       "      <td id=\"T_ccc3e_row0_col1\" class=\"data row0 col1\" >0.408656</td>\n",
       "    </tr>\n",
       "    <tr>\n",
       "      <th id=\"T_ccc3e_level0_row1\" class=\"row_heading level0 row1\" >Аквариум</th>\n",
       "      <td id=\"T_ccc3e_row1_col0\" class=\"data row1 col0\" >0.833711</td>\n",
       "      <td id=\"T_ccc3e_row1_col1\" class=\"data row1 col1\" >0.166289</td>\n",
       "    </tr>\n",
       "    <tr>\n",
       "      <th id=\"T_ccc3e_level0_row2\" class=\"row_heading level0 row2\" >Аудио и видео</th>\n",
       "      <td id=\"T_ccc3e_row2_col0\" class=\"data row2 col0\" >0.771716</td>\n",
       "      <td id=\"T_ccc3e_row2_col1\" class=\"data row2 col1\" >0.228284</td>\n",
       "    </tr>\n",
       "    <tr>\n",
       "      <th id=\"T_ccc3e_level0_row3\" class=\"row_heading level0 row3\" >Билеты и путешествия</th>\n",
       "      <td id=\"T_ccc3e_row3_col0\" class=\"data row3 col0\" >0.539449</td>\n",
       "      <td id=\"T_ccc3e_row3_col1\" class=\"data row3 col1\" >0.460551</td>\n",
       "    </tr>\n",
       "    <tr>\n",
       "      <th id=\"T_ccc3e_level0_row4\" class=\"row_heading level0 row4\" >Бытовая техника</th>\n",
       "      <td id=\"T_ccc3e_row4_col0\" class=\"data row4 col0\" >0.748158</td>\n",
       "      <td id=\"T_ccc3e_row4_col1\" class=\"data row4 col1\" >0.251842</td>\n",
       "    </tr>\n",
       "    <tr>\n",
       "      <th id=\"T_ccc3e_level0_row5\" class=\"row_heading level0 row5\" >Вакансии</th>\n",
       "      <td id=\"T_ccc3e_row5_col0\" class=\"data row5 col0\" >0.711257</td>\n",
       "      <td id=\"T_ccc3e_row5_col1\" class=\"data row5 col1\" >0.288743</td>\n",
       "    </tr>\n",
       "    <tr>\n",
       "      <th id=\"T_ccc3e_level0_row6\" class=\"row_heading level0 row6\" >Велосипеды</th>\n",
       "      <td id=\"T_ccc3e_row6_col0\" class=\"data row6 col0\" >0.787480</td>\n",
       "      <td id=\"T_ccc3e_row6_col1\" class=\"data row6 col1\" >0.212520</td>\n",
       "    </tr>\n",
       "    <tr>\n",
       "      <th id=\"T_ccc3e_level0_row7\" class=\"row_heading level0 row7\" >Водный транспорт</th>\n",
       "      <td id=\"T_ccc3e_row7_col0\" class=\"data row7 col0\" >0.508664</td>\n",
       "      <td id=\"T_ccc3e_row7_col1\" class=\"data row7 col1\" >0.491336</td>\n",
       "    </tr>\n",
       "    <tr>\n",
       "      <th id=\"T_ccc3e_level0_row8\" class=\"row_heading level0 row8\" >Гаражи и машиноместа</th>\n",
       "      <td id=\"T_ccc3e_row8_col0\" class=\"data row8 col0\" >0.408251</td>\n",
       "      <td id=\"T_ccc3e_row8_col1\" class=\"data row8 col1\" >0.591749</td>\n",
       "    </tr>\n",
       "    <tr>\n",
       "      <th id=\"T_ccc3e_level0_row9\" class=\"row_heading level0 row9\" >Готовый бизнес</th>\n",
       "      <td id=\"T_ccc3e_row9_col0\" class=\"data row9 col0\" >0.698771</td>\n",
       "      <td id=\"T_ccc3e_row9_col1\" class=\"data row9 col1\" >0.301229</td>\n",
       "    </tr>\n",
       "    <tr>\n",
       "      <th id=\"T_ccc3e_level0_row10\" class=\"row_heading level0 row10\" >Грузовики и спецтехника</th>\n",
       "      <td id=\"T_ccc3e_row10_col0\" class=\"data row10 col0\" >0.495869</td>\n",
       "      <td id=\"T_ccc3e_row10_col1\" class=\"data row10 col1\" >0.504131</td>\n",
       "    </tr>\n",
       "    <tr>\n",
       "      <th id=\"T_ccc3e_level0_row11\" class=\"row_heading level0 row11\" >Детская одежда и обувь</th>\n",
       "      <td id=\"T_ccc3e_row11_col0\" class=\"data row11 col0\" >0.937186</td>\n",
       "      <td id=\"T_ccc3e_row11_col1\" class=\"data row11 col1\" >0.062814</td>\n",
       "    </tr>\n",
       "    <tr>\n",
       "      <th id=\"T_ccc3e_level0_row12\" class=\"row_heading level0 row12\" >Дома, дачи, коттеджи</th>\n",
       "      <td id=\"T_ccc3e_row12_col0\" class=\"data row12 col0\" >0.473768</td>\n",
       "      <td id=\"T_ccc3e_row12_col1\" class=\"data row12 col1\" >0.526232</td>\n",
       "    </tr>\n",
       "    <tr>\n",
       "      <th id=\"T_ccc3e_level0_row13\" class=\"row_heading level0 row13\" >Другие животные</th>\n",
       "      <td id=\"T_ccc3e_row13_col0\" class=\"data row13 col0\" >0.305978</td>\n",
       "      <td id=\"T_ccc3e_row13_col1\" class=\"data row13 col1\" >0.694022</td>\n",
       "    </tr>\n",
       "    <tr>\n",
       "      <th id=\"T_ccc3e_level0_row14\" class=\"row_heading level0 row14\" >Запчасти и аксессуары</th>\n",
       "      <td id=\"T_ccc3e_row14_col0\" class=\"data row14 col0\" >0.832019</td>\n",
       "      <td id=\"T_ccc3e_row14_col1\" class=\"data row14 col1\" >0.167981</td>\n",
       "    </tr>\n",
       "    <tr>\n",
       "      <th id=\"T_ccc3e_level0_row15\" class=\"row_heading level0 row15\" >Земельные участки</th>\n",
       "      <td id=\"T_ccc3e_row15_col0\" class=\"data row15 col0\" >0.688149</td>\n",
       "      <td id=\"T_ccc3e_row15_col1\" class=\"data row15 col1\" >0.311851</td>\n",
       "    </tr>\n",
       "    <tr>\n",
       "      <th id=\"T_ccc3e_level0_row16\" class=\"row_heading level0 row16\" >Игры, приставки и программы</th>\n",
       "      <td id=\"T_ccc3e_row16_col0\" class=\"data row16 col0\" >0.773693</td>\n",
       "      <td id=\"T_ccc3e_row16_col1\" class=\"data row16 col1\" >0.226307</td>\n",
       "    </tr>\n",
       "    <tr>\n",
       "      <th id=\"T_ccc3e_level0_row17\" class=\"row_heading level0 row17\" >Квартиры</th>\n",
       "      <td id=\"T_ccc3e_row17_col0\" class=\"data row17 col0\" >0.681355</td>\n",
       "      <td id=\"T_ccc3e_row17_col1\" class=\"data row17 col1\" >0.318645</td>\n",
       "    </tr>\n",
       "    <tr>\n",
       "      <th id=\"T_ccc3e_level0_row18\" class=\"row_heading level0 row18\" >Книги и журналы</th>\n",
       "      <td id=\"T_ccc3e_row18_col0\" class=\"data row18 col0\" >0.937512</td>\n",
       "      <td id=\"T_ccc3e_row18_col1\" class=\"data row18 col1\" >0.062488</td>\n",
       "    </tr>\n",
       "    <tr>\n",
       "      <th id=\"T_ccc3e_level0_row19\" class=\"row_heading level0 row19\" >Коллекционирование</th>\n",
       "      <td id=\"T_ccc3e_row19_col0\" class=\"data row19 col0\" >0.929460</td>\n",
       "      <td id=\"T_ccc3e_row19_col1\" class=\"data row19 col1\" >0.070540</td>\n",
       "    </tr>\n",
       "    <tr>\n",
       "      <th id=\"T_ccc3e_level0_row20\" class=\"row_heading level0 row20\" >Коммерческая недвижимость</th>\n",
       "      <td id=\"T_ccc3e_row20_col0\" class=\"data row20 col0\" >0.845908</td>\n",
       "      <td id=\"T_ccc3e_row20_col1\" class=\"data row20 col1\" >0.154092</td>\n",
       "    </tr>\n",
       "    <tr>\n",
       "      <th id=\"T_ccc3e_level0_row21\" class=\"row_heading level0 row21\" >Комнаты</th>\n",
       "      <td id=\"T_ccc3e_row21_col0\" class=\"data row21 col0\" >0.571892</td>\n",
       "      <td id=\"T_ccc3e_row21_col1\" class=\"data row21 col1\" >0.428108</td>\n",
       "    </tr>\n",
       "    <tr>\n",
       "      <th id=\"T_ccc3e_level0_row22\" class=\"row_heading level0 row22\" >Кошки</th>\n",
       "      <td id=\"T_ccc3e_row22_col0\" class=\"data row22 col0\" >0.481912</td>\n",
       "      <td id=\"T_ccc3e_row22_col1\" class=\"data row22 col1\" >0.518088</td>\n",
       "    </tr>\n",
       "    <tr>\n",
       "      <th id=\"T_ccc3e_level0_row23\" class=\"row_heading level0 row23\" >Красота и здоровье</th>\n",
       "      <td id=\"T_ccc3e_row23_col0\" class=\"data row23 col0\" >0.706653</td>\n",
       "      <td id=\"T_ccc3e_row23_col1\" class=\"data row23 col1\" >0.293347</td>\n",
       "    </tr>\n",
       "    <tr>\n",
       "      <th id=\"T_ccc3e_level0_row24\" class=\"row_heading level0 row24\" >Мебель и интерьер</th>\n",
       "      <td id=\"T_ccc3e_row24_col0\" class=\"data row24 col0\" >0.763666</td>\n",
       "      <td id=\"T_ccc3e_row24_col1\" class=\"data row24 col1\" >0.236334</td>\n",
       "    </tr>\n",
       "    <tr>\n",
       "      <th id=\"T_ccc3e_level0_row25\" class=\"row_heading level0 row25\" >Мотоциклы и мототехника</th>\n",
       "      <td id=\"T_ccc3e_row25_col0\" class=\"data row25 col0\" >0.426094</td>\n",
       "      <td id=\"T_ccc3e_row25_col1\" class=\"data row25 col1\" >0.573906</td>\n",
       "    </tr>\n",
       "    <tr>\n",
       "      <th id=\"T_ccc3e_level0_row26\" class=\"row_heading level0 row26\" >Музыкальные инструменты</th>\n",
       "      <td id=\"T_ccc3e_row26_col0\" class=\"data row26 col0\" >0.732185</td>\n",
       "      <td id=\"T_ccc3e_row26_col1\" class=\"data row26 col1\" >0.267815</td>\n",
       "    </tr>\n",
       "    <tr>\n",
       "      <th id=\"T_ccc3e_level0_row27\" class=\"row_heading level0 row27\" >Настольные компьютеры</th>\n",
       "      <td id=\"T_ccc3e_row27_col0\" class=\"data row27 col0\" >0.887923</td>\n",
       "      <td id=\"T_ccc3e_row27_col1\" class=\"data row27 col1\" >0.112077</td>\n",
       "    </tr>\n",
       "    <tr>\n",
       "      <th id=\"T_ccc3e_level0_row28\" class=\"row_heading level0 row28\" >Недвижимость за рубежом</th>\n",
       "      <td id=\"T_ccc3e_row28_col0\" class=\"data row28 col0\" >0.379447</td>\n",
       "      <td id=\"T_ccc3e_row28_col1\" class=\"data row28 col1\" >0.620553</td>\n",
       "    </tr>\n",
       "    <tr>\n",
       "      <th id=\"T_ccc3e_level0_row29\" class=\"row_heading level0 row29\" >Ноутбуки</th>\n",
       "      <td id=\"T_ccc3e_row29_col0\" class=\"data row29 col0\" >0.847381</td>\n",
       "      <td id=\"T_ccc3e_row29_col1\" class=\"data row29 col1\" >0.152619</td>\n",
       "    </tr>\n",
       "    <tr>\n",
       "      <th id=\"T_ccc3e_level0_row30\" class=\"row_heading level0 row30\" >Оборудование для бизнеса</th>\n",
       "      <td id=\"T_ccc3e_row30_col0\" class=\"data row30 col0\" >0.886506</td>\n",
       "      <td id=\"T_ccc3e_row30_col1\" class=\"data row30 col1\" >0.113494</td>\n",
       "    </tr>\n",
       "    <tr>\n",
       "      <th id=\"T_ccc3e_level0_row31\" class=\"row_heading level0 row31\" >Одежда, обувь, аксессуары</th>\n",
       "      <td id=\"T_ccc3e_row31_col0\" class=\"data row31 col0\" >0.859884</td>\n",
       "      <td id=\"T_ccc3e_row31_col1\" class=\"data row31 col1\" >0.140116</td>\n",
       "    </tr>\n",
       "    <tr>\n",
       "      <th id=\"T_ccc3e_level0_row32\" class=\"row_heading level0 row32\" >Оргтехника и расходники</th>\n",
       "      <td id=\"T_ccc3e_row32_col0\" class=\"data row32 col0\" >0.930053</td>\n",
       "      <td id=\"T_ccc3e_row32_col1\" class=\"data row32 col1\" >0.069947</td>\n",
       "    </tr>\n",
       "    <tr>\n",
       "      <th id=\"T_ccc3e_level0_row33\" class=\"row_heading level0 row33\" >Охота и рыбалка</th>\n",
       "      <td id=\"T_ccc3e_row33_col0\" class=\"data row33 col0\" >0.704634</td>\n",
       "      <td id=\"T_ccc3e_row33_col1\" class=\"data row33 col1\" >0.295366</td>\n",
       "    </tr>\n",
       "    <tr>\n",
       "      <th id=\"T_ccc3e_level0_row34\" class=\"row_heading level0 row34\" >Планшеты и электронные книги</th>\n",
       "      <td id=\"T_ccc3e_row34_col0\" class=\"data row34 col0\" >0.857675</td>\n",
       "      <td id=\"T_ccc3e_row34_col1\" class=\"data row34 col1\" >0.142325</td>\n",
       "    </tr>\n",
       "    <tr>\n",
       "      <th id=\"T_ccc3e_level0_row35\" class=\"row_heading level0 row35\" >Посуда и товары для кухни</th>\n",
       "      <td id=\"T_ccc3e_row35_col0\" class=\"data row35 col0\" >0.789996</td>\n",
       "      <td id=\"T_ccc3e_row35_col1\" class=\"data row35 col1\" >0.210004</td>\n",
       "    </tr>\n",
       "    <tr>\n",
       "      <th id=\"T_ccc3e_level0_row36\" class=\"row_heading level0 row36\" >Предложение услуг</th>\n",
       "      <td id=\"T_ccc3e_row36_col0\" class=\"data row36 col0\" >0.498875</td>\n",
       "      <td id=\"T_ccc3e_row36_col1\" class=\"data row36 col1\" >0.501125</td>\n",
       "    </tr>\n",
       "    <tr>\n",
       "      <th id=\"T_ccc3e_level0_row37\" class=\"row_heading level0 row37\" >Продукты питания</th>\n",
       "      <td id=\"T_ccc3e_row37_col0\" class=\"data row37 col0\" >0.553419</td>\n",
       "      <td id=\"T_ccc3e_row37_col1\" class=\"data row37 col1\" >0.446581</td>\n",
       "    </tr>\n",
       "    <tr>\n",
       "      <th id=\"T_ccc3e_level0_row38\" class=\"row_heading level0 row38\" >Птицы</th>\n",
       "      <td id=\"T_ccc3e_row38_col0\" class=\"data row38 col0\" >0.569958</td>\n",
       "      <td id=\"T_ccc3e_row38_col1\" class=\"data row38 col1\" >0.430042</td>\n",
       "    </tr>\n",
       "    <tr>\n",
       "      <th id=\"T_ccc3e_level0_row39\" class=\"row_heading level0 row39\" >Растения</th>\n",
       "      <td id=\"T_ccc3e_row39_col0\" class=\"data row39 col0\" >0.789881</td>\n",
       "      <td id=\"T_ccc3e_row39_col1\" class=\"data row39 col1\" >0.210119</td>\n",
       "    </tr>\n",
       "    <tr>\n",
       "      <th id=\"T_ccc3e_level0_row40\" class=\"row_heading level0 row40\" >Резюме</th>\n",
       "      <td id=\"T_ccc3e_row40_col0\" class=\"data row40 col0\" >0.495208</td>\n",
       "      <td id=\"T_ccc3e_row40_col1\" class=\"data row40 col1\" >0.504792</td>\n",
       "    </tr>\n",
       "    <tr>\n",
       "      <th id=\"T_ccc3e_level0_row41\" class=\"row_heading level0 row41\" >Ремонт и строительство</th>\n",
       "      <td id=\"T_ccc3e_row41_col0\" class=\"data row41 col0\" >0.808910</td>\n",
       "      <td id=\"T_ccc3e_row41_col1\" class=\"data row41 col1\" >0.191090</td>\n",
       "    </tr>\n",
       "    <tr>\n",
       "      <th id=\"T_ccc3e_level0_row42\" class=\"row_heading level0 row42\" >Собаки</th>\n",
       "      <td id=\"T_ccc3e_row42_col0\" class=\"data row42 col0\" >0.420924</td>\n",
       "      <td id=\"T_ccc3e_row42_col1\" class=\"data row42 col1\" >0.579076</td>\n",
       "    </tr>\n",
       "    <tr>\n",
       "      <th id=\"T_ccc3e_level0_row43\" class=\"row_heading level0 row43\" >Спорт и отдых</th>\n",
       "      <td id=\"T_ccc3e_row43_col0\" class=\"data row43 col0\" >0.786048</td>\n",
       "      <td id=\"T_ccc3e_row43_col1\" class=\"data row43 col1\" >0.213952</td>\n",
       "    </tr>\n",
       "    <tr>\n",
       "      <th id=\"T_ccc3e_level0_row44\" class=\"row_heading level0 row44\" >Телефоны</th>\n",
       "      <td id=\"T_ccc3e_row44_col0\" class=\"data row44 col0\" >0.877089</td>\n",
       "      <td id=\"T_ccc3e_row44_col1\" class=\"data row44 col1\" >0.122911</td>\n",
       "    </tr>\n",
       "    <tr>\n",
       "      <th id=\"T_ccc3e_level0_row45\" class=\"row_heading level0 row45\" >Товары для детей и игрушки</th>\n",
       "      <td id=\"T_ccc3e_row45_col0\" class=\"data row45 col0\" >0.803280</td>\n",
       "      <td id=\"T_ccc3e_row45_col1\" class=\"data row45 col1\" >0.196720</td>\n",
       "    </tr>\n",
       "    <tr>\n",
       "      <th id=\"T_ccc3e_level0_row46\" class=\"row_heading level0 row46\" >Товары для животных</th>\n",
       "      <td id=\"T_ccc3e_row46_col0\" class=\"data row46 col0\" >0.736809</td>\n",
       "      <td id=\"T_ccc3e_row46_col1\" class=\"data row46 col1\" >0.263191</td>\n",
       "    </tr>\n",
       "    <tr>\n",
       "      <th id=\"T_ccc3e_level0_row47\" class=\"row_heading level0 row47\" >Товары для компьютера</th>\n",
       "      <td id=\"T_ccc3e_row47_col0\" class=\"data row47 col0\" >0.910420</td>\n",
       "      <td id=\"T_ccc3e_row47_col1\" class=\"data row47 col1\" >0.089580</td>\n",
       "    </tr>\n",
       "    <tr>\n",
       "      <th id=\"T_ccc3e_level0_row48\" class=\"row_heading level0 row48\" >Фототехника</th>\n",
       "      <td id=\"T_ccc3e_row48_col0\" class=\"data row48 col0\" >0.865247</td>\n",
       "      <td id=\"T_ccc3e_row48_col1\" class=\"data row48 col1\" >0.134753</td>\n",
       "    </tr>\n",
       "    <tr>\n",
       "      <th id=\"T_ccc3e_level0_row49\" class=\"row_heading level0 row49\" >Часы и украшения</th>\n",
       "      <td id=\"T_ccc3e_row49_col0\" class=\"data row49 col0\" >0.836625</td>\n",
       "      <td id=\"T_ccc3e_row49_col1\" class=\"data row49 col1\" >0.163375</td>\n",
       "    </tr>\n",
       "  </tbody>\n",
       "</table>\n"
      ],
      "text/plain": [
       "<pandas.io.formats.style.Styler at 0x7f74af1f4a60>"
      ]
     },
     "execution_count": 57,
     "metadata": {},
     "output_type": "execute_result"
    }
   ],
   "source": [
    "cm = sns.light_palette(\"blue\", as_cmap=True)\n",
    "pd.crosstab(df_train['subcategory'],\n",
    "            df_train['is_bad'],\n",
    "            normalize='index').style.background_gradient(cmap=cm)"
   ]
  },
  {
   "cell_type": "markdown",
   "id": "d56a9f59-2b00-4c78-8e66-b2c6d50a5068",
   "metadata": {},
   "source": [
    "**Вывод**  \n",
    "Явных взакономерностей не наблюдается"
   ]
  },
  {
   "cell_type": "markdown",
   "id": "31bcc098-07f3-4551-a899-c9cf19e30e62",
   "metadata": {},
   "source": [
    "### Определение длины сообщения и % знаков препинания в тексте описания (description)<a class=\"anchor\" id=\"len_punct\"></a>"
   ]
  },
  {
   "cell_type": "code",
   "execution_count": 58,
   "id": "639dd09c-ac9c-4928-a9d9-36bef92feac8",
   "metadata": {},
   "outputs": [
    {
     "name": "stdout",
     "output_type": "stream",
     "text": [
      "CPU times: user 33.5 s, sys: 14.4 ms, total: 33.5 s\n",
      "Wall time: 33.6 s\n"
     ]
    }
   ],
   "source": [
    "%%time\n",
    "# функция для вычисления длины заголовка новости без учета пробелов\n",
    "df_train['description_len'] = df_train['description'].apply(lambda x: len(x) - x.count(\" \"))\n",
    "\n",
    "\n",
    "# функция показывает процент знаков препинания в теле заголовка новости\n",
    "def count_punct(text):\n",
    "    count = sum([1 for char in text if char in string.punctuation])\n",
    "    return round(count/(len(text) - text.count(\" \")), 3)*100\n",
    "\n",
    "df_train['punct%'] = df_train['description'].apply(lambda x: count_punct(x))\n",
    "\n",
    "\n",
    "# df_train.head()"
   ]
  },
  {
   "cell_type": "code",
   "execution_count": 59,
   "id": "72018e55-bc44-482d-99a5-9bf44fba481f",
   "metadata": {},
   "outputs": [
    {
     "data": {
      "text/plain": [
       "47    4117\n",
       "57    4046\n",
       "53    4045\n",
       "31    4025\n",
       "44    4007\n",
       "49    3996\n",
       "52    3990\n",
       "46    3966\n",
       "45    3966\n",
       "55    3953\n",
       "Name: description_len, dtype: int64"
      ]
     },
     "execution_count": 59,
     "metadata": {},
     "output_type": "execute_result"
    }
   ],
   "source": [
    "data = df_train['description_len'].value_counts().iloc[:10]\n",
    "data"
   ]
  },
  {
   "cell_type": "code",
   "execution_count": 60,
   "id": "85cbfebb-094e-4254-a31e-8bad795ff09a",
   "metadata": {
    "tags": []
   },
   "outputs": [
    {
     "data": {
      "text/plain": [
       "Text(0.5, 1.0, 'Распределение объявлений по числу символов')"
      ]
     },
     "execution_count": 60,
     "metadata": {},
     "output_type": "execute_result"
    },
    {
     "data": {
      "image/png": "[encoded data removed]",
      "text/plain": [
       "<Figure size 1152x360 with 1 Axes>"
      ]
     },
     "metadata": {},
     "output_type": "display_data"
    }
   ],
   "source": [
    "plt.figure(figsize=(16,5))\n",
    "\n",
    "ax = sns.barplot(x=data.index, y=data.values)\n",
    "ax.set_xlabel('Наиболее часто встречаемое число символов в описании объявления', fontsize=16)\n",
    "ax.set_ylabel('Количество', fontsize=16)\n",
    "ax.set_title('Распределение объявлений по числу символов', fontsize=20)"
   ]
  },
  {
   "cell_type": "code",
   "execution_count": 61,
   "id": "a7aabb11-2700-48fb-98c1-cf0b963217ad",
   "metadata": {},
   "outputs": [
    {
     "data": {
      "text/plain": [
       "0.000    45917\n",
       "6.200    16914\n",
       "5.600    15827\n",
       "7.100    15217\n",
       "6.700    15135\n",
       "5.900    14170\n",
       "6.100    14078\n",
       "5.300    14057\n",
       "6.500    14040\n",
       "6.800    13817\n",
       "Name: punct%, dtype: int64"
      ]
     },
     "execution_count": 61,
     "metadata": {},
     "output_type": "execute_result"
    }
   ],
   "source": [
    "data = df_train['punct%'].value_counts().iloc[:10]\n",
    "data"
   ]
  },
  {
   "cell_type": "code",
   "execution_count": 62,
   "id": "65e40bee-301d-46dc-9cf3-aff157045725",
   "metadata": {
    "tags": []
   },
   "outputs": [
    {
     "data": {
      "text/plain": [
       "Text(0.5, 1.0, 'Распределение объявлений по проценту пунктуации')"
      ]
     },
     "execution_count": 62,
     "metadata": {},
     "output_type": "execute_result"
    },
    {
     "data": {
      "image/png": "[encoded data removed]",
      "text/plain": [
       "<Figure size 1152x360 with 1 Axes>"
      ]
     },
     "metadata": {},
     "output_type": "display_data"
    }
   ],
   "source": [
    "plt.figure(figsize=(16,5))\n",
    "\n",
    "ax = sns.barplot(x=data.index, y=data.values)\n",
    "ax.set_xlabel('Наиболее часто встречаемый процент пунктуации в описании объявления', fontsize=16)\n",
    "ax.set_ylabel('Количество', fontsize=16)\n",
    "ax.set_title('Распределение объявлений по проценту пунктуации', fontsize=20)"
   ]
  },
  {
   "cell_type": "code",
   "execution_count": 63,
   "id": "cce118e5-605e-487a-a074-222e6cc2a45b",
   "metadata": {},
   "outputs": [
    {
     "data": {
      "image/png": "[encoded data removed]",
      "text/plain": [
       "<Figure size 576x396 with 1 Axes>"
      ]
     },
     "metadata": {},
     "output_type": "display_data"
    }
   ],
   "source": [
    "bins = np.linspace(0, 100, 50)\n",
    "\n",
    "plt.hist(df_train[df_train['is_bad'] == 1]['description_len'], bins, alpha=0.5, label='value 1', color='r')\n",
    "plt.hist(df_train[df_train['is_bad'] == 0]['description_len'], bins, alpha=0.5, label='value 0')\n",
    "plt.legend(loc='upper right')\n",
    "plt.show()"
   ]
  },
  {
   "cell_type": "code",
   "execution_count": 64,
   "id": "03001fa2-6057-4bb0-a631-fadd3d1e3bd7",
   "metadata": {},
   "outputs": [
    {
     "data": {
      "image/png": "[encoded data removed]",
      "text/plain": [
       "<Figure size 576x396 with 1 Axes>"
      ]
     },
     "metadata": {},
     "output_type": "display_data"
    }
   ],
   "source": [
    "bins = np.linspace(0, 50, 40)\n",
    "\n",
    "plt.hist(df_train[df_train['is_bad'] == 1]['punct%'], bins, alpha=0.5, label='value 1', color='r')\n",
    "plt.hist(df_train[df_train['is_bad'] == 0]['punct%'], bins, alpha=0.5, label='value 0')\n",
    "plt.legend(loc='upper right')\n",
    "plt.show()"
   ]
  },
  {
   "cell_type": "code",
   "execution_count": null,
   "id": "4bdfc92b-5a90-417c-bad0-8e0f462e2fb8",
   "metadata": {},
   "outputs": [],
   "source": []
  },
  {
   "cell_type": "markdown",
   "id": "ff5bc18a-30f9-4c25-9504-6643656b4d14",
   "metadata": {},
   "source": [
    "**Вывод:** <br>\n",
    "Можно сделать вывод, что по длине описания объявления распределены достаточно равномерно, а вот по проценту пунктуации чаще всего встречаются объявления без знаков препинания.<br>\n",
    "Распределение длины текста и количества знаков препинания в целом повторяют друг друга как в тренировочном, так и в тестовом датасетах."
   ]
  },
  {
   "cell_type": "markdown",
   "id": "25d6060c-2dc5-478d-a14d-ac69b250db67",
   "metadata": {},
   "source": [
    "## Предварительная обработка данных<a class=\"anchor\" id=\"data_preprocessing\"></a> "
   ]
  },
  {
   "cell_type": "markdown",
   "id": "600900ce-b969-4265-bbe7-7464cfd09104",
   "metadata": {},
   "source": [
    "#### __Обработка пропусков и выбросов__"
   ]
  },
  {
   "cell_type": "markdown",
   "id": "8193649b-024a-4323-ac51-8ac56b0168d1",
   "metadata": {},
   "source": [
    "В признаке __price__ 58048 (в df_train) значений NaN. В тестовом датасете они тоже присутствуют. Заменим их на среднее значение. Выбросы оставим без внимания.<br>"
   ]
  },
  {
   "cell_type": "code",
   "execution_count": 65,
   "id": "093c41f0-a728-44ad-873f-0f290c76a2de",
   "metadata": {},
   "outputs": [],
   "source": [
    "df_train['price'] = df_train['price'].fillna(df_train['price'].mean())\n"
   ]
  },
  {
   "cell_type": "markdown",
   "id": "30c39621-6ffd-4fd8-ba27-33f4938b3859",
   "metadata": {},
   "source": [
    "### Поиск регулярных выражений в описании<a class=\"anchor\" id=\"regexp_search\"></a> "
   ]
  },
  {
   "cell_type": "markdown",
   "id": "c256322a-c54f-4c5d-98d1-0447ab27dea3",
   "metadata": {},
   "source": [
    "Производим поиск в описании регулярных выражений. Создаем из результатов поиска датасет"
   ]
  },
  {
   "cell_type": "code",
   "execution_count": 66,
   "id": "e75ca90a-13cd-48d3-8fe1-fd2b0cb84d89",
   "metadata": {},
   "outputs": [],
   "source": [
    "# подгрузка словаря\n",
    "with open(DICT_PATH) as json_file:\n",
    "    regexp_dict = json_load(json_file)\n",
    "    json_file.close()"
   ]
  },
  {
   "cell_type": "code",
   "execution_count": 67,
   "id": "6af3a828-513b-4899-b934-535ccbbc16f7",
   "metadata": {},
   "outputs": [
    {
     "data": {
      "application/vnd.jupyter.widget-view+json": {
       "model_id": "19d8283dd9d7433bb16216d4fee3413c",
       "version_major": 2,
       "version_minor": 0
      },
      "text/plain": [
       "VBox(children=(HBox(children=(IntProgress(value=0, description='0.00%', max=250181), Label(value='0 / 250181')…"
      ]
     },
     "metadata": {},
     "output_type": "display_data"
    },
    {
     "name": "stdout",
     "output_type": "stream",
     "text": [
      "CPU times: user 3.82 s, sys: 518 ms, total: 4.34 s\n",
      "Wall time: 1min 49s\n"
     ]
    }
   ],
   "source": [
    "%%time\n",
    "search_result = partial(get_dict_search, regexp_dict)\n",
    "df_train_reg = df_train['description'].parallel_apply(lambda text: search_result(text))\n",
    "\n",
    "df_train_reg = pd.DataFrame((item for item in df_train_reg), columns = regexp_dict.keys())\n"
   ]
  },
  {
   "cell_type": "markdown",
   "id": "7861e1ed-f533-4804-8c2d-d79c6d46c892",
   "metadata": {
    "tags": []
   },
   "source": [
    "### Очиcтка текста приведение слов к стандартному виду<a class=\"anchor\" id=\"text_clearing\"></a> "
   ]
  },
  {
   "cell_type": "code",
   "execution_count": 68,
   "id": "7702ba12-633a-4dfc-8e7f-1d6007abcdcf",
   "metadata": {
    "tags": []
   },
   "outputs": [
    {
     "data": {
      "application/vnd.jupyter.widget-view+json": {
       "model_id": "0653566139654401b0667aa7a84fb794",
       "version_major": 2,
       "version_minor": 0
      },
      "text/plain": [
       "VBox(children=(HBox(children=(IntProgress(value=0, description='0.00%', max=250181), Label(value='0 / 250181')…"
      ]
     },
     "metadata": {},
     "output_type": "display_data"
    },
    {
     "data": {
      "application/vnd.jupyter.widget-view+json": {
       "model_id": "baf65c6fdd3f4a76a37799bf5d74c09c",
       "version_major": 2,
       "version_minor": 0
      },
      "text/plain": [
       "VBox(children=(HBox(children=(IntProgress(value=0, description='0.00%', max=250181), Label(value='0 / 250181')…"
      ]
     },
     "metadata": {},
     "output_type": "display_data"
    },
    {
     "name": "stdout",
     "output_type": "stream",
     "text": [
      "df_train OK\n",
      "CPU times: user 6.35 s, sys: 1.38 s, total: 7.73 s\n",
      "Wall time: 3min 27s\n"
     ]
    }
   ],
   "source": [
    "%%time \n",
    "\n",
    "df_train['title'] = df_train.title.parallel_apply(get_text_preprocessing)\n",
    "df_train['description'] = df_train.description.parallel_apply(get_text_preprocessing)\n",
    "print('df_train OK')"
   ]
  },
  {
   "cell_type": "markdown",
   "id": "66f52935-a1a0-497b-a30d-ba953c7f697e",
   "metadata": {},
   "source": [
    "Чтобы сократить количество признаков, объединим заголовок и описание"
   ]
  },
  {
   "cell_type": "code",
   "execution_count": 69,
   "id": "64625e5a-6eb6-4d09-b41a-e16f7c63a5dc",
   "metadata": {},
   "outputs": [],
   "source": [
    "df_train['title_and_description'] = df_train.title + ' ' + df_train.description\n",
    "\n",
    "df_train.drop(['title', 'description'], axis=1, inplace=True)\n"
   ]
  },
  {
   "cell_type": "markdown",
   "id": "97261a6e-2933-418f-88e8-75601432593a",
   "metadata": {},
   "source": [
    "Создадим дополнительные признаки, вытащим из 'title_and_description' отдельно текст и цифры"
   ]
  },
  {
   "cell_type": "code",
   "execution_count": 70,
   "id": "a058f16d-a8be-49de-8b58-d8292996d740",
   "metadata": {},
   "outputs": [
    {
     "data": {
      "application/vnd.jupyter.widget-view+json": {
       "model_id": "85b776f5f4104309b085ae5be352b3a4",
       "version_major": 2,
       "version_minor": 0
      },
      "text/plain": [
       "VBox(children=(HBox(children=(IntProgress(value=0, description='0.00%', max=250181), Label(value='0 / 250181')…"
      ]
     },
     "metadata": {},
     "output_type": "display_data"
    },
    {
     "data": {
      "application/vnd.jupyter.widget-view+json": {
       "model_id": "0f2de2470ce844c3b53b3ea905030189",
       "version_major": 2,
       "version_minor": 0
      },
      "text/plain": [
       "VBox(children=(HBox(children=(IntProgress(value=0, description='0.00%', max=250181), Label(value='0 / 250181')…"
      ]
     },
     "metadata": {},
     "output_type": "display_data"
    },
    {
     "data": {
      "application/vnd.jupyter.widget-view+json": {
       "model_id": "3d33a47618ba4cb2aa924db6be6552d1",
       "version_major": 2,
       "version_minor": 0
      },
      "text/plain": [
       "VBox(children=(HBox(children=(IntProgress(value=0, description='0.00%', max=250181), Label(value='0 / 250181')…"
      ]
     },
     "metadata": {},
     "output_type": "display_data"
    },
    {
     "data": {
      "application/vnd.jupyter.widget-view+json": {
       "model_id": "ca4375a4ae4f4858b0cbc12e554eb0ea",
       "version_major": 2,
       "version_minor": 0
      },
      "text/plain": [
       "VBox(children=(HBox(children=(IntProgress(value=0, description='0.00%', max=250181), Label(value='0 / 250181')…"
      ]
     },
     "metadata": {},
     "output_type": "display_data"
    }
   ],
   "source": [
    "df_train['text'] = df_train.title_and_description.parallel_apply(lambda text: re.sub('[^A-Za-z0-9\\.\\@\\ \\-\\_]', ' ', text))\n",
    "df_train['text'] = df_train['text'].parallel_apply(lambda text: re.sub(' +', ' ', text))\n",
    "\n",
    "df_train['numbers'] = df_train.title_and_description.parallel_apply(lambda text: re.sub('[^0-9\\+\\(\\)\\-]', ' ', text))\n",
    "df_train['numbers'] = df_train['numbers'].parallel_apply(lambda text: re.sub(' +', ' ', text))\n"
   ]
  },
  {
   "cell_type": "markdown",
   "id": "ac77dc63-e1f2-401a-9fbe-b4e731022907",
   "metadata": {},
   "source": [
    "Объединим очищенные датасеты с датасетами из регулярных выражений"
   ]
  },
  {
   "cell_type": "code",
   "execution_count": 71,
   "id": "f2cdb3e8-009f-4e52-96d4-5711352e0c3a",
   "metadata": {},
   "outputs": [],
   "source": [
    "df_train = pd.concat([df_train, df_train_reg], axis=1)\n"
   ]
  },
  {
   "cell_type": "code",
   "execution_count": 72,
   "id": "42bd67ac-e212-435f-8a98-991e39e4bf30",
   "metadata": {},
   "outputs": [],
   "source": [
    "# Сохраним обработанный вариант датасетов df_train и df_test\n",
    "df_train.to_csv(PREP_TRAIN_DATASET_PATH, index=False, encoding='utf-8')\n"
   ]
  },
  {
   "cell_type": "markdown",
   "id": "8690c375-cd1e-449d-9a05-374b8e9ec3e9",
   "metadata": {},
   "source": [
    "## Построение модели CatBoost<a class=\"anchor\" id=\"modeling\"></a> "
   ]
  },
  {
   "cell_type": "code",
   "execution_count": 73,
   "id": "89207782-8006-42df-baaa-bb753c414849",
   "metadata": {},
   "outputs": [
    {
     "name": "stdout",
     "output_type": "stream",
     "text": [
      "CPU times: user 11.5 s, sys: 663 ms, total: 12.1 s\n",
      "Wall time: 12.1 s\n"
     ]
    }
   ],
   "source": [
    "%%time\n",
    "\n",
    "df_train = read_csv(PREP_TRAIN_DATASET_PATH)\n",
    "\n",
    "\n",
    "y_train = df_train.is_bad\n",
    "\n",
    "\n",
    "df_train =df_train.drop('is_bad', axis=1)\n"
   ]
  },
  {
   "cell_type": "code",
   "execution_count": 74,
   "id": "48e77fd4-b90e-4953-8032-20638dab17be",
   "metadata": {},
   "outputs": [],
   "source": [
    "feature_names = [\n",
    "                 'subcategory',\n",
    "                 'category',\n",
    "                 # 'price',\n",
    "                 'region',\n",
    "                 'city',\n",
    "                 'month',\n",
    "                 'day',\n",
    "                 'price_log',\n",
    "                 'description_len',\n",
    "                 # 'punct%',\n",
    "                 'title_and_description',\n",
    "                 'text',\n",
    "                 'numbers',\n",
    "                 'phone',\n",
    "                 'email',\n",
    "                 'youtube',\n",
    "                 'site',\n",
    "                 'phone_operators',\n",
    "                 'messenger'                 \n",
    "                ]"
   ]
  },
  {
   "cell_type": "code",
   "execution_count": 75,
   "id": "e71806fe-d227-4b7a-88b1-d79bb83b2a1e",
   "metadata": {},
   "outputs": [],
   "source": [
    "cat_features =['category', 'subcategory', 'phone', 'email',  'phone_operators', 'messenger','youtube', 'site',]\n",
    "\n",
    "text_features = ['title_and_description', 'text', 'numbers', 'region', 'city',]"
   ]
  },
  {
   "cell_type": "code",
   "execution_count": 76,
   "id": "11df6462-11c9-41cb-86f1-dc85284af140",
   "metadata": {},
   "outputs": [],
   "source": [
    "X_train, X_val, y_train, y_val = (train_test_split(df_train, y_train, test_size=0.2, random_state=RANDOM, stratify=df_train['category']))"
   ]
  },
  {
   "cell_type": "code",
   "execution_count": 77,
   "id": "be965ab1-d04c-4861-8a32-f64f1f8c337a",
   "metadata": {},
   "outputs": [],
   "source": [
    "pool_train = Pool(data=X_train[feature_names], label=y_train, text_features=text_features, cat_features=cat_features) \n",
    "pool_val = Pool(data=X_val[feature_names], label=y_val, text_features=text_features, cat_features=cat_features)\n"
   ]
  },
  {
   "cell_type": "markdown",
   "id": "6291083d-96b7-45c2-9b1a-c284a2d9a723",
   "metadata": {},
   "source": [
    "Вспомним про дисбаланс классов целевой переменной.  "
   ]
  },
  {
   "cell_type": "code",
   "execution_count": 78,
   "id": "24a56783-2f4d-4f94-bed6-3c4bd7bfc454",
   "metadata": {},
   "outputs": [
    {
     "data": {
      "text/plain": [
       "3.1272277355329297"
      ]
     },
     "execution_count": 78,
     "metadata": {},
     "output_type": "execute_result"
    }
   ],
   "source": [
    "disbalance = y_train.value_counts()[0] / y_train.value_counts()[1]\n",
    "disbalance"
   ]
  },
  {
   "cell_type": "code",
   "execution_count": 79,
   "id": "1985c483-b97f-4ac4-8a42-6ab13ffe14ad",
   "metadata": {},
   "outputs": [],
   "source": [
    "cat_model = CatBoostClassifier()"
   ]
  },
  {
   "cell_type": "code",
   "execution_count": 80,
   "id": "e389d634-6073-4715-a684-9fd818e0c3f5",
   "metadata": {
    "tags": []
   },
   "outputs": [],
   "source": [
    "# grid_params = {\n",
    "#     'reg_lambda': [1, 3, 5, 7, 9],\n",
    "#     'learning_rate': [0.03, 0.1],\n",
    "#     'depth': [6, 10, 13]\n",
    "# }"
   ]
  },
  {
   "cell_type": "code",
   "execution_count": 81,
   "id": "bb19a6e3-ae8f-4d80-a690-5235155a5a91",
   "metadata": {},
   "outputs": [],
   "source": [
    "# cv = StratifiedKFold(n_splits=3, random_state=RANDOM, shuffle=True)"
   ]
  },
  {
   "cell_type": "code",
   "execution_count": 82,
   "id": "aea9e8bb-a4e4-4997-badc-4ff2220ee02f",
   "metadata": {},
   "outputs": [],
   "source": [
    "# grid_search = cat_model.grid_search(grid_params, \n",
    "#                                     pool_train, \n",
    "#                                     calc_cv_statistics=True,\n",
    "#                                     search_by_train_test_split=True,                                    \n",
    "#                                     cv=cv, \n",
    "#                                     stratified=True, \n",
    "#                                     plot=True, \n",
    "#                                     refit=True)"
   ]
  },
  {
   "cell_type": "code",
   "execution_count": 83,
   "id": "5fd51904-9830-44ee-8d1f-dc46ab74b4a4",
   "metadata": {},
   "outputs": [],
   "source": [
    "# cat_model = CatBoostClassifier(**frozen_params, iterations=2000)\n",
    "\n",
    "# cat_model.fit(\n",
    "#     pool_train,    \n",
    "#     eval_set=pool_val,    \n",
    "#     verbose=500,\n",
    "#     plot=True\n",
    "# )\n",
    "\n",
    "# print(f\"Model is fitted: {str(cat_model.is_fitted())}\")\n",
    "# print(f\"Model params: {cat_model.get_params()}\")\n",
    "# print('Tree count: ' + str(cat_model.tree_count_))\n",
    "# print('Best score: ' + str(cat_model.best_score_))"
   ]
  },
  {
   "cell_type": "code",
   "execution_count": 84,
   "id": "ea77288a-7daa-49b1-be36-2fca9543485b",
   "metadata": {},
   "outputs": [],
   "source": [
    "# cat_model.get_feature_importance(pool_val, prettified=True)"
   ]
  },
  {
   "cell_type": "code",
   "execution_count": 85,
   "id": "674a98df-4a9c-4584-890d-70bb0f5887e5",
   "metadata": {},
   "outputs": [],
   "source": [
    "# metrics_printer(X_val[feature_names], y_val, cat_model)"
   ]
  },
  {
   "cell_type": "markdown",
   "id": "4cc7409e-21ac-4b3d-a3cf-00730515b284",
   "metadata": {},
   "source": [
    "###  Построение финальной модели <a class=\"anchor\" id=\"final_model\"></a>"
   ]
  },
  {
   "cell_type": "code",
   "execution_count": 86,
   "id": "be4af12d-b140-4831-8bf3-1206ee68eeee",
   "metadata": {},
   "outputs": [],
   "source": [
    "cat_model_tuned = CatBoostClassifier(\n",
    "    random_seed=RANDOM,\n",
    "    iterations=1500,\n",
    "    bagging_temperature=0.0,\n",
    "    learning_rate=0.1,\n",
    "    random_strength=7.3,\n",
    "    depth=13,\n",
    "    l2_leaf_reg=5.6,\n",
    "    eval_metric='AUC',\n",
    "    verbose=500,\n",
    "    task_type='GPU',\n",
    "    class_weights=[1, disbalance],\n",
    "    use_best_model=True\n",
    ")"
   ]
  },
  {
   "cell_type": "code",
   "execution_count": 87,
   "id": "fd099e91-bb4d-4c70-9ff5-3105facc7115",
   "metadata": {},
   "outputs": [
    {
     "data": {
      "application/vnd.jupyter.widget-view+json": {
       "model_id": "7987d25d79364ffcb0f453685a9a8177",
       "version_major": 2,
       "version_minor": 0
      },
      "text/plain": [
       "MetricVisualizer(layout=Layout(align_self='stretch', height='500px'))"
      ]
     },
     "metadata": {},
     "output_type": "display_data"
    },
    {
     "name": "stderr",
     "output_type": "stream",
     "text": [
      "Default metric period is 5 because AUC is/are not implemented for GPU\n"
     ]
    },
    {
     "name": "stdout",
     "output_type": "stream",
     "text": [
      "0:\ttest: 0.9340504\tbest: 0.9340504 (0)\ttotal: 923ms\tremaining: 23m 3s\n",
      "500:\ttest: 0.9790612\tbest: 0.9790612 (500)\ttotal: 6m 54s\tremaining: 13m 47s\n",
      "1000:\ttest: 0.9802328\tbest: 0.9802328 (1000)\ttotal: 13m 4s\tremaining: 6m 31s\n",
      "1499:\ttest: 0.9806238\tbest: 0.9806241 (1495)\ttotal: 18m 40s\tremaining: 0us\n",
      "bestTest = 0.9806241393\n",
      "bestIteration = 1495\n",
      "Shrink model to first 1496 iterations.\n",
      "Model is fitted: True\n",
      "Model params: {'iterations': 1500, 'learning_rate': 0.1, 'depth': 13, 'l2_leaf_reg': 5.6, 'random_seed': 42, 'use_best_model': True, 'verbose': 500, 'class_weights': [1, 3.1272277355329297], 'random_strength': 7.3, 'eval_metric': 'AUC', 'bagging_temperature': 0.0, 'task_type': 'GPU'}\n",
      "Tree count: 1496\n",
      "Best score: {'learn': {'Logloss': 0.10101702501251589}, 'validation': {'Logloss': 0.1770996765310958, 'AUC': 0.9806241393089294}}\n",
      "CPU times: user 20min 46s, sys: 13.7 s, total: 21min\n",
      "Wall time: 19min 39s\n"
     ]
    }
   ],
   "source": [
    "%%time\n",
    "cat_model_tuned.fit(\n",
    "    pool_train,    \n",
    "    eval_set=pool_val,    \n",
    "    verbose=500,\n",
    "    plot=True\n",
    ")\n",
    "\n",
    "print(f\"Model is fitted: {str(cat_model_tuned.is_fitted())}\")\n",
    "print(f\"Model params: {cat_model_tuned.get_params()}\")\n",
    "print('Tree count: ' + str(cat_model_tuned.tree_count_))\n",
    "print('Best score: ' + str(cat_model_tuned.best_score_))"
   ]
  },
  {
   "cell_type": "markdown",
   "id": "5f0c88b8-5dbc-425c-8346-0f8242231188",
   "metadata": {
    "jupyter": {
     "source_hidden": true
    },
    "tags": []
   },
   "source": [
    "Default metric period is 5 because AUC is/are not implemented for GPU  \n",
    "0:\ttest: 0.9340504\tbest: 0.9340504 (0)\ttotal: 903ms\tremaining: 22m 33s  \n",
    "500:\ttest: 0.9790612\tbest: 0.9790612 (500)\ttotal: 6m 53s\tremaining: 13m 44s  \n",
    "1000:\ttest: 0.9801991\tbest: 0.9801991 (1000)\ttotal: 13m 5s\tremaining: 6m 31s  \n",
    "1499:\ttest: 0.9806145\tbest: 0.9806152 (1490)\ttotal: 18m 39s\tremaining: 0us \n",
    "bestTest = 0.9806151986  \n",
    "bestIteration = 1490\n",
    "Shrink model to first 1491 iterations.\n",
    "Model is fitted: True\n",
    "Model params: {'iterations': 1500, 'learning_rate': 0.1, 'depth': 13, 'l2_leaf_reg': 5.6, 'random_seed': 42, 'use_best_model': True, 'verbose': 500, 'class_weights': [1, 3.1272277355329297], 'random_strength': 7.3, 'eval_metric': 'AUC', 'bagging_temperature': 0.0, 'task_type': 'GPU'}\n",
    "Tree count: 1491\n",
    "Best score: {'learn': {'Logloss': 0.1014165920796121}, 'validation': {'Logloss': 0.17712223710953817, 'AUC': 0.9806151986122131}}\n",
    "CPU times: user 20min 47s, sys: 12.7 s, total: 21min\n",
    "Wall time: 19min 39s\n",
    "\n",
    "0:\ttest: 0.9343328\tbest: 0.9343328 (0)\ttotal: 910ms\tremaining: 22m 43s  \n",
    "500:\ttest: 0.9776342\tbest: 0.9776342 (500)\ttotal: 6m 50s\tremaining: 13m 38s  \n",
    "1000:\ttest: 0.9787792\tbest: 0.9787792 (1000)\ttotal: 12m 44s\tremaining: 6m 21s  \n",
    "1499:\ttest: 0.9793046\tbest: 0.9793046 (1499)\ttotal: 18m 30s\tremaining: 0us  \n",
    "bestTest = 0.9793046117  \n",
    "bestIteration = 1499\n",
    "Model is fitted: True\n",
    "Model params: {'iterations': 1500, 'learning_rate': 0.1, 'depth': 13, 'l2_leaf_reg': 5.6, 'random_seed': 42, 'use_best_model': True, 'verbose': 500, 'class_weights': [1, 3.1272277355329297], 'random_strength': 7.3, 'eval_metric': 'AUC', 'bagging_temperature': 1.0, 'task_type': 'GPU'}\n",
    "Tree count: 1500\n",
    "Best score: {'learn': {'Logloss': 0.12090222397011394}, 'validation': {'Logloss': 0.18284496195066216, 'AUC': 0.9793046116828918}}\n",
    "CPU times: user 20min 39s, sys: 18.1 s, total: 20min 57s\n",
    "Wall time: 19min 37s\n",
    "\n",
    "\n",
    "0:\ttest: 0.9335405\tbest: 0.9335405 (0)\ttotal: 1.14s\tremaining: 28m 30s  \n",
    "500:\ttest: 0.9772252\tbest: 0.9772252 (500)\ttotal: 7m 28s\tremaining: 14m 55s  \n",
    "1000:\ttest: 0.9784591\tbest: 0.9784591 (1000)\ttotal: 13m 44s\tremaining: 6m 51s  \n",
    "1499:\ttest: 0.9789559\tbest: 0.9789585 (1480)\ttotal: 19m 42s\tremaining: 0us  \n",
    "bestTest = 0.9789585471  \n",
    "bestIteration = 1480  \n",
    "Shrink model to first 1481 iterations.\n",
    "Model is fitted: True\n",
    "Model params: {'iterations': 1500, 'learning_rate': 0.1, 'depth': 13, 'l2_leaf_reg': 5.6, 'random_seed': 42, 'use_best_model': True, 'verbose': 500, 'class_weights': [1, 3.129267263907865], 'random_strength': 7.3, 'eval_metric': 'AUC', 'bagging_temperature': 1.0, 'task_type': 'GPU'}\n",
    "Tree count: 1481\n",
    "Best score: {'learn': {'Logloss': 0.12229040484904248}, 'validation': {'Logloss': 0.1843358529986173, 'AUC': 0.9789585471153259}}\n",
    "CPU times: user 21min 54s, sys: 15.7 s, total: 22min 9s\n",
    "Wall time: 20min 48s\n",
    "\n",
    "\n",
    "0:\ttest: 0.9365174\tbest: 0.9365174 (0)\ttotal: 969ms\tremaining: 24m 12s\n",
    "500:\ttest: 0.9762155\tbest: 0.9762155 (500)\ttotal: 6m 50s\tremaining: 13m 38s\n",
    "1000:\ttest: 0.9780490\tbest: 0.9780978 (975)\ttotal: 12m 40s\tremaining: 6m 19s\n",
    "1499:\ttest: 0.9790312\tbest: 0.9790348 (1495)\ttotal: 18m 16s\tremaining: 0us\n",
    "bestTest = 0.9790347815\n",
    "bestIteration = 1495\n",
    "Shrink model to first 1496 iterations.\n",
    "Model is fitted: True\n",
    "Model params: {'iterations': 1500, 'learning_rate': 0.09729575163652356, 'depth': 13, 'l2_leaf_reg': 5.472775259508048, 'use_best_model': True, 'verbose': 500, 'class_weights': [1, 3.1318874187626915], 'random_strength': 7.151011776806903, 'eval_metric': 'AUC', 'bagging_temperature': 0.0, 'task_type': 'GPU'}\n",
    "Tree count: 1496\n",
    "Best score: {'learn': {'Logloss': 0.14291975080531932}, 'validation': {'Logloss': 0.1805890066760912, 'AUC': 0.9790347814559937}}\n",
    "CPU times: user 20min 34s, sys: 15.6 s, total: 20min 49s\n",
    "Wall time: 19min 28s"
   ]
  },
  {
   "cell_type": "code",
   "execution_count": 88,
   "id": "e0ce98b1-30c0-416c-99d5-b7b0e080491e",
   "metadata": {
    "tags": []
   },
   "outputs": [
    {
     "data": {
      "text/html": [
       "<div>\n",
       "<style scoped>\n",
       "    .dataframe tbody tr th:only-of-type {\n",
       "        vertical-align: middle;\n",
       "    }\n",
       "\n",
       "    .dataframe tbody tr th {\n",
       "        vertical-align: top;\n",
       "    }\n",
       "\n",
       "    .dataframe thead th {\n",
       "        text-align: right;\n",
       "    }\n",
       "</style>\n",
       "<table border=\"1\" class=\"dataframe\">\n",
       "  <thead>\n",
       "    <tr style=\"text-align: right;\">\n",
       "      <th></th>\n",
       "      <th>Feature Id</th>\n",
       "      <th>Importances</th>\n",
       "    </tr>\n",
       "  </thead>\n",
       "  <tbody>\n",
       "    <tr>\n",
       "      <th>0</th>\n",
       "      <td>title_and_description</td>\n",
       "      <td>38.383</td>\n",
       "    </tr>\n",
       "    <tr>\n",
       "      <th>1</th>\n",
       "      <td>phone</td>\n",
       "      <td>14.691</td>\n",
       "    </tr>\n",
       "    <tr>\n",
       "      <th>2</th>\n",
       "      <td>text</td>\n",
       "      <td>10.959</td>\n",
       "    </tr>\n",
       "    <tr>\n",
       "      <th>3</th>\n",
       "      <td>description_len</td>\n",
       "      <td>8.135</td>\n",
       "    </tr>\n",
       "    <tr>\n",
       "      <th>4</th>\n",
       "      <td>numbers</td>\n",
       "      <td>7.491</td>\n",
       "    </tr>\n",
       "    <tr>\n",
       "      <th>5</th>\n",
       "      <td>price_log</td>\n",
       "      <td>3.666</td>\n",
       "    </tr>\n",
       "    <tr>\n",
       "      <th>6</th>\n",
       "      <td>category</td>\n",
       "      <td>3.328</td>\n",
       "    </tr>\n",
       "    <tr>\n",
       "      <th>7</th>\n",
       "      <td>city</td>\n",
       "      <td>3.008</td>\n",
       "    </tr>\n",
       "    <tr>\n",
       "      <th>8</th>\n",
       "      <td>region</td>\n",
       "      <td>2.308</td>\n",
       "    </tr>\n",
       "    <tr>\n",
       "      <th>9</th>\n",
       "      <td>subcategory</td>\n",
       "      <td>2.301</td>\n",
       "    </tr>\n",
       "    <tr>\n",
       "      <th>10</th>\n",
       "      <td>day</td>\n",
       "      <td>2.083</td>\n",
       "    </tr>\n",
       "    <tr>\n",
       "      <th>11</th>\n",
       "      <td>month</td>\n",
       "      <td>1.842</td>\n",
       "    </tr>\n",
       "    <tr>\n",
       "      <th>12</th>\n",
       "      <td>site</td>\n",
       "      <td>0.690</td>\n",
       "    </tr>\n",
       "    <tr>\n",
       "      <th>13</th>\n",
       "      <td>email</td>\n",
       "      <td>0.546</td>\n",
       "    </tr>\n",
       "    <tr>\n",
       "      <th>14</th>\n",
       "      <td>messenger</td>\n",
       "      <td>0.463</td>\n",
       "    </tr>\n",
       "    <tr>\n",
       "      <th>15</th>\n",
       "      <td>phone_operators</td>\n",
       "      <td>0.104</td>\n",
       "    </tr>\n",
       "    <tr>\n",
       "      <th>16</th>\n",
       "      <td>youtube</td>\n",
       "      <td>0.002</td>\n",
       "    </tr>\n",
       "  </tbody>\n",
       "</table>\n",
       "</div>"
      ],
      "text/plain": [
       "               Feature Id  Importances\n",
       "0   title_and_description       38.383\n",
       "1                   phone       14.691\n",
       "2                    text       10.959\n",
       "3         description_len        8.135\n",
       "4                 numbers        7.491\n",
       "5               price_log        3.666\n",
       "6                category        3.328\n",
       "7                    city        3.008\n",
       "8                  region        2.308\n",
       "9             subcategory        2.301\n",
       "10                    day        2.083\n",
       "11                  month        1.842\n",
       "12                   site        0.690\n",
       "13                  email        0.546\n",
       "14              messenger        0.463\n",
       "15        phone_operators        0.104\n",
       "16                youtube        0.002"
      ]
     },
     "execution_count": 88,
     "metadata": {},
     "output_type": "execute_result"
    }
   ],
   "source": [
    "cat_model_tuned.get_feature_importance(pool_val, prettified=True)"
   ]
  },
  {
   "cell_type": "markdown",
   "id": "df07840b-55b8-4709-b833-3f570ed5254d",
   "metadata": {
    "tags": []
   },
   "source": [
    "### Сохранение финальной модели<a class=\"anchor\" id=\"final_model_saving\"></a>"
   ]
  },
  {
   "cell_type": "code",
   "execution_count": 89,
   "id": "b79187d9-e989-4f57-b2d2-012bb8576fc9",
   "metadata": {},
   "outputs": [],
   "source": [
    "final_model = cat_model_tuned"
   ]
  },
  {
   "cell_type": "code",
   "execution_count": 90,
   "id": "50388474-7b52-4be3-9abc-a3f2213ca96a",
   "metadata": {
    "tags": []
   },
   "outputs": [],
   "source": [
    "final_model.save_model(MODEL_FILE_PATH)"
   ]
  },
  {
   "cell_type": "code",
   "execution_count": 91,
   "id": "922c9311-bf11-4478-97d4-085867c2f21f",
   "metadata": {},
   "outputs": [],
   "source": [
    "# final_model.load_model(MODEL_FILE_PATH)\n",
    "# print(final_model.get_params())\n",
    "# print(final_model.random_seed_)"
   ]
  },
  {
   "cell_type": "markdown",
   "id": "cbceacf0-ab6a-433d-8c04-140a216b9632",
   "metadata": {},
   "source": [
    "### Сохранение результатов<a class=\"anchor\" id=\"saving_results\"></a>"
   ]
  },
  {
   "cell_type": "code",
   "execution_count": 92,
   "id": "481d8056-c1bc-4d46-b5c2-a48d4984cb75",
   "metadata": {},
   "outputs": [],
   "source": [
    "index = pd.Series(range(0,len(X_val)))\n",
    "predictions_proba = final_model.predict_proba(pool_val)\n",
    "df_proba = pd.DataFrame(predictions_proba)\n",
    "\n",
    "prediction = pd.DataFrame()\n",
    "prediction['index'] = index\n",
    "prediction['prediction'] = df_proba[1]"
   ]
  },
  {
   "cell_type": "code",
   "execution_count": 93,
   "id": "8c838c73-3ff0-4bab-9d4f-a0884bef6765",
   "metadata": {},
   "outputs": [],
   "source": [
    "prediction.to_csv(SUBMISSION_PATH, index=False)"
   ]
  },
  {
   "cell_type": "code",
   "execution_count": 94,
   "id": "b1d70e11-e1fe-4185-9220-963a9dcbb5c0",
   "metadata": {},
   "outputs": [
    {
     "data": {
      "text/html": [
       "<div>\n",
       "<style scoped>\n",
       "    .dataframe tbody tr th:only-of-type {\n",
       "        vertical-align: middle;\n",
       "    }\n",
       "\n",
       "    .dataframe tbody tr th {\n",
       "        vertical-align: top;\n",
       "    }\n",
       "\n",
       "    .dataframe thead th {\n",
       "        text-align: right;\n",
       "    }\n",
       "</style>\n",
       "<table border=\"1\" class=\"dataframe\">\n",
       "  <thead>\n",
       "    <tr style=\"text-align: right;\">\n",
       "      <th></th>\n",
       "      <th>index</th>\n",
       "      <th>prediction</th>\n",
       "    </tr>\n",
       "  </thead>\n",
       "  <tbody>\n",
       "    <tr>\n",
       "      <th>0</th>\n",
       "      <td>0</td>\n",
       "      <td>0.942</td>\n",
       "    </tr>\n",
       "    <tr>\n",
       "      <th>1</th>\n",
       "      <td>1</td>\n",
       "      <td>0.201</td>\n",
       "    </tr>\n",
       "    <tr>\n",
       "      <th>2</th>\n",
       "      <td>2</td>\n",
       "      <td>0.005</td>\n",
       "    </tr>\n",
       "    <tr>\n",
       "      <th>3</th>\n",
       "      <td>3</td>\n",
       "      <td>0.973</td>\n",
       "    </tr>\n",
       "    <tr>\n",
       "      <th>4</th>\n",
       "      <td>4</td>\n",
       "      <td>0.988</td>\n",
       "    </tr>\n",
       "    <tr>\n",
       "      <th>...</th>\n",
       "      <td>...</td>\n",
       "      <td>...</td>\n",
       "    </tr>\n",
       "    <tr>\n",
       "      <th>200140</th>\n",
       "      <td>200140</td>\n",
       "      <td>0.078</td>\n",
       "    </tr>\n",
       "    <tr>\n",
       "      <th>200141</th>\n",
       "      <td>200141</td>\n",
       "      <td>0.361</td>\n",
       "    </tr>\n",
       "    <tr>\n",
       "      <th>200142</th>\n",
       "      <td>200142</td>\n",
       "      <td>0.269</td>\n",
       "    </tr>\n",
       "    <tr>\n",
       "      <th>200143</th>\n",
       "      <td>200143</td>\n",
       "      <td>0.154</td>\n",
       "    </tr>\n",
       "    <tr>\n",
       "      <th>200144</th>\n",
       "      <td>200144</td>\n",
       "      <td>0.822</td>\n",
       "    </tr>\n",
       "  </tbody>\n",
       "</table>\n",
       "<p>200145 rows × 2 columns</p>\n",
       "</div>"
      ],
      "text/plain": [
       "         index  prediction\n",
       "0            0       0.942\n",
       "1            1       0.201\n",
       "2            2       0.005\n",
       "3            3       0.973\n",
       "4            4       0.988\n",
       "...        ...         ...\n",
       "200140  200140       0.078\n",
       "200141  200141       0.361\n",
       "200142  200142       0.269\n",
       "200143  200143       0.154\n",
       "200144  200144       0.822\n",
       "\n",
       "[200145 rows x 2 columns]"
      ]
     },
     "execution_count": 94,
     "metadata": {},
     "output_type": "execute_result"
    }
   ],
   "source": [
    "pred = read_csv(SUBMISSION_PATH)\n",
    "pred"
   ]
  },
  {
   "cell_type": "code",
   "execution_count": null,
   "id": "c9b126dc-d1ab-4acf-8191-dde600747e73",
   "metadata": {},
   "outputs": [],
   "source": []
  }
 ],
 "metadata": {
  "kernelspec": {
   "display_name": "Python 3 (ipykernel)",
   "language": "python",
   "name": "python3"
  },
  "language_info": {
   "codemirror_mode": {
    "name": "ipython",
    "version": 3
   },
   "file_extension": ".py",
   "mimetype": "text/x-python",
   "name": "python",
   "nbconvert_exporter": "python",
   "pygments_lexer": "ipython3",
   "version": "3.10.9"
  }
 },
 "nbformat": 4,
 "nbformat_minor": 5
}
